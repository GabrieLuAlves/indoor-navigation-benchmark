{
 "cells": [
  {
   "cell_type": "code",
   "execution_count": 1,
   "id": "1cd80953",
   "metadata": {
    "_cell_guid": "46070462-b7f4-4b15-a4d9-44c137eef69f",
    "_uuid": "52bd373b-06fb-440c-9483-deea28193b49",
    "collapsed": false,
    "execution": {
     "iopub.execute_input": "2025-06-28T23:55:30.075950Z",
     "iopub.status.busy": "2025-06-28T23:55:30.075555Z",
     "iopub.status.idle": "2025-06-28T23:55:47.802826Z",
     "shell.execute_reply": "2025-06-28T23:55:47.801935Z"
    },
    "jupyter": {
     "outputs_hidden": false
    },
    "papermill": {
     "duration": 17.736027,
     "end_time": "2025-06-28T23:55:47.804516",
     "exception": false,
     "start_time": "2025-06-28T23:55:30.068489",
     "status": "completed"
    },
    "tags": []
   },
   "outputs": [
    {
     "name": "stderr",
     "output_type": "stream",
     "text": [
      "2025-06-28 23:55:34.901136: E external/local_xla/xla/stream_executor/cuda/cuda_fft.cc:477] Unable to register cuFFT factory: Attempting to register factory for plugin cuFFT when one has already been registered\n",
      "WARNING: All log messages before absl::InitializeLog() is called are written to STDERR\n",
      "E0000 00:00:1751154935.134377      13 cuda_dnn.cc:8310] Unable to register cuDNN factory: Attempting to register factory for plugin cuDNN when one has already been registered\n",
      "E0000 00:00:1751154935.200361      13 cuda_blas.cc:1418] Unable to register cuBLAS factory: Attempting to register factory for plugin cuBLAS when one has already been registered\n"
     ]
    }
   ],
   "source": [
    "import numpy as np\n",
    "import pandas as pd\n",
    "import os\n",
    "import pickle\n",
    "\n",
    "from sklearn.model_selection import train_test_split\n",
    "\n",
    "os.environ[\"KERAS_BACKEND\"] = \"tensorflow\"\n",
    "\n",
    "import tensorflow as tf\n",
    "\n",
    "import keras\n",
    "import keras.backend as K\n",
    "\n",
    "from tqdm import tqdm\n",
    "\n",
    "%matplotlib inline"
   ]
  },
  {
   "cell_type": "markdown",
   "id": "28c1d050",
   "metadata": {
    "_cell_guid": "3338e322-2959-4ad2-b3be-c17a32a1e169",
    "_uuid": "21023635-b155-46ea-b788-4bb5c3d6265f",
    "collapsed": false,
    "jupyter": {
     "outputs_hidden": false
    },
    "papermill": {
     "duration": 0.004633,
     "end_time": "2025-06-28T23:55:47.814588",
     "exception": false,
     "start_time": "2025-06-28T23:55:47.809955",
     "status": "completed"
    },
    "tags": []
   },
   "source": [
    "# 4. Regression metrics"
   ]
  },
  {
   "cell_type": "code",
   "execution_count": 2,
   "id": "3494e504",
   "metadata": {
    "_cell_guid": "2bbe6b55-0ab9-4f99-94f8-02edd972a906",
    "_uuid": "5452c999-be68-4f18-9c63-5a0578c1f722",
    "collapsed": false,
    "execution": {
     "iopub.execute_input": "2025-06-28T23:55:47.825676Z",
     "iopub.status.busy": "2025-06-28T23:55:47.825173Z",
     "iopub.status.idle": "2025-06-28T23:55:47.834683Z",
     "shell.execute_reply": "2025-06-28T23:55:47.833829Z"
    },
    "jupyter": {
     "outputs_hidden": false
    },
    "papermill": {
     "duration": 0.016644,
     "end_time": "2025-06-28T23:55:47.836133",
     "exception": false,
     "start_time": "2025-06-28T23:55:47.819489",
     "status": "completed"
    },
    "tags": []
   },
   "outputs": [],
   "source": [
    "@tf.function\n",
    "def rmse(y_true, y_pred):\n",
    "    y_true = tf.cast(y_true, tf.float32)\n",
    "    y_pred = tf.cast(y_pred, tf.float32)\n",
    "    \n",
    "    y_true = tf.reshape(y_true, [-1, 1])\n",
    "    y_pred = tf.reshape(y_pred, [-1, 1])\n",
    "    \n",
    "    return tf.sqrt(tf.reduce_mean(tf.square(y_true - y_pred)))\n",
    "\n",
    "@tf.function\n",
    "def eva(y_true, y_pred):\n",
    "    y_true = tf.cast(y_true, tf.float32)\n",
    "    y_pred = tf.cast(y_pred, tf.float32)\n",
    "    \n",
    "    y_true = tf.reshape(y_true, [-1, 1])\n",
    "    y_pred = tf.reshape(y_pred, [-1, 1])\n",
    "\n",
    "    numerator = tf.math.reduce_variance(y_true - y_pred)\n",
    "    denominator = tf.math.reduce_variance(y_true) + tf.keras.backend.epsilon()\n",
    "    \n",
    "    return 1.0 - numerator / denominator\n",
    "\n",
    "@tf.function\n",
    "def r2_score(y_true, y_pred):\n",
    "    y_true = tf.cast(y_true, tf.float32)\n",
    "    y_pred = tf.cast(y_pred, tf.float32)\n",
    "    \n",
    "    y_true = tf.reshape(y_true, [-1, 1])\n",
    "    y_pred = tf.reshape(y_pred, [-1, 1])\n",
    "    \n",
    "    ss_res = tf.reduce_sum(tf.square(y_true - y_pred))\n",
    "    ss_tot = tf.reduce_sum(tf.square(y_true - tf.reduce_mean(y_true)))\n",
    "    \n",
    "    return 1 - (ss_res / (ss_tot + K.epsilon()))"
   ]
  },
  {
   "cell_type": "markdown",
   "id": "562505ed",
   "metadata": {
    "_cell_guid": "a033fd0a-11ba-49cf-b8dc-d690bee50ca1",
    "_uuid": "6d9bdfc4-6c43-448a-a91b-471ca4a22332",
    "collapsed": false,
    "jupyter": {
     "outputs_hidden": false
    },
    "papermill": {
     "duration": 0.004564,
     "end_time": "2025-06-28T23:55:47.845690",
     "exception": false,
     "start_time": "2025-06-28T23:55:47.841126",
     "status": "completed"
    },
    "tags": []
   },
   "source": [
    "# 4. ResNet 8/18/34 construction"
   ]
  },
  {
   "cell_type": "code",
   "execution_count": 3,
   "id": "87a2e21c",
   "metadata": {
    "_cell_guid": "b7e2c34b-3e37-480b-abdf-5b6d88e97f2a",
    "_uuid": "b18400fe-6f61-41f3-80bb-b0536922193c",
    "collapsed": false,
    "execution": {
     "iopub.execute_input": "2025-06-28T23:55:47.856343Z",
     "iopub.status.busy": "2025-06-28T23:55:47.856065Z",
     "iopub.status.idle": "2025-06-28T23:55:47.861958Z",
     "shell.execute_reply": "2025-06-28T23:55:47.861184Z"
    },
    "jupyter": {
     "outputs_hidden": false
    },
    "papermill": {
     "duration": 0.012744,
     "end_time": "2025-06-28T23:55:47.863203",
     "exception": false,
     "start_time": "2025-06-28T23:55:47.850459",
     "status": "completed"
    },
    "tags": []
   },
   "outputs": [],
   "source": [
    "def resnet_block(x, filters, stride=1, use_projection=False):\n",
    "    shortcut = x\n",
    "\n",
    "    x = keras.layers.Conv2D(filters, 3, strides=stride, padding='same', use_bias=False)(x)\n",
    "    x = keras.layers.BatchNormalization()(x)\n",
    "    x = keras.layers.ReLU()(x)\n",
    "\n",
    "    x = keras.layers.Conv2D(filters, 3, strides=1, padding='same', use_bias=False)(x)\n",
    "    x = keras.layers.BatchNormalization()(x)\n",
    "\n",
    "    if use_projection:\n",
    "        shortcut = keras.layers.Conv2D(filters, 1, strides=stride, use_bias=False)(shortcut)\n",
    "        shortcut = keras.layers.BatchNormalization()(shortcut)\n",
    "\n",
    "    x = keras.layers.Add()([x, shortcut])\n",
    "    x = keras.layers.ReLU()(x)\n",
    "    return x"
   ]
  },
  {
   "cell_type": "code",
   "execution_count": 4,
   "id": "ab770be0",
   "metadata": {
    "_cell_guid": "f10ef329-9949-4fb1-9851-4e0cd42eacb1",
    "_uuid": "793f7961-14b7-4716-afb9-d89646cdecf0",
    "collapsed": false,
    "execution": {
     "iopub.execute_input": "2025-06-28T23:55:47.873967Z",
     "iopub.status.busy": "2025-06-28T23:55:47.873667Z",
     "iopub.status.idle": "2025-06-28T23:55:47.879369Z",
     "shell.execute_reply": "2025-06-28T23:55:47.878573Z"
    },
    "jupyter": {
     "outputs_hidden": false
    },
    "papermill": {
     "duration": 0.012517,
     "end_time": "2025-06-28T23:55:47.880641",
     "exception": false,
     "start_time": "2025-06-28T23:55:47.868124",
     "status": "completed"
    },
    "tags": []
   },
   "outputs": [],
   "source": [
    "def ResNet8_DroNet(input_shape=(200, 200, 1), dropout_rate=0.3):\n",
    "    inputs = keras.Input(shape=input_shape)\n",
    "\n",
    "    x = keras.layers.Conv2D(32, 5, strides=2, padding='same', use_bias=False)(inputs)\n",
    "    x = keras.layers.BatchNormalization()(x)\n",
    "    x = keras.layers.ReLU()(x)\n",
    "\n",
    "    # Residual Blocks\n",
    "    x = resnet_block(x, 32)\n",
    "    x = resnet_block(x, 32)\n",
    "\n",
    "    x = resnet_block(x, 64, stride=2, use_projection=True)\n",
    "    x = resnet_block(x, 64)\n",
    "\n",
    "    x = resnet_block(x, 128, stride=2, use_projection=True)\n",
    "    x = resnet_block(x, 128)\n",
    "\n",
    "    return keras.models.Model(inputs, x, name=\"ResNet8_DroNet\")"
   ]
  },
  {
   "cell_type": "code",
   "execution_count": 5,
   "id": "933d7011",
   "metadata": {
    "_cell_guid": "1ab4574a-0008-4f55-8522-d41c19d1c757",
    "_uuid": "d08c3a95-1e8d-43a2-b476-edeba21417bf",
    "collapsed": false,
    "execution": {
     "iopub.execute_input": "2025-06-28T23:55:47.891614Z",
     "iopub.status.busy": "2025-06-28T23:55:47.891049Z",
     "iopub.status.idle": "2025-06-28T23:55:47.897220Z",
     "shell.execute_reply": "2025-06-28T23:55:47.896375Z"
    },
    "jupyter": {
     "outputs_hidden": false
    },
    "papermill": {
     "duration": 0.012882,
     "end_time": "2025-06-28T23:55:47.898436",
     "exception": false,
     "start_time": "2025-06-28T23:55:47.885554",
     "status": "completed"
    },
    "tags": []
   },
   "outputs": [],
   "source": [
    "def ResNet18(input_shape=(224, 224, 3)):\n",
    "    inputs = keras.Input(shape=input_shape)\n",
    "    \n",
    "    x = keras.layers.Conv2D(64, 7, strides=2, padding='same', use_bias=False)(inputs)\n",
    "    x = keras.layers.BatchNormalization()(x)\n",
    "    x = keras.layers.ReLU()(x)\n",
    "    x = keras.layers.MaxPooling2D(3, strides=2, padding='same')(x)\n",
    "\n",
    "    # Conv2_x\n",
    "    x = resnet_block(x, 64)\n",
    "    x = resnet_block(x, 64)\n",
    "\n",
    "    # Conv3_x\n",
    "    x = resnet_block(x, 128, stride=2, use_projection=True)\n",
    "    x = resnet_block(x, 128)\n",
    "\n",
    "    # Conv4_x\n",
    "    x = resnet_block(x, 256, stride=2, use_projection=True)\n",
    "    x = resnet_block(x, 256)\n",
    "\n",
    "    # Conv5_x\n",
    "    x = resnet_block(x, 512, stride=2, use_projection=True)\n",
    "    x = resnet_block(x, 512)\n",
    "\n",
    "    return keras.models.Model(inputs, x, name=\"ResNet18_backbone\")"
   ]
  },
  {
   "cell_type": "code",
   "execution_count": 6,
   "id": "02c74dae",
   "metadata": {
    "_cell_guid": "4e15582f-a90d-4bbf-9063-5c25ae37fbf1",
    "_uuid": "4506a044-df15-4966-8b32-2e0e5a6b2811",
    "collapsed": false,
    "execution": {
     "iopub.execute_input": "2025-06-28T23:55:47.909559Z",
     "iopub.status.busy": "2025-06-28T23:55:47.908992Z",
     "iopub.status.idle": "2025-06-28T23:55:47.915368Z",
     "shell.execute_reply": "2025-06-28T23:55:47.914549Z"
    },
    "jupyter": {
     "outputs_hidden": false
    },
    "papermill": {
     "duration": 0.013356,
     "end_time": "2025-06-28T23:55:47.916652",
     "exception": false,
     "start_time": "2025-06-28T23:55:47.903296",
     "status": "completed"
    },
    "tags": []
   },
   "outputs": [],
   "source": [
    "def ResNet34(input_shape=(224, 224, 3)):\n",
    "    inputs = keras.Input(shape=input_shape)\n",
    "    \n",
    "    x = keras.layers.Conv2D(64, 7, strides=2, padding='same', use_bias=False)(inputs)\n",
    "    x = keras.layers.BatchNormalization()(x)\n",
    "    x = keras.layers.ReLU()(x)\n",
    "    x = keras.layers.MaxPooling2D(3, strides=2, padding='same')(x)\n",
    "\n",
    "    # Conv2_x (3 blocks)\n",
    "    for _ in range(3):\n",
    "        x = resnet_block(x, 64)\n",
    "\n",
    "    # Conv3_x (4 blocks)\n",
    "    x = resnet_block(x, 128, stride=2, use_projection=True)\n",
    "    for _ in range(3):\n",
    "        x = resnet_block(x, 128)\n",
    "\n",
    "    # Conv4_x (6 blocks)\n",
    "    x = resnet_block(x, 256, stride=2, use_projection=True)\n",
    "    for _ in range(5):\n",
    "        x = resnet_block(x, 256)\n",
    "\n",
    "    # Conv5_x (3 blocks)\n",
    "    x = resnet_block(x, 512, stride=2, use_projection=True)\n",
    "    for _ in range(2):\n",
    "        x = resnet_block(x, 512)\n",
    "\n",
    "    return keras.models.Model(inputs, x, name=\"ResNet34_backbone\")"
   ]
  },
  {
   "cell_type": "markdown",
   "id": "894075b6",
   "metadata": {
    "_cell_guid": "5541b060-36b4-42fe-b425-7bfd72e7b45e",
    "_uuid": "510600d1-1d77-454a-8011-5371ea499712",
    "collapsed": false,
    "jupyter": {
     "outputs_hidden": false
    },
    "papermill": {
     "duration": 0.004661,
     "end_time": "2025-06-28T23:55:47.926283",
     "exception": false,
     "start_time": "2025-06-28T23:55:47.921622",
     "status": "completed"
    },
    "tags": []
   },
   "source": [
    "# Grid search configurations"
   ]
  },
  {
   "cell_type": "code",
   "execution_count": 7,
   "id": "93d467ad",
   "metadata": {
    "_cell_guid": "6f66a903-0170-417a-8288-2314e82512ad",
    "_uuid": "5ab4cb0d-2d3b-4203-86b9-c9ed8717eaf7",
    "collapsed": false,
    "execution": {
     "iopub.execute_input": "2025-06-28T23:55:47.937348Z",
     "iopub.status.busy": "2025-06-28T23:55:47.936520Z",
     "iopub.status.idle": "2025-06-28T23:55:47.941052Z",
     "shell.execute_reply": "2025-06-28T23:55:47.940240Z"
    },
    "jupyter": {
     "outputs_hidden": false
    },
    "papermill": {
     "duration": 0.011194,
     "end_time": "2025-06-28T23:55:47.942255",
     "exception": false,
     "start_time": "2025-06-28T23:55:47.931061",
     "status": "completed"
    },
    "tags": []
   },
   "outputs": [],
   "source": [
    "from itertools import product\n",
    "\n",
    "configurations = list(product([1e-2, 1e-3, 1e-4], [32, 64, 128]))"
   ]
  },
  {
   "cell_type": "markdown",
   "id": "b2454d88",
   "metadata": {
    "_cell_guid": "befc604b-fe79-4f99-8cb6-9eb35c1e2b67",
    "_uuid": "976bf65c-b852-4ea8-8d65-525c9b981ced",
    "collapsed": false,
    "jupyter": {
     "outputs_hidden": false
    },
    "papermill": {
     "duration": 0.005055,
     "end_time": "2025-06-28T23:55:47.952252",
     "exception": false,
     "start_time": "2025-06-28T23:55:47.947197",
     "status": "completed"
    },
    "tags": []
   },
   "source": [
    "# Models descriptions"
   ]
  },
  {
   "cell_type": "code",
   "execution_count": 8,
   "id": "05fabbf0",
   "metadata": {
    "_cell_guid": "f7eddf37-fbff-433b-8efb-20507f4d2b8f",
    "_uuid": "cfd37596-4204-41a7-9539-264d09469b70",
    "collapsed": false,
    "execution": {
     "iopub.execute_input": "2025-06-28T23:55:47.963066Z",
     "iopub.status.busy": "2025-06-28T23:55:47.962486Z",
     "iopub.status.idle": "2025-06-28T23:55:47.969810Z",
     "shell.execute_reply": "2025-06-28T23:55:47.969035Z"
    },
    "jupyter": {
     "outputs_hidden": false
    },
    "papermill": {
     "duration": 0.01425,
     "end_time": "2025-06-28T23:55:47.971249",
     "exception": false,
     "start_time": "2025-06-28T23:55:47.956999",
     "status": "completed"
    },
    "tags": []
   },
   "outputs": [],
   "source": [
    "models_descriptions = [\n",
    "    {\n",
    "        \"name\": \"DroNet-500\",\n",
    "        \"backbone\": {\n",
    "            \"name\": \"ResNet-8\",\n",
    "            \"weights\": \"dronet\"\n",
    "        },\n",
    "        \"input\": {\n",
    "            \"shape\": (200, 200, 1),\n",
    "            \"grayscale\": True\n",
    "        },\n",
    "        \"head_description\": [\n",
    "            (32, True, False),\n",
    "        ]\n",
    "    },\n",
    "    {\n",
    "        \"name\": \"DroNet-600\",\n",
    "        \"backbone\": {\n",
    "            \"name\": \"ResNet-8\",\n",
    "            \"weights\": \"dronet\"\n",
    "        },\n",
    "        \"input\": {\n",
    "            \"shape\": (200, 200, 1),\n",
    "            \"grayscale\": True\n",
    "        },\n",
    "        \"head_description\": [\n",
    "            (64, True, False),\n",
    "        ]\n",
    "    },\n",
    "]\n",
    "\n",
    "# Format verification\n",
    "for model_description in models_descriptions:\n",
    "    if \"backbone\" not in model_description:\n",
    "        raise KeyError(\"backbone not specified at:\\n\" + str(model_description))\n",
    "\n",
    "    if \"name\" not in model_description[\"backbone\"]:\n",
    "        raise KeyError(\"backbone.name not specified at:\\n\" + str(model_description))\n",
    "\n",
    "    if \"weights\" not in model_description[\"backbone\"]:\n",
    "        model_description[\"backbone\"][\"weights\"] = None\n",
    "    \n",
    "    if \"name\" not in model_description:\n",
    "        model_description[\"name\"] = model_description[\"backbone\"]\n",
    "\n",
    "    if \"head_description\" not in model_description:\n",
    "        model_description[\"head_description\"] = []\n",
    "\n",
    "    if \"weights\" not in model_description:\n",
    "        model_description[\"weights\"] = None\n",
    "\n",
    "    if \"input\" not in model_description:\n",
    "        raise KeyError(\"input not specified at:\\n\" + str(model_description))\n",
    "\n",
    "    if \"shape\" not in model_description[\"input\"]:\n",
    "        raise KeyError(\"input.shape not specified at:\\n\" + str(model_description))\n",
    "    \n",
    "    if \"grayscale\" not in model_description[\"input\"]:\n",
    "        model_description[\"input\"][\"grayscale\"] = False"
   ]
  },
  {
   "cell_type": "markdown",
   "id": "5eaa80b2",
   "metadata": {
    "_cell_guid": "8053b71d-50ff-4861-af2f-039eb0efc7c0",
    "_uuid": "9751bcfc-b5b2-4bd1-87e6-92285fb23b7d",
    "collapsed": false,
    "jupyter": {
     "outputs_hidden": false
    },
    "papermill": {
     "duration": 0.004668,
     "end_time": "2025-06-28T23:55:47.981901",
     "exception": false,
     "start_time": "2025-06-28T23:55:47.977233",
     "status": "completed"
    },
    "tags": []
   },
   "source": [
    "# Load dataset and build pipeline"
   ]
  },
  {
   "cell_type": "code",
   "execution_count": 9,
   "id": "8dcdfad5",
   "metadata": {
    "_cell_guid": "5555623d-1250-4072-af6e-4ca6b6a5d197",
    "_uuid": "cc680d39-133c-4d96-934e-1fb8ca9009d8",
    "collapsed": false,
    "execution": {
     "iopub.execute_input": "2025-06-28T23:55:47.992342Z",
     "iopub.status.busy": "2025-06-28T23:55:47.992051Z",
     "iopub.status.idle": "2025-06-28T23:55:47.996830Z",
     "shell.execute_reply": "2025-06-28T23:55:47.996111Z"
    },
    "jupyter": {
     "outputs_hidden": false
    },
    "papermill": {
     "duration": 0.011604,
     "end_time": "2025-06-28T23:55:47.998161",
     "exception": false,
     "start_time": "2025-06-28T23:55:47.986557",
     "status": "completed"
    },
    "tags": []
   },
   "outputs": [],
   "source": [
    "def load_samples_dataframe(path: str):\n",
    "    images_folder = os.path.join(path, \"images\")\n",
    "\n",
    "    samples_df = pd.read_csv(\n",
    "        os.path.join(path, \"market_dataset_xy.txt\"),\n",
    "        sep=\" \",\n",
    "        header=None,\n",
    "        names=[\"file path\", \"_\", \"datetime\", \"vel_y\", \"vel_x\"]\n",
    "    )\n",
    "\n",
    "    samples_df[\"file path\"] = (\n",
    "        samples_df[\"file path\"]\n",
    "        .apply(lambda image_name: os.path.join(path, \"images\", image_name))\n",
    "    )\n",
    "    \n",
    "    return samples_df"
   ]
  },
  {
   "cell_type": "code",
   "execution_count": 10,
   "id": "f29eab0e",
   "metadata": {
    "_cell_guid": "adf866ea-2822-48b8-a954-b4be212d53af",
    "_uuid": "513d809a-65b0-423f-87e3-679285f73bf0",
    "collapsed": false,
    "execution": {
     "iopub.execute_input": "2025-06-28T23:55:48.009540Z",
     "iopub.status.busy": "2025-06-28T23:55:48.008731Z",
     "iopub.status.idle": "2025-06-28T23:55:48.015224Z",
     "shell.execute_reply": "2025-06-28T23:55:48.014454Z"
    },
    "jupyter": {
     "outputs_hidden": false
    },
    "papermill": {
     "duration": 0.013386,
     "end_time": "2025-06-28T23:55:48.016419",
     "exception": false,
     "start_time": "2025-06-28T23:55:48.003033",
     "status": "completed"
    },
    "tags": []
   },
   "outputs": [],
   "source": [
    "@tf.function\n",
    "def augment(image, label):\n",
    "    # Brightness and contrast\n",
    "    image = tf.image.random_brightness(image, max_delta=0.2)\n",
    "    image = tf.image.random_contrast(image, lower=0.8, upper=1.2)\n",
    "    \n",
    "    # Flip horizontally\n",
    "    do_flip = tf.random.uniform([]) > 0.5\n",
    "    image = tf.cond(do_flip, lambda: tf.image.flip_left_right(image), lambda: image)\n",
    "    \n",
    "    vel_x = tf.cond(do_flip, lambda: -label[\"vel_x\"], lambda: label[\"vel_x\"])\n",
    "    vel_y = label[\"vel_y\"]\n",
    "    \n",
    "    # Optionally add noise\n",
    "    noise = tf.random.normal(shape=tf.shape(image), mean=0.0, stddev=0.025)\n",
    "    image = image + noise\n",
    "    image = tf.clip_by_value(image, 0.0, 1.0)\n",
    "\n",
    "    return image, {\"vel_x\": vel_x, \"vel_y\": vel_y}"
   ]
  },
  {
   "cell_type": "code",
   "execution_count": 11,
   "id": "6e9ce1ec",
   "metadata": {
    "_cell_guid": "ad4a4a1f-930e-4277-80b1-5b6baac7f826",
    "_uuid": "c96bf886-1c0d-4aa4-b406-b6f1ae910f6d",
    "collapsed": false,
    "execution": {
     "iopub.execute_input": "2025-06-28T23:55:48.027077Z",
     "iopub.status.busy": "2025-06-28T23:55:48.026428Z",
     "iopub.status.idle": "2025-06-28T23:55:48.031666Z",
     "shell.execute_reply": "2025-06-28T23:55:48.030957Z"
    },
    "jupyter": {
     "outputs_hidden": false
    },
    "papermill": {
     "duration": 0.011868,
     "end_time": "2025-06-28T23:55:48.033025",
     "exception": false,
     "start_time": "2025-06-28T23:55:48.021157",
     "status": "completed"
    },
    "tags": []
   },
   "outputs": [],
   "source": [
    "def load_image(path, mode=\"color\"):\n",
    "    image = tf.io.read_file(path)\n",
    "\n",
    "    if mode == \"color\":\n",
    "        image = tf.image.decode_jpeg(image, channels=3)\n",
    "\n",
    "    elif mode == \"grayscale1\":\n",
    "        image = tf.image.decode_jpeg(image, channels=1)\n",
    "\n",
    "    elif mode == \"grayscale3\":\n",
    "        image = tf.image.decode_jpeg(image, channels=3)\n",
    "        image = tf.image.rgb_to_grayscale(image)\n",
    "        image = tf.image.grayscale_to_rgb(image)\n",
    "\n",
    "    else:\n",
    "        raise ValueError(f\"Invalid mode: {mode}\")\n",
    "\n",
    "    return image"
   ]
  },
  {
   "cell_type": "code",
   "execution_count": 12,
   "id": "110326ee",
   "metadata": {
    "_cell_guid": "45c54901-4826-4fcf-9ce8-aa64653e769e",
    "_uuid": "ef17faa6-b5d9-4603-818e-12790606b097",
    "collapsed": false,
    "execution": {
     "iopub.execute_input": "2025-06-28T23:55:48.043988Z",
     "iopub.status.busy": "2025-06-28T23:55:48.043685Z",
     "iopub.status.idle": "2025-06-28T23:55:48.052307Z",
     "shell.execute_reply": "2025-06-28T23:55:48.051515Z"
    },
    "jupyter": {
     "outputs_hidden": false
    },
    "papermill": {
     "duration": 0.015754,
     "end_time": "2025-06-28T23:55:48.053744",
     "exception": false,
     "start_time": "2025-06-28T23:55:48.037990",
     "status": "completed"
    },
    "tags": []
   },
   "outputs": [],
   "source": [
    "def build_train_val_test_datasets(samples_dataframe, input_description: dict, seed=42):\n",
    "    # Split\n",
    "    df_train, df_temp = train_test_split(samples_dataframe, test_size=0.4, random_state=seed)\n",
    "    df_val, df_test = train_test_split(df_temp, test_size=0.5, random_state=seed)\n",
    "\n",
    "    resolution = input_description[\"shape\"][:2]\n",
    "    channels = input_description[\"shape\"][2]\n",
    "\n",
    "    if not input_description[\"grayscale\"]:\n",
    "        mode = \"color\"\n",
    "    elif channels == 1:\n",
    "        mode = \"grayscale1\"\n",
    "    elif channels == 3:\n",
    "        mode = \"grayscale3\"\n",
    "\n",
    "    def process_sample(path, label):\n",
    "        image = load_image(path, mode=mode)\n",
    "        image = tf.image.resize(image, resolution)\n",
    "        image.set_shape(input_description[\"shape\"])\n",
    "        image = tf.cast(image, tf.float32) / 255.0\n",
    "\n",
    "        return image, label\n",
    "\n",
    "    def df_to_tf_dataset(df, training=False):\n",
    "        paths = tf.constant(df[\"file path\"].tolist())\n",
    "        vel_x = tf.constant(df[\"vel_x\"].astype(\"float32\").tolist())\n",
    "        vel_y = tf.constant(df[\"vel_y\"].astype(\"float32\").tolist())\n",
    "    \n",
    "        ds = tf.data.Dataset.from_tensor_slices((paths, {\"vel_x\": vel_x, \"vel_y\": vel_y}))\n",
    "    \n",
    "        ds = ds.map(process_sample, num_parallel_calls=tf.data.AUTOTUNE)\n",
    "        ds = ds.cache()\n",
    "    \n",
    "        if training:\n",
    "            ds = ds.shuffle(len(df), reshuffle_each_iteration=True)\n",
    "            ds = ds.map(augment, num_parallel_calls=tf.data.AUTOTUNE)\n",
    "            \n",
    "        return ds\n",
    "\n",
    "    return {\n",
    "        \"train\": df_to_tf_dataset(df_train, training=True),\n",
    "        \"val\":   df_to_tf_dataset(df_val, training=False),\n",
    "        \"test\":  df_to_tf_dataset(df_test, training=False),\n",
    "    }"
   ]
  },
  {
   "cell_type": "code",
   "execution_count": 13,
   "id": "bfd969b5",
   "metadata": {
    "_cell_guid": "b2e5a695-5c16-4993-92eb-68c327fbc94a",
    "_uuid": "37c07429-c36f-4739-80ac-cc544f823bcc",
    "collapsed": false,
    "execution": {
     "iopub.execute_input": "2025-06-28T23:55:48.064726Z",
     "iopub.status.busy": "2025-06-28T23:55:48.064447Z",
     "iopub.status.idle": "2025-06-28T23:55:48.072367Z",
     "shell.execute_reply": "2025-06-28T23:55:48.071586Z"
    },
    "jupyter": {
     "outputs_hidden": false
    },
    "papermill": {
     "duration": 0.014971,
     "end_time": "2025-06-28T23:55:48.073730",
     "exception": false,
     "start_time": "2025-06-28T23:55:48.058759",
     "status": "completed"
    },
    "tags": []
   },
   "outputs": [],
   "source": [
    "def instantiate_backbone(backbone_name, weights=None):\n",
    "    if backbone_name == \"ResNet-8\":\n",
    "        if weights:\n",
    "            if weights == \"dronet\":\n",
    "                return keras.models.load_model(\"/kaggle/input/marketplace-navigation-dataset/model.keras\")\n",
    "            else:\n",
    "                print(\"[INFO] could not find weights for ResNet-8\")\n",
    "        return ResNet8_DroNet(input_shape=(200, 200, 1))\n",
    "    \n",
    "    if backbone_name == \"ResNet-18\":\n",
    "        if weights is not None:\n",
    "            print(\"[INFO] No pre-trained weights for ResNet-18\")\n",
    "        return ResNet18(input_shape=(224, 224, 3))\n",
    "        \n",
    "    if backbone_name == \"ResNet-34\":\n",
    "        if weights is not None:\n",
    "            print(\"[INFO] No pre-trained weights for ResNet-34\")\n",
    "        return ResNet34(input_shape=(224, 224, 3))\n",
    "\n",
    "    if backbone_name == \"ResNet-50\":\n",
    "        return keras.applications.ResNet50(\n",
    "            include_top=False,\n",
    "            input_shape=(224, 224, 3),\n",
    "            weights=\"imagenet\",\n",
    "            pooling=None,\n",
    "        )\n",
    "\n",
    "    if backbone_name == \"ResNet-50V2\":\n",
    "        return keras.applications.ResNet50V2(\n",
    "            include_top=False,\n",
    "            input_shape=(224, 224, 3),\n",
    "            weights=\"imagenet\",\n",
    "            pooling=None,\n",
    "        )\n",
    "\n",
    "    if backbone_name == \"MobileNet\":\n",
    "        return keras.applications.MobileNet(\n",
    "            include_top=False,\n",
    "            input_shape=(224, 224, 3),\n",
    "            weights=\"imagenet\",\n",
    "            pooling=None,\n",
    "            alpha=1.0,\n",
    "        )\n",
    "\n",
    "    if backbone_name == \"MobileNetV2\":\n",
    "        return keras.applications.MobileNetV2(\n",
    "            include_top=False,\n",
    "            input_shape=(224, 224, 3),\n",
    "            weights=\"imagenet\",\n",
    "            pooling=None,\n",
    "            alpha=1.0,\n",
    "        )\n",
    "\n",
    "    if backbone_name == \"EfficientNetB0\":\n",
    "        return keras.applications.EfficientNetB0(\n",
    "            include_top=False,\n",
    "            input_shape=(224, 224, 3),\n",
    "            weights=\"imagenet\",\n",
    "            pooling=None,\n",
    "        )\n",
    "    \n",
    "    raise ValueError(f\"Backbone {backbone_name} not implemented.\")"
   ]
  },
  {
   "cell_type": "code",
   "execution_count": 14,
   "id": "e1231860",
   "metadata": {
    "_cell_guid": "3a8055dd-c1af-4d03-82b5-d851bdbb6b59",
    "_uuid": "f0ed5477-06af-4532-8db7-a6b1d08aabcb",
    "collapsed": false,
    "execution": {
     "iopub.execute_input": "2025-06-28T23:55:48.084950Z",
     "iopub.status.busy": "2025-06-28T23:55:48.084271Z",
     "iopub.status.idle": "2025-06-28T23:55:48.092899Z",
     "shell.execute_reply": "2025-06-28T23:55:48.092147Z"
    },
    "jupyter": {
     "outputs_hidden": false
    },
    "papermill": {
     "duration": 0.015543,
     "end_time": "2025-06-28T23:55:48.094165",
     "exception": false,
     "start_time": "2025-06-28T23:55:48.078622",
     "status": "completed"
    },
    "tags": []
   },
   "outputs": [],
   "source": [
    "def build_model(model_description: dict):\n",
    "    input_shape = model_description[\"input\"][\"shape\"]\n",
    "    input_shape = tuple(input_shape)\n",
    "\n",
    "    backbone_name = model_description[\"backbone\"][\"name\"]\n",
    "    backbone_weights = model_description[\"backbone\"][\"weights\"]\n",
    "\n",
    "    PREPROCESS = {\n",
    "        \"MobileNet\":       keras.applications.mobilenet.preprocess_input,\n",
    "        \"MobileNetV2\":     keras.applications.mobilenet_v2.preprocess_input,\n",
    "        \"ResNet-50\":       lambda x: keras.applications.resnet.preprocess_input(x, mode=\"caffe\"),\n",
    "        \"ResNet-50V2\":     keras.applications.resnet_v2.preprocess_input,\n",
    "        \"EfficientNetB0\":  keras.applications.efficientnet.preprocess_input,\n",
    "    }\n",
    "    \n",
    "    inputs = keras.layers.Input(input_shape)\n",
    "    x = keras.layers.Rescaling(255.)(inputs) # To parse from [0, 1] to [0, 225]\n",
    "    x = PREPROCESS.get(backbone_name, lambda x: x / 255.0)(x)\n",
    "    \n",
    "    backbone = instantiate_backbone(backbone_name, weights=backbone_weights)\n",
    "    if backbone_weights:\n",
    "        backbone.trainable = False\n",
    "\n",
    "    x = backbone(x)\n",
    "    x = keras.layers.GlobalAveragePooling2D(name=\"global_pool\")(x)\n",
    "    x = keras.layers.Dropout(0.3, name=\"dropout\")(x)\n",
    "\n",
    "    for i, (nodes, use_batch_normalization, use_dropout) in enumerate(model_description[\"head_description\"]):\n",
    "        use_bias = not use_batch_normalization\n",
    "        \n",
    "        x = keras.layers.Dense(nodes, use_bias=use_bias, activation=\"linear\", name=f\"dense_{i}\")(x)\n",
    "\n",
    "        if use_batch_normalization:\n",
    "            x = keras.layers.BatchNormalization(name=f\"batchnorm_{i}\")(x)\n",
    "\n",
    "        x = keras.layers.ReLU(name=f\"relu_{i}\")(x)\n",
    "        \n",
    "        if use_dropout:\n",
    "            x = keras.layers.Dropout(0.3, name=f\"dropout_{i}\")(x)\n",
    "    \n",
    "    output_x = keras.layers.Dense(1, name=\"vel_x\")(x)\n",
    "    output_y = keras.layers.Dense(1, name=\"vel_y\")(x)\n",
    "\n",
    "    outputs = [output_x, output_y]\n",
    "\n",
    "    return keras.models.Model(\n",
    "        inputs=inputs,\n",
    "        outputs=outputs,\n",
    "        name=model_description[\"name\"]\n",
    "    ), backbone"
   ]
  },
  {
   "cell_type": "code",
   "execution_count": 15,
   "id": "12160603",
   "metadata": {
    "execution": {
     "iopub.execute_input": "2025-06-28T23:55:48.105220Z",
     "iopub.status.busy": "2025-06-28T23:55:48.104508Z",
     "iopub.status.idle": "2025-06-28T23:55:48.109749Z",
     "shell.execute_reply": "2025-06-28T23:55:48.108958Z"
    },
    "papermill": {
     "duration": 0.012057,
     "end_time": "2025-06-28T23:55:48.111102",
     "exception": false,
     "start_time": "2025-06-28T23:55:48.099045",
     "status": "completed"
    },
    "tags": []
   },
   "outputs": [],
   "source": [
    "def unfreeze_weights(backbone: keras.Model, from_layer: str, to_layer: str, unfreeze_bn=False):\n",
    "    unfreeze = False\n",
    "\n",
    "    for layer in backbone.layers:\n",
    "        if layer.name == from_layer:\n",
    "            unfreeze = True\n",
    "        \n",
    "        if unfreeze:\n",
    "            if isinstance(layer, keras.layers.BatchNormalization) and not unfreeze_bn:\n",
    "                layer.trainable = False\n",
    "            else:\n",
    "                layer.trainable = True\n",
    "        \n",
    "        if layer.name == to_layer:\n",
    "            break\n"
   ]
  },
  {
   "cell_type": "code",
   "execution_count": 16,
   "id": "8dfce1bf",
   "metadata": {
    "_cell_guid": "8b949554-8397-47b4-8a63-78059a81c28b",
    "_uuid": "4d37cd51-11db-47f5-abc8-e1afaf6094a1",
    "collapsed": false,
    "execution": {
     "iopub.execute_input": "2025-06-28T23:55:48.122354Z",
     "iopub.status.busy": "2025-06-28T23:55:48.121804Z",
     "iopub.status.idle": "2025-06-28T23:55:48.127734Z",
     "shell.execute_reply": "2025-06-28T23:55:48.127098Z"
    },
    "jupyter": {
     "outputs_hidden": false
    },
    "papermill": {
     "duration": 0.012869,
     "end_time": "2025-06-28T23:55:48.128983",
     "exception": false,
     "start_time": "2025-06-28T23:55:48.116114",
     "status": "completed"
    },
    "tags": []
   },
   "outputs": [],
   "source": [
    "def train_model(model: keras.Model, train_dataset: tf.data.Dataset, validation_dataset: tf.data.Dataset):\n",
    "    history_1 = model.fit(\n",
    "        train_dataset,\n",
    "        validation_data=validation_dataset,\n",
    "        verbose=0,\n",
    "        epochs=40,\n",
    "    )\n",
    "\n",
    "    history_2 = model.fit(\n",
    "        train_dataset,\n",
    "        validation_data=validation_dataset,\n",
    "        epochs=200,\n",
    "        verbose=0,\n",
    "        callbacks=[\n",
    "            keras.callbacks.EarlyStopping(\n",
    "                monitor=\"val_loss\",\n",
    "                patience=15,\n",
    "                min_delta=1e-4,\n",
    "                mode=\"min\",\n",
    "                restore_best_weights=True,\n",
    "            ),\n",
    "            keras.callbacks.ReduceLROnPlateau(\n",
    "                monitor=\"val_loss\",\n",
    "                patience=5,\n",
    "                factor=0.5,\n",
    "                min_lr=1e-7,\n",
    "                mode=\"min\"\n",
    "            ),\n",
    "        ],\n",
    "    )\n",
    "\n",
    "    full_history = pd.concat([\n",
    "        pd.DataFrame(history_1.history),\n",
    "        pd.DataFrame(history_2.history),\n",
    "    ]).reset_index(drop=True)\n",
    "\n",
    "    return model, full_history"
   ]
  },
  {
   "cell_type": "markdown",
   "id": "20ee2389",
   "metadata": {
    "_cell_guid": "fbe70ec3-6d83-475a-a4e5-59147d8d1095",
    "_uuid": "1fb78ded-f93b-4599-b9e2-e74a8f2e2f69",
    "collapsed": false,
    "jupyter": {
     "outputs_hidden": false
    },
    "papermill": {
     "duration": 0.004709,
     "end_time": "2025-06-28T23:55:48.138860",
     "exception": false,
     "start_time": "2025-06-28T23:55:48.134151",
     "status": "completed"
    },
    "tags": []
   },
   "source": [
    "# Results structure"
   ]
  },
  {
   "cell_type": "code",
   "execution_count": 17,
   "id": "845005e1",
   "metadata": {
    "_cell_guid": "0a1a1244-cd3e-421d-9e93-13a39069febc",
    "_uuid": "fed5480a-0b2a-4a84-9313-35a77e82c0ff",
    "collapsed": false,
    "execution": {
     "iopub.execute_input": "2025-06-28T23:55:48.149731Z",
     "iopub.status.busy": "2025-06-28T23:55:48.149246Z",
     "iopub.status.idle": "2025-06-28T23:55:48.153264Z",
     "shell.execute_reply": "2025-06-28T23:55:48.152604Z"
    },
    "jupyter": {
     "outputs_hidden": false
    },
    "papermill": {
     "duration": 0.01095,
     "end_time": "2025-06-28T23:55:48.154524",
     "exception": false,
     "start_time": "2025-06-28T23:55:48.143574",
     "status": "completed"
    },
    "tags": []
   },
   "outputs": [],
   "source": [
    "results = {}\n",
    "\n",
    "for model_description in models_descriptions:\n",
    "    model_name = model_description[\"name\"]\n",
    "    \n",
    "    results[model_name] = {}"
   ]
  },
  {
   "cell_type": "markdown",
   "id": "e37feda5",
   "metadata": {
    "_cell_guid": "80e22271-2889-4906-9c77-4cb4d6a68af3",
    "_uuid": "d275ffdf-f5e1-410d-ba75-d689afd2f1ba",
    "collapsed": false,
    "jupyter": {
     "outputs_hidden": false
    },
    "papermill": {
     "duration": 0.004493,
     "end_time": "2025-06-28T23:55:48.163889",
     "exception": false,
     "start_time": "2025-06-28T23:55:48.159396",
     "status": "completed"
    },
    "tags": []
   },
   "source": [
    "# Benchmark loop"
   ]
  },
  {
   "cell_type": "code",
   "execution_count": 18,
   "id": "7de1728a",
   "metadata": {
    "_cell_guid": "f40bbf49-f336-4f04-9141-1c1faac5f8b5",
    "_kg_hide-output": true,
    "_uuid": "55ce7c7a-682c-42f0-a270-b2eb2a87d546",
    "collapsed": false,
    "execution": {
     "iopub.execute_input": "2025-06-28T23:55:48.174684Z",
     "iopub.status.busy": "2025-06-28T23:55:48.174397Z",
     "iopub.status.idle": "2025-06-29T03:28:55.462141Z",
     "shell.execute_reply": "2025-06-29T03:28:55.461365Z"
    },
    "jupyter": {
     "outputs_hidden": false
    },
    "papermill": {
     "duration": 12787.295434,
     "end_time": "2025-06-29T03:28:55.463963",
     "exception": false,
     "start_time": "2025-06-28T23:55:48.168529",
     "status": "completed"
    },
    "tags": []
   },
   "outputs": [
    {
     "name": "stderr",
     "output_type": "stream",
     "text": [
      "2025-06-28 23:55:48.246779: E external/local_xla/xla/stream_executor/cuda/cuda_driver.cc:152] failed call to cuInit: INTERNAL: CUDA error: Failed call to cuInit: UNKNOWN ERROR (303)\n"
     ]
    },
    {
     "name": "stdout",
     "output_type": "stream",
     "text": [
      "Training model DroNet-500  for configuration (0.01, 32)\n",
      "\u001b[1m15/15\u001b[0m \u001b[32m━━━━━━━━━━━━━━━━━━━━\u001b[0m\u001b[37m\u001b[0m \u001b[1m7s\u001b[0m 453ms/step - loss: 2185.6909 - vel_x_eva: 3.1080e-07 - vel_x_loss: 0.4850 - vel_x_r2_score: -0.0324 - vel_x_rmse: 0.6669 - vel_y_eva: 1.7398e-07 - vel_y_loss: 0.8463 - vel_y_r2_score: -0.0214 - vel_y_rmse: 0.9168\n",
      "Training model DroNet-600  for configuration (0.01, 32)\n",
      "\u001b[1m15/15\u001b[0m \u001b[32m━━━━━━━━━━━━━━━━━━━━\u001b[0m\u001b[37m\u001b[0m \u001b[1m1s\u001b[0m 58ms/step - loss: 82.6247 - vel_x_eva: 3.3008e-07 - vel_x_loss: 0.5024 - vel_x_r2_score: -0.0731 - vel_x_rmse: 0.6792 - vel_y_eva: 2.4060e-07 - vel_y_loss: 0.8915 - vel_y_r2_score: -0.0719 - vel_y_rmse: 0.9398\n",
      "Training model DroNet-500  for configuration (0.01, 64)\n",
      "\u001b[1m8/8\u001b[0m \u001b[32m━━━━━━━━━━━━━━━━━━━━\u001b[0m\u001b[37m\u001b[0m \u001b[1m1s\u001b[0m 116ms/step - loss: 4771.0918 - vel_x_eva: 2.0193e-07 - vel_x_loss: 0.4740 - vel_x_r2_score: -0.0348 - vel_x_rmse: 0.6812 - vel_y_eva: 1.4125e-07 - vel_y_loss: 0.8457 - vel_y_r2_score: -0.0177 - vel_y_rmse: 0.9187\n",
      "Training model DroNet-600  for configuration (0.01, 64)\n",
      "\u001b[1m8/8\u001b[0m \u001b[32m━━━━━━━━━━━━━━━━━━━━\u001b[0m\u001b[37m\u001b[0m \u001b[1m1s\u001b[0m 115ms/step - loss: 112.1323 - vel_x_eva: 2.1751e-07 - vel_x_loss: 0.4788 - vel_x_r2_score: -0.0445 - vel_x_rmse: 0.6847 - vel_y_eva: 1.4037e-07 - vel_y_loss: 0.8440 - vel_y_r2_score: -0.0144 - vel_y_rmse: 0.9176\n",
      "Training model DroNet-500  for configuration (0.01, 128)\n",
      "\u001b[1m4/4\u001b[0m \u001b[32m━━━━━━━━━━━━━━━━━━━━\u001b[0m\u001b[37m\u001b[0m \u001b[1m1s\u001b[0m 222ms/step - loss: 1351.0317 - vel_x_eva: 1.4106e-07 - vel_x_loss: 0.5175 - vel_x_r2_score: -0.0467 - vel_x_rmse: 0.7182 - vel_y_eva: 1.6292e-07 - vel_y_loss: 0.8306 - vel_y_r2_score: -0.0112 - vel_y_rmse: 0.9110\n",
      "Training model DroNet-600  for configuration (0.01, 128)\n",
      "\u001b[1m4/4\u001b[0m \u001b[32m━━━━━━━━━━━━━━━━━━━━\u001b[0m\u001b[37m\u001b[0m \u001b[1m1s\u001b[0m 228ms/step - loss: 1251.2306 - vel_x_eva: 1.6888e-07 - vel_x_loss: 0.5234 - vel_x_r2_score: -0.0585 - vel_x_rmse: 0.7222 - vel_y_eva: 1.6292e-07 - vel_y_loss: 0.8294 - vel_y_r2_score: -0.0095 - vel_y_rmse: 0.9103\n",
      "Training model DroNet-500  for configuration (0.001, 32)\n",
      "\u001b[1m15/15\u001b[0m \u001b[32m━━━━━━━━━━━━━━━━━━━━\u001b[0m\u001b[37m\u001b[0m \u001b[1m1s\u001b[0m 71ms/step - loss: 1.3282 - vel_x_eva: 3.6542e-07 - vel_x_loss: 0.4815 - vel_x_r2_score: -0.0280 - vel_x_rmse: 0.6649 - vel_y_eva: 1.8219e-07 - vel_y_loss: 0.8452 - vel_y_r2_score: -0.0206 - vel_y_rmse: 0.9163\n",
      "Training model DroNet-600  for configuration (0.001, 32)\n",
      "\u001b[1m15/15\u001b[0m \u001b[32m━━━━━━━━━━━━━━━━━━━━\u001b[0m\u001b[37m\u001b[0m \u001b[1m1s\u001b[0m 62ms/step - loss: 1.3390 - vel_x_eva: 3.9464e-07 - vel_x_loss: 0.4838 - vel_x_r2_score: -0.0304 - vel_x_rmse: 0.6662 - vel_y_eva: 1.7398e-07 - vel_y_loss: 0.8468 - vel_y_r2_score: -0.0219 - vel_y_rmse: 0.9171\n",
      "Training model DroNet-500  for configuration (0.001, 64)\n",
      "\u001b[1m8/8\u001b[0m \u001b[32m━━━━━━━━━━━━━━━━━━━━\u001b[0m\u001b[37m\u001b[0m \u001b[1m1s\u001b[0m 116ms/step - loss: 1.3248 - vel_x_eva: 3.1770e-07 - vel_x_loss: 0.4757 - vel_x_r2_score: -0.0381 - vel_x_rmse: 0.6825 - vel_y_eva: 1.4037e-07 - vel_y_loss: 0.8450 - vel_y_r2_score: -0.0150 - vel_y_rmse: 0.9180\n",
      "Training model DroNet-600  for configuration (0.001, 64)\n",
      "\u001b[1m8/8\u001b[0m \u001b[32m━━━━━━━━━━━━━━━━━━━━\u001b[0m\u001b[37m\u001b[0m \u001b[1m1s\u001b[0m 116ms/step - loss: 1.3397 - vel_x_eva: 3.3328e-07 - vel_x_loss: 0.4841 - vel_x_r2_score: -0.0560 - vel_x_rmse: 0.6887 - vel_y_eva: 1.4037e-07 - vel_y_loss: 0.8452 - vel_y_r2_score: -0.0152 - vel_y_rmse: 0.9181\n",
      "Training model DroNet-500  for configuration (0.001, 128)\n",
      "\u001b[1m4/4\u001b[0m \u001b[32m━━━━━━━━━━━━━━━━━━━━\u001b[0m\u001b[37m\u001b[0m \u001b[1m1s\u001b[0m 239ms/step - loss: 1.3455 - vel_x_eva: 3.5365e-07 - vel_x_loss: 0.5038 - vel_x_r2_score: -0.0193 - vel_x_rmse: 0.7087 - vel_y_eva: 1.2279e-06 - vel_y_loss: 0.8302 - vel_y_r2_score: -0.0107 - vel_y_rmse: 0.9108\n",
      "Training model DroNet-600  for configuration (0.001, 128)\n",
      "\u001b[1m4/4\u001b[0m \u001b[32m━━━━━━━━━━━━━━━━━━━━\u001b[0m\u001b[37m\u001b[0m \u001b[1m1s\u001b[0m 228ms/step - loss: 1.4435 - vel_x_eva: 1.7881e-07 - vel_x_loss: 0.5107 - vel_x_r2_score: -0.0330 - vel_x_rmse: 0.7135 - vel_y_eva: 1.6292e-07 - vel_y_loss: 0.8296 - vel_y_r2_score: -0.0092 - vel_y_rmse: 0.9103\n",
      "Training model DroNet-500  for configuration (0.0001, 32)\n",
      "\u001b[1m15/15\u001b[0m \u001b[32m━━━━━━━━━━━━━━━━━━━━\u001b[0m\u001b[37m\u001b[0m \u001b[1m1s\u001b[0m 63ms/step - loss: 1.1124 - vel_x_eva: 0.0085 - vel_x_loss: 0.4739 - vel_x_r2_score: -0.0234 - vel_x_rmse: 0.6606 - vel_y_eva: 0.2726 - vel_y_loss: 0.6029 - vel_y_r2_score: 0.2553 - vel_y_rmse: 0.7732\n",
      "Training model DroNet-600  for configuration (0.0001, 32)\n",
      "\u001b[1m15/15\u001b[0m \u001b[32m━━━━━━━━━━━━━━━━━━━━\u001b[0m\u001b[37m\u001b[0m \u001b[1m1s\u001b[0m 64ms/step - loss: 1.1510 - vel_x_eva: -5.2320e-04 - vel_x_loss: 0.5000 - vel_x_r2_score: -0.0670 - vel_x_rmse: 0.6775 - vel_y_eva: 0.2558 - vel_y_loss: 0.6166 - vel_y_r2_score: 0.2333 - vel_y_rmse: 0.7829\n",
      "Training model DroNet-500  for configuration (0.0001, 64)\n",
      "\u001b[1m8/8\u001b[0m \u001b[32m━━━━━━━━━━━━━━━━━━━━\u001b[0m\u001b[37m\u001b[0m \u001b[1m1s\u001b[0m 117ms/step - loss: 0.9410 - vel_x_eva: 0.1292 - vel_x_loss: 0.4211 - vel_x_r2_score: 0.0940 - vel_x_rmse: 0.6399 - vel_y_eva: 0.4424 - vel_y_loss: 0.4701 - vel_y_r2_score: 0.4339 - vel_y_rmse: 0.6807\n",
      "Training model DroNet-600  for configuration (0.0001, 64)\n",
      "\u001b[1m8/8\u001b[0m \u001b[32m━━━━━━━━━━━━━━━━━━━━\u001b[0m\u001b[37m\u001b[0m \u001b[1m1s\u001b[0m 119ms/step - loss: 1.1885 - vel_x_eva: 0.0071 - vel_x_loss: 0.4738 - vel_x_r2_score: -0.0333 - vel_x_rmse: 0.6810 - vel_y_eva: 0.2155 - vel_y_loss: 0.6741 - vel_y_r2_score: 0.1800 - vel_y_rmse: 0.8184\n",
      "Training model DroNet-500  for configuration (0.0001, 128)\n",
      "\u001b[1m4/4\u001b[0m \u001b[32m━━━━━━━━━━━━━━━━━━━━\u001b[0m\u001b[37m\u001b[0m \u001b[1m1s\u001b[0m 233ms/step - loss: 1.0171 - vel_x_eva: 0.1684 - vel_x_loss: 0.4496 - vel_x_r2_score: 0.0965 - vel_x_rmse: 0.6673 - vel_y_eva: 0.4859 - vel_y_loss: 0.4657 - vel_y_r2_score: 0.4335 - vel_y_rmse: 0.6813\n",
      "Training model DroNet-600  for configuration (0.0001, 128)\n",
      "\u001b[1m4/4\u001b[0m \u001b[32m━━━━━━━━━━━━━━━━━━━━\u001b[0m\u001b[37m\u001b[0m \u001b[1m1s\u001b[0m 237ms/step - loss: 1.1371 - vel_x_eva: 0.1340 - vel_x_loss: 0.4473 - vel_x_r2_score: 0.1000 - vel_x_rmse: 0.6664 - vel_y_eva: 0.2952 - vel_y_loss: 0.5856 - vel_y_r2_score: 0.2845 - vel_y_rmse: 0.7649\n"
     ]
    }
   ],
   "source": [
    "samples_dataframe = load_samples_dataframe(\"/kaggle/input/marketplace-navigation-dataset/dataset\")\n",
    "# samples_dataframe = samples_dataframe.sample(frac=0.05)\n",
    "\n",
    "round_number = 2\n",
    "seed = round_number\n",
    "\n",
    "datasets = {}\n",
    "\n",
    "for model_description in models_descriptions:\n",
    "    dataset_key = tuple(model_description[\"input\"][\"shape\"])\n",
    "    dataset_key = model_description[\"input\"][\"grayscale\"], dataset_key\n",
    "    \n",
    "    if not dataset_key in datasets:\n",
    "        datasets[dataset_key] = build_train_val_test_datasets(\n",
    "            samples_dataframe,\n",
    "            model_description[\"input\"],\n",
    "            seed\n",
    "        )\n",
    "        \n",
    "for configuration in configurations:\n",
    "    for model_description in models_descriptions:\n",
    "        print(\"Training model\", model_description[\"name\"], \" for configuration\", configuration)\n",
    "        \n",
    "        learning_rate, batch_size = configuration\n",
    "        dataset_key = tuple(model_description[\"input\"][\"shape\"])\n",
    "        dataset_key = model_description[\"input\"][\"grayscale\"], dataset_key\n",
    "\n",
    "        train_ds = datasets[dataset_key][\"train\"]\n",
    "        val_ds   = datasets[dataset_key][\"val\"]\n",
    "        test_ds  = datasets[dataset_key][\"test\"]\n",
    "        \n",
    "        train_ds = train_ds.batch(batch_size).prefetch(tf.data.AUTOTUNE)\n",
    "        val_ds   = val_ds.batch(batch_size).prefetch(tf.data.AUTOTUNE)\n",
    "        test_ds  = test_ds.batch(batch_size).prefetch(tf.data.AUTOTUNE)\n",
    "\n",
    "        model, backbone = build_model(model_description)\n",
    "        \n",
    "        model.compile(\n",
    "            loss={\n",
    "                \"vel_x\": \"mean_squared_error\",\n",
    "                \"vel_y\": \"mean_squared_error\",\n",
    "            },\n",
    "            optimizer=keras.optimizers.Adam(learning_rate=learning_rate),\n",
    "            metrics={\n",
    "                \"vel_x\": [rmse, eva, r2_score],\n",
    "                \"vel_y\": [rmse, eva, r2_score],\n",
    "            },\n",
    "        )\n",
    "        model, history_1 = train_model(model, train_ds, val_ds)\n",
    "\n",
    "        unfreeze_weights(backbone, \"add_2\", \"add_3\")\n",
    "        \n",
    "        model.compile(\n",
    "            loss={\n",
    "                \"vel_x\": \"mean_squared_error\",\n",
    "                \"vel_y\": \"mean_squared_error\",\n",
    "            },\n",
    "            optimizer=keras.optimizers.Adam(learning_rate=learning_rate / 1e-3),\n",
    "            metrics={\n",
    "                \"vel_x\": [rmse, eva, r2_score],\n",
    "                \"vel_y\": [rmse, eva, r2_score],\n",
    "            },\n",
    "        )\n",
    "        model, history_2 = train_model(model, train_ds, val_ds)\n",
    "\n",
    "        evaluation_metrics = model.evaluate(test_ds, return_dict=True)\n",
    "        \n",
    "        results[model_description[\"name\"]][configuration] = evaluation_metrics\n",
    "\n",
    "        file_name = f\"r{round_number}_{model.name}_{learning_rate:.0e}_{batch_size}\"\n",
    "\n",
    "        model.save(f\"{file_name}.keras\")\n",
    "        \n",
    "        pd.concat([\n",
    "            history_1,\n",
    "            history_2,\n",
    "        ]).reset_index(drop=True).to_csv(f\"{file_name}.csv\")\n",
    "        \n",
    "        with open(\"results.pkl\", \"wb\") as results_file:\n",
    "            pickle.dump(results, results_file)"
   ]
  }
 ],
 "metadata": {
  "kaggle": {
   "accelerator": "none",
   "dataSources": [
    {
     "datasetId": 6187980,
     "sourceId": 10061785,
     "sourceType": "datasetVersion"
    }
   ],
   "dockerImageVersionId": 31011,
   "isGpuEnabled": false,
   "isInternetEnabled": true,
   "language": "python",
   "sourceType": "notebook"
  },
  "kernelspec": {
   "display_name": "Python 3",
   "language": "python",
   "name": "python3"
  },
  "language_info": {
   "codemirror_mode": {
    "name": "ipython",
    "version": 3
   },
   "file_extension": ".py",
   "mimetype": "text/x-python",
   "name": "python",
   "nbconvert_exporter": "python",
   "pygments_lexer": "ipython3",
   "version": "3.11.11"
  },
  "papermill": {
   "default_parameters": {},
   "duration": 12813.32302,
   "end_time": "2025-06-29T03:28:58.584594",
   "environment_variables": {},
   "exception": null,
   "input_path": "__notebook__.ipynb",
   "output_path": "__notebook__.ipynb",
   "parameters": {},
   "start_time": "2025-06-28T23:55:25.261574",
   "version": "2.6.0"
  }
 },
 "nbformat": 4,
 "nbformat_minor": 5
}
