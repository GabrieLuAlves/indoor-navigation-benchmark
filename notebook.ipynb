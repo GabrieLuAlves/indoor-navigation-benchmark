{
 "cells": [
  {
   "cell_type": "code",
   "execution_count": 1,
   "id": "8aa33bb0",
   "metadata": {
    "_cell_guid": "46070462-b7f4-4b15-a4d9-44c137eef69f",
    "_uuid": "52bd373b-06fb-440c-9483-deea28193b49",
    "collapsed": false,
    "execution": {
     "iopub.execute_input": "2025-06-28T23:56:02.315841Z",
     "iopub.status.busy": "2025-06-28T23:56:02.314964Z",
     "iopub.status.idle": "2025-06-28T23:56:20.412779Z",
     "shell.execute_reply": "2025-06-28T23:56:20.411940Z"
    },
    "jupyter": {
     "outputs_hidden": false
    },
    "papermill": {
     "duration": 18.107222,
     "end_time": "2025-06-28T23:56:20.414512",
     "exception": false,
     "start_time": "2025-06-28T23:56:02.307290",
     "status": "completed"
    },
    "tags": []
   },
   "outputs": [
    {
     "name": "stderr",
     "output_type": "stream",
     "text": [
      "2025-06-28 23:56:07.137127: E external/local_xla/xla/stream_executor/cuda/cuda_fft.cc:477] Unable to register cuFFT factory: Attempting to register factory for plugin cuFFT when one has already been registered\n",
      "WARNING: All log messages before absl::InitializeLog() is called are written to STDERR\n",
      "E0000 00:00:1751154967.355077      13 cuda_dnn.cc:8310] Unable to register cuDNN factory: Attempting to register factory for plugin cuDNN when one has already been registered\n",
      "E0000 00:00:1751154967.415823      13 cuda_blas.cc:1418] Unable to register cuBLAS factory: Attempting to register factory for plugin cuBLAS when one has already been registered\n"
     ]
    }
   ],
   "source": [
    "import numpy as np\n",
    "import pandas as pd\n",
    "import os\n",
    "import pickle\n",
    "\n",
    "from sklearn.model_selection import train_test_split\n",
    "\n",
    "os.environ[\"KERAS_BACKEND\"] = \"tensorflow\"\n",
    "\n",
    "import tensorflow as tf\n",
    "\n",
    "import keras\n",
    "import keras.backend as K\n",
    "\n",
    "from tqdm import tqdm\n",
    "\n",
    "%matplotlib inline"
   ]
  },
  {
   "cell_type": "markdown",
   "id": "89d60078",
   "metadata": {
    "_cell_guid": "3338e322-2959-4ad2-b3be-c17a32a1e169",
    "_uuid": "21023635-b155-46ea-b788-4bb5c3d6265f",
    "collapsed": false,
    "jupyter": {
     "outputs_hidden": false
    },
    "papermill": {
     "duration": 0.004908,
     "end_time": "2025-06-28T23:56:20.425199",
     "exception": false,
     "start_time": "2025-06-28T23:56:20.420291",
     "status": "completed"
    },
    "tags": []
   },
   "source": [
    "# 4. Regression metrics"
   ]
  },
  {
   "cell_type": "code",
   "execution_count": 2,
   "id": "6b5c7893",
   "metadata": {
    "_cell_guid": "2bbe6b55-0ab9-4f99-94f8-02edd972a906",
    "_uuid": "5452c999-be68-4f18-9c63-5a0578c1f722",
    "collapsed": false,
    "execution": {
     "iopub.execute_input": "2025-06-28T23:56:20.437386Z",
     "iopub.status.busy": "2025-06-28T23:56:20.436359Z",
     "iopub.status.idle": "2025-06-28T23:56:20.445881Z",
     "shell.execute_reply": "2025-06-28T23:56:20.445036Z"
    },
    "jupyter": {
     "outputs_hidden": false
    },
    "papermill": {
     "duration": 0.017029,
     "end_time": "2025-06-28T23:56:20.447440",
     "exception": false,
     "start_time": "2025-06-28T23:56:20.430411",
     "status": "completed"
    },
    "tags": []
   },
   "outputs": [],
   "source": [
    "@tf.function\n",
    "def rmse(y_true, y_pred):\n",
    "    y_true = tf.cast(y_true, tf.float32)\n",
    "    y_pred = tf.cast(y_pred, tf.float32)\n",
    "    \n",
    "    y_true = tf.reshape(y_true, [-1, 1])\n",
    "    y_pred = tf.reshape(y_pred, [-1, 1])\n",
    "    \n",
    "    return tf.sqrt(tf.reduce_mean(tf.square(y_true - y_pred)))\n",
    "\n",
    "@tf.function\n",
    "def eva(y_true, y_pred):\n",
    "    y_true = tf.cast(y_true, tf.float32)\n",
    "    y_pred = tf.cast(y_pred, tf.float32)\n",
    "    \n",
    "    y_true = tf.reshape(y_true, [-1, 1])\n",
    "    y_pred = tf.reshape(y_pred, [-1, 1])\n",
    "\n",
    "    numerator = tf.math.reduce_variance(y_true - y_pred)\n",
    "    denominator = tf.math.reduce_variance(y_true) + tf.keras.backend.epsilon()\n",
    "    \n",
    "    return 1.0 - numerator / denominator\n",
    "\n",
    "@tf.function\n",
    "def r2_score(y_true, y_pred):\n",
    "    y_true = tf.cast(y_true, tf.float32)\n",
    "    y_pred = tf.cast(y_pred, tf.float32)\n",
    "    \n",
    "    y_true = tf.reshape(y_true, [-1, 1])\n",
    "    y_pred = tf.reshape(y_pred, [-1, 1])\n",
    "    \n",
    "    ss_res = tf.reduce_sum(tf.square(y_true - y_pred))\n",
    "    ss_tot = tf.reduce_sum(tf.square(y_true - tf.reduce_mean(y_true)))\n",
    "    \n",
    "    return 1 - (ss_res / (ss_tot + K.epsilon()))"
   ]
  },
  {
   "cell_type": "markdown",
   "id": "99d5df69",
   "metadata": {
    "_cell_guid": "a033fd0a-11ba-49cf-b8dc-d690bee50ca1",
    "_uuid": "6d9bdfc4-6c43-448a-a91b-471ca4a22332",
    "collapsed": false,
    "jupyter": {
     "outputs_hidden": false
    },
    "papermill": {
     "duration": 0.004827,
     "end_time": "2025-06-28T23:56:20.457475",
     "exception": false,
     "start_time": "2025-06-28T23:56:20.452648",
     "status": "completed"
    },
    "tags": []
   },
   "source": [
    "# 4. ResNet 8/18/34 construction"
   ]
  },
  {
   "cell_type": "code",
   "execution_count": 3,
   "id": "33693c6f",
   "metadata": {
    "_cell_guid": "b7e2c34b-3e37-480b-abdf-5b6d88e97f2a",
    "_uuid": "b18400fe-6f61-41f3-80bb-b0536922193c",
    "collapsed": false,
    "execution": {
     "iopub.execute_input": "2025-06-28T23:56:20.468758Z",
     "iopub.status.busy": "2025-06-28T23:56:20.468455Z",
     "iopub.status.idle": "2025-06-28T23:56:20.474678Z",
     "shell.execute_reply": "2025-06-28T23:56:20.473978Z"
    },
    "jupyter": {
     "outputs_hidden": false
    },
    "papermill": {
     "duration": 0.013514,
     "end_time": "2025-06-28T23:56:20.476047",
     "exception": false,
     "start_time": "2025-06-28T23:56:20.462533",
     "status": "completed"
    },
    "tags": []
   },
   "outputs": [],
   "source": [
    "def resnet_block(x, filters, stride=1, use_projection=False):\n",
    "    shortcut = x\n",
    "\n",
    "    x = keras.layers.Conv2D(filters, 3, strides=stride, padding='same', use_bias=False)(x)\n",
    "    x = keras.layers.BatchNormalization()(x)\n",
    "    x = keras.layers.ReLU()(x)\n",
    "\n",
    "    x = keras.layers.Conv2D(filters, 3, strides=1, padding='same', use_bias=False)(x)\n",
    "    x = keras.layers.BatchNormalization()(x)\n",
    "\n",
    "    if use_projection:\n",
    "        shortcut = keras.layers.Conv2D(filters, 1, strides=stride, use_bias=False)(shortcut)\n",
    "        shortcut = keras.layers.BatchNormalization()(shortcut)\n",
    "\n",
    "    x = keras.layers.Add()([x, shortcut])\n",
    "    x = keras.layers.ReLU()(x)\n",
    "    return x"
   ]
  },
  {
   "cell_type": "code",
   "execution_count": 4,
   "id": "0cb242f7",
   "metadata": {
    "_cell_guid": "f10ef329-9949-4fb1-9851-4e0cd42eacb1",
    "_uuid": "793f7961-14b7-4716-afb9-d89646cdecf0",
    "collapsed": false,
    "execution": {
     "iopub.execute_input": "2025-06-28T23:56:20.488000Z",
     "iopub.status.busy": "2025-06-28T23:56:20.487346Z",
     "iopub.status.idle": "2025-06-28T23:56:20.493613Z",
     "shell.execute_reply": "2025-06-28T23:56:20.492799Z"
    },
    "jupyter": {
     "outputs_hidden": false
    },
    "papermill": {
     "duration": 0.013721,
     "end_time": "2025-06-28T23:56:20.495100",
     "exception": false,
     "start_time": "2025-06-28T23:56:20.481379",
     "status": "completed"
    },
    "tags": []
   },
   "outputs": [],
   "source": [
    "def ResNet8_DroNet(input_shape=(200, 200, 1), dropout_rate=0.3):\n",
    "    inputs = keras.Input(shape=input_shape)\n",
    "\n",
    "    x = keras.layers.Conv2D(32, 5, strides=2, padding='same', use_bias=False)(inputs)\n",
    "    x = keras.layers.BatchNormalization()(x)\n",
    "    x = keras.layers.ReLU()(x)\n",
    "\n",
    "    # Residual Blocks\n",
    "    x = resnet_block(x, 32)\n",
    "    x = resnet_block(x, 32)\n",
    "\n",
    "    x = resnet_block(x, 64, stride=2, use_projection=True)\n",
    "    x = resnet_block(x, 64)\n",
    "\n",
    "    x = resnet_block(x, 128, stride=2, use_projection=True)\n",
    "    x = resnet_block(x, 128)\n",
    "\n",
    "    return keras.models.Model(inputs, x, name=\"ResNet8_DroNet\")"
   ]
  },
  {
   "cell_type": "code",
   "execution_count": 5,
   "id": "7f9fb26e",
   "metadata": {
    "_cell_guid": "1ab4574a-0008-4f55-8522-d41c19d1c757",
    "_uuid": "d08c3a95-1e8d-43a2-b476-edeba21417bf",
    "collapsed": false,
    "execution": {
     "iopub.execute_input": "2025-06-28T23:56:20.506686Z",
     "iopub.status.busy": "2025-06-28T23:56:20.506397Z",
     "iopub.status.idle": "2025-06-28T23:56:20.512547Z",
     "shell.execute_reply": "2025-06-28T23:56:20.511887Z"
    },
    "jupyter": {
     "outputs_hidden": false
    },
    "papermill": {
     "duration": 0.013576,
     "end_time": "2025-06-28T23:56:20.513980",
     "exception": false,
     "start_time": "2025-06-28T23:56:20.500404",
     "status": "completed"
    },
    "tags": []
   },
   "outputs": [],
   "source": [
    "def ResNet18(input_shape=(224, 224, 3)):\n",
    "    inputs = keras.Input(shape=input_shape)\n",
    "    \n",
    "    x = keras.layers.Conv2D(64, 7, strides=2, padding='same', use_bias=False)(inputs)\n",
    "    x = keras.layers.BatchNormalization()(x)\n",
    "    x = keras.layers.ReLU()(x)\n",
    "    x = keras.layers.MaxPooling2D(3, strides=2, padding='same')(x)\n",
    "\n",
    "    # Conv2_x\n",
    "    x = resnet_block(x, 64)\n",
    "    x = resnet_block(x, 64)\n",
    "\n",
    "    # Conv3_x\n",
    "    x = resnet_block(x, 128, stride=2, use_projection=True)\n",
    "    x = resnet_block(x, 128)\n",
    "\n",
    "    # Conv4_x\n",
    "    x = resnet_block(x, 256, stride=2, use_projection=True)\n",
    "    x = resnet_block(x, 256)\n",
    "\n",
    "    # Conv5_x\n",
    "    x = resnet_block(x, 512, stride=2, use_projection=True)\n",
    "    x = resnet_block(x, 512)\n",
    "\n",
    "    return keras.models.Model(inputs, x, name=\"ResNet18_backbone\")"
   ]
  },
  {
   "cell_type": "code",
   "execution_count": 6,
   "id": "fbe1d7fa",
   "metadata": {
    "_cell_guid": "4e15582f-a90d-4bbf-9063-5c25ae37fbf1",
    "_uuid": "4506a044-df15-4966-8b32-2e0e5a6b2811",
    "collapsed": false,
    "execution": {
     "iopub.execute_input": "2025-06-28T23:56:20.525595Z",
     "iopub.status.busy": "2025-06-28T23:56:20.525303Z",
     "iopub.status.idle": "2025-06-28T23:56:20.531967Z",
     "shell.execute_reply": "2025-06-28T23:56:20.531184Z"
    },
    "jupyter": {
     "outputs_hidden": false
    },
    "papermill": {
     "duration": 0.014166,
     "end_time": "2025-06-28T23:56:20.533455",
     "exception": false,
     "start_time": "2025-06-28T23:56:20.519289",
     "status": "completed"
    },
    "tags": []
   },
   "outputs": [],
   "source": [
    "def ResNet34(input_shape=(224, 224, 3)):\n",
    "    inputs = keras.Input(shape=input_shape)\n",
    "    \n",
    "    x = keras.layers.Conv2D(64, 7, strides=2, padding='same', use_bias=False)(inputs)\n",
    "    x = keras.layers.BatchNormalization()(x)\n",
    "    x = keras.layers.ReLU()(x)\n",
    "    x = keras.layers.MaxPooling2D(3, strides=2, padding='same')(x)\n",
    "\n",
    "    # Conv2_x (3 blocks)\n",
    "    for _ in range(3):\n",
    "        x = resnet_block(x, 64)\n",
    "\n",
    "    # Conv3_x (4 blocks)\n",
    "    x = resnet_block(x, 128, stride=2, use_projection=True)\n",
    "    for _ in range(3):\n",
    "        x = resnet_block(x, 128)\n",
    "\n",
    "    # Conv4_x (6 blocks)\n",
    "    x = resnet_block(x, 256, stride=2, use_projection=True)\n",
    "    for _ in range(5):\n",
    "        x = resnet_block(x, 256)\n",
    "\n",
    "    # Conv5_x (3 blocks)\n",
    "    x = resnet_block(x, 512, stride=2, use_projection=True)\n",
    "    for _ in range(2):\n",
    "        x = resnet_block(x, 512)\n",
    "\n",
    "    return keras.models.Model(inputs, x, name=\"ResNet34_backbone\")"
   ]
  },
  {
   "cell_type": "markdown",
   "id": "9eb4123b",
   "metadata": {
    "_cell_guid": "5541b060-36b4-42fe-b425-7bfd72e7b45e",
    "_uuid": "510600d1-1d77-454a-8011-5371ea499712",
    "collapsed": false,
    "jupyter": {
     "outputs_hidden": false
    },
    "papermill": {
     "duration": 0.004824,
     "end_time": "2025-06-28T23:56:20.543315",
     "exception": false,
     "start_time": "2025-06-28T23:56:20.538491",
     "status": "completed"
    },
    "tags": []
   },
   "source": [
    "# Grid search configurations"
   ]
  },
  {
   "cell_type": "code",
   "execution_count": 7,
   "id": "8140f602",
   "metadata": {
    "_cell_guid": "6f66a903-0170-417a-8288-2314e82512ad",
    "_uuid": "5ab4cb0d-2d3b-4203-86b9-c9ed8717eaf7",
    "collapsed": false,
    "execution": {
     "iopub.execute_input": "2025-06-28T23:56:20.554081Z",
     "iopub.status.busy": "2025-06-28T23:56:20.553782Z",
     "iopub.status.idle": "2025-06-28T23:56:20.558032Z",
     "shell.execute_reply": "2025-06-28T23:56:20.557204Z"
    },
    "jupyter": {
     "outputs_hidden": false
    },
    "papermill": {
     "duration": 0.011193,
     "end_time": "2025-06-28T23:56:20.559397",
     "exception": false,
     "start_time": "2025-06-28T23:56:20.548204",
     "status": "completed"
    },
    "tags": []
   },
   "outputs": [],
   "source": [
    "from itertools import product\n",
    "\n",
    "configurations = list(product([1e-2, 1e-3, 1e-4], [32, 64, 128]))"
   ]
  },
  {
   "cell_type": "markdown",
   "id": "7ddd3e55",
   "metadata": {
    "_cell_guid": "befc604b-fe79-4f99-8cb6-9eb35c1e2b67",
    "_uuid": "976bf65c-b852-4ea8-8d65-525c9b981ced",
    "collapsed": false,
    "jupyter": {
     "outputs_hidden": false
    },
    "papermill": {
     "duration": 0.005489,
     "end_time": "2025-06-28T23:56:20.569960",
     "exception": false,
     "start_time": "2025-06-28T23:56:20.564471",
     "status": "completed"
    },
    "tags": []
   },
   "source": [
    "# Models descriptions"
   ]
  },
  {
   "cell_type": "code",
   "execution_count": 8,
   "id": "a7a1af82",
   "metadata": {
    "_cell_guid": "f7eddf37-fbff-433b-8efb-20507f4d2b8f",
    "_uuid": "cfd37596-4204-41a7-9539-264d09469b70",
    "collapsed": false,
    "execution": {
     "iopub.execute_input": "2025-06-28T23:56:20.581951Z",
     "iopub.status.busy": "2025-06-28T23:56:20.581644Z",
     "iopub.status.idle": "2025-06-28T23:56:20.589289Z",
     "shell.execute_reply": "2025-06-28T23:56:20.588448Z"
    },
    "jupyter": {
     "outputs_hidden": false
    },
    "papermill": {
     "duration": 0.015385,
     "end_time": "2025-06-28T23:56:20.590756",
     "exception": false,
     "start_time": "2025-06-28T23:56:20.575371",
     "status": "completed"
    },
    "tags": []
   },
   "outputs": [],
   "source": [
    "models_descriptions = [\n",
    "    {\n",
    "        \"name\": \"DroNet-500\",\n",
    "        \"backbone\": {\n",
    "            \"name\": \"ResNet-8\",\n",
    "            \"weights\": \"dronet\"\n",
    "        },\n",
    "        \"input\": {\n",
    "            \"shape\": (200, 200, 1),\n",
    "            \"grayscale\": True\n",
    "        },\n",
    "        \"head_description\": [\n",
    "            (32, True, False),\n",
    "        ]\n",
    "    },\n",
    "    {\n",
    "        \"name\": \"DroNet-600\",\n",
    "        \"backbone\": {\n",
    "            \"name\": \"ResNet-8\",\n",
    "            \"weights\": \"dronet\"\n",
    "        },\n",
    "        \"input\": {\n",
    "            \"shape\": (200, 200, 1),\n",
    "            \"grayscale\": True\n",
    "        },\n",
    "        \"head_description\": [\n",
    "            (64, True, False),\n",
    "        ]\n",
    "    },\n",
    "]\n",
    "\n",
    "# Format verification\n",
    "for model_description in models_descriptions:\n",
    "    if \"backbone\" not in model_description:\n",
    "        raise KeyError(\"backbone not specified at:\\n\" + str(model_description))\n",
    "\n",
    "    if \"name\" not in model_description[\"backbone\"]:\n",
    "        raise KeyError(\"backbone.name not specified at:\\n\" + str(model_description))\n",
    "\n",
    "    if \"weights\" not in model_description[\"backbone\"]:\n",
    "        model_description[\"backbone\"][\"weights\"] = None\n",
    "    \n",
    "    if \"name\" not in model_description:\n",
    "        model_description[\"name\"] = model_description[\"backbone\"]\n",
    "\n",
    "    if \"head_description\" not in model_description:\n",
    "        model_description[\"head_description\"] = []\n",
    "\n",
    "    if \"weights\" not in model_description:\n",
    "        model_description[\"weights\"] = None\n",
    "\n",
    "    if \"input\" not in model_description:\n",
    "        raise KeyError(\"input not specified at:\\n\" + str(model_description))\n",
    "\n",
    "    if \"shape\" not in model_description[\"input\"]:\n",
    "        raise KeyError(\"input.shape not specified at:\\n\" + str(model_description))\n",
    "    \n",
    "    if \"grayscale\" not in model_description[\"input\"]:\n",
    "        model_description[\"input\"][\"grayscale\"] = False"
   ]
  },
  {
   "cell_type": "markdown",
   "id": "14d3bf6c",
   "metadata": {
    "_cell_guid": "8053b71d-50ff-4861-af2f-039eb0efc7c0",
    "_uuid": "9751bcfc-b5b2-4bd1-87e6-92285fb23b7d",
    "collapsed": false,
    "jupyter": {
     "outputs_hidden": false
    },
    "papermill": {
     "duration": 0.005007,
     "end_time": "2025-06-28T23:56:20.600953",
     "exception": false,
     "start_time": "2025-06-28T23:56:20.595946",
     "status": "completed"
    },
    "tags": []
   },
   "source": [
    "# Load dataset and build pipeline"
   ]
  },
  {
   "cell_type": "code",
   "execution_count": 9,
   "id": "e4e33503",
   "metadata": {
    "_cell_guid": "5555623d-1250-4072-af6e-4ca6b6a5d197",
    "_uuid": "cc680d39-133c-4d96-934e-1fb8ca9009d8",
    "collapsed": false,
    "execution": {
     "iopub.execute_input": "2025-06-28T23:56:20.612529Z",
     "iopub.status.busy": "2025-06-28T23:56:20.611814Z",
     "iopub.status.idle": "2025-06-28T23:56:20.617217Z",
     "shell.execute_reply": "2025-06-28T23:56:20.616447Z"
    },
    "jupyter": {
     "outputs_hidden": false
    },
    "papermill": {
     "duration": 0.012844,
     "end_time": "2025-06-28T23:56:20.618788",
     "exception": false,
     "start_time": "2025-06-28T23:56:20.605944",
     "status": "completed"
    },
    "tags": []
   },
   "outputs": [],
   "source": [
    "def load_samples_dataframe(path: str):\n",
    "    images_folder = os.path.join(path, \"images\")\n",
    "\n",
    "    samples_df = pd.read_csv(\n",
    "        os.path.join(path, \"market_dataset_xy.txt\"),\n",
    "        sep=\" \",\n",
    "        header=None,\n",
    "        names=[\"file path\", \"_\", \"datetime\", \"vel_y\", \"vel_x\"]\n",
    "    )\n",
    "\n",
    "    samples_df[\"file path\"] = (\n",
    "        samples_df[\"file path\"]\n",
    "        .apply(lambda image_name: os.path.join(path, \"images\", image_name))\n",
    "    )\n",
    "    \n",
    "    return samples_df"
   ]
  },
  {
   "cell_type": "code",
   "execution_count": 10,
   "id": "13212d67",
   "metadata": {
    "_cell_guid": "adf866ea-2822-48b8-a954-b4be212d53af",
    "_uuid": "513d809a-65b0-423f-87e3-679285f73bf0",
    "collapsed": false,
    "execution": {
     "iopub.execute_input": "2025-06-28T23:56:20.630601Z",
     "iopub.status.busy": "2025-06-28T23:56:20.630294Z",
     "iopub.status.idle": "2025-06-28T23:56:20.637249Z",
     "shell.execute_reply": "2025-06-28T23:56:20.636283Z"
    },
    "jupyter": {
     "outputs_hidden": false
    },
    "papermill": {
     "duration": 0.014634,
     "end_time": "2025-06-28T23:56:20.638703",
     "exception": false,
     "start_time": "2025-06-28T23:56:20.624069",
     "status": "completed"
    },
    "tags": []
   },
   "outputs": [],
   "source": [
    "@tf.function\n",
    "def augment(image, label):\n",
    "    # Brightness and contrast\n",
    "    image = tf.image.random_brightness(image, max_delta=0.2)\n",
    "    image = tf.image.random_contrast(image, lower=0.8, upper=1.2)\n",
    "    \n",
    "    # Flip horizontally\n",
    "    do_flip = tf.random.uniform([]) > 0.5\n",
    "    image = tf.cond(do_flip, lambda: tf.image.flip_left_right(image), lambda: image)\n",
    "    \n",
    "    vel_x = tf.cond(do_flip, lambda: -label[\"vel_x\"], lambda: label[\"vel_x\"])\n",
    "    vel_y = label[\"vel_y\"]\n",
    "    \n",
    "    # Optionally add noise\n",
    "    noise = tf.random.normal(shape=tf.shape(image), mean=0.0, stddev=0.025)\n",
    "    image = image + noise\n",
    "    image = tf.clip_by_value(image, 0.0, 1.0)\n",
    "\n",
    "    return image, {\"vel_x\": vel_x, \"vel_y\": vel_y}"
   ]
  },
  {
   "cell_type": "code",
   "execution_count": 11,
   "id": "931d0a7b",
   "metadata": {
    "_cell_guid": "ad4a4a1f-930e-4277-80b1-5b6baac7f826",
    "_uuid": "c96bf886-1c0d-4aa4-b406-b6f1ae910f6d",
    "collapsed": false,
    "execution": {
     "iopub.execute_input": "2025-06-28T23:56:20.650809Z",
     "iopub.status.busy": "2025-06-28T23:56:20.650112Z",
     "iopub.status.idle": "2025-06-28T23:56:20.655769Z",
     "shell.execute_reply": "2025-06-28T23:56:20.654936Z"
    },
    "jupyter": {
     "outputs_hidden": false
    },
    "papermill": {
     "duration": 0.013244,
     "end_time": "2025-06-28T23:56:20.657220",
     "exception": false,
     "start_time": "2025-06-28T23:56:20.643976",
     "status": "completed"
    },
    "tags": []
   },
   "outputs": [],
   "source": [
    "def load_image(path, mode=\"color\"):\n",
    "    image = tf.io.read_file(path)\n",
    "\n",
    "    if mode == \"color\":\n",
    "        image = tf.image.decode_jpeg(image, channels=3)\n",
    "\n",
    "    elif mode == \"grayscale1\":\n",
    "        image = tf.image.decode_jpeg(image, channels=1)\n",
    "\n",
    "    elif mode == \"grayscale3\":\n",
    "        image = tf.image.decode_jpeg(image, channels=3)\n",
    "        image = tf.image.rgb_to_grayscale(image)\n",
    "        image = tf.image.grayscale_to_rgb(image)\n",
    "\n",
    "    else:\n",
    "        raise ValueError(f\"Invalid mode: {mode}\")\n",
    "\n",
    "    return image"
   ]
  },
  {
   "cell_type": "code",
   "execution_count": 12,
   "id": "0966fc28",
   "metadata": {
    "_cell_guid": "45c54901-4826-4fcf-9ce8-aa64653e769e",
    "_uuid": "ef17faa6-b5d9-4603-818e-12790606b097",
    "collapsed": false,
    "execution": {
     "iopub.execute_input": "2025-06-28T23:56:20.668861Z",
     "iopub.status.busy": "2025-06-28T23:56:20.668591Z",
     "iopub.status.idle": "2025-06-28T23:56:20.678090Z",
     "shell.execute_reply": "2025-06-28T23:56:20.677161Z"
    },
    "jupyter": {
     "outputs_hidden": false
    },
    "papermill": {
     "duration": 0.017208,
     "end_time": "2025-06-28T23:56:20.679685",
     "exception": false,
     "start_time": "2025-06-28T23:56:20.662477",
     "status": "completed"
    },
    "tags": []
   },
   "outputs": [],
   "source": [
    "def build_train_val_test_datasets(samples_dataframe, input_description: dict, seed=42):\n",
    "    # Split\n",
    "    df_train, df_temp = train_test_split(samples_dataframe, test_size=0.4, random_state=seed)\n",
    "    df_val, df_test = train_test_split(df_temp, test_size=0.5, random_state=seed)\n",
    "\n",
    "    resolution = input_description[\"shape\"][:2]\n",
    "    channels = input_description[\"shape\"][2]\n",
    "\n",
    "    if not input_description[\"grayscale\"]:\n",
    "        mode = \"color\"\n",
    "    elif channels == 1:\n",
    "        mode = \"grayscale1\"\n",
    "    elif channels == 3:\n",
    "        mode = \"grayscale3\"\n",
    "\n",
    "    def process_sample(path, label):\n",
    "        image = load_image(path, mode=mode)\n",
    "        image = tf.image.resize(image, resolution)\n",
    "        image.set_shape(input_description[\"shape\"])\n",
    "        image = tf.cast(image, tf.float32) / 255.0\n",
    "\n",
    "        return image, label\n",
    "\n",
    "    def df_to_tf_dataset(df, training=False):\n",
    "        paths = tf.constant(df[\"file path\"].tolist())\n",
    "        vel_x = tf.constant(df[\"vel_x\"].astype(\"float32\").tolist())\n",
    "        vel_y = tf.constant(df[\"vel_y\"].astype(\"float32\").tolist())\n",
    "    \n",
    "        ds = tf.data.Dataset.from_tensor_slices((paths, {\"vel_x\": vel_x, \"vel_y\": vel_y}))\n",
    "    \n",
    "        ds = ds.map(process_sample, num_parallel_calls=tf.data.AUTOTUNE)\n",
    "        ds = ds.cache()\n",
    "    \n",
    "        if training:\n",
    "            ds = ds.shuffle(len(df), reshuffle_each_iteration=True)\n",
    "            ds = ds.map(augment, num_parallel_calls=tf.data.AUTOTUNE)\n",
    "            \n",
    "        return ds\n",
    "\n",
    "    return {\n",
    "        \"train\": df_to_tf_dataset(df_train, training=True),\n",
    "        \"val\":   df_to_tf_dataset(df_val, training=False),\n",
    "        \"test\":  df_to_tf_dataset(df_test, training=False),\n",
    "    }"
   ]
  },
  {
   "cell_type": "code",
   "execution_count": 13,
   "id": "acc428d0",
   "metadata": {
    "_cell_guid": "b2e5a695-5c16-4993-92eb-68c327fbc94a",
    "_uuid": "37c07429-c36f-4739-80ac-cc544f823bcc",
    "collapsed": false,
    "execution": {
     "iopub.execute_input": "2025-06-28T23:56:20.691414Z",
     "iopub.status.busy": "2025-06-28T23:56:20.691058Z",
     "iopub.status.idle": "2025-06-28T23:56:20.699469Z",
     "shell.execute_reply": "2025-06-28T23:56:20.698619Z"
    },
    "jupyter": {
     "outputs_hidden": false
    },
    "papermill": {
     "duration": 0.015907,
     "end_time": "2025-06-28T23:56:20.700932",
     "exception": false,
     "start_time": "2025-06-28T23:56:20.685025",
     "status": "completed"
    },
    "tags": []
   },
   "outputs": [],
   "source": [
    "def instantiate_backbone(backbone_name, weights=None):\n",
    "    if backbone_name == \"ResNet-8\":\n",
    "        if weights:\n",
    "            if weights == \"dronet\":\n",
    "                return keras.models.load_model(\"/kaggle/input/marketplace-navigation-dataset/model.keras\")\n",
    "            else:\n",
    "                print(\"[INFO] could not find weights for ResNet-8\")\n",
    "        return ResNet8_DroNet(input_shape=(200, 200, 1))\n",
    "    \n",
    "    if backbone_name == \"ResNet-18\":\n",
    "        if weights is not None:\n",
    "            print(\"[INFO] No pre-trained weights for ResNet-18\")\n",
    "        return ResNet18(input_shape=(224, 224, 3))\n",
    "        \n",
    "    if backbone_name == \"ResNet-34\":\n",
    "        if weights is not None:\n",
    "            print(\"[INFO] No pre-trained weights for ResNet-34\")\n",
    "        return ResNet34(input_shape=(224, 224, 3))\n",
    "\n",
    "    if backbone_name == \"ResNet-50\":\n",
    "        return keras.applications.ResNet50(\n",
    "            include_top=False,\n",
    "            input_shape=(224, 224, 3),\n",
    "            weights=\"imagenet\",\n",
    "            pooling=None,\n",
    "        )\n",
    "\n",
    "    if backbone_name == \"ResNet-50V2\":\n",
    "        return keras.applications.ResNet50V2(\n",
    "            include_top=False,\n",
    "            input_shape=(224, 224, 3),\n",
    "            weights=\"imagenet\",\n",
    "            pooling=None,\n",
    "        )\n",
    "\n",
    "    if backbone_name == \"MobileNet\":\n",
    "        return keras.applications.MobileNet(\n",
    "            include_top=False,\n",
    "            input_shape=(224, 224, 3),\n",
    "            weights=\"imagenet\",\n",
    "            pooling=None,\n",
    "            alpha=1.0,\n",
    "        )\n",
    "\n",
    "    if backbone_name == \"MobileNetV2\":\n",
    "        return keras.applications.MobileNetV2(\n",
    "            include_top=False,\n",
    "            input_shape=(224, 224, 3),\n",
    "            weights=\"imagenet\",\n",
    "            pooling=None,\n",
    "            alpha=1.0,\n",
    "        )\n",
    "\n",
    "    if backbone_name == \"EfficientNetB0\":\n",
    "        return keras.applications.EfficientNetB0(\n",
    "            include_top=False,\n",
    "            input_shape=(224, 224, 3),\n",
    "            weights=\"imagenet\",\n",
    "            pooling=None,\n",
    "        )\n",
    "    \n",
    "    raise ValueError(f\"Backbone {backbone_name} not implemented.\")"
   ]
  },
  {
   "cell_type": "code",
   "execution_count": 14,
   "id": "b51a98d8",
   "metadata": {
    "_cell_guid": "3a8055dd-c1af-4d03-82b5-d851bdbb6b59",
    "_uuid": "f0ed5477-06af-4532-8db7-a6b1d08aabcb",
    "collapsed": false,
    "execution": {
     "iopub.execute_input": "2025-06-28T23:56:20.713057Z",
     "iopub.status.busy": "2025-06-28T23:56:20.712404Z",
     "iopub.status.idle": "2025-06-28T23:56:20.721474Z",
     "shell.execute_reply": "2025-06-28T23:56:20.720622Z"
    },
    "jupyter": {
     "outputs_hidden": false
    },
    "papermill": {
     "duration": 0.016485,
     "end_time": "2025-06-28T23:56:20.722756",
     "exception": false,
     "start_time": "2025-06-28T23:56:20.706271",
     "status": "completed"
    },
    "tags": []
   },
   "outputs": [],
   "source": [
    "def build_model(model_description: dict):\n",
    "    input_shape = model_description[\"input\"][\"shape\"]\n",
    "    input_shape = tuple(input_shape)\n",
    "\n",
    "    backbone_name = model_description[\"backbone\"][\"name\"]\n",
    "    backbone_weights = model_description[\"backbone\"][\"weights\"]\n",
    "\n",
    "    PREPROCESS = {\n",
    "        \"MobileNet\":       keras.applications.mobilenet.preprocess_input,\n",
    "        \"MobileNetV2\":     keras.applications.mobilenet_v2.preprocess_input,\n",
    "        \"ResNet-50\":       lambda x: keras.applications.resnet.preprocess_input(x, mode=\"caffe\"),\n",
    "        \"ResNet-50V2\":     keras.applications.resnet_v2.preprocess_input,\n",
    "        \"EfficientNetB0\":  keras.applications.efficientnet.preprocess_input,\n",
    "    }\n",
    "    \n",
    "    inputs = keras.layers.Input(input_shape)\n",
    "    x = keras.layers.Rescaling(255.)(inputs) # To parse from [0, 1] to [0, 225]\n",
    "    x = PREPROCESS.get(backbone_name, lambda x: x / 255.0)(x)\n",
    "    \n",
    "    backbone = instantiate_backbone(backbone_name, weights=backbone_weights)\n",
    "    if backbone_weights:\n",
    "        backbone.trainable = False\n",
    "\n",
    "    x = backbone(x)\n",
    "    x = keras.layers.GlobalAveragePooling2D(name=\"global_pool\")(x)\n",
    "    x = keras.layers.Dropout(0.3, name=\"dropout\")(x)\n",
    "\n",
    "    for i, (nodes, use_batch_normalization, use_dropout) in enumerate(model_description[\"head_description\"]):\n",
    "        use_bias = not use_batch_normalization\n",
    "        \n",
    "        x = keras.layers.Dense(nodes, use_bias=use_bias, activation=\"linear\", name=f\"dense_{i}\")(x)\n",
    "\n",
    "        if use_batch_normalization:\n",
    "            x = keras.layers.BatchNormalization(name=f\"batchnorm_{i}\")(x)\n",
    "\n",
    "        x = keras.layers.ReLU(name=f\"relu_{i}\")(x)\n",
    "        \n",
    "        if use_dropout:\n",
    "            x = keras.layers.Dropout(0.3, name=f\"dropout_{i}\")(x)\n",
    "    \n",
    "    output_x = keras.layers.Dense(1, name=\"vel_x\")(x)\n",
    "    output_y = keras.layers.Dense(1, name=\"vel_y\")(x)\n",
    "\n",
    "    outputs = [output_x, output_y]\n",
    "\n",
    "    return keras.models.Model(\n",
    "        inputs=inputs,\n",
    "        outputs=outputs,\n",
    "        name=model_description[\"name\"]\n",
    "    ), backbone"
   ]
  },
  {
   "cell_type": "code",
   "execution_count": 15,
   "id": "d680def0",
   "metadata": {
    "execution": {
     "iopub.execute_input": "2025-06-28T23:56:20.734064Z",
     "iopub.status.busy": "2025-06-28T23:56:20.733797Z",
     "iopub.status.idle": "2025-06-28T23:56:20.739091Z",
     "shell.execute_reply": "2025-06-28T23:56:20.738223Z"
    },
    "papermill": {
     "duration": 0.012719,
     "end_time": "2025-06-28T23:56:20.740546",
     "exception": false,
     "start_time": "2025-06-28T23:56:20.727827",
     "status": "completed"
    },
    "tags": []
   },
   "outputs": [],
   "source": [
    "def unfreeze_weights(backbone: keras.Model, from_layer: str, to_layer: str, unfreeze_bn=False):\n",
    "    unfreeze = False\n",
    "\n",
    "    for layer in backbone.layers:\n",
    "        if layer.name == from_layer:\n",
    "            unfreeze = True\n",
    "        \n",
    "        if unfreeze:\n",
    "            if isinstance(layer, keras.layers.BatchNormalization) and not unfreeze_bn:\n",
    "                layer.trainable = False\n",
    "            else:\n",
    "                layer.trainable = True\n",
    "        \n",
    "        if layer.name == to_layer:\n",
    "            break\n"
   ]
  },
  {
   "cell_type": "code",
   "execution_count": 16,
   "id": "bf053eb6",
   "metadata": {
    "_cell_guid": "8b949554-8397-47b4-8a63-78059a81c28b",
    "_uuid": "4d37cd51-11db-47f5-abc8-e1afaf6094a1",
    "collapsed": false,
    "execution": {
     "iopub.execute_input": "2025-06-28T23:56:20.752189Z",
     "iopub.status.busy": "2025-06-28T23:56:20.751846Z",
     "iopub.status.idle": "2025-06-28T23:56:20.757741Z",
     "shell.execute_reply": "2025-06-28T23:56:20.757092Z"
    },
    "jupyter": {
     "outputs_hidden": false
    },
    "papermill": {
     "duration": 0.013314,
     "end_time": "2025-06-28T23:56:20.759129",
     "exception": false,
     "start_time": "2025-06-28T23:56:20.745815",
     "status": "completed"
    },
    "tags": []
   },
   "outputs": [],
   "source": [
    "def train_model(model: keras.Model, train_dataset: tf.data.Dataset, validation_dataset: tf.data.Dataset):\n",
    "    history_1 = model.fit(\n",
    "        train_dataset,\n",
    "        validation_data=validation_dataset,\n",
    "        verbose=0,\n",
    "        epochs=40,\n",
    "    )\n",
    "\n",
    "    history_2 = model.fit(\n",
    "        train_dataset,\n",
    "        validation_data=validation_dataset,\n",
    "        epochs=200,\n",
    "        verbose=0,\n",
    "        callbacks=[\n",
    "            keras.callbacks.EarlyStopping(\n",
    "                monitor=\"val_loss\",\n",
    "                patience=15,\n",
    "                min_delta=1e-4,\n",
    "                mode=\"min\",\n",
    "                restore_best_weights=True,\n",
    "            ),\n",
    "            keras.callbacks.ReduceLROnPlateau(\n",
    "                monitor=\"val_loss\",\n",
    "                patience=5,\n",
    "                factor=0.5,\n",
    "                min_lr=1e-7,\n",
    "                mode=\"min\"\n",
    "            ),\n",
    "        ],\n",
    "    )\n",
    "\n",
    "    full_history = pd.concat([\n",
    "        pd.DataFrame(history_1.history),\n",
    "        pd.DataFrame(history_2.history),\n",
    "    ]).reset_index(drop=True)\n",
    "\n",
    "    return model, full_history"
   ]
  },
  {
   "cell_type": "markdown",
   "id": "dd0464d4",
   "metadata": {
    "_cell_guid": "fbe70ec3-6d83-475a-a4e5-59147d8d1095",
    "_uuid": "1fb78ded-f93b-4599-b9e2-e74a8f2e2f69",
    "collapsed": false,
    "jupyter": {
     "outputs_hidden": false
    },
    "papermill": {
     "duration": 0.004821,
     "end_time": "2025-06-28T23:56:20.769235",
     "exception": false,
     "start_time": "2025-06-28T23:56:20.764414",
     "status": "completed"
    },
    "tags": []
   },
   "source": [
    "# Results structure"
   ]
  },
  {
   "cell_type": "code",
   "execution_count": 17,
   "id": "19a40cf4",
   "metadata": {
    "_cell_guid": "0a1a1244-cd3e-421d-9e93-13a39069febc",
    "_uuid": "fed5480a-0b2a-4a84-9313-35a77e82c0ff",
    "collapsed": false,
    "execution": {
     "iopub.execute_input": "2025-06-28T23:56:20.780655Z",
     "iopub.status.busy": "2025-06-28T23:56:20.780071Z",
     "iopub.status.idle": "2025-06-28T23:56:20.784444Z",
     "shell.execute_reply": "2025-06-28T23:56:20.783523Z"
    },
    "jupyter": {
     "outputs_hidden": false
    },
    "papermill": {
     "duration": 0.011657,
     "end_time": "2025-06-28T23:56:20.785870",
     "exception": false,
     "start_time": "2025-06-28T23:56:20.774213",
     "status": "completed"
    },
    "tags": []
   },
   "outputs": [],
   "source": [
    "results = {}\n",
    "\n",
    "for model_description in models_descriptions:\n",
    "    model_name = model_description[\"name\"]\n",
    "    \n",
    "    results[model_name] = {}"
   ]
  },
  {
   "cell_type": "markdown",
   "id": "8e88166d",
   "metadata": {
    "_cell_guid": "80e22271-2889-4906-9c77-4cb4d6a68af3",
    "_uuid": "d275ffdf-f5e1-410d-ba75-d689afd2f1ba",
    "collapsed": false,
    "jupyter": {
     "outputs_hidden": false
    },
    "papermill": {
     "duration": 0.004982,
     "end_time": "2025-06-28T23:56:20.796067",
     "exception": false,
     "start_time": "2025-06-28T23:56:20.791085",
     "status": "completed"
    },
    "tags": []
   },
   "source": [
    "# Benchmark loop"
   ]
  },
  {
   "cell_type": "code",
   "execution_count": 18,
   "id": "083d402a",
   "metadata": {
    "_cell_guid": "f40bbf49-f336-4f04-9141-1c1faac5f8b5",
    "_kg_hide-output": true,
    "_uuid": "55ce7c7a-682c-42f0-a270-b2eb2a87d546",
    "collapsed": false,
    "execution": {
     "iopub.execute_input": "2025-06-28T23:56:20.809040Z",
     "iopub.status.busy": "2025-06-28T23:56:20.808342Z",
     "iopub.status.idle": "2025-06-29T04:11:50.957098Z",
     "shell.execute_reply": "2025-06-29T04:11:50.956280Z"
    },
    "jupyter": {
     "outputs_hidden": false
    },
    "papermill": {
     "duration": 15330.156998,
     "end_time": "2025-06-29T04:11:50.958867",
     "exception": false,
     "start_time": "2025-06-28T23:56:20.801869",
     "status": "completed"
    },
    "tags": []
   },
   "outputs": [
    {
     "name": "stderr",
     "output_type": "stream",
     "text": [
      "2025-06-28 23:56:20.852441: E external/local_xla/xla/stream_executor/cuda/cuda_driver.cc:152] failed call to cuInit: INTERNAL: CUDA error: Failed call to cuInit: UNKNOWN ERROR (303)\n"
     ]
    },
    {
     "name": "stdout",
     "output_type": "stream",
     "text": [
      "Training model DroNet-500  for configuration (0.01, 32)\n",
      "\u001b[1m15/15\u001b[0m \u001b[32m━━━━━━━━━━━━━━━━━━━━\u001b[0m\u001b[37m\u001b[0m \u001b[1m8s\u001b[0m 530ms/step - loss: 52.5267 - vel_x_eva: 2.7879e-07 - vel_x_loss: 0.5314 - vel_x_r2_score: -0.1071 - vel_x_rmse: 0.7100 - vel_y_eva: 1.6997e-07 - vel_y_loss: 0.7729 - vel_y_r2_score: -0.0315 - vel_y_rmse: 0.8758\n",
      "Training model DroNet-600  for configuration (0.01, 32)\n",
      "\u001b[1m15/15\u001b[0m \u001b[32m━━━━━━━━━━━━━━━━━━━━\u001b[0m\u001b[37m\u001b[0m \u001b[1m1s\u001b[0m 59ms/step - loss: 4.6623 - vel_x_eva: 2.7644e-07 - vel_x_loss: 0.4968 - vel_x_r2_score: -0.0376 - vel_x_rmse: 0.6872 - vel_y_eva: 1.5413e-07 - vel_y_loss: 0.8915 - vel_y_r2_score: -0.1799 - vel_y_rmse: 0.9381\n",
      "Training model DroNet-500  for configuration (0.01, 64)\n",
      "\u001b[1m8/8\u001b[0m \u001b[32m━━━━━━━━━━━━━━━━━━━━\u001b[0m\u001b[37m\u001b[0m \u001b[1m1s\u001b[0m 158ms/step - loss: 3.6654 - vel_x_eva: 2.4020e-07 - vel_x_loss: 0.4889 - vel_x_r2_score: -0.0203 - vel_x_rmse: 0.6853 - vel_y_eva: 1.6079e-07 - vel_y_loss: 0.7707 - vel_y_r2_score: -0.0282 - vel_y_rmse: 0.8769\n",
      "Training model DroNet-600  for configuration (0.01, 64)\n",
      "\u001b[1m8/8\u001b[0m \u001b[32m━━━━━━━━━━━━━━━━━━━━\u001b[0m\u001b[37m\u001b[0m \u001b[1m1s\u001b[0m 121ms/step - loss: 444.0986 - vel_x_eva: 1.9381e-07 - vel_x_loss: 0.5530 - vel_x_r2_score: -0.1587 - vel_x_rmse: 0.7294 - vel_y_eva: 1.7527e-07 - vel_y_loss: 0.7656 - vel_y_r2_score: -0.0216 - vel_y_rmse: 0.8741\n",
      "Training model DroNet-500  for configuration (0.01, 128)\n",
      "\u001b[1m4/4\u001b[0m \u001b[32m━━━━━━━━━━━━━━━━━━━━\u001b[0m\u001b[37m\u001b[0m \u001b[1m1s\u001b[0m 241ms/step - loss: 1064.3779 - vel_x_eva: 2.1855e-07 - vel_x_loss: 0.4824 - vel_x_r2_score: -0.0274 - vel_x_rmse: 0.6835 - vel_y_eva: 1.2318e-07 - vel_y_loss: 0.7553 - vel_y_r2_score: -0.0033 - vel_y_rmse: 0.8690\n",
      "Training model DroNet-600  for configuration (0.01, 128)\n",
      "\u001b[1m4/4\u001b[0m \u001b[32m━━━━━━━━━━━━━━━━━━━━\u001b[0m\u001b[37m\u001b[0m \u001b[1m1s\u001b[0m 239ms/step - loss: 1025.8495 - vel_x_eva: 2.1855e-07 - vel_x_loss: 0.4823 - vel_x_r2_score: -0.0273 - vel_x_rmse: 0.6835 - vel_y_eva: 1.2914e-07 - vel_y_loss: 0.7559 - vel_y_r2_score: -0.0041 - vel_y_rmse: 0.8693\n",
      "Training model DroNet-500  for configuration (0.001, 32)\n",
      "\u001b[1m15/15\u001b[0m \u001b[32m━━━━━━━━━━━━━━━━━━━━\u001b[0m\u001b[37m\u001b[0m \u001b[1m1s\u001b[0m 60ms/step - loss: 1.2976 - vel_x_eva: 2.8526e-07 - vel_x_loss: 0.4945 - vel_x_r2_score: -0.0403 - vel_x_rmse: 0.6864 - vel_y_eva: 1.9565e-07 - vel_y_loss: 0.7867 - vel_y_r2_score: -0.0470 - vel_y_rmse: 0.8830\n",
      "Training model DroNet-600  for configuration (0.001, 32)\n",
      "\u001b[1m15/15\u001b[0m \u001b[32m━━━━━━━━━━━━━━━━━━━━\u001b[0m\u001b[37m\u001b[0m \u001b[1m1s\u001b[0m 62ms/step - loss: 1.2644 - vel_x_eva: 3.0166e-07 - vel_x_loss: 0.4990 - vel_x_r2_score: -0.0399 - vel_x_rmse: 0.6884 - vel_y_eva: 1.4748e-07 - vel_y_loss: 0.7671 - vel_y_r2_score: -0.0283 - vel_y_rmse: 0.8734\n",
      "Training model DroNet-500  for configuration (0.001, 64)\n",
      "\u001b[1m8/8\u001b[0m \u001b[32m━━━━━━━━━━━━━━━━━━━━\u001b[0m\u001b[37m\u001b[0m \u001b[1m1s\u001b[0m 120ms/step - loss: 1.2559 - vel_x_eva: 2.5357e-07 - vel_x_loss: 0.5005 - vel_x_r2_score: -0.0409 - vel_x_rmse: 0.6930 - vel_y_eva: 1.9968e-07 - vel_y_loss: 0.7626 - vel_y_r2_score: -0.0177 - vel_y_rmse: 0.8724\n",
      "Training model DroNet-600  for configuration (0.001, 64)\n",
      "\u001b[1m8/8\u001b[0m \u001b[32m━━━━━━━━━━━━━━━━━━━━\u001b[0m\u001b[37m\u001b[0m \u001b[1m1s\u001b[0m 125ms/step - loss: 1.2525 - vel_x_eva: 2.3612e-07 - vel_x_loss: 0.4930 - vel_x_r2_score: -0.0262 - vel_x_rmse: 0.6879 - vel_y_eva: 1.9299e-07 - vel_y_loss: 0.7613 - vel_y_r2_score: -0.0161 - vel_y_rmse: 0.8717\n",
      "Training model DroNet-500  for configuration (0.001, 128)\n",
      "\u001b[1m4/4\u001b[0m \u001b[32m━━━━━━━━━━━━━━━━━━━━\u001b[0m\u001b[37m\u001b[0m \u001b[1m1s\u001b[0m 247ms/step - loss: 1.2509 - vel_x_eva: 2.1855e-07 - vel_x_loss: 0.4767 - vel_x_r2_score: -0.0168 - vel_x_rmse: 0.6797 - vel_y_eva: 1.2914e-07 - vel_y_loss: 0.7573 - vel_y_r2_score: -0.0057 - vel_y_rmse: 0.8701\n",
      "Training model DroNet-600  for configuration (0.001, 128)\n",
      "\u001b[1m4/4\u001b[0m \u001b[32m━━━━━━━━━━━━━━━━━━━━\u001b[0m\u001b[37m\u001b[0m \u001b[1m1s\u001b[0m 232ms/step - loss: 1.3752 - vel_x_eva: -4.3481e-04 - vel_x_loss: 0.4825 - vel_x_r2_score: -0.0276 - vel_x_rmse: 0.6836 - vel_y_eva: 0.0060 - vel_y_loss: 0.7544 - vel_y_r2_score: -0.0019 - vel_y_rmse: 0.8684\n",
      "Training model DroNet-500  for configuration (0.0001, 32)\n",
      "\u001b[1m15/15\u001b[0m \u001b[32m━━━━━━━━━━━━━━━━━━━━\u001b[0m\u001b[37m\u001b[0m \u001b[1m1s\u001b[0m 63ms/step - loss: 1.2939 - vel_x_eva: -6.2181e-04 - vel_x_loss: 0.5122 - vel_x_r2_score: -0.0641 - vel_x_rmse: 0.6970 - vel_y_eva: 0.1248 - vel_y_loss: 0.7513 - vel_y_r2_score: 0.0078 - vel_y_rmse: 0.8581\n",
      "Training model DroNet-600  for configuration (0.0001, 32)\n",
      "\u001b[1m15/15\u001b[0m \u001b[32m━━━━━━━━━━━━━━━━━━━━\u001b[0m\u001b[37m\u001b[0m \u001b[1m1s\u001b[0m 62ms/step - loss: 1.3301 - vel_x_eva: -7.3565e-04 - vel_x_loss: 0.4958 - vel_x_r2_score: -0.0387 - vel_x_rmse: 0.6869 - vel_y_eva: 0.0943 - vel_y_loss: 0.8012 - vel_y_r2_score: -0.0593 - vel_y_rmse: 0.8870\n",
      "Training model DroNet-500  for configuration (0.0001, 64)\n",
      "\u001b[1m8/8\u001b[0m \u001b[32m━━━━━━━━━━━━━━━━━━━━\u001b[0m\u001b[37m\u001b[0m \u001b[1m1s\u001b[0m 120ms/step - loss: 1.1859 - vel_x_eva: -3.7399e-05 - vel_x_loss: 0.4944 - vel_x_r2_score: -0.0292 - vel_x_rmse: 0.6889 - vel_y_eva: 0.1427 - vel_y_loss: 0.6538 - vel_y_r2_score: 0.1236 - vel_y_rmse: 0.8078\n",
      "Training model DroNet-600  for configuration (0.0001, 64)\n",
      "\u001b[1m8/8\u001b[0m \u001b[32m━━━━━━━━━━━━━━━━━━━━\u001b[0m\u001b[37m\u001b[0m \u001b[1m1s\u001b[0m 126ms/step - loss: 1.1909 - vel_x_eva: 0.0123 - vel_x_loss: 0.5054 - vel_x_r2_score: -0.0540 - vel_x_rmse: 0.6967 - vel_y_eva: 0.1788 - vel_y_loss: 0.6431 - vel_y_r2_score: 0.1444 - vel_y_rmse: 0.7979\n",
      "Training model DroNet-500  for configuration (0.0001, 128)\n",
      "\u001b[1m4/4\u001b[0m \u001b[32m━━━━━━━━━━━━━━━━━━━━\u001b[0m\u001b[37m\u001b[0m \u001b[1m1s\u001b[0m 254ms/step - loss: 1.0077 - vel_x_eva: 0.2948 - vel_x_loss: 0.3361 - vel_x_r2_score: 0.2627 - vel_x_rmse: 0.5735 - vel_y_eva: 0.2602 - vel_y_loss: 0.5597 - vel_y_r2_score: 0.2580 - vel_y_rmse: 0.7475\n",
      "Training model DroNet-600  for configuration (0.0001, 128)\n",
      "\u001b[1m4/4\u001b[0m \u001b[32m━━━━━━━━━━━━━━━━━━━━\u001b[0m\u001b[37m\u001b[0m \u001b[1m1s\u001b[0m 302ms/step - loss: 0.9182 - vel_x_eva: 0.2846 - vel_x_loss: 0.3146 - vel_x_r2_score: 0.2824 - vel_x_rmse: 0.5581 - vel_y_eva: 0.3399 - vel_y_loss: 0.5194 - vel_y_r2_score: 0.3116 - vel_y_rmse: 0.7197\n"
     ]
    }
   ],
   "source": [
    "samples_dataframe = load_samples_dataframe(\"/kaggle/input/marketplace-navigation-dataset/dataset\")\n",
    "# samples_dataframe = samples_dataframe.sample(frac=0.05)\n",
    "\n",
    "round_number = 3\n",
    "seed = round_number\n",
    "\n",
    "datasets = {}\n",
    "\n",
    "for model_description in models_descriptions:\n",
    "    dataset_key = tuple(model_description[\"input\"][\"shape\"])\n",
    "    dataset_key = model_description[\"input\"][\"grayscale\"], dataset_key\n",
    "    \n",
    "    if not dataset_key in datasets:\n",
    "        datasets[dataset_key] = build_train_val_test_datasets(\n",
    "            samples_dataframe,\n",
    "            model_description[\"input\"],\n",
    "            seed\n",
    "        )\n",
    "        \n",
    "for configuration in configurations:\n",
    "    for model_description in models_descriptions:\n",
    "        print(\"Training model\", model_description[\"name\"], \" for configuration\", configuration)\n",
    "        \n",
    "        learning_rate, batch_size = configuration\n",
    "        dataset_key = tuple(model_description[\"input\"][\"shape\"])\n",
    "        dataset_key = model_description[\"input\"][\"grayscale\"], dataset_key\n",
    "\n",
    "        train_ds = datasets[dataset_key][\"train\"]\n",
    "        val_ds   = datasets[dataset_key][\"val\"]\n",
    "        test_ds  = datasets[dataset_key][\"test\"]\n",
    "        \n",
    "        train_ds = train_ds.batch(batch_size).prefetch(tf.data.AUTOTUNE)\n",
    "        val_ds   = val_ds.batch(batch_size).prefetch(tf.data.AUTOTUNE)\n",
    "        test_ds  = test_ds.batch(batch_size).prefetch(tf.data.AUTOTUNE)\n",
    "\n",
    "        model, backbone = build_model(model_description)\n",
    "        \n",
    "        model.compile(\n",
    "            loss={\n",
    "                \"vel_x\": \"mean_squared_error\",\n",
    "                \"vel_y\": \"mean_squared_error\",\n",
    "            },\n",
    "            optimizer=keras.optimizers.Adam(learning_rate=learning_rate),\n",
    "            metrics={\n",
    "                \"vel_x\": [rmse, eva, r2_score],\n",
    "                \"vel_y\": [rmse, eva, r2_score],\n",
    "            },\n",
    "        )\n",
    "        model, history_1 = train_model(model, train_ds, val_ds)\n",
    "\n",
    "        unfreeze_weights(backbone, \"add_2\", \"add_3\")\n",
    "        \n",
    "        model.compile(\n",
    "            loss={\n",
    "                \"vel_x\": \"mean_squared_error\",\n",
    "                \"vel_y\": \"mean_squared_error\",\n",
    "            },\n",
    "            optimizer=keras.optimizers.Adam(learning_rate=learning_rate / 1e-3),\n",
    "            metrics={\n",
    "                \"vel_x\": [rmse, eva, r2_score],\n",
    "                \"vel_y\": [rmse, eva, r2_score],\n",
    "            },\n",
    "        )\n",
    "        model, history_2 = train_model(model, train_ds, val_ds)\n",
    "\n",
    "        evaluation_metrics = model.evaluate(test_ds, return_dict=True)\n",
    "        \n",
    "        results[model_description[\"name\"]][configuration] = evaluation_metrics\n",
    "\n",
    "        file_name = f\"r{round_number}_{model.name}_{learning_rate:.0e}_{batch_size}\"\n",
    "\n",
    "        model.save(f\"{file_name}.keras\")\n",
    "        \n",
    "        pd.concat([\n",
    "            history_1,\n",
    "            history_2,\n",
    "        ]).reset_index(drop=True).to_csv(f\"{file_name}.csv\")\n",
    "        \n",
    "        with open(\"results.pkl\", \"wb\") as results_file:\n",
    "            pickle.dump(results, results_file)"
   ]
  }
 ],
 "metadata": {
  "kaggle": {
   "accelerator": "none",
   "dataSources": [
    {
     "datasetId": 6187980,
     "sourceId": 10061785,
     "sourceType": "datasetVersion"
    }
   ],
   "dockerImageVersionId": 31011,
   "isGpuEnabled": false,
   "isInternetEnabled": true,
   "language": "python",
   "sourceType": "notebook"
  },
  "kernelspec": {
   "display_name": "Python 3",
   "language": "python",
   "name": "python3"
  },
  "language_info": {
   "codemirror_mode": {
    "name": "ipython",
    "version": 3
   },
   "file_extension": ".py",
   "mimetype": "text/x-python",
   "name": "python",
   "nbconvert_exporter": "python",
   "pygments_lexer": "ipython3",
   "version": "3.11.11"
  },
  "papermill": {
   "default_parameters": {},
   "duration": 15357.404661,
   "end_time": "2025-06-29T04:11:54.737586",
   "environment_variables": {},
   "exception": null,
   "input_path": "__notebook__.ipynb",
   "output_path": "__notebook__.ipynb",
   "parameters": {},
   "start_time": "2025-06-28T23:55:57.332925",
   "version": "2.6.0"
  }
 },
 "nbformat": 4,
 "nbformat_minor": 5
}
