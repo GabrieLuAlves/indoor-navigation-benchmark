{
 "cells": [
  {
   "cell_type": "code",
   "execution_count": 1,
   "id": "032ba2ff",
   "metadata": {
    "_cell_guid": "31cda6c9-1a82-4124-b805-116202195863",
    "_uuid": "80eb9cab-e2af-4b59-bb1d-c9da376c23fb",
    "collapsed": false,
    "execution": {
     "iopub.execute_input": "2025-07-02T08:17:59.691703Z",
     "iopub.status.busy": "2025-07-02T08:17:59.691403Z",
     "iopub.status.idle": "2025-07-02T08:18:14.183707Z",
     "shell.execute_reply": "2025-07-02T08:18:14.183033Z"
    },
    "jupyter": {
     "outputs_hidden": false
    },
    "papermill": {
     "duration": 14.49969,
     "end_time": "2025-07-02T08:18:14.185061",
     "exception": false,
     "start_time": "2025-07-02T08:17:59.685371",
     "status": "completed"
    },
    "tags": []
   },
   "outputs": [
    {
     "name": "stderr",
     "output_type": "stream",
     "text": [
      "2025-07-02 08:18:03.691636: E external/local_xla/xla/stream_executor/cuda/cuda_fft.cc:477] Unable to register cuFFT factory: Attempting to register factory for plugin cuFFT when one has already been registered\n",
      "WARNING: All log messages before absl::InitializeLog() is called are written to STDERR\n",
      "E0000 00:00:1751444283.884428      19 cuda_dnn.cc:8310] Unable to register cuDNN factory: Attempting to register factory for plugin cuDNN when one has already been registered\n",
      "E0000 00:00:1751444283.940473      19 cuda_blas.cc:1418] Unable to register cuBLAS factory: Attempting to register factory for plugin cuBLAS when one has already been registered\n"
     ]
    }
   ],
   "source": [
    "import numpy as np\n",
    "import pandas as pd\n",
    "import os\n",
    "import shutil\n",
    "import pickle\n",
    "import matplotlib.pyplot as plt\n",
    "from PIL import Image\n",
    "\n",
    "from sklearn.model_selection import train_test_split\n",
    "\n",
    "os.environ[\"KERAS_BACKEND\"] = \"tensorflow\"\n",
    "\n",
    "import tensorflow as tf\n",
    "\n",
    "import keras\n",
    "import keras.backend as K\n",
    "\n",
    "from tqdm.notebook import tqdm\n",
    "\n",
    "from concurrent.futures import ThreadPoolExecutor\n",
    "\n",
    "%matplotlib inline"
   ]
  },
  {
   "cell_type": "markdown",
   "id": "dd33a4ad",
   "metadata": {
    "_cell_guid": "eb6ae085-ac99-47ec-a0a2-5683f602486e",
    "_uuid": "ff3814a7-d691-41bc-b0f1-6da33c4a9ac2",
    "collapsed": false,
    "jupyter": {
     "outputs_hidden": false
    },
    "papermill": {
     "duration": 0.003858,
     "end_time": "2025-07-02T08:18:14.193532",
     "exception": false,
     "start_time": "2025-07-02T08:18:14.189674",
     "status": "completed"
    },
    "tags": []
   },
   "source": [
    "# 4. Regression metrics"
   ]
  },
  {
   "cell_type": "code",
   "execution_count": 2,
   "id": "da8da902",
   "metadata": {
    "_cell_guid": "2ff167d9-a16d-45f2-8326-5ddacc1e0035",
    "_uuid": "dbc1d7e6-369e-474e-867d-c88fc75a5eec",
    "collapsed": false,
    "execution": {
     "iopub.execute_input": "2025-07-02T08:18:14.203157Z",
     "iopub.status.busy": "2025-07-02T08:18:14.202358Z",
     "iopub.status.idle": "2025-07-02T08:18:14.210008Z",
     "shell.execute_reply": "2025-07-02T08:18:14.209513Z"
    },
    "jupyter": {
     "outputs_hidden": false
    },
    "papermill": {
     "duration": 0.013473,
     "end_time": "2025-07-02T08:18:14.211002",
     "exception": false,
     "start_time": "2025-07-02T08:18:14.197529",
     "status": "completed"
    },
    "tags": []
   },
   "outputs": [],
   "source": [
    "@tf.function\n",
    "def rmse(y_true, y_pred):\n",
    "    y_true = tf.cast(y_true, tf.float32)\n",
    "    y_pred = tf.cast(y_pred, tf.float32)\n",
    "    \n",
    "    y_true = tf.reshape(y_true, [-1, 1])\n",
    "    y_pred = tf.reshape(y_pred, [-1, 1])\n",
    "    \n",
    "    return tf.sqrt(tf.reduce_mean(tf.square(y_true - y_pred)))\n",
    "\n",
    "@tf.function\n",
    "def eva(y_true, y_pred):\n",
    "    y_true = tf.cast(y_true, tf.float32)\n",
    "    y_pred = tf.cast(y_pred, tf.float32)\n",
    "    \n",
    "    y_true = tf.reshape(y_true, [-1, 1])\n",
    "    y_pred = tf.reshape(y_pred, [-1, 1])\n",
    "\n",
    "    numerator = tf.math.reduce_variance(y_true - y_pred)\n",
    "    denominator = tf.math.reduce_variance(y_true) + tf.keras.backend.epsilon()\n",
    "    \n",
    "    return 1.0 - numerator / denominator\n",
    "\n",
    "@tf.function\n",
    "def r2_score(y_true, y_pred):\n",
    "    y_true = tf.cast(y_true, tf.float32)\n",
    "    y_pred = tf.cast(y_pred, tf.float32)\n",
    "    \n",
    "    y_true = tf.reshape(y_true, [-1, 1])\n",
    "    y_pred = tf.reshape(y_pred, [-1, 1])\n",
    "    \n",
    "    ss_res = tf.reduce_sum(tf.square(y_true - y_pred))\n",
    "    ss_tot = tf.reduce_sum(tf.square(y_true - tf.reduce_mean(y_true)))\n",
    "    \n",
    "    return 1 - (ss_res / (ss_tot + K.epsilon()))"
   ]
  },
  {
   "cell_type": "markdown",
   "id": "ae2c9c35",
   "metadata": {
    "_cell_guid": "47399b8c-5071-4124-9cbb-0b091cae6af5",
    "_uuid": "d2959917-ade9-410a-81b6-ea0d9f1efa35",
    "collapsed": false,
    "jupyter": {
     "outputs_hidden": false
    },
    "papermill": {
     "duration": 0.003736,
     "end_time": "2025-07-02T08:18:14.218732",
     "exception": false,
     "start_time": "2025-07-02T08:18:14.214996",
     "status": "completed"
    },
    "tags": []
   },
   "source": [
    "# 4. ResNet 8/18/34 construction"
   ]
  },
  {
   "cell_type": "code",
   "execution_count": 3,
   "id": "ba48571e",
   "metadata": {
    "_cell_guid": "60c3f6be-a0f0-44b2-9ace-a203ae45387d",
    "_uuid": "6a63061c-9d12-4bf9-ad97-605fa393efe5",
    "collapsed": false,
    "execution": {
     "iopub.execute_input": "2025-07-02T08:18:14.227337Z",
     "iopub.status.busy": "2025-07-02T08:18:14.226949Z",
     "iopub.status.idle": "2025-07-02T08:18:14.231630Z",
     "shell.execute_reply": "2025-07-02T08:18:14.230966Z"
    },
    "jupyter": {
     "outputs_hidden": false
    },
    "papermill": {
     "duration": 0.010131,
     "end_time": "2025-07-02T08:18:14.232756",
     "exception": false,
     "start_time": "2025-07-02T08:18:14.222625",
     "status": "completed"
    },
    "tags": []
   },
   "outputs": [],
   "source": [
    "def resnet_block(x, filters, stride=1, use_projection=False):\n",
    "    shortcut = x\n",
    "\n",
    "    x = keras.layers.Conv2D(filters, 3, strides=stride, padding='same', use_bias=False)(x)\n",
    "    x = keras.layers.BatchNormalization()(x)\n",
    "    x = keras.layers.ReLU()(x)\n",
    "\n",
    "    x = keras.layers.Conv2D(filters, 3, strides=1, padding='same', use_bias=False)(x)\n",
    "    x = keras.layers.BatchNormalization()(x)\n",
    "\n",
    "    if use_projection:\n",
    "        shortcut = keras.layers.Conv2D(filters, 1, strides=stride, use_bias=False)(shortcut)\n",
    "        shortcut = keras.layers.BatchNormalization()(shortcut)\n",
    "\n",
    "    x = keras.layers.Add()([x, shortcut])\n",
    "    x = keras.layers.ReLU()(x)\n",
    "    return x"
   ]
  },
  {
   "cell_type": "code",
   "execution_count": 4,
   "id": "39aa5c29",
   "metadata": {
    "_cell_guid": "36e1a4e9-a964-438b-82f8-e1f6b6a13fb7",
    "_uuid": "70aff8e4-29bd-4438-a3c0-fbfa0a441b21",
    "collapsed": false,
    "execution": {
     "iopub.execute_input": "2025-07-02T08:18:14.241607Z",
     "iopub.status.busy": "2025-07-02T08:18:14.241100Z",
     "iopub.status.idle": "2025-07-02T08:18:14.245675Z",
     "shell.execute_reply": "2025-07-02T08:18:14.245160Z"
    },
    "jupyter": {
     "outputs_hidden": false
    },
    "papermill": {
     "duration": 0.009911,
     "end_time": "2025-07-02T08:18:14.246644",
     "exception": false,
     "start_time": "2025-07-02T08:18:14.236733",
     "status": "completed"
    },
    "tags": []
   },
   "outputs": [],
   "source": [
    "def ResNet8_DroNet(input_shape=(200, 200, 1), dropout_rate=0.3):\n",
    "    inputs = keras.Input(shape=input_shape)\n",
    "\n",
    "    x = keras.layers.Conv2D(32, 5, strides=2, padding='same', use_bias=False)(inputs)\n",
    "    x = keras.layers.BatchNormalization()(x)\n",
    "    x = keras.layers.ReLU()(x)\n",
    "\n",
    "    # Residual Blocks\n",
    "    x = resnet_block(x, 32)\n",
    "    x = resnet_block(x, 32)\n",
    "\n",
    "    x = resnet_block(x, 64, stride=2, use_projection=True)\n",
    "    x = resnet_block(x, 64)\n",
    "\n",
    "    x = resnet_block(x, 128, stride=2, use_projection=True)\n",
    "    x = resnet_block(x, 128)\n",
    "\n",
    "    return keras.models.Model(inputs, x, name=\"ResNet8_DroNet\")"
   ]
  },
  {
   "cell_type": "code",
   "execution_count": 5,
   "id": "01627343",
   "metadata": {
    "_cell_guid": "eb601a36-0827-4cd8-900a-1421fbb33180",
    "_uuid": "fd96d071-c11b-406b-8d54-16fdbe7920fa",
    "collapsed": false,
    "execution": {
     "iopub.execute_input": "2025-07-02T08:18:14.255197Z",
     "iopub.status.busy": "2025-07-02T08:18:14.254828Z",
     "iopub.status.idle": "2025-07-02T08:18:14.259806Z",
     "shell.execute_reply": "2025-07-02T08:18:14.259160Z"
    },
    "jupyter": {
     "outputs_hidden": false
    },
    "papermill": {
     "duration": 0.010409,
     "end_time": "2025-07-02T08:18:14.260919",
     "exception": false,
     "start_time": "2025-07-02T08:18:14.250510",
     "status": "completed"
    },
    "tags": []
   },
   "outputs": [],
   "source": [
    "def ResNet18(input_shape=(224, 224, 3)):\n",
    "    inputs = keras.Input(shape=input_shape)\n",
    "    \n",
    "    x = keras.layers.Conv2D(64, 7, strides=2, padding='same', use_bias=False)(inputs)\n",
    "    x = keras.layers.BatchNormalization()(x)\n",
    "    x = keras.layers.ReLU()(x)\n",
    "    x = keras.layers.MaxPooling2D(3, strides=2, padding='same')(x)\n",
    "\n",
    "    # Conv2_x\n",
    "    x = resnet_block(x, 64)\n",
    "    x = resnet_block(x, 64)\n",
    "\n",
    "    # Conv3_x\n",
    "    x = resnet_block(x, 128, stride=2, use_projection=True)\n",
    "    x = resnet_block(x, 128)\n",
    "\n",
    "    # Conv4_x\n",
    "    x = resnet_block(x, 256, stride=2, use_projection=True)\n",
    "    x = resnet_block(x, 256)\n",
    "\n",
    "    # Conv5_x\n",
    "    x = resnet_block(x, 512, stride=2, use_projection=True)\n",
    "    x = resnet_block(x, 512)\n",
    "\n",
    "    return keras.models.Model(inputs, x, name=\"ResNet18_backbone\")"
   ]
  },
  {
   "cell_type": "code",
   "execution_count": 6,
   "id": "27256451",
   "metadata": {
    "_cell_guid": "bf96671e-1e5a-4a52-8cda-acec12713328",
    "_uuid": "c7359e0e-6fd4-4e19-a903-f746ea3b2031",
    "collapsed": false,
    "execution": {
     "iopub.execute_input": "2025-07-02T08:18:14.269380Z",
     "iopub.status.busy": "2025-07-02T08:18:14.269059Z",
     "iopub.status.idle": "2025-07-02T08:18:14.273994Z",
     "shell.execute_reply": "2025-07-02T08:18:14.273534Z"
    },
    "jupyter": {
     "outputs_hidden": false
    },
    "papermill": {
     "duration": 0.010186,
     "end_time": "2025-07-02T08:18:14.274992",
     "exception": false,
     "start_time": "2025-07-02T08:18:14.264806",
     "status": "completed"
    },
    "tags": []
   },
   "outputs": [],
   "source": [
    "def ResNet34(input_shape=(224, 224, 3)):\n",
    "    inputs = keras.Input(shape=input_shape)\n",
    "    \n",
    "    x = keras.layers.Conv2D(64, 7, strides=2, padding='same', use_bias=False)(inputs)\n",
    "    x = keras.layers.BatchNormalization()(x)\n",
    "    x = keras.layers.ReLU()(x)\n",
    "    x = keras.layers.MaxPooling2D(3, strides=2, padding='same')(x)\n",
    "\n",
    "    # Conv2_x (3 blocks)\n",
    "    for _ in range(3):\n",
    "        x = resnet_block(x, 64)\n",
    "\n",
    "    # Conv3_x (4 blocks)\n",
    "    x = resnet_block(x, 128, stride=2, use_projection=True)\n",
    "    for _ in range(3):\n",
    "        x = resnet_block(x, 128)\n",
    "\n",
    "    # Conv4_x (6 blocks)\n",
    "    x = resnet_block(x, 256, stride=2, use_projection=True)\n",
    "    for _ in range(5):\n",
    "        x = resnet_block(x, 256)\n",
    "\n",
    "    # Conv5_x (3 blocks)\n",
    "    x = resnet_block(x, 512, stride=2, use_projection=True)\n",
    "    for _ in range(2):\n",
    "        x = resnet_block(x, 512)\n",
    "\n",
    "    return keras.models.Model(inputs, x, name=\"ResNet34_backbone\")"
   ]
  },
  {
   "cell_type": "markdown",
   "id": "4a97a1a4",
   "metadata": {
    "_cell_guid": "38dff14a-d86f-4e88-b050-acfe49c6a8ca",
    "_uuid": "e8131d1c-9673-4df0-8bdc-4056bff54c3d",
    "collapsed": false,
    "jupyter": {
     "outputs_hidden": false
    },
    "papermill": {
     "duration": 0.003694,
     "end_time": "2025-07-02T08:18:14.282619",
     "exception": false,
     "start_time": "2025-07-02T08:18:14.278925",
     "status": "completed"
    },
    "tags": []
   },
   "source": [
    "# Grid search configurations"
   ]
  },
  {
   "cell_type": "code",
   "execution_count": 7,
   "id": "e42eccf7",
   "metadata": {
    "execution": {
     "iopub.execute_input": "2025-07-02T08:18:14.291174Z",
     "iopub.status.busy": "2025-07-02T08:18:14.290574Z",
     "iopub.status.idle": "2025-07-02T08:18:14.293794Z",
     "shell.execute_reply": "2025-07-02T08:18:14.293283Z"
    },
    "papermill": {
     "duration": 0.008456,
     "end_time": "2025-07-02T08:18:14.294838",
     "exception": false,
     "start_time": "2025-07-02T08:18:14.286382",
     "status": "completed"
    },
    "tags": []
   },
   "outputs": [],
   "source": [
    "from itertools import product\n",
    "\n",
    "configurations = list(product([0.0001, 0.001, 0.01], [64]))"
   ]
  },
  {
   "cell_type": "markdown",
   "id": "87515168",
   "metadata": {
    "_cell_guid": "39de600a-4622-43e0-8762-5bbc77aed4e1",
    "_uuid": "49029c5d-396b-406c-b077-8ba68255fd92",
    "collapsed": false,
    "jupyter": {
     "outputs_hidden": false
    },
    "papermill": {
     "duration": 0.003598,
     "end_time": "2025-07-02T08:18:14.302574",
     "exception": false,
     "start_time": "2025-07-02T08:18:14.298976",
     "status": "completed"
    },
    "tags": []
   },
   "source": [
    "# Models descriptions"
   ]
  },
  {
   "cell_type": "code",
   "execution_count": 8,
   "id": "5bd11ec5",
   "metadata": {
    "_cell_guid": "6ac38ad7-4355-4733-8478-1c68d1231670",
    "_uuid": "82faa4c8-711e-4663-bc08-d36895955d3f",
    "collapsed": false,
    "execution": {
     "iopub.execute_input": "2025-07-02T08:18:14.310887Z",
     "iopub.status.busy": "2025-07-02T08:18:14.310670Z",
     "iopub.status.idle": "2025-07-02T08:18:14.318655Z",
     "shell.execute_reply": "2025-07-02T08:18:14.317993Z"
    },
    "jupyter": {
     "outputs_hidden": false
    },
    "papermill": {
     "duration": 0.013483,
     "end_time": "2025-07-02T08:18:14.319780",
     "exception": false,
     "start_time": "2025-07-02T08:18:14.306297",
     "status": "completed"
    },
    "tags": []
   },
   "outputs": [],
   "source": [
    "models_descriptions = [\n",
    "    {\n",
    "        \"name\": \"ResNet-8-base\",\n",
    "        \"backbone\": {\n",
    "            \"name\": \"ResNet-8\"\n",
    "        },\n",
    "        \"input\": {\n",
    "            \"shape\": [200, 200, 1],\n",
    "            \"grayscale\": True,\n",
    "        }\n",
    "    },\n",
    "    {\n",
    "        \"name\": \"ResNet-8-600A\",\n",
    "        \"backbone\": {\n",
    "            \"name\": \"ResNet-8\"\n",
    "        },\n",
    "        \"input\": {\n",
    "            \"shape\": [200, 200, 1],\n",
    "            \"grayscale\": True,\n",
    "        },\n",
    "        \"head_description\": [\n",
    "            (64, False, None),\n",
    "        ],\n",
    "    },\n",
    "    {\n",
    "        \"name\": \"ResNet-8-600B\",\n",
    "        \"backbone\": {\n",
    "            \"name\": \"ResNet-8\"\n",
    "        },\n",
    "        \"input\": {\n",
    "            \"shape\": [200, 200, 1],\n",
    "            \"grayscale\": True,\n",
    "        },\n",
    "        \"head_description\": [\n",
    "            (64, True, None),\n",
    "        ],\n",
    "    },\n",
    "    {\n",
    "        \"name\": \"ResNet-18\",\n",
    "        \"backbone\": {\n",
    "            \"name\": \"ResNet-18\",\n",
    "        },\n",
    "        \"input\": {\n",
    "            \"shape\": [224, 224, 3],\n",
    "        },\n",
    "    },\n",
    "    {\n",
    "        \"name\": \"ResNet-34\",\n",
    "        \"backbone\": {\n",
    "            \"name\": \"ResNet-34\",\n",
    "        },\n",
    "        \"input\": {\n",
    "            \"shape\": [224, 224, 3],\n",
    "        },\n",
    "    },\n",
    "    {\n",
    "        \"name\": \"ResNet-50\",\n",
    "        \"backbone\": {\n",
    "            \"name\": \"ResNet-50\",\n",
    "        },\n",
    "        \"input\": {\n",
    "            \"shape\": [224, 224, 3],\n",
    "        },\n",
    "    },\n",
    "    {\n",
    "        \"name\": \"ResNet-50V2\",\n",
    "        \"backbone\": {\n",
    "            \"name\": \"ResNet-50V2\",\n",
    "        },\n",
    "        \"input\": {\n",
    "            \"shape\": [224, 224, 3],\n",
    "        },\n",
    "    },\n",
    "    {\n",
    "        \"name\": \"MobileNet\",\n",
    "        \"backbone\": {\n",
    "            \"name\": \"MobileNet\",\n",
    "        },\n",
    "        \"input\": {\n",
    "            \"shape\": [224, 224, 3],\n",
    "        },\n",
    "    },\n",
    "    {\n",
    "        \"name\": \"EfficientNetB0\",\n",
    "        \"backbone\": {\n",
    "            \"name\": \"EfficientNetB0\",\n",
    "        },\n",
    "        \"input\": {\n",
    "            \"shape\": [224, 224, 3],\n",
    "        },\n",
    "    }\n",
    "]\n",
    "\n",
    "# Format verification\n",
    "for model_description in models_descriptions:\n",
    "    if \"backbone\" not in model_description:\n",
    "        raise KeyError(\"backbone not specified at:\\n\" + str(model_description))\n",
    "\n",
    "    if \"name\" not in model_description[\"backbone\"]:\n",
    "        raise KeyError(\"backbone.name not specified at:\\n\" + str(model_description))\n",
    "\n",
    "    if \"weights\" not in model_description[\"backbone\"]:\n",
    "        model_description[\"backbone\"][\"weights\"] = None\n",
    "    \n",
    "    if \"name\" not in model_description:\n",
    "        model_description[\"name\"] = model_description[\"backbone\"][\"name\"]\n",
    "\n",
    "    if \"head_description\" not in model_description:\n",
    "        model_description[\"head_description\"] = []\n",
    "\n",
    "    if \"weights\" not in model_description:\n",
    "        model_description[\"weights\"] = None\n",
    "\n",
    "    if \"input\" not in model_description:\n",
    "        raise KeyError(\"input not specified at:\\n\" + str(model_description))\n",
    "\n",
    "    if \"shape\" not in model_description[\"input\"]:\n",
    "        raise KeyError(\"input.shape not specified at:\\n\" + str(model_description))\n",
    "    \n",
    "    if \"grayscale\" not in model_description[\"input\"]:\n",
    "        model_description[\"input\"][\"grayscale\"] = False"
   ]
  },
  {
   "cell_type": "markdown",
   "id": "5fac8cc8",
   "metadata": {
    "papermill": {
     "duration": 0.003648,
     "end_time": "2025-07-02T08:18:14.327338",
     "exception": false,
     "start_time": "2025-07-02T08:18:14.323690",
     "status": "completed"
    },
    "tags": []
   },
   "source": [
    "# Load dataset and build pipeline"
   ]
  },
  {
   "cell_type": "code",
   "execution_count": 9,
   "id": "5809aec7",
   "metadata": {
    "execution": {
     "iopub.execute_input": "2025-07-02T08:18:14.335868Z",
     "iopub.status.busy": "2025-07-02T08:18:14.335394Z",
     "iopub.status.idle": "2025-07-02T08:18:14.339171Z",
     "shell.execute_reply": "2025-07-02T08:18:14.338709Z"
    },
    "papermill": {
     "duration": 0.009033,
     "end_time": "2025-07-02T08:18:14.340166",
     "exception": false,
     "start_time": "2025-07-02T08:18:14.331133",
     "status": "completed"
    },
    "tags": []
   },
   "outputs": [],
   "source": [
    "def load_samples_dataframe(path: str):\n",
    "    images_folder = os.path.join(path, \"images\")\n",
    "\n",
    "    samples_df = pd.read_csv(\n",
    "        os.path.join(path, \"market_dataset_xy.txt\"),\n",
    "        sep=\" \",\n",
    "        header=None,\n",
    "        names=[\"file path\", \"_\", \"datetime\", \"vel_y\", \"vel_x\"]\n",
    "    )\n",
    "\n",
    "    samples_df[\"file path\"] = (\n",
    "        samples_df[\"file path\"]\n",
    "        .apply(lambda image_name: os.path.join(path, \"images\", image_name))\n",
    "    )\n",
    "    \n",
    "    return samples_df"
   ]
  },
  {
   "cell_type": "code",
   "execution_count": 10,
   "id": "dad5593b",
   "metadata": {
    "execution": {
     "iopub.execute_input": "2025-07-02T08:18:14.348558Z",
     "iopub.status.busy": "2025-07-02T08:18:14.348354Z",
     "iopub.status.idle": "2025-07-02T08:18:14.353308Z",
     "shell.execute_reply": "2025-07-02T08:18:14.352692Z"
    },
    "papermill": {
     "duration": 0.010267,
     "end_time": "2025-07-02T08:18:14.354344",
     "exception": false,
     "start_time": "2025-07-02T08:18:14.344077",
     "status": "completed"
    },
    "tags": []
   },
   "outputs": [],
   "source": [
    "@tf.function\n",
    "def augment(image, label):\n",
    "    # Brightness and contrast\n",
    "    image = tf.image.random_brightness(image, max_delta=0.2)\n",
    "    image = tf.image.random_contrast(image, lower=0.8, upper=1.2)\n",
    "    \n",
    "    # Flip horizontally\n",
    "    do_flip = tf.random.uniform([]) > 0.5\n",
    "    image = tf.cond(do_flip, lambda: tf.image.flip_left_right(image), lambda: image)\n",
    "    \n",
    "    vel_x = tf.cond(do_flip, lambda: -label[\"vel_x\"], lambda: label[\"vel_x\"])\n",
    "    vel_y = label[\"vel_y\"]\n",
    "    \n",
    "    # Optionally add noise\n",
    "    noise = tf.random.normal(shape=tf.shape(image), mean=0.0, stddev=0.025)\n",
    "    image = image + noise\n",
    "    image = tf.clip_by_value(image, 0.0, 1.0)\n",
    "\n",
    "    return image, {\"vel_x\": vel_x, \"vel_y\": vel_y}"
   ]
  },
  {
   "cell_type": "code",
   "execution_count": 11,
   "id": "8bfb8f2f",
   "metadata": {
    "execution": {
     "iopub.execute_input": "2025-07-02T08:18:14.362687Z",
     "iopub.status.busy": "2025-07-02T08:18:14.362313Z",
     "iopub.status.idle": "2025-07-02T08:18:14.366501Z",
     "shell.execute_reply": "2025-07-02T08:18:14.365863Z"
    },
    "papermill": {
     "duration": 0.009448,
     "end_time": "2025-07-02T08:18:14.367567",
     "exception": false,
     "start_time": "2025-07-02T08:18:14.358119",
     "status": "completed"
    },
    "tags": []
   },
   "outputs": [],
   "source": [
    "def load_image(path, mode=\"color\"):\n",
    "    image = tf.io.read_file(path)\n",
    "\n",
    "    if mode == \"color\":\n",
    "        image = tf.image.decode_jpeg(image, channels=3)\n",
    "\n",
    "    elif mode == \"grayscale1\":\n",
    "        image = tf.image.decode_jpeg(image, channels=1)\n",
    "\n",
    "    elif mode == \"grayscale3\":\n",
    "        image = tf.image.decode_jpeg(image, channels=3)\n",
    "        image = tf.image.rgb_to_grayscale(image)\n",
    "        image = tf.image.grayscale_to_rgb(image)\n",
    "\n",
    "    else:\n",
    "        raise ValueError(f\"Invalid mode: {mode}\")\n",
    "\n",
    "    return image"
   ]
  },
  {
   "cell_type": "code",
   "execution_count": 12,
   "id": "1370d039",
   "metadata": {
    "execution": {
     "iopub.execute_input": "2025-07-02T08:18:14.376274Z",
     "iopub.status.busy": "2025-07-02T08:18:14.375749Z",
     "iopub.status.idle": "2025-07-02T08:18:14.382533Z",
     "shell.execute_reply": "2025-07-02T08:18:14.381885Z"
    },
    "papermill": {
     "duration": 0.012048,
     "end_time": "2025-07-02T08:18:14.383448",
     "exception": false,
     "start_time": "2025-07-02T08:18:14.371400",
     "status": "completed"
    },
    "tags": []
   },
   "outputs": [],
   "source": [
    "def build_train_val_test_datasets(samples_dataframe, input_description: dict, seed=42):\n",
    "    # Split\n",
    "    df_train, df_temp = train_test_split(samples_dataframe, test_size=0.4, random_state=seed)\n",
    "    df_val, df_test = train_test_split(df_temp, test_size=0.5, random_state=seed)\n",
    "\n",
    "    resolution = input_description[\"shape\"][:2]\n",
    "    channels = input_description[\"shape\"][2]\n",
    "\n",
    "    if channels == 1:\n",
    "        mode = \"grayscale1\"\n",
    "    elif input_description[\"grayscale\"] and channels == 3:\n",
    "        mode = \"grayscale3\"\n",
    "    else:\n",
    "        mode = \"color\"\n",
    "\n",
    "    print(\"Created\", mode, \"dataset with resolution\", resolution)\n",
    "\n",
    "    def process_sample(path, label):\n",
    "        image = load_image(path, mode=mode)\n",
    "        image = tf.image.resize(image, resolution)\n",
    "        image.set_shape(input_description[\"shape\"])\n",
    "        image = tf.cast(image, tf.float32) / 255.0\n",
    "\n",
    "        return image, label\n",
    "\n",
    "    def df_to_tf_dataset(df, training=False):\n",
    "        paths = tf.constant(df[\"file path\"].tolist())\n",
    "        vel_x = tf.constant(df[\"vel_x\"].astype(\"float32\").tolist())\n",
    "        vel_y = tf.constant(df[\"vel_y\"].astype(\"float32\").tolist())\n",
    "    \n",
    "        ds = tf.data.Dataset.from_tensor_slices((paths, {\"vel_x\": vel_x, \"vel_y\": vel_y}))\n",
    "    \n",
    "        ds = ds.map(process_sample, num_parallel_calls=tf.data.AUTOTUNE)\n",
    "        ds = ds.cache()\n",
    "    \n",
    "        if training:\n",
    "            ds = ds.shuffle(len(df), reshuffle_each_iteration=True)\n",
    "            ds = ds.map(augment, num_parallel_calls=tf.data.AUTOTUNE)\n",
    "            \n",
    "        return ds\n",
    "\n",
    "    return {\n",
    "        \"train\": df_to_tf_dataset(df_train, training=True),\n",
    "        \"val\":   df_to_tf_dataset(df_val, training=False),\n",
    "        \"test\":  df_to_tf_dataset(df_test, training=False),\n",
    "    }"
   ]
  },
  {
   "cell_type": "code",
   "execution_count": 13,
   "id": "cfcd4f57",
   "metadata": {
    "execution": {
     "iopub.execute_input": "2025-07-02T08:18:14.391974Z",
     "iopub.status.busy": "2025-07-02T08:18:14.391613Z",
     "iopub.status.idle": "2025-07-02T08:18:14.398867Z",
     "shell.execute_reply": "2025-07-02T08:18:14.398212Z"
    },
    "papermill": {
     "duration": 0.012675,
     "end_time": "2025-07-02T08:18:14.399868",
     "exception": false,
     "start_time": "2025-07-02T08:18:14.387193",
     "status": "completed"
    },
    "tags": []
   },
   "outputs": [],
   "source": [
    "def instantiate_backbone(backbone_name, weights=None):\n",
    "    if backbone_name == \"ResNet-8\":\n",
    "        if weights is not None:\n",
    "            print(\"[INFO] No pre-trained weights available for ResNet-8\")\n",
    "        return ResNet8_DroNet(input_shape=(200, 200, 1))\n",
    "\n",
    "    if backbone_name == \"ResNet-18\":\n",
    "        if weights is not None:\n",
    "            print(\"[INFO] No pre-trained weights available for ResNet-18\")\n",
    "        return ResNet18(input_shape=(224, 224, 3))\n",
    "\n",
    "    if backbone_name == \"ResNet-34\":\n",
    "        if weights is not None:\n",
    "            print(\"[INFO] No pre-trained weights available for ResNet-34\")\n",
    "        return ResNet34(input_shape=(224, 224, 3))\n",
    "\n",
    "    if backbone_name == \"ResNet-50\":\n",
    "        assert not weights or weights in [\"imagenet\"], f\"[ERROR] no {weights} weights found for ResNet-50\"\n",
    "        return keras.applications.ResNet50(\n",
    "            include_top=False,\n",
    "            input_shape=(224, 224, 3),\n",
    "            weights=\"imagenet\" if weights == \"imagenet\" else None,\n",
    "            pooling=None,\n",
    "        )\n",
    "\n",
    "    if backbone_name == \"ResNet-50V2\":\n",
    "        assert not weights or weights in [\"imagenet\"], f\"[ERROR] no {weights} weights found for ResNet-50V2\"\n",
    "        return keras.applications.ResNet50V2(\n",
    "            include_top=False,\n",
    "            input_shape=(224, 224, 3),\n",
    "            weights=\"imagenet\" if weights == \"imagenet\" else None,\n",
    "            pooling=None,\n",
    "        )\n",
    "\n",
    "    if backbone_name == \"MobileNet\":\n",
    "        assert not weights or weights in [\"imagenet\"], f\"[ERROR] no {weights} weights found for MobileNet\"\n",
    "        return keras.applications.MobileNet(\n",
    "            include_top=False,\n",
    "            input_shape=(224, 224, 3),\n",
    "            weights=\"imagenet\" if weights == \"imagenet\" else None,\n",
    "            pooling=None,\n",
    "            alpha=1.0,\n",
    "        )\n",
    "\n",
    "    if backbone_name == \"MobileNetV2\":\n",
    "        assert not weights or weights in [\"imagenet\"], f\"[ERROR] no {weights} weights found for MobileNetV2\"\n",
    "        return keras.applications.MobileNetV2(\n",
    "            include_top=False,\n",
    "            input_shape=(224, 224, 3),\n",
    "            weights=\"imagenet\" if weights == \"imagenet\" else None,\n",
    "            pooling=None,\n",
    "            alpha=1.0,\n",
    "        )\n",
    "\n",
    "    if backbone_name == \"EfficientNetB0\":\n",
    "        assert not weights or weights in [\"imagenet\"], f\"[ERROR] no {weights} weights found for EfficientNetB0\"\n",
    "        return keras.applications.EfficientNetB0(\n",
    "            include_top=False,\n",
    "            input_shape=(224, 224, 3),\n",
    "            weights=\"imagenet\" if weights == \"imagenet\" else None,\n",
    "            pooling=None,\n",
    "        )\n",
    "\n",
    "    raise ValueError(f\"Backbone {backbone_name} not implemented.\")\n"
   ]
  },
  {
   "cell_type": "code",
   "execution_count": 14,
   "id": "688076e6",
   "metadata": {
    "execution": {
     "iopub.execute_input": "2025-07-02T08:18:14.408556Z",
     "iopub.status.busy": "2025-07-02T08:18:14.408328Z",
     "iopub.status.idle": "2025-07-02T08:18:14.414645Z",
     "shell.execute_reply": "2025-07-02T08:18:14.414006Z"
    },
    "papermill": {
     "duration": 0.011977,
     "end_time": "2025-07-02T08:18:14.415681",
     "exception": false,
     "start_time": "2025-07-02T08:18:14.403704",
     "status": "completed"
    },
    "tags": []
   },
   "outputs": [],
   "source": [
    "def build_model(model_description: dict):\n",
    "    input_shape = model_description[\"input\"][\"shape\"]\n",
    "    input_shape = tuple(input_shape)\n",
    "\n",
    "    backbone_name = model_description[\"backbone\"][\"name\"]\n",
    "    backbone_weights = model_description[\"backbone\"][\"weights\"]\n",
    "\n",
    "    PREPROCESS = {\n",
    "        \"MobileNet\":       keras.applications.mobilenet.preprocess_input,\n",
    "        \"MobileNetV2\":     keras.applications.mobilenet_v2.preprocess_input,\n",
    "        \"ResNet-50\":       keras.applications.resnet.preprocess_input,\n",
    "        \"ResNet-50V2\":     keras.applications.resnet_v2.preprocess_input,\n",
    "        \"EfficientNetB0\":  keras.applications.efficientnet.preprocess_input,\n",
    "    }\n",
    "    \n",
    "    inputs = keras.layers.Input(input_shape)\n",
    "    x = keras.layers.Rescaling(255.)(inputs) # To parse from [0, 1] to [0, 225]\n",
    "    x = PREPROCESS.get(backbone_name, lambda x: x / 255.0)(x)\n",
    "\n",
    "    backbone = instantiate_backbone(backbone_name, weights=backbone_weights)\n",
    "    if backbone_weights:\n",
    "        backbone.trainable = False\n",
    "\n",
    "    x = backbone(x)\n",
    "    x = keras.layers.GlobalAveragePooling2D(name=\"global_pool\")(x)\n",
    "\n",
    "    for i, (nodes, use_batch_normalization, dropout_rate) in enumerate(model_description[\"head_description\"]):\n",
    "        use_bias = not use_batch_normalization\n",
    "        \n",
    "        x = keras.layers.Dense(nodes, use_bias=use_bias, activation=\"linear\", name=f\"dense_{i}\")(x)\n",
    "\n",
    "        if use_batch_normalization:\n",
    "            x = keras.layers.BatchNormalization(name=f\"batchnorm_{i}\")(x)\n",
    "\n",
    "        x = keras.layers.ReLU(name=f\"relu_{i}\")(x)\n",
    "        \n",
    "        if dropout_rate:\n",
    "            x = keras.layers.Dropout(dropout_rate, name=f\"dropout_{i}\")(x)\n",
    "    \n",
    "    output_x = keras.layers.Dense(1, name=\"vel_x\")(x)\n",
    "    output_y = keras.layers.Dense(1, name=\"vel_y\")(x)\n",
    "\n",
    "    outputs = [output_x, output_y]\n",
    "\n",
    "    return keras.models.Model(\n",
    "        inputs=inputs,\n",
    "        outputs=outputs,\n",
    "        name=model_description[\"name\"]\n",
    "    )"
   ]
  },
  {
   "cell_type": "code",
   "execution_count": 15,
   "id": "278f8b3f",
   "metadata": {
    "_cell_guid": "81fd146c-569e-41cd-a3b0-3697be73f389",
    "_uuid": "bf0dc136-a787-4acb-8200-a681d2426b5e",
    "collapsed": false,
    "execution": {
     "iopub.execute_input": "2025-07-02T08:18:14.423995Z",
     "iopub.status.busy": "2025-07-02T08:18:14.423677Z",
     "iopub.status.idle": "2025-07-02T08:18:14.428265Z",
     "shell.execute_reply": "2025-07-02T08:18:14.427808Z"
    },
    "jupyter": {
     "outputs_hidden": false
    },
    "papermill": {
     "duration": 0.009763,
     "end_time": "2025-07-02T08:18:14.429261",
     "exception": false,
     "start_time": "2025-07-02T08:18:14.419498",
     "status": "completed"
    },
    "tags": []
   },
   "outputs": [],
   "source": [
    "def train_model(model: keras.Model, train_dataset: tf.data.Dataset, validation_dataset: tf.data.Dataset):\n",
    "    history_1 = model.fit(\n",
    "        train_dataset,\n",
    "        validation_data=validation_dataset,\n",
    "        verbose=0,\n",
    "        epochs=40,\n",
    "    )\n",
    "\n",
    "    history_2 = model.fit(\n",
    "        train_dataset,\n",
    "        validation_data=validation_dataset,\n",
    "        epochs=200,\n",
    "        verbose=0,\n",
    "        callbacks=[\n",
    "            keras.callbacks.EarlyStopping(\n",
    "                monitor=\"val_loss\",\n",
    "                patience=45,\n",
    "                min_delta=1e-4,\n",
    "                mode=\"min\",\n",
    "                restore_best_weights=True,\n",
    "            ),\n",
    "            keras.callbacks.ReduceLROnPlateau(\n",
    "                monitor=\"val_loss\",\n",
    "                patience=15,\n",
    "                factor=0.5,\n",
    "                min_lr=1e-7,\n",
    "                mode=\"min\"\n",
    "            ),\n",
    "        ],\n",
    "    )\n",
    "\n",
    "    full_history = pd.concat([\n",
    "        pd.DataFrame(history_1.history),\n",
    "        pd.DataFrame(history_2.history),\n",
    "    ]).reset_index(drop=True)\n",
    "\n",
    "    return model, full_history"
   ]
  },
  {
   "cell_type": "code",
   "execution_count": 16,
   "id": "38ca450b",
   "metadata": {
    "execution": {
     "iopub.execute_input": "2025-07-02T08:18:14.438005Z",
     "iopub.status.busy": "2025-07-02T08:18:14.437622Z",
     "iopub.status.idle": "2025-07-02T08:18:14.442617Z",
     "shell.execute_reply": "2025-07-02T08:18:14.441971Z"
    },
    "papermill": {
     "duration": 0.010512,
     "end_time": "2025-07-02T08:18:14.443708",
     "exception": false,
     "start_time": "2025-07-02T08:18:14.433196",
     "status": "completed"
    },
    "tags": []
   },
   "outputs": [],
   "source": [
    "def save_labels_from_dataset(dataset: tf.data.Dataset, file_path: str):\n",
    "    labels_list = []\n",
    "\n",
    "    for _, label in dataset:\n",
    "        label_np = {key: val.numpy().item() for key, val in label.items()}\n",
    "        labels_list.append(label_np)\n",
    "\n",
    "    df = pd.DataFrame(labels_list)\n",
    "    df.to_csv(file_path, index=False)\n",
    "    print(f\"Labels saved to {file_path}\")\n",
    "\n",
    "\n",
    "def save_predictions(predictions, file_path: str):\n",
    "    if isinstance(predictions, (list, tuple)):\n",
    "        # Example: [vel_x_array, vel_y_array]\n",
    "        pred_dict = {f\"vel_x\": predictions[0].flatten(),\n",
    "                     f\"vel_y\": predictions[1].flatten()}\n",
    "    else:\n",
    "        pred_dict = {key: val.flatten() for key, val in predictions.items()}\n",
    "\n",
    "    df = pd.DataFrame(pred_dict)\n",
    "    df.to_csv(file_path, index=False)\n",
    "    print(f\"Predictions saved to {file_path}\")\n"
   ]
  },
  {
   "cell_type": "markdown",
   "id": "9b21a854",
   "metadata": {
    "_cell_guid": "9bf3c32a-54e8-4151-bf50-0267a409748b",
    "_uuid": "6205940e-1262-4bad-a068-6b504c107336",
    "collapsed": false,
    "jupyter": {
     "outputs_hidden": false
    },
    "papermill": {
     "duration": 0.003607,
     "end_time": "2025-07-02T08:18:14.451143",
     "exception": false,
     "start_time": "2025-07-02T08:18:14.447536",
     "status": "completed"
    },
    "tags": []
   },
   "source": [
    "# Results structure"
   ]
  },
  {
   "cell_type": "code",
   "execution_count": 17,
   "id": "312bf6b6",
   "metadata": {
    "_cell_guid": "23d3c588-6bcc-4795-a80d-28372af0cbb0",
    "_uuid": "11c3b8a3-a8dc-47fb-90a4-cd088fa4e1d6",
    "collapsed": false,
    "execution": {
     "iopub.execute_input": "2025-07-02T08:18:14.459940Z",
     "iopub.status.busy": "2025-07-02T08:18:14.459573Z",
     "iopub.status.idle": "2025-07-02T08:18:14.462729Z",
     "shell.execute_reply": "2025-07-02T08:18:14.462086Z"
    },
    "jupyter": {
     "outputs_hidden": false
    },
    "papermill": {
     "duration": 0.008783,
     "end_time": "2025-07-02T08:18:14.463764",
     "exception": false,
     "start_time": "2025-07-02T08:18:14.454981",
     "status": "completed"
    },
    "tags": []
   },
   "outputs": [],
   "source": [
    "results = {}\n",
    "\n",
    "for model_description in models_descriptions:\n",
    "    model_name = model_description[\"name\"]\n",
    "    \n",
    "    results[model_name] = {}"
   ]
  },
  {
   "cell_type": "markdown",
   "id": "91761a2f",
   "metadata": {
    "papermill": {
     "duration": 0.00363,
     "end_time": "2025-07-02T08:18:14.471205",
     "exception": false,
     "start_time": "2025-07-02T08:18:14.467575",
     "status": "completed"
    },
    "tags": []
   },
   "source": [
    "# Benchmark loop"
   ]
  },
  {
   "cell_type": "code",
   "execution_count": 18,
   "id": "8e531e3e",
   "metadata": {
    "_cell_guid": "e152cd73-944e-4b15-aa4d-0ff037039760",
    "_kg_hide-output": true,
    "_uuid": "2d42d04f-46cf-475a-b7d4-2510a00f24ba",
    "collapsed": false,
    "execution": {
     "iopub.execute_input": "2025-07-02T08:18:14.479941Z",
     "iopub.status.busy": "2025-07-02T08:18:14.479446Z",
     "iopub.status.idle": "2025-07-02T14:48:19.060060Z",
     "shell.execute_reply": "2025-07-02T14:48:19.059454Z"
    },
    "jupyter": {
     "outputs_hidden": false
    },
    "papermill": {
     "duration": 23404.586447,
     "end_time": "2025-07-02T14:48:19.061514",
     "exception": false,
     "start_time": "2025-07-02T08:18:14.475067",
     "status": "completed"
    },
    "tags": []
   },
   "outputs": [
    {
     "name": "stdout",
     "output_type": "stream",
     "text": [
      "Created grayscale1 dataset with resolution [200, 200]\n"
     ]
    },
    {
     "name": "stderr",
     "output_type": "stream",
     "text": [
      "I0000 00:00:1751444295.581050      19 gpu_device.cc:2022] Created device /job:localhost/replica:0/task:0/device:GPU:0 with 15513 MB memory:  -> device: 0, name: Tesla P100-PCIE-16GB, pci bus id: 0000:00:04.0, compute capability: 6.0\n"
     ]
    },
    {
     "name": "stdout",
     "output_type": "stream",
     "text": [
      "Labels saved to r3_y_true.csv\n",
      "Created color dataset with resolution [224, 224]\n",
      "Labels saved to r3_y_true.csv\n",
      "Training model ResNet-8-base  for configuration (0.0001, 64)\n"
     ]
    },
    {
     "name": "stderr",
     "output_type": "stream",
     "text": [
      "WARNING: All log messages before absl::InitializeLog() is called are written to STDERR\n",
      "I0000 00:00:1751444342.586295      56 service.cc:148] XLA service 0x7b1ce002fac0 initialized for platform CUDA (this does not guarantee that XLA will be used). Devices:\n",
      "I0000 00:00:1751444342.586926      56 service.cc:156]   StreamExecutor device (0): Tesla P100-PCIE-16GB, Compute Capability 6.0\n",
      "I0000 00:00:1751444343.743578      56 cuda_dnn.cc:529] Loaded cuDNN version 90300\n",
      "I0000 00:00:1751444351.340470      56 device_compiler.h:188] Compiled cluster using XLA!  This line is logged at most once for the lifetime of the process.\n"
     ]
    },
    {
     "name": "stdout",
     "output_type": "stream",
     "text": [
      "\u001b[1m8/8\u001b[0m \u001b[32m━━━━━━━━━━━━━━━━━━━━\u001b[0m\u001b[37m\u001b[0m \u001b[1m0s\u001b[0m 26ms/step - loss: 0.1945 - vel_x_eva: 0.7321 - vel_x_loss: 0.1260 - vel_x_r2_score: 0.7277 - vel_x_rmse: 0.3516 - vel_y_eva: 0.9135 - vel_y_loss: 0.0676 - vel_y_r2_score: 0.9099 - vel_y_rmse: 0.2595\n",
      "\u001b[1m8/8\u001b[0m \u001b[32m━━━━━━━━━━━━━━━━━━━━\u001b[0m\u001b[37m\u001b[0m \u001b[1m3s\u001b[0m 164ms/step\n",
      "Predictions saved to r3_ResNet-8-base_1e-04_64_predictions.csv\n",
      "Training model ResNet-8-600A  for configuration (0.0001, 64)\n",
      "\u001b[1m8/8\u001b[0m \u001b[32m━━━━━━━━━━━━━━━━━━━━\u001b[0m\u001b[37m\u001b[0m \u001b[1m0s\u001b[0m 25ms/step - loss: 0.1175 - vel_x_eva: 0.8327 - vel_x_loss: 0.0758 - vel_x_r2_score: 0.8303 - vel_x_rmse: 0.2745 - vel_y_eva: 0.9474 - vel_y_loss: 0.0405 - vel_y_r2_score: 0.9463 - vel_y_rmse: 0.1997\n",
      "\u001b[1m8/8\u001b[0m \u001b[32m━━━━━━━━━━━━━━━━━━━━\u001b[0m\u001b[37m\u001b[0m \u001b[1m2s\u001b[0m 170ms/step\n",
      "Predictions saved to r3_ResNet-8-600A_1e-04_64_predictions.csv\n",
      "Training model ResNet-8-600B  for configuration (0.0001, 64)\n",
      "\u001b[1m8/8\u001b[0m \u001b[32m━━━━━━━━━━━━━━━━━━━━\u001b[0m\u001b[37m\u001b[0m \u001b[1m0s\u001b[0m 25ms/step - loss: 0.1658 - vel_x_eva: 0.7655 - vel_x_loss: 0.1066 - vel_x_r2_score: 0.7640 - vel_x_rmse: 0.3229 - vel_y_eva: 0.9248 - vel_y_loss: 0.0568 - vel_y_r2_score: 0.9241 - vel_y_rmse: 0.2373\n",
      "\u001b[1m8/8\u001b[0m \u001b[32m━━━━━━━━━━━━━━━━━━━━\u001b[0m\u001b[37m\u001b[0m \u001b[1m2s\u001b[0m 170ms/step\n",
      "Predictions saved to r3_ResNet-8-600B_1e-04_64_predictions.csv\n",
      "Training model ResNet-18  for configuration (0.0001, 64)\n",
      "\u001b[1m8/8\u001b[0m \u001b[32m━━━━━━━━━━━━━━━━━━━━\u001b[0m\u001b[37m\u001b[0m \u001b[1m0s\u001b[0m 41ms/step - loss: 0.1170 - vel_x_eva: 0.8456 - vel_x_loss: 0.0732 - vel_x_r2_score: 0.8441 - vel_x_rmse: 0.2673 - vel_y_eva: 0.9476 - vel_y_loss: 0.0422 - vel_y_r2_score: 0.9440 - vel_y_rmse: 0.2036\n",
      "\u001b[1m8/8\u001b[0m \u001b[32m━━━━━━━━━━━━━━━━━━━━\u001b[0m\u001b[37m\u001b[0m \u001b[1m3s\u001b[0m 225ms/step\n",
      "Predictions saved to r3_ResNet-18_1e-04_64_predictions.csv\n",
      "Training model ResNet-34  for configuration (0.0001, 64)\n",
      "\u001b[1m8/8\u001b[0m \u001b[32m━━━━━━━━━━━━━━━━━━━━\u001b[0m\u001b[37m\u001b[0m \u001b[1m1s\u001b[0m 62ms/step - loss: 0.0434 - vel_x_eva: 0.9452 - vel_x_loss: 0.0257 - vel_x_r2_score: 0.9447 - vel_x_rmse: 0.1580 - vel_y_eva: 0.9779 - vel_y_loss: 0.0169 - vel_y_r2_score: 0.9774 - vel_y_rmse: 0.1289\n",
      "\u001b[1m8/8\u001b[0m \u001b[32m━━━━━━━━━━━━━━━━━━━━\u001b[0m\u001b[37m\u001b[0m \u001b[1m5s\u001b[0m 339ms/step\n",
      "Predictions saved to r3_ResNet-34_1e-04_64_predictions.csv\n",
      "Training model ResNet-50  for configuration (0.0001, 64)\n",
      "\u001b[1m8/8\u001b[0m \u001b[32m━━━━━━━━━━━━━━━━━━━━\u001b[0m\u001b[37m\u001b[0m \u001b[1m1s\u001b[0m 84ms/step - loss: 0.0491 - vel_x_eva: 0.9426 - vel_x_loss: 0.0262 - vel_x_r2_score: 0.9409 - vel_x_rmse: 0.1601 - vel_y_eva: 0.9705 - vel_y_loss: 0.0221 - vel_y_r2_score: 0.9699 - vel_y_rmse: 0.1468\n",
      "\u001b[1m8/8\u001b[0m \u001b[32m━━━━━━━━━━━━━━━━━━━━\u001b[0m\u001b[37m\u001b[0m \u001b[1m9s\u001b[0m 647ms/step\n",
      "Predictions saved to r3_ResNet-50_1e-04_64_predictions.csv\n",
      "Training model ResNet-50V2  for configuration (0.0001, 64)\n",
      "\u001b[1m8/8\u001b[0m \u001b[32m━━━━━━━━━━━━━━━━━━━━\u001b[0m\u001b[37m\u001b[0m \u001b[1m1s\u001b[0m 78ms/step - loss: 0.0867 - vel_x_eva: 0.8858 - vel_x_loss: 0.0536 - vel_x_r2_score: 0.8828 - vel_x_rmse: 0.2296 - vel_y_eva: 0.9587 - vel_y_loss: 0.0323 - vel_y_r2_score: 0.9570 - vel_y_rmse: 0.1787\n",
      "\u001b[1m8/8\u001b[0m \u001b[32m━━━━━━━━━━━━━━━━━━━━\u001b[0m\u001b[37m\u001b[0m \u001b[1m9s\u001b[0m 582ms/step\n",
      "Predictions saved to r3_ResNet-50V2_1e-04_64_predictions.csv\n",
      "Training model MobileNet  for configuration (0.0001, 64)\n"
     ]
    },
    {
     "name": "stderr",
     "output_type": "stream",
     "text": [
      "E0000 00:00:1751450325.446299      57 gpu_timer.cc:82] Delay kernel timed out: measured time has sub-optimal accuracy. There may be a missing warmup execution, please investigate in Nsight Systems.\n",
      "E0000 00:00:1751450325.647743      57 gpu_timer.cc:82] Delay kernel timed out: measured time has sub-optimal accuracy. There may be a missing warmup execution, please investigate in Nsight Systems.\n",
      "E0000 00:00:1751450337.024992      59 gpu_timer.cc:82] Delay kernel timed out: measured time has sub-optimal accuracy. There may be a missing warmup execution, please investigate in Nsight Systems.\n",
      "E0000 00:00:1751450337.226814      59 gpu_timer.cc:82] Delay kernel timed out: measured time has sub-optimal accuracy. There may be a missing warmup execution, please investigate in Nsight Systems.\n"
     ]
    },
    {
     "name": "stdout",
     "output_type": "stream",
     "text": [
      "\u001b[1m8/8\u001b[0m \u001b[32m━━━━━━━━━━━━━━━━━━━━\u001b[0m\u001b[37m\u001b[0m \u001b[1m0s\u001b[0m 41ms/step - loss: 0.6594 - vel_x_eva: 0.3700 - vel_x_loss: 0.3017 - vel_x_r2_score: 0.3524 - vel_x_rmse: 0.5416 - vel_y_eva: 0.6498 - vel_y_loss: 0.3640 - vel_y_r2_score: 0.5055 - vel_y_rmse: 0.6024\n",
      "\u001b[1m8/8\u001b[0m \u001b[32m━━━━━━━━━━━━━━━━━━━━\u001b[0m\u001b[37m\u001b[0m \u001b[1m5s\u001b[0m 468ms/step\n",
      "Predictions saved to r3_MobileNet_1e-04_64_predictions.csv\n",
      "Training model EfficientNetB0  for configuration (0.0001, 64)\n"
     ]
    },
    {
     "name": "stderr",
     "output_type": "stream",
     "text": [
      "E0000 00:00:1751451042.299823      57 gpu_timer.cc:82] Delay kernel timed out: measured time has sub-optimal accuracy. There may be a missing warmup execution, please investigate in Nsight Systems.\n",
      "E0000 00:00:1751451042.492819      57 gpu_timer.cc:82] Delay kernel timed out: measured time has sub-optimal accuracy. There may be a missing warmup execution, please investigate in Nsight Systems.\n",
      "E0000 00:00:1751451043.034693      57 gpu_timer.cc:82] Delay kernel timed out: measured time has sub-optimal accuracy. There may be a missing warmup execution, please investigate in Nsight Systems.\n",
      "E0000 00:00:1751451043.241850      57 gpu_timer.cc:82] Delay kernel timed out: measured time has sub-optimal accuracy. There may be a missing warmup execution, please investigate in Nsight Systems.\n",
      "E0000 00:00:1751451043.632299      57 gpu_timer.cc:82] Delay kernel timed out: measured time has sub-optimal accuracy. There may be a missing warmup execution, please investigate in Nsight Systems.\n",
      "E0000 00:00:1751451043.840022      57 gpu_timer.cc:82] Delay kernel timed out: measured time has sub-optimal accuracy. There may be a missing warmup execution, please investigate in Nsight Systems.\n",
      "E0000 00:00:1751451075.990122      57 gpu_timer.cc:82] Delay kernel timed out: measured time has sub-optimal accuracy. There may be a missing warmup execution, please investigate in Nsight Systems.\n",
      "E0000 00:00:1751451076.175040      57 gpu_timer.cc:82] Delay kernel timed out: measured time has sub-optimal accuracy. There may be a missing warmup execution, please investigate in Nsight Systems.\n",
      "E0000 00:00:1751451076.615856      57 gpu_timer.cc:82] Delay kernel timed out: measured time has sub-optimal accuracy. There may be a missing warmup execution, please investigate in Nsight Systems.\n",
      "E0000 00:00:1751451076.824465      57 gpu_timer.cc:82] Delay kernel timed out: measured time has sub-optimal accuracy. There may be a missing warmup execution, please investigate in Nsight Systems.\n",
      "E0000 00:00:1751451077.175768      57 gpu_timer.cc:82] Delay kernel timed out: measured time has sub-optimal accuracy. There may be a missing warmup execution, please investigate in Nsight Systems.\n",
      "E0000 00:00:1751451077.384586      57 gpu_timer.cc:82] Delay kernel timed out: measured time has sub-optimal accuracy. There may be a missing warmup execution, please investigate in Nsight Systems.\n"
     ]
    },
    {
     "name": "stdout",
     "output_type": "stream",
     "text": [
      "\u001b[1m8/8\u001b[0m \u001b[32m━━━━━━━━━━━━━━━━━━━━\u001b[0m\u001b[37m\u001b[0m \u001b[1m0s\u001b[0m 55ms/step - loss: 0.1005 - vel_x_eva: 0.8852 - vel_x_loss: 0.0559 - vel_x_r2_score: 0.8815 - vel_x_rmse: 0.2306 - vel_y_eva: 0.9458 - vel_y_loss: 0.0433 - vel_y_r2_score: 0.9420 - vel_y_rmse: 0.2058\n",
      "\u001b[1m8/8\u001b[0m \u001b[32m━━━━━━━━━━━━━━━━━━━━\u001b[0m\u001b[37m\u001b[0m \u001b[1m13s\u001b[0m 920ms/step\n",
      "Predictions saved to r3_EfficientNetB0_1e-04_64_predictions.csv\n",
      "Training model ResNet-8-base  for configuration (0.001, 64)\n",
      "\u001b[1m8/8\u001b[0m \u001b[32m━━━━━━━━━━━━━━━━━━━━\u001b[0m\u001b[37m\u001b[0m \u001b[1m0s\u001b[0m 25ms/step - loss: 0.1057 - vel_x_eva: 0.8377 - vel_x_loss: 0.0782 - vel_x_r2_score: 0.8356 - vel_x_rmse: 0.2736 - vel_y_eva: 0.9671 - vel_y_loss: 0.0254 - vel_y_r2_score: 0.9664 - vel_y_rmse: 0.1590\n",
      "\u001b[1m8/8\u001b[0m \u001b[32m━━━━━━━━━━━━━━━━━━━━\u001b[0m\u001b[37m\u001b[0m \u001b[1m2s\u001b[0m 153ms/step\n",
      "Predictions saved to r3_ResNet-8-base_1e-03_64_predictions.csv\n",
      "Training model ResNet-8-600A  for configuration (0.001, 64)\n",
      "\u001b[1m8/8\u001b[0m \u001b[32m━━━━━━━━━━━━━━━━━━━━\u001b[0m\u001b[37m\u001b[0m \u001b[1m0s\u001b[0m 25ms/step - loss: 0.1004 - vel_x_eva: 0.8391 - vel_x_loss: 0.0762 - vel_x_r2_score: 0.8382 - vel_x_rmse: 0.2709 - vel_y_eva: 0.9700 - vel_y_loss: 0.0227 - vel_y_r2_score: 0.9689 - vel_y_rmse: 0.1494\n",
      "\u001b[1m8/8\u001b[0m \u001b[32m━━━━━━━━━━━━━━━━━━━━\u001b[0m\u001b[37m\u001b[0m \u001b[1m2s\u001b[0m 156ms/step\n",
      "Predictions saved to r3_ResNet-8-600A_1e-03_64_predictions.csv\n",
      "Training model ResNet-8-600B  for configuration (0.001, 64)\n",
      "\u001b[1m8/8\u001b[0m \u001b[32m━━━━━━━━━━━━━━━━━━━━\u001b[0m\u001b[37m\u001b[0m \u001b[1m0s\u001b[0m 25ms/step - loss: 0.0815 - vel_x_eva: 0.8660 - vel_x_loss: 0.0615 - vel_x_r2_score: 0.8642 - vel_x_rmse: 0.2456 - vel_y_eva: 0.9754 - vel_y_loss: 0.0189 - vel_y_r2_score: 0.9748 - vel_y_rmse: 0.1363\n",
      "\u001b[1m8/8\u001b[0m \u001b[32m━━━━━━━━━━━━━━━━━━━━\u001b[0m\u001b[37m\u001b[0m \u001b[1m4s\u001b[0m 436ms/step\n",
      "Predictions saved to r3_ResNet-8-600B_1e-03_64_predictions.csv\n",
      "Training model ResNet-18  for configuration (0.001, 64)\n",
      "\u001b[1m8/8\u001b[0m \u001b[32m━━━━━━━━━━━━━━━━━━━━\u001b[0m\u001b[37m\u001b[0m \u001b[1m0s\u001b[0m 42ms/step - loss: 0.0315 - vel_x_eva: 0.9580 - vel_x_loss: 0.0192 - vel_x_r2_score: 0.9563 - vel_x_rmse: 0.1371 - vel_y_eva: 0.9847 - vel_y_loss: 0.0123 - vel_y_r2_score: 0.9831 - vel_y_rmse: 0.1099\n",
      "\u001b[1m8/8\u001b[0m \u001b[32m━━━━━━━━━━━━━━━━━━━━\u001b[0m\u001b[37m\u001b[0m \u001b[1m5s\u001b[0m 498ms/step\n",
      "Predictions saved to r3_ResNet-18_1e-03_64_predictions.csv\n",
      "Training model ResNet-34  for configuration (0.001, 64)\n",
      "\u001b[1m8/8\u001b[0m \u001b[32m━━━━━━━━━━━━━━━━━━━━\u001b[0m\u001b[37m\u001b[0m \u001b[1m1s\u001b[0m 60ms/step - loss: 0.0242 - vel_x_eva: 0.9718 - vel_x_loss: 0.0127 - vel_x_r2_score: 0.9715 - vel_x_rmse: 0.1118 - vel_y_eva: 0.9850 - vel_y_loss: 0.0116 - vel_y_r2_score: 0.9841 - vel_y_rmse: 0.1065\n",
      "\u001b[1m8/8\u001b[0m \u001b[32m━━━━━━━━━━━━━━━━━━━━\u001b[0m\u001b[37m\u001b[0m \u001b[1m4s\u001b[0m 318ms/step\n",
      "Predictions saved to r3_ResNet-34_1e-03_64_predictions.csv\n",
      "Training model ResNet-50  for configuration (0.001, 64)\n",
      "\u001b[1m8/8\u001b[0m \u001b[32m━━━━━━━━━━━━━━━━━━━━\u001b[0m\u001b[37m\u001b[0m \u001b[1m1s\u001b[0m 84ms/step - loss: 0.0323 - vel_x_eva: 0.9582 - vel_x_loss: 0.0178 - vel_x_r2_score: 0.9578 - vel_x_rmse: 0.1320 - vel_y_eva: 0.9812 - vel_y_loss: 0.0141 - vel_y_r2_score: 0.9806 - vel_y_rmse: 0.1159\n",
      "\u001b[1m8/8\u001b[0m \u001b[32m━━━━━━━━━━━━━━━━━━━━\u001b[0m\u001b[37m\u001b[0m \u001b[1m8s\u001b[0m 610ms/step\n",
      "Predictions saved to r3_ResNet-50_1e-03_64_predictions.csv\n",
      "Training model ResNet-50V2  for configuration (0.001, 64)\n",
      "\u001b[1m8/8\u001b[0m \u001b[32m━━━━━━━━━━━━━━━━━━━━\u001b[0m\u001b[37m\u001b[0m \u001b[1m1s\u001b[0m 76ms/step - loss: 0.0445 - vel_x_eva: 0.9370 - vel_x_loss: 0.0292 - vel_x_r2_score: 0.9329 - vel_x_rmse: 0.1695 - vel_y_eva: 0.9806 - vel_y_loss: 0.0147 - vel_y_r2_score: 0.9799 - vel_y_rmse: 0.1200\n",
      "\u001b[1m8/8\u001b[0m \u001b[32m━━━━━━━━━━━━━━━━━━━━\u001b[0m\u001b[37m\u001b[0m \u001b[1m7s\u001b[0m 549ms/step\n",
      "Predictions saved to r3_ResNet-50V2_1e-03_64_predictions.csv\n",
      "Training model MobileNet  for configuration (0.001, 64)\n",
      "\u001b[1m8/8\u001b[0m \u001b[32m━━━━━━━━━━━━━━━━━━━━\u001b[0m\u001b[37m\u001b[0m \u001b[1m0s\u001b[0m 40ms/step - loss: 0.0285 - vel_x_eva: 0.9667 - vel_x_loss: 0.0147 - vel_x_r2_score: 0.9663 - vel_x_rmse: 0.1204 - vel_y_eva: 0.9815 - vel_y_loss: 0.0137 - vel_y_r2_score: 0.9812 - vel_y_rmse: 0.1160\n",
      "\u001b[1m8/8\u001b[0m \u001b[32m━━━━━━━━━━━━━━━━━━━━\u001b[0m\u001b[37m\u001b[0m \u001b[1m4s\u001b[0m 278ms/step\n",
      "Predictions saved to r3_MobileNet_1e-03_64_predictions.csv\n",
      "Training model EfficientNetB0  for configuration (0.001, 64)\n",
      "\u001b[1m8/8\u001b[0m \u001b[32m━━━━━━━━━━━━━━━━━━━━\u001b[0m\u001b[37m\u001b[0m \u001b[1m0s\u001b[0m 54ms/step - loss: 0.0247 - vel_x_eva: 0.9699 - vel_x_loss: 0.0135 - vel_x_r2_score: 0.9695 - vel_x_rmse: 0.1130 - vel_y_eva: 0.9863 - vel_y_loss: 0.0107 - vel_y_r2_score: 0.9857 - vel_y_rmse: 0.1025\n",
      "\u001b[1m8/8\u001b[0m \u001b[32m━━━━━━━━━━━━━━━━━━━━\u001b[0m\u001b[37m\u001b[0m \u001b[1m15s\u001b[0m 884ms/step\n",
      "Predictions saved to r3_EfficientNetB0_1e-03_64_predictions.csv\n",
      "Training model ResNet-8-base  for configuration (0.01, 64)\n",
      "\u001b[1m8/8\u001b[0m \u001b[32m━━━━━━━━━━━━━━━━━━━━\u001b[0m\u001b[37m\u001b[0m \u001b[1m0s\u001b[0m 25ms/step - loss: 0.0550 - vel_x_eva: 0.9254 - vel_x_loss: 0.0359 - vel_x_r2_score: 0.9234 - vel_x_rmse: 0.1865 - vel_y_eva: 0.9757 - vel_y_loss: 0.0185 - vel_y_r2_score: 0.9748 - vel_y_rmse: 0.1351\n",
      "\u001b[1m8/8\u001b[0m \u001b[32m━━━━━━━━━━━━━━━━━━━━\u001b[0m\u001b[37m\u001b[0m \u001b[1m2s\u001b[0m 153ms/step\n",
      "Predictions saved to r3_ResNet-8-base_1e-02_64_predictions.csv\n",
      "Training model ResNet-8-600A  for configuration (0.01, 64)\n",
      "\u001b[1m8/8\u001b[0m \u001b[32m━━━━━━━━━━━━━━━━━━━━\u001b[0m\u001b[37m\u001b[0m \u001b[1m0s\u001b[0m 25ms/step - loss: 0.0444 - vel_x_eva: 0.9271 - vel_x_loss: 0.0301 - vel_x_r2_score: 0.9261 - vel_x_rmse: 0.1690 - vel_y_eva: 0.9826 - vel_y_loss: 0.0134 - vel_y_r2_score: 0.9820 - vel_y_rmse: 0.1155\n",
      "\u001b[1m8/8\u001b[0m \u001b[32m━━━━━━━━━━━━━━━━━━━━\u001b[0m\u001b[37m\u001b[0m \u001b[1m2s\u001b[0m 156ms/step\n",
      "Predictions saved to r3_ResNet-8-600A_1e-02_64_predictions.csv\n",
      "Training model ResNet-8-600B  for configuration (0.01, 64)\n",
      "\u001b[1m8/8\u001b[0m \u001b[32m━━━━━━━━━━━━━━━━━━━━\u001b[0m\u001b[37m\u001b[0m \u001b[1m0s\u001b[0m 25ms/step - loss: 0.0445 - vel_x_eva: 0.9378 - vel_x_loss: 0.0289 - vel_x_r2_score: 0.9355 - vel_x_rmse: 0.1679 - vel_y_eva: 0.9807 - vel_y_loss: 0.0148 - vel_y_r2_score: 0.9803 - vel_y_rmse: 0.1204\n",
      "\u001b[1m8/8\u001b[0m \u001b[32m━━━━━━━━━━━━━━━━━━━━\u001b[0m\u001b[37m\u001b[0m \u001b[1m2s\u001b[0m 158ms/step\n",
      "Predictions saved to r3_ResNet-8-600B_1e-02_64_predictions.csv\n",
      "Training model ResNet-18  for configuration (0.01, 64)\n",
      "\u001b[1m8/8\u001b[0m \u001b[32m━━━━━━━━━━━━━━━━━━━━\u001b[0m\u001b[37m\u001b[0m \u001b[1m0s\u001b[0m 43ms/step - loss: 0.0207 - vel_x_eva: 0.9723 - vel_x_loss: 0.0125 - vel_x_r2_score: 0.9716 - vel_x_rmse: 0.1105 - vel_y_eva: 0.9895 - vel_y_loss: 0.0077 - vel_y_r2_score: 0.9893 - vel_y_rmse: 0.0861\n",
      "\u001b[1m8/8\u001b[0m \u001b[32m━━━━━━━━━━━━━━━━━━━━\u001b[0m\u001b[37m\u001b[0m \u001b[1m3s\u001b[0m 208ms/step\n",
      "Predictions saved to r3_ResNet-18_1e-02_64_predictions.csv\n",
      "Training model ResNet-34  for configuration (0.01, 64)\n",
      "\u001b[1m8/8\u001b[0m \u001b[32m━━━━━━━━━━━━━━━━━━━━\u001b[0m\u001b[37m\u001b[0m \u001b[1m1s\u001b[0m 62ms/step - loss: 0.0225 - vel_x_eva: 0.9707 - vel_x_loss: 0.0120 - vel_x_r2_score: 0.9697 - vel_x_rmse: 0.1080 - vel_y_eva: 0.9866 - vel_y_loss: 0.0101 - vel_y_r2_score: 0.9863 - vel_y_rmse: 0.0988\n",
      "\u001b[1m8/8\u001b[0m \u001b[32m━━━━━━━━━━━━━━━━━━━━\u001b[0m\u001b[37m\u001b[0m \u001b[1m4s\u001b[0m 319ms/step\n",
      "Predictions saved to r3_ResNet-34_1e-02_64_predictions.csv\n",
      "Training model ResNet-50  for configuration (0.01, 64)\n",
      "\u001b[1m8/8\u001b[0m \u001b[32m━━━━━━━━━━━━━━━━━━━━\u001b[0m\u001b[37m\u001b[0m \u001b[1m1s\u001b[0m 85ms/step - loss: 0.0711 - vel_x_eva: 0.8823 - vel_x_loss: 0.0510 - vel_x_r2_score: 0.8808 - vel_x_rmse: 0.2230 - vel_y_eva: 0.9734 - vel_y_loss: 0.0197 - vel_y_r2_score: 0.9725 - vel_y_rmse: 0.1358\n",
      "\u001b[1m8/8\u001b[0m \u001b[32m━━━━━━━━━━━━━━━━━━━━\u001b[0m\u001b[37m\u001b[0m \u001b[1m12s\u001b[0m 1s/step\n",
      "Predictions saved to r3_ResNet-50_1e-02_64_predictions.csv\n",
      "Training model ResNet-50V2  for configuration (0.01, 64)\n",
      "\u001b[1m8/8\u001b[0m \u001b[32m━━━━━━━━━━━━━━━━━━━━\u001b[0m\u001b[37m\u001b[0m \u001b[1m1s\u001b[0m 74ms/step - loss: 0.0443 - vel_x_eva: 0.9359 - vel_x_loss: 0.0265 - vel_x_r2_score: 0.9349 - vel_x_rmse: 0.1586 - vel_y_eva: 0.9765 - vel_y_loss: 0.0171 - vel_y_r2_score: 0.9760 - vel_y_rmse: 0.1284\n",
      "\u001b[1m8/8\u001b[0m \u001b[32m━━━━━━━━━━━━━━━━━━━━\u001b[0m\u001b[37m\u001b[0m \u001b[1m7s\u001b[0m 551ms/step\n",
      "Predictions saved to r3_ResNet-50V2_1e-02_64_predictions.csv\n",
      "Training model MobileNet  for configuration (0.01, 64)\n",
      "\u001b[1m8/8\u001b[0m \u001b[32m━━━━━━━━━━━━━━━━━━━━\u001b[0m\u001b[37m\u001b[0m \u001b[1m0s\u001b[0m 41ms/step - loss: 0.0170 - vel_x_eva: 0.9766 - vel_x_loss: 0.0095 - vel_x_r2_score: 0.9762 - vel_x_rmse: 0.0938 - vel_y_eva: 0.9906 - vel_y_loss: 0.0071 - vel_y_r2_score: 0.9905 - vel_y_rmse: 0.0839\n",
      "\u001b[1m8/8\u001b[0m \u001b[32m━━━━━━━━━━━━━━━━━━━━\u001b[0m\u001b[37m\u001b[0m \u001b[1m4s\u001b[0m 276ms/step\n",
      "Predictions saved to r3_MobileNet_1e-02_64_predictions.csv\n",
      "Training model EfficientNetB0  for configuration (0.01, 64)\n",
      "\u001b[1m8/8\u001b[0m \u001b[32m━━━━━━━━━━━━━━━━━━━━\u001b[0m\u001b[37m\u001b[0m \u001b[1m0s\u001b[0m 55ms/step - loss: 0.0317 - vel_x_eva: 0.9512 - vel_x_loss: 0.0187 - vel_x_r2_score: 0.9503 - vel_x_rmse: 0.1304 - vel_y_eva: 0.9832 - vel_y_loss: 0.0126 - vel_y_r2_score: 0.9828 - vel_y_rmse: 0.1113\n",
      "\u001b[1m8/8\u001b[0m \u001b[32m━━━━━━━━━━━━━━━━━━━━\u001b[0m\u001b[37m\u001b[0m \u001b[1m12s\u001b[0m 903ms/step\n",
      "Predictions saved to r3_EfficientNetB0_1e-02_64_predictions.csv\n"
     ]
    }
   ],
   "source": [
    "samples_dataframe = load_samples_dataframe(\"/kaggle/input/marketplace-navigation-dataset/dataset\")\n",
    "# samples_dataframe = samples_dataframe.sample(frac=0.05)\n",
    "\n",
    "round_number = 3\n",
    "seed = round_number + 1\n",
    "\n",
    "datasets = {}\n",
    "\n",
    "for model_description in models_descriptions:\n",
    "    dataset_key = tuple(model_description[\"input\"][\"shape\"])\n",
    "    dataset_key = model_description[\"input\"][\"grayscale\"], dataset_key\n",
    "    \n",
    "    if not dataset_key in datasets:\n",
    "        datasets[dataset_key] = build_train_val_test_datasets(\n",
    "            samples_dataframe,\n",
    "            model_description[\"input\"],\n",
    "            seed\n",
    "        )\n",
    "        \n",
    "        save_labels_from_dataset(datasets[dataset_key][\"test\"], f\"r{round_number}_y_true.csv\")\n",
    "        \n",
    "for configuration in configurations:\n",
    "    for model_description in models_descriptions:\n",
    "        print(\"Training model\", model_description[\"name\"], \" for configuration\", configuration)\n",
    "        \n",
    "        learning_rate, batch_size = configuration\n",
    "        dataset_key = tuple(model_description[\"input\"][\"shape\"])\n",
    "        dataset_key = model_description[\"input\"][\"grayscale\"], dataset_key\n",
    "\n",
    "        train_ds = datasets[dataset_key][\"train\"]\n",
    "        val_ds   = datasets[dataset_key][\"val\"]\n",
    "        test_ds  = datasets[dataset_key][\"test\"]\n",
    "        \n",
    "        train_ds = train_ds.batch(batch_size).prefetch(tf.data.AUTOTUNE)\n",
    "        val_ds   = val_ds.batch(batch_size).prefetch(tf.data.AUTOTUNE)\n",
    "        test_ds  = test_ds.batch(batch_size).prefetch(tf.data.AUTOTUNE)\n",
    "\n",
    "        model = build_model(model_description)\n",
    "        model.compile(\n",
    "            loss={\n",
    "                \"vel_x\": \"mean_squared_error\",\n",
    "                \"vel_y\": \"mean_squared_error\",\n",
    "            },\n",
    "            optimizer=keras.optimizers.Adam(learning_rate=learning_rate),\n",
    "            metrics={\n",
    "                \"vel_x\": [rmse, eva, r2_score],\n",
    "                \"vel_y\": [rmse, eva, r2_score],\n",
    "            },\n",
    "        )\n",
    "        model, history = train_model(model, train_ds, val_ds)\n",
    "\n",
    "        # Evaluate model\n",
    "        evaluation_metrics = model.evaluate(test_ds, return_dict=True)\n",
    "        \n",
    "        # Save predictions\n",
    "        predictions = model.predict(test_ds)\n",
    "        save_predictions(predictions, f\"r{round_number}_{model.name}_{learning_rate:.0e}_{batch_size}_predictions.csv\")\n",
    "\n",
    "        # Store metrics in results dict\n",
    "        results[model_description[\"name\"]][configuration] = evaluation_metrics\n",
    "\n",
    "        # Save model\n",
    "        file_name = f\"r{round_number}_{model.name}_{learning_rate:.0e}_{batch_size}\"\n",
    "        model.save(f\"{file_name}.keras\")\n",
    "        history.to_csv(f\"{file_name}.csv\")\n",
    "\n",
    "        # Save results dict\n",
    "        with open(\"results.pkl\", \"wb\") as results_file:\n",
    "            pickle.dump(results, results_file)"
   ]
  },
  {
   "cell_type": "code",
   "execution_count": null,
   "id": "4d66ca70",
   "metadata": {
    "papermill": {
     "duration": 0.020152,
     "end_time": "2025-07-02T14:48:19.102594",
     "exception": false,
     "start_time": "2025-07-02T14:48:19.082442",
     "status": "completed"
    },
    "tags": []
   },
   "outputs": [],
   "source": []
  }
 ],
 "metadata": {
  "kaggle": {
   "accelerator": "gpu",
   "dataSources": [
    {
     "datasetId": 6187980,
     "sourceId": 10061785,
     "sourceType": "datasetVersion"
    }
   ],
   "dockerImageVersionId": 31011,
   "isGpuEnabled": true,
   "isInternetEnabled": true,
   "language": "python",
   "sourceType": "notebook"
  },
  "kernelspec": {
   "display_name": "Python 3",
   "language": "python",
   "name": "python3"
  },
  "language_info": {
   "codemirror_mode": {
    "name": "ipython",
    "version": 3
   },
   "file_extension": ".py",
   "mimetype": "text/x-python",
   "name": "python",
   "nbconvert_exporter": "python",
   "pygments_lexer": "ipython3",
   "version": "3.11.11"
  },
  "papermill": {
   "default_parameters": {},
   "duration": 23428.069379,
   "end_time": "2025-07-02T14:48:23.665755",
   "environment_variables": {},
   "exception": null,
   "input_path": "__notebook__.ipynb",
   "output_path": "__notebook__.ipynb",
   "parameters": {},
   "start_time": "2025-07-02T08:17:55.596376",
   "version": "2.6.0"
  }
 },
 "nbformat": 4,
 "nbformat_minor": 5
}
