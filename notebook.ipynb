{
 "cells": [
  {
   "cell_type": "code",
   "execution_count": 1,
   "id": "6f03965b",
   "metadata": {
    "_cell_guid": "31cda6c9-1a82-4124-b805-116202195863",
    "_uuid": "80eb9cab-e2af-4b59-bb1d-c9da376c23fb",
    "collapsed": false,
    "execution": {
     "iopub.execute_input": "2025-06-27T20:55:56.482507Z",
     "iopub.status.busy": "2025-06-27T20:55:56.482225Z",
     "iopub.status.idle": "2025-06-27T20:56:11.556230Z",
     "shell.execute_reply": "2025-06-27T20:56:11.555571Z"
    },
    "jupyter": {
     "outputs_hidden": false
    },
    "papermill": {
     "duration": 15.081357,
     "end_time": "2025-06-27T20:56:11.557568",
     "exception": false,
     "start_time": "2025-06-27T20:55:56.476211",
     "status": "completed"
    },
    "tags": []
   },
   "outputs": [
    {
     "name": "stderr",
     "output_type": "stream",
     "text": [
      "2025-06-27 20:56:00.735203: E external/local_xla/xla/stream_executor/cuda/cuda_fft.cc:477] Unable to register cuFFT factory: Attempting to register factory for plugin cuFFT when one has already been registered\n",
      "WARNING: All log messages before absl::InitializeLog() is called are written to STDERR\n",
      "E0000 00:00:1751057760.936955      19 cuda_dnn.cc:8310] Unable to register cuDNN factory: Attempting to register factory for plugin cuDNN when one has already been registered\n",
      "E0000 00:00:1751057760.993693      19 cuda_blas.cc:1418] Unable to register cuBLAS factory: Attempting to register factory for plugin cuBLAS when one has already been registered\n"
     ]
    }
   ],
   "source": [
    "import numpy as np\n",
    "import pandas as pd\n",
    "import os\n",
    "import shutil\n",
    "import pickle\n",
    "import matplotlib.pyplot as plt\n",
    "from PIL import Image\n",
    "\n",
    "from sklearn.model_selection import train_test_split\n",
    "\n",
    "os.environ[\"KERAS_BACKEND\"] = \"tensorflow\"\n",
    "\n",
    "import tensorflow as tf\n",
    "\n",
    "import keras\n",
    "import keras.backend as K\n",
    "\n",
    "from tqdm import tqdm\n",
    "\n",
    "from concurrent.futures import ThreadPoolExecutor\n",
    "\n",
    "%matplotlib inline"
   ]
  },
  {
   "cell_type": "markdown",
   "id": "ea7657f1",
   "metadata": {
    "_cell_guid": "eb6ae085-ac99-47ec-a0a2-5683f602486e",
    "_uuid": "ff3814a7-d691-41bc-b0f1-6da33c4a9ac2",
    "collapsed": false,
    "jupyter": {
     "outputs_hidden": false
    },
    "papermill": {
     "duration": 0.003865,
     "end_time": "2025-06-27T20:56:11.565887",
     "exception": false,
     "start_time": "2025-06-27T20:56:11.562022",
     "status": "completed"
    },
    "tags": []
   },
   "source": [
    "# 4. Regression metrics"
   ]
  },
  {
   "cell_type": "code",
   "execution_count": 2,
   "id": "1b4c230c",
   "metadata": {
    "_cell_guid": "2ff167d9-a16d-45f2-8326-5ddacc1e0035",
    "_uuid": "dbc1d7e6-369e-474e-867d-c88fc75a5eec",
    "collapsed": false,
    "execution": {
     "iopub.execute_input": "2025-06-27T20:56:11.574856Z",
     "iopub.status.busy": "2025-06-27T20:56:11.574392Z",
     "iopub.status.idle": "2025-06-27T20:56:11.582430Z",
     "shell.execute_reply": "2025-06-27T20:56:11.581845Z"
    },
    "jupyter": {
     "outputs_hidden": false
    },
    "papermill": {
     "duration": 0.013894,
     "end_time": "2025-06-27T20:56:11.583569",
     "exception": false,
     "start_time": "2025-06-27T20:56:11.569675",
     "status": "completed"
    },
    "tags": []
   },
   "outputs": [],
   "source": [
    "@tf.function\n",
    "def rmse(y_true, y_pred):\n",
    "    y_true = tf.cast(y_true, tf.float32)\n",
    "    y_pred = tf.cast(y_pred, tf.float32)\n",
    "    \n",
    "    y_true = tf.reshape(y_true, [-1, 1])\n",
    "    y_pred = tf.reshape(y_pred, [-1, 1])\n",
    "    \n",
    "    return tf.sqrt(tf.reduce_mean(tf.square(y_true - y_pred)))\n",
    "\n",
    "@tf.function\n",
    "def eva(y_true, y_pred):\n",
    "    y_true = tf.cast(y_true, tf.float32)\n",
    "    y_pred = tf.cast(y_pred, tf.float32)\n",
    "    \n",
    "    y_true = tf.reshape(y_true, [-1, 1])\n",
    "    y_pred = tf.reshape(y_pred, [-1, 1])\n",
    "\n",
    "    numerator = tf.math.reduce_variance(y_true - y_pred)\n",
    "    denominator = tf.math.reduce_variance(y_true) + tf.keras.backend.epsilon()\n",
    "    \n",
    "    return 1.0 - numerator / denominator\n",
    "\n",
    "@tf.function\n",
    "def r2_score(y_true, y_pred):\n",
    "    y_true = tf.cast(y_true, tf.float32)\n",
    "    y_pred = tf.cast(y_pred, tf.float32)\n",
    "    \n",
    "    y_true = tf.reshape(y_true, [-1, 1])\n",
    "    y_pred = tf.reshape(y_pred, [-1, 1])\n",
    "    \n",
    "    ss_res = tf.reduce_sum(tf.square(y_true - y_pred))\n",
    "    ss_tot = tf.reduce_sum(tf.square(y_true - tf.reduce_mean(y_true)))\n",
    "    \n",
    "    return 1 - (ss_res / (ss_tot + K.epsilon()))"
   ]
  },
  {
   "cell_type": "markdown",
   "id": "96a910b0",
   "metadata": {
    "_cell_guid": "47399b8c-5071-4124-9cbb-0b091cae6af5",
    "_uuid": "d2959917-ade9-410a-81b6-ea0d9f1efa35",
    "collapsed": false,
    "jupyter": {
     "outputs_hidden": false
    },
    "papermill": {
     "duration": 0.003733,
     "end_time": "2025-06-27T20:56:11.591304",
     "exception": false,
     "start_time": "2025-06-27T20:56:11.587571",
     "status": "completed"
    },
    "tags": []
   },
   "source": [
    "# 4. ResNet 8/18/34 construction"
   ]
  },
  {
   "cell_type": "code",
   "execution_count": 3,
   "id": "8c20dfb6",
   "metadata": {
    "_cell_guid": "60c3f6be-a0f0-44b2-9ace-a203ae45387d",
    "_uuid": "6a63061c-9d12-4bf9-ad97-605fa393efe5",
    "collapsed": false,
    "execution": {
     "iopub.execute_input": "2025-06-27T20:56:11.599932Z",
     "iopub.status.busy": "2025-06-27T20:56:11.599699Z",
     "iopub.status.idle": "2025-06-27T20:56:11.604594Z",
     "shell.execute_reply": "2025-06-27T20:56:11.604016Z"
    },
    "jupyter": {
     "outputs_hidden": false
    },
    "papermill": {
     "duration": 0.010669,
     "end_time": "2025-06-27T20:56:11.605634",
     "exception": false,
     "start_time": "2025-06-27T20:56:11.594965",
     "status": "completed"
    },
    "tags": []
   },
   "outputs": [],
   "source": [
    "def resnet_block(x, filters, stride=1, use_projection=False):\n",
    "    shortcut = x\n",
    "\n",
    "    x = keras.layers.Conv2D(filters, 3, strides=stride, padding='same', use_bias=False)(x)\n",
    "    x = keras.layers.BatchNormalization()(x)\n",
    "    x = keras.layers.ReLU()(x)\n",
    "\n",
    "    x = keras.layers.Conv2D(filters, 3, strides=1, padding='same', use_bias=False)(x)\n",
    "    x = keras.layers.BatchNormalization()(x)\n",
    "\n",
    "    if use_projection:\n",
    "        shortcut = keras.layers.Conv2D(filters, 1, strides=stride, use_bias=False)(shortcut)\n",
    "        shortcut = keras.layers.BatchNormalization()(shortcut)\n",
    "\n",
    "    x = keras.layers.Add()([x, shortcut])\n",
    "    x = keras.layers.ReLU()(x)\n",
    "    return x"
   ]
  },
  {
   "cell_type": "code",
   "execution_count": 4,
   "id": "c9ebd551",
   "metadata": {
    "_cell_guid": "36e1a4e9-a964-438b-82f8-e1f6b6a13fb7",
    "_uuid": "70aff8e4-29bd-4438-a3c0-fbfa0a441b21",
    "collapsed": false,
    "execution": {
     "iopub.execute_input": "2025-06-27T20:56:11.614270Z",
     "iopub.status.busy": "2025-06-27T20:56:11.614050Z",
     "iopub.status.idle": "2025-06-27T20:56:11.618762Z",
     "shell.execute_reply": "2025-06-27T20:56:11.618250Z"
    },
    "jupyter": {
     "outputs_hidden": false
    },
    "papermill": {
     "duration": 0.010231,
     "end_time": "2025-06-27T20:56:11.619729",
     "exception": false,
     "start_time": "2025-06-27T20:56:11.609498",
     "status": "completed"
    },
    "tags": []
   },
   "outputs": [],
   "source": [
    "def ResNet8_DroNet(input_shape=(200, 200, 1), dropout_rate=0.3):\n",
    "    inputs = keras.Input(shape=input_shape)\n",
    "\n",
    "    x = keras.layers.Conv2D(32, 5, strides=2, padding='same', use_bias=False)(inputs)\n",
    "    x = keras.layers.BatchNormalization()(x)\n",
    "    x = keras.layers.ReLU()(x)\n",
    "\n",
    "    # Residual Blocks\n",
    "    x = resnet_block(x, 32)\n",
    "    x = resnet_block(x, 32)\n",
    "\n",
    "    x = resnet_block(x, 64, stride=2, use_projection=True)\n",
    "    x = resnet_block(x, 64)\n",
    "\n",
    "    x = resnet_block(x, 128, stride=2, use_projection=True)\n",
    "    x = resnet_block(x, 128)\n",
    "\n",
    "    return keras.models.Model(inputs, x, name=\"ResNet8_DroNet\")"
   ]
  },
  {
   "cell_type": "code",
   "execution_count": 5,
   "id": "71fca8fa",
   "metadata": {
    "_cell_guid": "eb601a36-0827-4cd8-900a-1421fbb33180",
    "_uuid": "fd96d071-c11b-406b-8d54-16fdbe7920fa",
    "collapsed": false,
    "execution": {
     "iopub.execute_input": "2025-06-27T20:56:11.628710Z",
     "iopub.status.busy": "2025-06-27T20:56:11.628491Z",
     "iopub.status.idle": "2025-06-27T20:56:11.633670Z",
     "shell.execute_reply": "2025-06-27T20:56:11.633140Z"
    },
    "jupyter": {
     "outputs_hidden": false
    },
    "papermill": {
     "duration": 0.010941,
     "end_time": "2025-06-27T20:56:11.634705",
     "exception": false,
     "start_time": "2025-06-27T20:56:11.623764",
     "status": "completed"
    },
    "tags": []
   },
   "outputs": [],
   "source": [
    "def ResNet18(input_shape=(224, 224, 3)):\n",
    "    inputs = keras.Input(shape=input_shape)\n",
    "    \n",
    "    x = keras.layers.Conv2D(64, 7, strides=2, padding='same', use_bias=False)(inputs)\n",
    "    x = keras.layers.BatchNormalization()(x)\n",
    "    x = keras.layers.ReLU()(x)\n",
    "    x = keras.layers.MaxPooling2D(3, strides=2, padding='same')(x)\n",
    "\n",
    "    # Conv2_x\n",
    "    x = resnet_block(x, 64)\n",
    "    x = resnet_block(x, 64)\n",
    "\n",
    "    # Conv3_x\n",
    "    x = resnet_block(x, 128, stride=2, use_projection=True)\n",
    "    x = resnet_block(x, 128)\n",
    "\n",
    "    # Conv4_x\n",
    "    x = resnet_block(x, 256, stride=2, use_projection=True)\n",
    "    x = resnet_block(x, 256)\n",
    "\n",
    "    # Conv5_x\n",
    "    x = resnet_block(x, 512, stride=2, use_projection=True)\n",
    "    x = resnet_block(x, 512)\n",
    "\n",
    "    return keras.models.Model(inputs, x, name=\"ResNet18_backbone\")"
   ]
  },
  {
   "cell_type": "code",
   "execution_count": 6,
   "id": "06beeddd",
   "metadata": {
    "_cell_guid": "bf96671e-1e5a-4a52-8cda-acec12713328",
    "_uuid": "c7359e0e-6fd4-4e19-a903-f746ea3b2031",
    "collapsed": false,
    "execution": {
     "iopub.execute_input": "2025-06-27T20:56:11.643396Z",
     "iopub.status.busy": "2025-06-27T20:56:11.643193Z",
     "iopub.status.idle": "2025-06-27T20:56:11.648936Z",
     "shell.execute_reply": "2025-06-27T20:56:11.648364Z"
    },
    "jupyter": {
     "outputs_hidden": false
    },
    "papermill": {
     "duration": 0.011606,
     "end_time": "2025-06-27T20:56:11.650336",
     "exception": false,
     "start_time": "2025-06-27T20:56:11.638730",
     "status": "completed"
    },
    "tags": []
   },
   "outputs": [],
   "source": [
    "def ResNet34(input_shape=(224, 224, 3)):\n",
    "    inputs = keras.Input(shape=input_shape)\n",
    "    \n",
    "    x = keras.layers.Conv2D(64, 7, strides=2, padding='same', use_bias=False)(inputs)\n",
    "    x = keras.layers.BatchNormalization()(x)\n",
    "    x = keras.layers.ReLU()(x)\n",
    "    x = keras.layers.MaxPooling2D(3, strides=2, padding='same')(x)\n",
    "\n",
    "    # Conv2_x (3 blocks)\n",
    "    for _ in range(3):\n",
    "        x = resnet_block(x, 64)\n",
    "\n",
    "    # Conv3_x (4 blocks)\n",
    "    x = resnet_block(x, 128, stride=2, use_projection=True)\n",
    "    for _ in range(3):\n",
    "        x = resnet_block(x, 128)\n",
    "\n",
    "    # Conv4_x (6 blocks)\n",
    "    x = resnet_block(x, 256, stride=2, use_projection=True)\n",
    "    for _ in range(5):\n",
    "        x = resnet_block(x, 256)\n",
    "\n",
    "    # Conv5_x (3 blocks)\n",
    "    x = resnet_block(x, 512, stride=2, use_projection=True)\n",
    "    for _ in range(2):\n",
    "        x = resnet_block(x, 512)\n",
    "\n",
    "    return keras.models.Model(inputs, x, name=\"ResNet34_backbone\")"
   ]
  },
  {
   "cell_type": "markdown",
   "id": "9695f68c",
   "metadata": {
    "_cell_guid": "38dff14a-d86f-4e88-b050-acfe49c6a8ca",
    "_uuid": "e8131d1c-9673-4df0-8bdc-4056bff54c3d",
    "collapsed": false,
    "jupyter": {
     "outputs_hidden": false
    },
    "papermill": {
     "duration": 0.003855,
     "end_time": "2025-06-27T20:56:11.658174",
     "exception": false,
     "start_time": "2025-06-27T20:56:11.654319",
     "status": "completed"
    },
    "tags": []
   },
   "source": [
    "# Grid search configurations"
   ]
  },
  {
   "cell_type": "code",
   "execution_count": 7,
   "id": "36a56f68",
   "metadata": {
    "execution": {
     "iopub.execute_input": "2025-06-27T20:56:11.667007Z",
     "iopub.status.busy": "2025-06-27T20:56:11.666808Z",
     "iopub.status.idle": "2025-06-27T20:56:11.670520Z",
     "shell.execute_reply": "2025-06-27T20:56:11.669806Z"
    },
    "papermill": {
     "duration": 0.00934,
     "end_time": "2025-06-27T20:56:11.671586",
     "exception": false,
     "start_time": "2025-06-27T20:56:11.662246",
     "status": "completed"
    },
    "tags": []
   },
   "outputs": [],
   "source": [
    "from itertools import product\n",
    "\n",
    "configurations = list(product([1e-2, 1e-3, 1e-4], [32, 64, 128]))"
   ]
  },
  {
   "cell_type": "markdown",
   "id": "4997275e",
   "metadata": {
    "_cell_guid": "39de600a-4622-43e0-8762-5bbc77aed4e1",
    "_uuid": "49029c5d-396b-406c-b077-8ba68255fd92",
    "collapsed": false,
    "jupyter": {
     "outputs_hidden": false
    },
    "papermill": {
     "duration": 0.003778,
     "end_time": "2025-06-27T20:56:11.679386",
     "exception": false,
     "start_time": "2025-06-27T20:56:11.675608",
     "status": "completed"
    },
    "tags": []
   },
   "source": [
    "# Models descriptions"
   ]
  },
  {
   "cell_type": "code",
   "execution_count": 8,
   "id": "64d0a6a4",
   "metadata": {
    "_cell_guid": "6ac38ad7-4355-4733-8478-1c68d1231670",
    "_uuid": "82faa4c8-711e-4663-bc08-d36895955d3f",
    "collapsed": false,
    "execution": {
     "iopub.execute_input": "2025-06-27T20:56:11.688282Z",
     "iopub.status.busy": "2025-06-27T20:56:11.688008Z",
     "iopub.status.idle": "2025-06-27T20:56:11.694465Z",
     "shell.execute_reply": "2025-06-27T20:56:11.693744Z"
    },
    "jupyter": {
     "outputs_hidden": false
    },
    "papermill": {
     "duration": 0.012213,
     "end_time": "2025-06-27T20:56:11.695669",
     "exception": false,
     "start_time": "2025-06-27T20:56:11.683456",
     "status": "completed"
    },
    "tags": []
   },
   "outputs": [],
   "source": [
    "models_descriptions = [\n",
    "    {\n",
    "        \"name\": \"MobileNet_imagenet\",\n",
    "        \"backbone\": {\n",
    "            \"name\": \"MobileNet\",\n",
    "            \"weights\": \"imagenet\"\n",
    "        },\n",
    "        \"input\": {\n",
    "            \"shape\": [224, 224, 3],\n",
    "        }\n",
    "    },\n",
    "    {\n",
    "        \"name\": \"MobileNet_scratch\",\n",
    "        \"backbone\": {\n",
    "            \"name\": \"MobileNet\",\n",
    "        },\n",
    "        \"input\": {\n",
    "            \"shape\": [224, 224, 3],\n",
    "        }\n",
    "    },\n",
    "    {\n",
    "        \"name\": \"MobileNet_scratch_gray\",\n",
    "        \"backbone\": {\n",
    "            \"name\": \"MobileNet\",\n",
    "        },\n",
    "        \"input\": {\n",
    "            \"shape\": [224, 224, 3],\n",
    "            \"grayscale\": True\n",
    "        }\n",
    "    },\n",
    "]\n",
    "\n",
    "# Format verification\n",
    "for model_description in models_descriptions:\n",
    "    if \"backbone\" not in model_description:\n",
    "        raise KeyError(\"backbone not specified at:\\n\" + str(model_description))\n",
    "\n",
    "    if \"name\" not in model_description[\"backbone\"]:\n",
    "        raise KeyError(\"backbone.name not specified at:\\n\" + str(model_description))\n",
    "\n",
    "    if \"weights\" not in model_description[\"backbone\"]:\n",
    "        model_description[\"backbone\"][\"weights\"] = None\n",
    "    \n",
    "    if \"name\" not in model_description:\n",
    "        model_description[\"name\"] = model_description[\"backbone\"]\n",
    "\n",
    "    if \"head_description\" not in model_description:\n",
    "        model_description[\"head_description\"] = []\n",
    "\n",
    "    if \"weights\" not in model_description:\n",
    "        model_description[\"weights\"] = None\n",
    "\n",
    "    if \"input\" not in model_description:\n",
    "        raise KeyError(\"input not specified at:\\n\" + str(model_description))\n",
    "\n",
    "    if \"shape\" not in model_description[\"input\"]:\n",
    "        raise KeyError(\"input.shape not specified at:\\n\" + str(model_description))\n",
    "    \n",
    "    if \"grayscale\" not in model_description[\"input\"]:\n",
    "        model_description[\"input\"][\"grayscale\"] = False"
   ]
  },
  {
   "cell_type": "markdown",
   "id": "f0bf5e11",
   "metadata": {
    "papermill": {
     "duration": 0.00381,
     "end_time": "2025-06-27T20:56:11.703334",
     "exception": false,
     "start_time": "2025-06-27T20:56:11.699524",
     "status": "completed"
    },
    "tags": []
   },
   "source": [
    "# Load dataset and build pipeline"
   ]
  },
  {
   "cell_type": "code",
   "execution_count": 9,
   "id": "bfd4f8aa",
   "metadata": {
    "execution": {
     "iopub.execute_input": "2025-06-27T20:56:11.711701Z",
     "iopub.status.busy": "2025-06-27T20:56:11.711498Z",
     "iopub.status.idle": "2025-06-27T20:56:11.715611Z",
     "shell.execute_reply": "2025-06-27T20:56:11.714916Z"
    },
    "papermill": {
     "duration": 0.009448,
     "end_time": "2025-06-27T20:56:11.716711",
     "exception": false,
     "start_time": "2025-06-27T20:56:11.707263",
     "status": "completed"
    },
    "tags": []
   },
   "outputs": [],
   "source": [
    "def load_samples_dataframe(path: str):\n",
    "    images_folder = os.path.join(path, \"images\")\n",
    "\n",
    "    samples_df = pd.read_csv(\n",
    "        os.path.join(path, \"market_dataset_xy.txt\"),\n",
    "        sep=\" \",\n",
    "        header=None,\n",
    "        names=[\"file path\", \"_\", \"datetime\", \"vel_y\", \"vel_x\"]\n",
    "    )\n",
    "\n",
    "    samples_df[\"file path\"] = (\n",
    "        samples_df[\"file path\"]\n",
    "        .apply(lambda image_name: os.path.join(path, \"images\", image_name))\n",
    "    )\n",
    "    \n",
    "    return samples_df"
   ]
  },
  {
   "cell_type": "code",
   "execution_count": 10,
   "id": "5c59a156",
   "metadata": {
    "execution": {
     "iopub.execute_input": "2025-06-27T20:56:11.724872Z",
     "iopub.status.busy": "2025-06-27T20:56:11.724665Z",
     "iopub.status.idle": "2025-06-27T20:56:11.729631Z",
     "shell.execute_reply": "2025-06-27T20:56:11.729125Z"
    },
    "papermill": {
     "duration": 0.010258,
     "end_time": "2025-06-27T20:56:11.730699",
     "exception": false,
     "start_time": "2025-06-27T20:56:11.720441",
     "status": "completed"
    },
    "tags": []
   },
   "outputs": [],
   "source": [
    "@tf.function\n",
    "def augment(image, label):\n",
    "    # Brightness and contrast\n",
    "    image = tf.image.random_brightness(image, max_delta=0.2)\n",
    "    image = tf.image.random_contrast(image, lower=0.8, upper=1.2)\n",
    "    \n",
    "    # Flip horizontally\n",
    "    do_flip = tf.random.uniform([]) > 0.5\n",
    "    image = tf.cond(do_flip, lambda: tf.image.flip_left_right(image), lambda: image)\n",
    "    \n",
    "    vel_x = tf.cond(do_flip, lambda: -label[\"vel_x\"], lambda: label[\"vel_x\"])\n",
    "    vel_y = label[\"vel_y\"]\n",
    "    \n",
    "    # Optionally add noise\n",
    "    noise = tf.random.normal(shape=tf.shape(image), mean=0.0, stddev=0.025)\n",
    "    image = image + noise\n",
    "    image = tf.clip_by_value(image, 0.0, 1.0)\n",
    "\n",
    "    return image, {\"vel_x\": vel_x, \"vel_y\": vel_y}"
   ]
  },
  {
   "cell_type": "code",
   "execution_count": 11,
   "id": "3d3b45f9",
   "metadata": {
    "execution": {
     "iopub.execute_input": "2025-06-27T20:56:11.739755Z",
     "iopub.status.busy": "2025-06-27T20:56:11.739532Z",
     "iopub.status.idle": "2025-06-27T20:56:11.743987Z",
     "shell.execute_reply": "2025-06-27T20:56:11.743332Z"
    },
    "papermill": {
     "duration": 0.010075,
     "end_time": "2025-06-27T20:56:11.744980",
     "exception": false,
     "start_time": "2025-06-27T20:56:11.734905",
     "status": "completed"
    },
    "tags": []
   },
   "outputs": [],
   "source": [
    "def load_image(path, mode=\"color\"):\n",
    "    image = tf.io.read_file(path)\n",
    "\n",
    "    if mode == \"color\":\n",
    "        image = tf.image.decode_jpeg(image, channels=3)\n",
    "\n",
    "    elif mode == \"grayscale1\":\n",
    "        image = tf.image.decode_jpeg(image, channels=1)\n",
    "\n",
    "    elif mode == \"grayscale3\":\n",
    "        image = tf.image.decode_jpeg(image, channels=3)\n",
    "        image = tf.image.rgb_to_grayscale(image)\n",
    "        image = tf.image.grayscale_to_rgb(image)\n",
    "\n",
    "    else:\n",
    "        raise ValueError(f\"Invalid mode: {mode}\")\n",
    "\n",
    "    return image"
   ]
  },
  {
   "cell_type": "code",
   "execution_count": 12,
   "id": "643a9705",
   "metadata": {
    "execution": {
     "iopub.execute_input": "2025-06-27T20:56:11.753373Z",
     "iopub.status.busy": "2025-06-27T20:56:11.753166Z",
     "iopub.status.idle": "2025-06-27T20:56:11.759953Z",
     "shell.execute_reply": "2025-06-27T20:56:11.759438Z"
    },
    "papermill": {
     "duration": 0.012164,
     "end_time": "2025-06-27T20:56:11.760990",
     "exception": false,
     "start_time": "2025-06-27T20:56:11.748826",
     "status": "completed"
    },
    "tags": []
   },
   "outputs": [],
   "source": [
    "def build_train_val_test_datasets(samples_dataframe, input_description: dict, seed=42):\n",
    "    # Split\n",
    "    df_train, df_temp = train_test_split(samples_dataframe, test_size=0.4, random_state=seed)\n",
    "    df_val, df_test = train_test_split(df_temp, test_size=0.5, random_state=seed)\n",
    "\n",
    "    resolution = input_description[\"shape\"][:2]\n",
    "    channels = input_description[\"shape\"][2]\n",
    "\n",
    "    if not input_description[\"grayscale\"]:\n",
    "        mode = \"color\"\n",
    "    elif channels == 1:\n",
    "        mode = \"grayscale1\"\n",
    "    elif channels == 3:\n",
    "        mode = \"grayscale3\"\n",
    "\n",
    "    def process_sample(path, label):\n",
    "        image = load_image(path, mode=mode)\n",
    "        image = tf.image.resize(image, resolution)\n",
    "        image.set_shape(input_description[\"shape\"])\n",
    "        image = tf.cast(image, tf.float32) / 255.0\n",
    "\n",
    "        return image, label\n",
    "\n",
    "    def df_to_tf_dataset(df, training=False):\n",
    "        paths = tf.constant(df[\"file path\"].tolist())\n",
    "        vel_x = tf.constant(df[\"vel_x\"].astype(\"float32\").tolist())\n",
    "        vel_y = tf.constant(df[\"vel_y\"].astype(\"float32\").tolist())\n",
    "    \n",
    "        ds = tf.data.Dataset.from_tensor_slices((paths, {\"vel_x\": vel_x, \"vel_y\": vel_y}))\n",
    "    \n",
    "        ds = ds.map(process_sample, num_parallel_calls=tf.data.AUTOTUNE)\n",
    "        ds = ds.cache()\n",
    "    \n",
    "        if training:\n",
    "            ds = ds.shuffle(len(df), reshuffle_each_iteration=True)\n",
    "            ds = ds.map(augment, num_parallel_calls=tf.data.AUTOTUNE)\n",
    "            \n",
    "        return ds\n",
    "\n",
    "    return {\n",
    "        \"train\": df_to_tf_dataset(df_train, training=True),\n",
    "        \"val\":   df_to_tf_dataset(df_val, training=False),\n",
    "        \"test\":  df_to_tf_dataset(df_test, training=False),\n",
    "    }"
   ]
  },
  {
   "cell_type": "code",
   "execution_count": 13,
   "id": "0220b85d",
   "metadata": {
    "execution": {
     "iopub.execute_input": "2025-06-27T20:56:11.769564Z",
     "iopub.status.busy": "2025-06-27T20:56:11.769012Z",
     "iopub.status.idle": "2025-06-27T20:56:11.775173Z",
     "shell.execute_reply": "2025-06-27T20:56:11.774633Z"
    },
    "papermill": {
     "duration": 0.011406,
     "end_time": "2025-06-27T20:56:11.776188",
     "exception": false,
     "start_time": "2025-06-27T20:56:11.764782",
     "status": "completed"
    },
    "tags": []
   },
   "outputs": [],
   "source": [
    "def instantiate_backbone(backbone_name, weights=None):\n",
    "    if backbone_name == \"ResNet-8\":\n",
    "        if weights is not None:\n",
    "            print(\"[INFO] No pre-trained weights for available ResNet-8\")\n",
    "        return ResNet8_DroNet(input_shape=(200, 200, 1))\n",
    "    \n",
    "    if backbone_name == \"ResNet-18\":\n",
    "        if weights is not None:\n",
    "            print(\"[INFO] No pre-trained weights for available ResNet-18\")\n",
    "        return ResNet18(input_shape=(224, 224, 3))\n",
    "        \n",
    "    if backbone_name == \"ResNet-34\":\n",
    "        if weights is not None:\n",
    "            print(\"[INFO] No pre-trained weights available for ResNet-34\")\n",
    "        return ResNet34(input_shape=(224, 224, 3))\n",
    "\n",
    "    if backbone_name == \"ResNet-50\":\n",
    "        return keras.applications.ResNet50(\n",
    "            include_top=False,\n",
    "            input_shape=(224, 224, 3),\n",
    "            weights=\"imagenet\",\n",
    "            pooling=None,\n",
    "        )\n",
    "\n",
    "    if backbone_name == \"ResNet-50V2\":\n",
    "        return keras.applications.ResNet50V2(\n",
    "            include_top=False,\n",
    "            input_shape=(224, 224, 3),\n",
    "            weights=\"imagenet\",\n",
    "            pooling=None,\n",
    "        )\n",
    "\n",
    "    if backbone_name == \"MobileNet\":\n",
    "        return keras.applications.MobileNet(\n",
    "            include_top=False,\n",
    "            input_shape=(224, 224, 3),\n",
    "            weights=\"imagenet\",\n",
    "            pooling=None,\n",
    "            alpha=1.0,\n",
    "        )\n",
    "\n",
    "    if backbone_name == \"MobileNetV2\":\n",
    "        return keras.applications.MobileNetV2(\n",
    "            include_top=False,\n",
    "            input_shape=(224, 224, 3),\n",
    "            weights=\"imagenet\",\n",
    "            pooling=None,\n",
    "            alpha=1.0,\n",
    "        )\n",
    "\n",
    "    if backbone_name == \"EfficientNetB0\":\n",
    "        return keras.applications.EfficientNetB0(\n",
    "            include_top=False,\n",
    "            input_shape=(224, 224, 3),\n",
    "            weights=\"imagenet\",\n",
    "            pooling=None,\n",
    "        )\n",
    "    \n",
    "    raise ValueError(f\"Backbone {backbone_name} not implemented.\")"
   ]
  },
  {
   "cell_type": "code",
   "execution_count": 14,
   "id": "27ceae3a",
   "metadata": {
    "execution": {
     "iopub.execute_input": "2025-06-27T20:56:11.784414Z",
     "iopub.status.busy": "2025-06-27T20:56:11.784224Z",
     "iopub.status.idle": "2025-06-27T20:56:11.790761Z",
     "shell.execute_reply": "2025-06-27T20:56:11.790266Z"
    },
    "papermill": {
     "duration": 0.011875,
     "end_time": "2025-06-27T20:56:11.791752",
     "exception": false,
     "start_time": "2025-06-27T20:56:11.779877",
     "status": "completed"
    },
    "tags": []
   },
   "outputs": [],
   "source": [
    "def build_model(model_description: dict):\n",
    "    input_shape = model_description[\"input\"][\"shape\"]\n",
    "    input_shape = tuple(input_shape)\n",
    "\n",
    "    backbone_name = model_description[\"backbone\"][\"name\"]\n",
    "    backbone_weights = model_description[\"backbone\"][\"weights\"]\n",
    "\n",
    "    PREPROCESS = {\n",
    "        \"MobileNet\":       keras.applications.mobilenet.preprocess_input,\n",
    "        \"MobileNetV2\":     keras.applications.mobilenet_v2.preprocess_input,\n",
    "        \"ResNet-50\":       lambda x: keras.applications.resnet.preprocess_input(x, mode=\"caffe\"),\n",
    "        \"ResNet-50V2\":     keras.applications.resnet_v2.preprocess_input,\n",
    "        \"EfficientNetB0\":  keras.applications.efficientnet.preprocess_input,\n",
    "    }\n",
    "    \n",
    "    inputs = keras.layers.Input(input_shape)\n",
    "    x = keras.layers.Rescaling(255.)(inputs) # To parse from [0, 1] to [0, 225]\n",
    "    x = PREPROCESS.get(backbone_name, tf.identity)(x)\n",
    "\n",
    "    backbone = instantiate_backbone(backbone_name, weights=backbone_weights)\n",
    "    if backbone_weights:\n",
    "        backbone.trainable = False\n",
    "\n",
    "    x = backbone(x)\n",
    "    x = keras.layers.GlobalAveragePooling2D(name=\"global_pool\")(x)\n",
    "    x = keras.layers.Dropout(0.3, name=\"dropout\")(x)\n",
    "\n",
    "    for i, (nodes, use_batch_normalization, use_dropout) in enumerate(model_description[\"head_description\"]):\n",
    "        use_bias = not use_batch_normalization\n",
    "        \n",
    "        x = keras.layers.Dense(nodes, use_bias=use_bias, activation=\"linear\", name=f\"dense_{i}\")(x)\n",
    "\n",
    "        if use_batch_normalization:\n",
    "            x = keras.layers.BatchNormalization(name=f\"batchnorm_{i}\")(x)\n",
    "\n",
    "        x = keras.layers.ReLU(name=f\"relu_{i}\")(x)\n",
    "        \n",
    "        if use_dropout:\n",
    "            x = keras.layers.Dropout(0.3, name=f\"dropout_{i}\")(x)\n",
    "    \n",
    "    output_x = keras.layers.Dense(1, name=\"vel_x\")(x)\n",
    "    output_y = keras.layers.Dense(1, name=\"vel_y\")(x)\n",
    "\n",
    "    outputs = [output_x, output_y]\n",
    "\n",
    "    return keras.models.Model(\n",
    "        inputs=inputs,\n",
    "        outputs=outputs,\n",
    "        name=model_description[\"name\"]\n",
    "    )"
   ]
  },
  {
   "cell_type": "code",
   "execution_count": 15,
   "id": "7db8d2c8",
   "metadata": {
    "_cell_guid": "81fd146c-569e-41cd-a3b0-3697be73f389",
    "_uuid": "bf0dc136-a787-4acb-8200-a681d2426b5e",
    "collapsed": false,
    "execution": {
     "iopub.execute_input": "2025-06-27T20:56:11.799932Z",
     "iopub.status.busy": "2025-06-27T20:56:11.799760Z",
     "iopub.status.idle": "2025-06-27T20:56:11.804576Z",
     "shell.execute_reply": "2025-06-27T20:56:11.804005Z"
    },
    "jupyter": {
     "outputs_hidden": false
    },
    "papermill": {
     "duration": 0.010181,
     "end_time": "2025-06-27T20:56:11.805658",
     "exception": false,
     "start_time": "2025-06-27T20:56:11.795477",
     "status": "completed"
    },
    "tags": []
   },
   "outputs": [],
   "source": [
    "def train_model(model: keras.Model, train_dataset: tf.data.Dataset, validation_dataset: tf.data.Dataset):\n",
    "    history_1 = model.fit(\n",
    "        train_dataset,\n",
    "        validation_data=validation_dataset,\n",
    "        verbose=0,\n",
    "        epochs=40,\n",
    "    )\n",
    "\n",
    "    history_2 = model.fit(\n",
    "        train_dataset,\n",
    "        validation_data=validation_dataset,\n",
    "        epochs=200,\n",
    "        verbose=0,\n",
    "        callbacks=[\n",
    "            keras.callbacks.EarlyStopping(\n",
    "                monitor=\"val_loss\",\n",
    "                patience=45,\n",
    "                min_delta=1e-4,\n",
    "                mode=\"min\",\n",
    "                restore_best_weights=True,\n",
    "            ),\n",
    "            keras.callbacks.ReduceLROnPlateau(\n",
    "                monitor=\"val_loss\",\n",
    "                patience=15,\n",
    "                factor=0.5,\n",
    "                min_lr=1e-7,\n",
    "                mode=\"min\"\n",
    "            ),\n",
    "        ],\n",
    "    )\n",
    "\n",
    "    full_history = pd.concat([\n",
    "        pd.DataFrame(history_1.history),\n",
    "        pd.DataFrame(history_2.history),\n",
    "    ]).reset_index(drop=True)\n",
    "\n",
    "    return model, full_history"
   ]
  },
  {
   "cell_type": "markdown",
   "id": "27b83c9f",
   "metadata": {
    "_cell_guid": "9bf3c32a-54e8-4151-bf50-0267a409748b",
    "_uuid": "6205940e-1262-4bad-a068-6b504c107336",
    "collapsed": false,
    "jupyter": {
     "outputs_hidden": false
    },
    "papermill": {
     "duration": 0.003449,
     "end_time": "2025-06-27T20:56:11.813002",
     "exception": false,
     "start_time": "2025-06-27T20:56:11.809553",
     "status": "completed"
    },
    "tags": []
   },
   "source": [
    "# Results structure"
   ]
  },
  {
   "cell_type": "code",
   "execution_count": 16,
   "id": "3fb0404e",
   "metadata": {
    "_cell_guid": "23d3c588-6bcc-4795-a80d-28372af0cbb0",
    "_uuid": "11c3b8a3-a8dc-47fb-90a4-cd088fa4e1d6",
    "collapsed": false,
    "execution": {
     "iopub.execute_input": "2025-06-27T20:56:11.821576Z",
     "iopub.status.busy": "2025-06-27T20:56:11.821345Z",
     "iopub.status.idle": "2025-06-27T20:56:11.824620Z",
     "shell.execute_reply": "2025-06-27T20:56:11.824118Z"
    },
    "jupyter": {
     "outputs_hidden": false
    },
    "papermill": {
     "duration": 0.008834,
     "end_time": "2025-06-27T20:56:11.825679",
     "exception": false,
     "start_time": "2025-06-27T20:56:11.816845",
     "status": "completed"
    },
    "tags": []
   },
   "outputs": [],
   "source": [
    "results = {}\n",
    "\n",
    "for model_description in models_descriptions:\n",
    "    model_name = model_description[\"name\"]\n",
    "    \n",
    "    results[model_name] = {}"
   ]
  },
  {
   "cell_type": "markdown",
   "id": "8b91cb5a",
   "metadata": {
    "papermill": {
     "duration": 0.003919,
     "end_time": "2025-06-27T20:56:11.833573",
     "exception": false,
     "start_time": "2025-06-27T20:56:11.829654",
     "status": "completed"
    },
    "tags": []
   },
   "source": [
    "# Benchmark loop"
   ]
  },
  {
   "cell_type": "code",
   "execution_count": 17,
   "id": "9bab97d3",
   "metadata": {
    "_cell_guid": "e152cd73-944e-4b15-aa4d-0ff037039760",
    "_kg_hide-output": true,
    "_uuid": "2d42d04f-46cf-475a-b7d4-2510a00f24ba",
    "collapsed": false,
    "execution": {
     "iopub.execute_input": "2025-06-27T20:56:11.842283Z",
     "iopub.status.busy": "2025-06-27T20:56:11.842028Z",
     "iopub.status.idle": "2025-06-28T01:08:50.090727Z",
     "shell.execute_reply": "2025-06-28T01:08:50.090055Z"
    },
    "jupyter": {
     "outputs_hidden": false
    },
    "papermill": {
     "duration": 15158.254709,
     "end_time": "2025-06-28T01:08:50.092172",
     "exception": false,
     "start_time": "2025-06-27T20:56:11.837463",
     "status": "completed"
    },
    "tags": []
   },
   "outputs": [
    {
     "name": "stderr",
     "output_type": "stream",
     "text": [
      "I0000 00:00:1751057773.052945      19 gpu_device.cc:2022] Created device /job:localhost/replica:0/task:0/device:GPU:0 with 15513 MB memory:  -> device: 0, name: Tesla P100-PCIE-16GB, pci bus id: 0000:00:04.0, compute capability: 6.0\n"
     ]
    },
    {
     "name": "stdout",
     "output_type": "stream",
     "text": [
      "Training model MobileNet_imagenet  for configuration (0.01, 32)\n",
      "Downloading data from https://storage.googleapis.com/tensorflow/keras-applications/mobilenet/mobilenet_1_0_224_tf_no_top.h5\n",
      "\u001b[1m17225924/17225924\u001b[0m \u001b[32m━━━━━━━━━━━━━━━━━━━━\u001b[0m\u001b[37m\u001b[0m \u001b[1m0s\u001b[0m 0us/step\n"
     ]
    },
    {
     "name": "stderr",
     "output_type": "stream",
     "text": [
      "WARNING: All log messages before absl::InitializeLog() is called are written to STDERR\n",
      "I0000 00:00:1751057808.425362      59 service.cc:148] XLA service 0x7f044000a950 initialized for platform CUDA (this does not guarantee that XLA will be used). Devices:\n",
      "I0000 00:00:1751057808.426292      59 service.cc:156]   StreamExecutor device (0): Tesla P100-PCIE-16GB, Compute Capability 6.0\n",
      "I0000 00:00:1751057809.152496      59 cuda_dnn.cc:529] Loaded cuDNN version 90300\n",
      "I0000 00:00:1751057812.297605      59 device_compiler.h:188] Compiled cluster using XLA!  This line is logged at most once for the lifetime of the process.\n"
     ]
    },
    {
     "name": "stdout",
     "output_type": "stream",
     "text": [
      "\u001b[1m15/15\u001b[0m \u001b[32m━━━━━━━━━━━━━━━━━━━━\u001b[0m\u001b[37m\u001b[0m \u001b[1m9s\u001b[0m 571ms/step - loss: 0.5016 - vel_x_eva: 0.2509 - vel_x_loss: 0.3695 - vel_x_r2_score: 0.2295 - vel_x_rmse: 0.5892 - vel_y_eva: 0.8365 - vel_y_loss: 0.1311 - vel_y_r2_score: 0.8195 - vel_y_rmse: 0.3607\n",
      "Training model MobileNet_scratch  for configuration (0.01, 32)\n"
     ]
    },
    {
     "name": "stderr",
     "output_type": "stream",
     "text": [
      "E0000 00:00:1751058185.520514      59 gpu_timer.cc:82] Delay kernel timed out: measured time has sub-optimal accuracy. There may be a missing warmup execution, please investigate in Nsight Systems.\n",
      "E0000 00:00:1751058185.720227      59 gpu_timer.cc:82] Delay kernel timed out: measured time has sub-optimal accuracy. There may be a missing warmup execution, please investigate in Nsight Systems.\n",
      "E0000 00:00:1751058197.984787      56 gpu_timer.cc:82] Delay kernel timed out: measured time has sub-optimal accuracy. There may be a missing warmup execution, please investigate in Nsight Systems.\n",
      "E0000 00:00:1751058198.186937      56 gpu_timer.cc:82] Delay kernel timed out: measured time has sub-optimal accuracy. There may be a missing warmup execution, please investigate in Nsight Systems.\n"
     ]
    },
    {
     "name": "stdout",
     "output_type": "stream",
     "text": [
      "\u001b[1m15/15\u001b[0m \u001b[32m━━━━━━━━━━━━━━━━━━━━\u001b[0m\u001b[37m\u001b[0m \u001b[1m0s\u001b[0m 25ms/step - loss: 0.0164 - vel_x_eva: 0.9755 - vel_x_loss: 0.0090 - vel_x_r2_score: 0.9744 - vel_x_rmse: 0.0923 - vel_y_eva: 0.9902 - vel_y_loss: 0.0073 - vel_y_r2_score: 0.9899 - vel_y_rmse: 0.0836\n",
      "Training model MobileNet_scratch_gray  for configuration (0.01, 32)\n",
      "\u001b[1m15/15\u001b[0m \u001b[32m━━━━━━━━━━━━━━━━━━━━\u001b[0m\u001b[37m\u001b[0m \u001b[1m43s\u001b[0m 3s/step - loss: 0.0236 - vel_x_eva: 0.9608 - vel_x_loss: 0.0145 - vel_x_r2_score: 0.9591 - vel_x_rmse: 0.1141 - vel_y_eva: 0.9883 - vel_y_loss: 0.0089 - vel_y_r2_score: 0.9879 - vel_y_rmse: 0.0913\n",
      "Training model MobileNet_imagenet  for configuration (0.01, 64)\n",
      "\u001b[1m8/8\u001b[0m \u001b[32m━━━━━━━━━━━━━━━━━━━━\u001b[0m\u001b[37m\u001b[0m \u001b[1m0s\u001b[0m 45ms/step - loss: 0.4938 - vel_x_eva: 0.2720 - vel_x_loss: 0.3571 - vel_x_r2_score: 0.2607 - vel_x_rmse: 0.5872 - vel_y_eva: 0.8390 - vel_y_loss: 0.1322 - vel_y_r2_score: 0.8245 - vel_y_rmse: 0.3627\n",
      "Training model MobileNet_scratch  for configuration (0.01, 64)\n"
     ]
    },
    {
     "name": "stderr",
     "output_type": "stream",
     "text": [
      "E0000 00:00:1751060279.281289      56 gpu_timer.cc:82] Delay kernel timed out: measured time has sub-optimal accuracy. There may be a missing warmup execution, please investigate in Nsight Systems.\n",
      "E0000 00:00:1751060279.486126      56 gpu_timer.cc:82] Delay kernel timed out: measured time has sub-optimal accuracy. There may be a missing warmup execution, please investigate in Nsight Systems.\n"
     ]
    },
    {
     "name": "stdout",
     "output_type": "stream",
     "text": [
      "\u001b[1m8/8\u001b[0m \u001b[32m━━━━━━━━━━━━━━━━━━━━\u001b[0m\u001b[37m\u001b[0m \u001b[1m0s\u001b[0m 44ms/step - loss: 0.0164 - vel_x_eva: 0.9791 - vel_x_loss: 0.0088 - vel_x_r2_score: 0.9786 - vel_x_rmse: 0.0914 - vel_y_eva: 0.9904 - vel_y_loss: 0.0076 - vel_y_r2_score: 0.9897 - vel_y_rmse: 0.0863\n",
      "Training model MobileNet_scratch_gray  for configuration (0.01, 64)\n",
      "\u001b[1m8/8\u001b[0m \u001b[32m━━━━━━━━━━━━━━━━━━━━\u001b[0m\u001b[37m\u001b[0m \u001b[1m0s\u001b[0m 47ms/step - loss: 0.0322 - vel_x_eva: 0.9609 - vel_x_loss: 0.0169 - vel_x_r2_score: 0.9604 - vel_x_rmse: 0.1289 - vel_y_eva: 0.9809 - vel_y_loss: 0.0150 - vel_y_r2_score: 0.9793 - vel_y_rmse: 0.1217\n",
      "Training model MobileNet_imagenet  for configuration (0.01, 128)\n",
      "\u001b[1m4/4\u001b[0m \u001b[32m━━━━━━━━━━━━━━━━━━━━\u001b[0m\u001b[37m\u001b[0m \u001b[1m0s\u001b[0m 74ms/step - loss: 0.5017 - vel_x_eva: 0.2599 - vel_x_loss: 0.3460 - vel_x_r2_score: 0.2551 - vel_x_rmse: 0.5849 - vel_y_eva: 0.8187 - vel_y_loss: 0.1521 - vel_y_r2_score: 0.8010 - vel_y_rmse: 0.3898\n",
      "Training model MobileNet_scratch  for configuration (0.01, 128)\n"
     ]
    },
    {
     "name": "stderr",
     "output_type": "stream",
     "text": [
      "E0000 00:00:1751061578.265283      57 gpu_timer.cc:82] Delay kernel timed out: measured time has sub-optimal accuracy. There may be a missing warmup execution, please investigate in Nsight Systems.\n",
      "E0000 00:00:1751061578.481807      57 gpu_timer.cc:82] Delay kernel timed out: measured time has sub-optimal accuracy. There may be a missing warmup execution, please investigate in Nsight Systems.\n",
      "E0000 00:00:1751061592.653345      58 gpu_timer.cc:82] Delay kernel timed out: measured time has sub-optimal accuracy. There may be a missing warmup execution, please investigate in Nsight Systems.\n",
      "E0000 00:00:1751061592.863208      58 gpu_timer.cc:82] Delay kernel timed out: measured time has sub-optimal accuracy. There may be a missing warmup execution, please investigate in Nsight Systems.\n"
     ]
    },
    {
     "name": "stdout",
     "output_type": "stream",
     "text": [
      "\u001b[1m4/4\u001b[0m \u001b[32m━━━━━━━━━━━━━━━━━━━━\u001b[0m\u001b[37m\u001b[0m \u001b[1m0s\u001b[0m 78ms/step - loss: 0.0202 - vel_x_eva: 0.9685 - vel_x_loss: 0.0129 - vel_x_r2_score: 0.9683 - vel_x_rmse: 0.1106 - vel_y_eva: 0.9896 - vel_y_loss: 0.0079 - vel_y_r2_score: 0.9896 - vel_y_rmse: 0.0887\n",
      "Training model MobileNet_scratch_gray  for configuration (0.01, 128)\n",
      "\u001b[1m4/4\u001b[0m \u001b[32m━━━━━━━━━━━━━━━━━━━━\u001b[0m\u001b[37m\u001b[0m \u001b[1m0s\u001b[0m 78ms/step - loss: 0.0320 - vel_x_eva: 0.9616 - vel_x_loss: 0.0166 - vel_x_r2_score: 0.9612 - vel_x_rmse: 0.1275 - vel_y_eva: 0.9803 - vel_y_loss: 0.0153 - vel_y_r2_score: 0.9799 - vel_y_rmse: 0.1237\n",
      "Training model MobileNet_imagenet  for configuration (0.001, 32)\n",
      "\u001b[1m15/15\u001b[0m \u001b[32m━━━━━━━━━━━━━━━━━━━━\u001b[0m\u001b[37m\u001b[0m \u001b[1m0s\u001b[0m 25ms/step - loss: 0.4992 - vel_x_eva: 0.2547 - vel_x_loss: 0.3654 - vel_x_r2_score: 0.2352 - vel_x_rmse: 0.5865 - vel_y_eva: 0.8260 - vel_y_loss: 0.1330 - vel_y_r2_score: 0.8180 - vel_y_rmse: 0.3626\n",
      "Training model MobileNet_scratch  for configuration (0.001, 32)\n",
      "\u001b[1m15/15\u001b[0m \u001b[32m━━━━━━━━━━━━━━━━━━━━\u001b[0m\u001b[37m\u001b[0m \u001b[1m0s\u001b[0m 24ms/step - loss: 0.0213 - vel_x_eva: 0.9654 - vel_x_loss: 0.0133 - vel_x_r2_score: 0.9643 - vel_x_rmse: 0.1107 - vel_y_eva: 0.9896 - vel_y_loss: 0.0079 - vel_y_r2_score: 0.9891 - vel_y_rmse: 0.0863\n",
      "Training model MobileNet_scratch_gray  for configuration (0.001, 32)\n",
      "\u001b[1m15/15\u001b[0m \u001b[32m━━━━━━━━━━━━━━━━━━━━\u001b[0m\u001b[37m\u001b[0m \u001b[1m0s\u001b[0m 24ms/step - loss: 0.0232 - vel_x_eva: 0.9723 - vel_x_loss: 0.0112 - vel_x_r2_score: 0.9711 - vel_x_rmse: 0.1030 - vel_y_eva: 0.9845 - vel_y_loss: 0.0120 - vel_y_r2_score: 0.9838 - vel_y_rmse: 0.1067\n",
      "Training model MobileNet_imagenet  for configuration (0.001, 64)\n",
      "\u001b[1m8/8\u001b[0m \u001b[32m━━━━━━━━━━━━━━━━━━━━\u001b[0m\u001b[37m\u001b[0m \u001b[1m0s\u001b[0m 40ms/step - loss: 0.5110 - vel_x_eva: 0.2783 - vel_x_loss: 0.3677 - vel_x_r2_score: 0.2296 - vel_x_rmse: 0.5980 - vel_y_eva: 0.8412 - vel_y_loss: 0.1398 - vel_y_r2_score: 0.8128 - vel_y_rmse: 0.3732\n",
      "Training model MobileNet_scratch  for configuration (0.001, 64)\n",
      "\u001b[1m8/8\u001b[0m \u001b[32m━━━━━━━━━━━━━━━━━━━━\u001b[0m\u001b[37m\u001b[0m \u001b[1m0s\u001b[0m 43ms/step - loss: 0.0289 - vel_x_eva: 0.9626 - vel_x_loss: 0.0172 - vel_x_r2_score: 0.9611 - vel_x_rmse: 0.1264 - vel_y_eva: 0.9850 - vel_y_loss: 0.0113 - vel_y_r2_score: 0.9845 - vel_y_rmse: 0.1058\n",
      "Training model MobileNet_scratch_gray  for configuration (0.001, 64)\n",
      "\u001b[1m8/8\u001b[0m \u001b[32m━━━━━━━━━━━━━━━━━━━━\u001b[0m\u001b[37m\u001b[0m \u001b[1m0s\u001b[0m 44ms/step - loss: 0.0392 - vel_x_eva: 0.9574 - vel_x_loss: 0.0194 - vel_x_r2_score: 0.9548 - vel_x_rmse: 0.1383 - vel_y_eva: 0.9751 - vel_y_loss: 0.0192 - vel_y_r2_score: 0.9748 - vel_y_rmse: 0.1374\n",
      "Training model MobileNet_imagenet  for configuration (0.001, 128)\n",
      "\u001b[1m4/4\u001b[0m \u001b[32m━━━━━━━━━━━━━━━━━━━━\u001b[0m\u001b[37m\u001b[0m \u001b[1m0s\u001b[0m 76ms/step - loss: 0.4920 - vel_x_eva: 0.2427 - vel_x_loss: 0.3574 - vel_x_r2_score: 0.2381 - vel_x_rmse: 0.5931 - vel_y_eva: 0.8323 - vel_y_loss: 0.1298 - vel_y_r2_score: 0.8307 - vel_y_rmse: 0.3598\n",
      "Training model MobileNet_scratch  for configuration (0.001, 128)\n",
      "\u001b[1m4/4\u001b[0m \u001b[32m━━━━━━━━━━━━━━━━━━━━\u001b[0m\u001b[37m\u001b[0m \u001b[1m0s\u001b[0m 76ms/step - loss: 0.0309 - vel_x_eva: 0.9645 - vel_x_loss: 0.0154 - vel_x_r2_score: 0.9644 - vel_x_rmse: 0.1232 - vel_y_eva: 0.9806 - vel_y_loss: 0.0158 - vel_y_r2_score: 0.9794 - vel_y_rmse: 0.1256\n",
      "Training model MobileNet_scratch_gray  for configuration (0.001, 128)\n",
      "\u001b[1m4/4\u001b[0m \u001b[32m━━━━━━━━━━━━━━━━━━━━\u001b[0m\u001b[37m\u001b[0m \u001b[1m0s\u001b[0m 75ms/step - loss: 0.0458 - vel_x_eva: 0.9501 - vel_x_loss: 0.0218 - vel_x_r2_score: 0.9499 - vel_x_rmse: 0.1468 - vel_y_eva: 0.9687 - vel_y_loss: 0.0241 - vel_y_r2_score: 0.9684 - vel_y_rmse: 0.1552\n",
      "Training model MobileNet_imagenet  for configuration (0.0001, 32)\n",
      "\u001b[1m15/15\u001b[0m \u001b[32m━━━━━━━━━━━━━━━━━━━━\u001b[0m\u001b[37m\u001b[0m \u001b[1m0s\u001b[0m 24ms/step - loss: 0.5849 - vel_x_eva: 0.1435 - vel_x_loss: 0.4451 - vel_x_r2_score: 0.0727 - vel_x_rmse: 0.6471 - vel_y_eva: 0.8225 - vel_y_loss: 0.1374 - vel_y_r2_score: 0.8126 - vel_y_rmse: 0.3690\n",
      "Training model MobileNet_scratch  for configuration (0.0001, 32)\n",
      "\u001b[1m15/15\u001b[0m \u001b[32m━━━━━━━━━━━━━━━━━━━━\u001b[0m\u001b[37m\u001b[0m \u001b[1m0s\u001b[0m 23ms/step - loss: 0.0603 - vel_x_eva: 0.9283 - vel_x_loss: 0.0296 - vel_x_r2_score: 0.9263 - vel_x_rmse: 0.1637 - vel_y_eva: 0.9624 - vel_y_loss: 0.0305 - vel_y_r2_score: 0.9596 - vel_y_rmse: 0.1718\n",
      "Training model MobileNet_scratch_gray  for configuration (0.0001, 32)\n",
      "\u001b[1m15/15\u001b[0m \u001b[32m━━━━━━━━━━━━━━━━━━━━\u001b[0m\u001b[37m\u001b[0m \u001b[1m0s\u001b[0m 25ms/step - loss: 0.0474 - vel_x_eva: 0.9457 - vel_x_loss: 0.0250 - vel_x_r2_score: 0.9430 - vel_x_rmse: 0.1514 - vel_y_eva: 0.9704 - vel_y_loss: 0.0223 - vel_y_r2_score: 0.9696 - vel_y_rmse: 0.1470\n",
      "Training model MobileNet_imagenet  for configuration (0.0001, 64)\n",
      "\u001b[1m8/8\u001b[0m \u001b[32m━━━━━━━━━━━━━━━━━━━━\u001b[0m\u001b[37m\u001b[0m \u001b[1m0s\u001b[0m 43ms/step - loss: 0.6089 - vel_x_eva: 0.0287 - vel_x_loss: 0.4699 - vel_x_r2_score: 0.0124 - vel_x_rmse: 0.6767 - vel_y_eva: 0.8270 - vel_y_loss: 0.1328 - vel_y_r2_score: 0.8245 - vel_y_rmse: 0.3622\n",
      "Training model MobileNet_scratch  for configuration (0.0001, 64)\n",
      "\u001b[1m8/8\u001b[0m \u001b[32m━━━━━━━━━━━━━━━━━━━━\u001b[0m\u001b[37m\u001b[0m \u001b[1m0s\u001b[0m 40ms/step - loss: 0.0653 - vel_x_eva: 0.9267 - vel_x_loss: 0.0341 - vel_x_r2_score: 0.9225 - vel_x_rmse: 0.1827 - vel_y_eva: 0.9623 - vel_y_loss: 0.0306 - vel_y_r2_score: 0.9589 - vel_y_rmse: 0.1745\n",
      "Training model MobileNet_scratch_gray  for configuration (0.0001, 64)\n",
      "\u001b[1m8/8\u001b[0m \u001b[32m━━━━━━━━━━━━━━━━━━━━\u001b[0m\u001b[37m\u001b[0m \u001b[1m0s\u001b[0m 45ms/step - loss: 0.1356 - vel_x_eva: 0.8285 - vel_x_loss: 0.0815 - vel_x_r2_score: 0.8241 - vel_x_rmse: 0.2823 - vel_y_eva: 0.9344 - vel_y_loss: 0.0524 - vel_y_r2_score: 0.9314 - vel_y_rmse: 0.2282\n",
      "Training model MobileNet_imagenet  for configuration (0.0001, 128)\n",
      "\u001b[1m4/4\u001b[0m \u001b[32m━━━━━━━━━━━━━━━━━━━━\u001b[0m\u001b[37m\u001b[0m \u001b[1m0s\u001b[0m 76ms/step - loss: 0.6458 - vel_x_eva: 0.0268 - vel_x_loss: 0.4672 - vel_x_r2_score: -0.0098 - vel_x_rmse: 0.6801 - vel_y_eva: 0.7782 - vel_y_loss: 0.1730 - vel_y_r2_score: 0.7733 - vel_y_rmse: 0.4159\n",
      "Training model MobileNet_scratch  for configuration (0.0001, 128)\n",
      "\u001b[1m4/4\u001b[0m \u001b[32m━━━━━━━━━━━━━━━━━━━━\u001b[0m\u001b[37m\u001b[0m \u001b[1m0s\u001b[0m 77ms/step - loss: 0.0915 - vel_x_eva: 0.8913 - vel_x_loss: 0.0491 - vel_x_r2_score: 0.8900 - vel_x_rmse: 0.2206 - vel_y_eva: 0.9496 - vel_y_loss: 0.0419 - vel_y_r2_score: 0.9452 - vel_y_rmse: 0.2043\n",
      "Training model MobileNet_scratch_gray  for configuration (0.0001, 128)\n",
      "\u001b[1m4/4\u001b[0m \u001b[32m━━━━━━━━━━━━━━━━━━━━\u001b[0m\u001b[37m\u001b[0m \u001b[1m0s\u001b[0m 76ms/step - loss: 0.1290 - vel_x_eva: 0.8583 - vel_x_loss: 0.0699 - vel_x_r2_score: 0.8513 - vel_x_rmse: 0.2620 - vel_y_eva: 0.9281 - vel_y_loss: 0.0575 - vel_y_r2_score: 0.9247 - vel_y_rmse: 0.2396\n"
     ]
    }
   ],
   "source": [
    "samples_dataframe = load_samples_dataframe(\"/kaggle/input/marketplace-navigation-dataset/dataset\")\n",
    "# samples_dataframe = samples_dataframe.sample(frac=0.05)\n",
    "\n",
    "round_number = 3\n",
    "seed = round_number + 1\n",
    "\n",
    "datasets = {}\n",
    "\n",
    "for model_description in models_descriptions:\n",
    "    dataset_key = tuple(model_description[\"input\"][\"shape\"])\n",
    "    dataset_key = model_description[\"input\"][\"grayscale\"], dataset_key\n",
    "    \n",
    "    if not dataset_key in datasets:\n",
    "        datasets[dataset_key] = build_train_val_test_datasets(\n",
    "            samples_dataframe,\n",
    "            model_description[\"input\"],\n",
    "            seed\n",
    "        )\n",
    "        \n",
    "for configuration in configurations:\n",
    "    for model_description in models_descriptions:\n",
    "        print(\"Training model\", model_description[\"name\"], \" for configuration\", configuration)\n",
    "        \n",
    "        learning_rate, batch_size = configuration\n",
    "        dataset_key = tuple(model_description[\"input\"][\"shape\"])\n",
    "        dataset_key = model_description[\"input\"][\"grayscale\"], dataset_key\n",
    "\n",
    "        train_ds = datasets[dataset_key][\"train\"]\n",
    "        val_ds   = datasets[dataset_key][\"val\"]\n",
    "        test_ds  = datasets[dataset_key][\"test\"]\n",
    "        \n",
    "        train_ds = train_ds.batch(batch_size).prefetch(tf.data.AUTOTUNE)\n",
    "        val_ds   = val_ds.batch(batch_size).prefetch(tf.data.AUTOTUNE)\n",
    "        test_ds  = test_ds.batch(batch_size).prefetch(tf.data.AUTOTUNE)\n",
    "\n",
    "        model = build_model(model_description)\n",
    "        model.compile(\n",
    "            loss={\n",
    "                \"vel_x\": \"mean_squared_error\",\n",
    "                \"vel_y\": \"mean_squared_error\",\n",
    "            },\n",
    "            optimizer=keras.optimizers.Adam(learning_rate=learning_rate),\n",
    "            metrics={\n",
    "                \"vel_x\": [rmse, eva, r2_score],\n",
    "                \"vel_y\": [rmse, eva, r2_score],\n",
    "            },\n",
    "        )\n",
    "        model, history = train_model(model, train_ds, val_ds)\n",
    "\n",
    "        evaluation_metrics = model.evaluate(test_ds, return_dict=True)\n",
    "        \n",
    "        results[model_description[\"name\"]][configuration] = evaluation_metrics\n",
    "\n",
    "        file_name = f\"r{round_number}_{model.name}_{learning_rate:.0e}_{batch_size}\"\n",
    "\n",
    "        model.save(f\"{file_name}.keras\")\n",
    "        history.to_csv(f\"{file_name}.csv\")\n",
    "        with open(\"results.pkl\", \"wb\") as results_file:\n",
    "            pickle.dump(results, results_file)"
   ]
  },
  {
   "cell_type": "code",
   "execution_count": null,
   "id": "b1de5851",
   "metadata": {
    "papermill": {
     "duration": 0.013535,
     "end_time": "2025-06-28T01:08:50.119762",
     "exception": false,
     "start_time": "2025-06-28T01:08:50.106227",
     "status": "completed"
    },
    "tags": []
   },
   "outputs": [],
   "source": []
  }
 ],
 "metadata": {
  "kaggle": {
   "accelerator": "gpu",
   "dataSources": [
    {
     "datasetId": 6187980,
     "sourceId": 10061785,
     "sourceType": "datasetVersion"
    }
   ],
   "dockerImageVersionId": 31011,
   "isGpuEnabled": true,
   "isInternetEnabled": true,
   "language": "python",
   "sourceType": "notebook"
  },
  "kernelspec": {
   "display_name": "Python 3",
   "language": "python",
   "name": "python3"
  },
  "language_info": {
   "codemirror_mode": {
    "name": "ipython",
    "version": 3
   },
   "file_extension": ".py",
   "mimetype": "text/x-python",
   "name": "python",
   "nbconvert_exporter": "python",
   "pygments_lexer": "ipython3",
   "version": "3.11.11"
  },
  "papermill": {
   "default_parameters": {},
   "duration": 15183.012706,
   "end_time": "2025-06-28T01:08:55.173303",
   "environment_variables": {},
   "exception": null,
   "input_path": "__notebook__.ipynb",
   "output_path": "__notebook__.ipynb",
   "parameters": {},
   "start_time": "2025-06-27T20:55:52.160597",
   "version": "2.6.0"
  }
 },
 "nbformat": 4,
 "nbformat_minor": 5
}
