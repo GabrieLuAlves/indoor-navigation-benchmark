{
 "cells": [
  {
   "cell_type": "code",
   "execution_count": 1,
   "id": "2e7f67b5",
   "metadata": {
    "_cell_guid": "31cda6c9-1a82-4124-b805-116202195863",
    "_uuid": "80eb9cab-e2af-4b59-bb1d-c9da376c23fb",
    "collapsed": false,
    "execution": {
     "iopub.execute_input": "2025-06-27T20:55:36.898796Z",
     "iopub.status.busy": "2025-06-27T20:55:36.898462Z",
     "iopub.status.idle": "2025-06-27T20:55:53.457649Z",
     "shell.execute_reply": "2025-06-27T20:55:53.456813Z"
    },
    "jupyter": {
     "outputs_hidden": false
    },
    "papermill": {
     "duration": 16.567083,
     "end_time": "2025-06-27T20:55:53.459183",
     "exception": false,
     "start_time": "2025-06-27T20:55:36.892100",
     "status": "completed"
    },
    "tags": []
   },
   "outputs": [
    {
     "name": "stderr",
     "output_type": "stream",
     "text": [
      "2025-06-27 20:55:41.514838: E external/local_xla/xla/stream_executor/cuda/cuda_fft.cc:477] Unable to register cuFFT factory: Attempting to register factory for plugin cuFFT when one has already been registered\n",
      "WARNING: All log messages before absl::InitializeLog() is called are written to STDERR\n",
      "E0000 00:00:1751057741.741260      19 cuda_dnn.cc:8310] Unable to register cuDNN factory: Attempting to register factory for plugin cuDNN when one has already been registered\n",
      "E0000 00:00:1751057741.805423      19 cuda_blas.cc:1418] Unable to register cuBLAS factory: Attempting to register factory for plugin cuBLAS when one has already been registered\n"
     ]
    }
   ],
   "source": [
    "import numpy as np\n",
    "import pandas as pd\n",
    "import os\n",
    "import shutil\n",
    "import pickle\n",
    "import matplotlib.pyplot as plt\n",
    "from PIL import Image\n",
    "\n",
    "from sklearn.model_selection import train_test_split\n",
    "\n",
    "os.environ[\"KERAS_BACKEND\"] = \"tensorflow\"\n",
    "\n",
    "import tensorflow as tf\n",
    "\n",
    "import keras\n",
    "import keras.backend as K\n",
    "\n",
    "from tqdm import tqdm\n",
    "\n",
    "from concurrent.futures import ThreadPoolExecutor\n",
    "\n",
    "%matplotlib inline"
   ]
  },
  {
   "cell_type": "markdown",
   "id": "23d10d54",
   "metadata": {
    "_cell_guid": "eb6ae085-ac99-47ec-a0a2-5683f602486e",
    "_uuid": "ff3814a7-d691-41bc-b0f1-6da33c4a9ac2",
    "collapsed": false,
    "jupyter": {
     "outputs_hidden": false
    },
    "papermill": {
     "duration": 0.004389,
     "end_time": "2025-06-27T20:55:53.468401",
     "exception": false,
     "start_time": "2025-06-27T20:55:53.464012",
     "status": "completed"
    },
    "tags": []
   },
   "source": [
    "# 4. Regression metrics"
   ]
  },
  {
   "cell_type": "code",
   "execution_count": 2,
   "id": "512be8bc",
   "metadata": {
    "_cell_guid": "2ff167d9-a16d-45f2-8326-5ddacc1e0035",
    "_uuid": "dbc1d7e6-369e-474e-867d-c88fc75a5eec",
    "collapsed": false,
    "execution": {
     "iopub.execute_input": "2025-06-27T20:55:53.478437Z",
     "iopub.status.busy": "2025-06-27T20:55:53.477445Z",
     "iopub.status.idle": "2025-06-27T20:55:53.485789Z",
     "shell.execute_reply": "2025-06-27T20:55:53.485194Z"
    },
    "jupyter": {
     "outputs_hidden": false
    },
    "papermill": {
     "duration": 0.014457,
     "end_time": "2025-06-27T20:55:53.486987",
     "exception": false,
     "start_time": "2025-06-27T20:55:53.472530",
     "status": "completed"
    },
    "tags": []
   },
   "outputs": [],
   "source": [
    "@tf.function\n",
    "def rmse(y_true, y_pred):\n",
    "    y_true = tf.cast(y_true, tf.float32)\n",
    "    y_pred = tf.cast(y_pred, tf.float32)\n",
    "    \n",
    "    y_true = tf.reshape(y_true, [-1, 1])\n",
    "    y_pred = tf.reshape(y_pred, [-1, 1])\n",
    "    \n",
    "    return tf.sqrt(tf.reduce_mean(tf.square(y_true - y_pred)))\n",
    "\n",
    "@tf.function\n",
    "def eva(y_true, y_pred):\n",
    "    y_true = tf.cast(y_true, tf.float32)\n",
    "    y_pred = tf.cast(y_pred, tf.float32)\n",
    "    \n",
    "    y_true = tf.reshape(y_true, [-1, 1])\n",
    "    y_pred = tf.reshape(y_pred, [-1, 1])\n",
    "\n",
    "    numerator = tf.math.reduce_variance(y_true - y_pred)\n",
    "    denominator = tf.math.reduce_variance(y_true) + tf.keras.backend.epsilon()\n",
    "    \n",
    "    return 1.0 - numerator / denominator\n",
    "\n",
    "@tf.function\n",
    "def r2_score(y_true, y_pred):\n",
    "    y_true = tf.cast(y_true, tf.float32)\n",
    "    y_pred = tf.cast(y_pred, tf.float32)\n",
    "    \n",
    "    y_true = tf.reshape(y_true, [-1, 1])\n",
    "    y_pred = tf.reshape(y_pred, [-1, 1])\n",
    "    \n",
    "    ss_res = tf.reduce_sum(tf.square(y_true - y_pred))\n",
    "    ss_tot = tf.reduce_sum(tf.square(y_true - tf.reduce_mean(y_true)))\n",
    "    \n",
    "    return 1 - (ss_res / (ss_tot + K.epsilon()))"
   ]
  },
  {
   "cell_type": "markdown",
   "id": "58daf418",
   "metadata": {
    "_cell_guid": "47399b8c-5071-4124-9cbb-0b091cae6af5",
    "_uuid": "d2959917-ade9-410a-81b6-ea0d9f1efa35",
    "collapsed": false,
    "jupyter": {
     "outputs_hidden": false
    },
    "papermill": {
     "duration": 0.00415,
     "end_time": "2025-06-27T20:55:53.495670",
     "exception": false,
     "start_time": "2025-06-27T20:55:53.491520",
     "status": "completed"
    },
    "tags": []
   },
   "source": [
    "# 4. ResNet 8/18/34 construction"
   ]
  },
  {
   "cell_type": "code",
   "execution_count": 3,
   "id": "de24d717",
   "metadata": {
    "_cell_guid": "60c3f6be-a0f0-44b2-9ace-a203ae45387d",
    "_uuid": "6a63061c-9d12-4bf9-ad97-605fa393efe5",
    "collapsed": false,
    "execution": {
     "iopub.execute_input": "2025-06-27T20:55:53.504788Z",
     "iopub.status.busy": "2025-06-27T20:55:53.504519Z",
     "iopub.status.idle": "2025-06-27T20:55:53.509784Z",
     "shell.execute_reply": "2025-06-27T20:55:53.509083Z"
    },
    "jupyter": {
     "outputs_hidden": false
    },
    "papermill": {
     "duration": 0.011258,
     "end_time": "2025-06-27T20:55:53.510942",
     "exception": false,
     "start_time": "2025-06-27T20:55:53.499684",
     "status": "completed"
    },
    "tags": []
   },
   "outputs": [],
   "source": [
    "def resnet_block(x, filters, stride=1, use_projection=False):\n",
    "    shortcut = x\n",
    "\n",
    "    x = keras.layers.Conv2D(filters, 3, strides=stride, padding='same', use_bias=False)(x)\n",
    "    x = keras.layers.BatchNormalization()(x)\n",
    "    x = keras.layers.ReLU()(x)\n",
    "\n",
    "    x = keras.layers.Conv2D(filters, 3, strides=1, padding='same', use_bias=False)(x)\n",
    "    x = keras.layers.BatchNormalization()(x)\n",
    "\n",
    "    if use_projection:\n",
    "        shortcut = keras.layers.Conv2D(filters, 1, strides=stride, use_bias=False)(shortcut)\n",
    "        shortcut = keras.layers.BatchNormalization()(shortcut)\n",
    "\n",
    "    x = keras.layers.Add()([x, shortcut])\n",
    "    x = keras.layers.ReLU()(x)\n",
    "    return x"
   ]
  },
  {
   "cell_type": "code",
   "execution_count": 4,
   "id": "cfce69ba",
   "metadata": {
    "_cell_guid": "36e1a4e9-a964-438b-82f8-e1f6b6a13fb7",
    "_uuid": "70aff8e4-29bd-4438-a3c0-fbfa0a441b21",
    "collapsed": false,
    "execution": {
     "iopub.execute_input": "2025-06-27T20:55:53.520350Z",
     "iopub.status.busy": "2025-06-27T20:55:53.519899Z",
     "iopub.status.idle": "2025-06-27T20:55:53.525424Z",
     "shell.execute_reply": "2025-06-27T20:55:53.524698Z"
    },
    "jupyter": {
     "outputs_hidden": false
    },
    "papermill": {
     "duration": 0.011346,
     "end_time": "2025-06-27T20:55:53.526591",
     "exception": false,
     "start_time": "2025-06-27T20:55:53.515245",
     "status": "completed"
    },
    "tags": []
   },
   "outputs": [],
   "source": [
    "def ResNet8_DroNet(input_shape=(200, 200, 1), dropout_rate=0.3):\n",
    "    inputs = keras.Input(shape=input_shape)\n",
    "\n",
    "    x = keras.layers.Conv2D(32, 5, strides=2, padding='same', use_bias=False)(inputs)\n",
    "    x = keras.layers.BatchNormalization()(x)\n",
    "    x = keras.layers.ReLU()(x)\n",
    "\n",
    "    # Residual Blocks\n",
    "    x = resnet_block(x, 32)\n",
    "    x = resnet_block(x, 32)\n",
    "\n",
    "    x = resnet_block(x, 64, stride=2, use_projection=True)\n",
    "    x = resnet_block(x, 64)\n",
    "\n",
    "    x = resnet_block(x, 128, stride=2, use_projection=True)\n",
    "    x = resnet_block(x, 128)\n",
    "\n",
    "    return keras.models.Model(inputs, x, name=\"ResNet8_DroNet\")"
   ]
  },
  {
   "cell_type": "code",
   "execution_count": 5,
   "id": "0a1f0f71",
   "metadata": {
    "_cell_guid": "eb601a36-0827-4cd8-900a-1421fbb33180",
    "_uuid": "fd96d071-c11b-406b-8d54-16fdbe7920fa",
    "collapsed": false,
    "execution": {
     "iopub.execute_input": "2025-06-27T20:55:53.535846Z",
     "iopub.status.busy": "2025-06-27T20:55:53.535633Z",
     "iopub.status.idle": "2025-06-27T20:55:53.541327Z",
     "shell.execute_reply": "2025-06-27T20:55:53.540714Z"
    },
    "jupyter": {
     "outputs_hidden": false
    },
    "papermill": {
     "duration": 0.011562,
     "end_time": "2025-06-27T20:55:53.542382",
     "exception": false,
     "start_time": "2025-06-27T20:55:53.530820",
     "status": "completed"
    },
    "tags": []
   },
   "outputs": [],
   "source": [
    "def ResNet18(input_shape=(224, 224, 3)):\n",
    "    inputs = keras.Input(shape=input_shape)\n",
    "    \n",
    "    x = keras.layers.Conv2D(64, 7, strides=2, padding='same', use_bias=False)(inputs)\n",
    "    x = keras.layers.BatchNormalization()(x)\n",
    "    x = keras.layers.ReLU()(x)\n",
    "    x = keras.layers.MaxPooling2D(3, strides=2, padding='same')(x)\n",
    "\n",
    "    # Conv2_x\n",
    "    x = resnet_block(x, 64)\n",
    "    x = resnet_block(x, 64)\n",
    "\n",
    "    # Conv3_x\n",
    "    x = resnet_block(x, 128, stride=2, use_projection=True)\n",
    "    x = resnet_block(x, 128)\n",
    "\n",
    "    # Conv4_x\n",
    "    x = resnet_block(x, 256, stride=2, use_projection=True)\n",
    "    x = resnet_block(x, 256)\n",
    "\n",
    "    # Conv5_x\n",
    "    x = resnet_block(x, 512, stride=2, use_projection=True)\n",
    "    x = resnet_block(x, 512)\n",
    "\n",
    "    return keras.models.Model(inputs, x, name=\"ResNet18_backbone\")"
   ]
  },
  {
   "cell_type": "code",
   "execution_count": 6,
   "id": "8ff5bc82",
   "metadata": {
    "_cell_guid": "bf96671e-1e5a-4a52-8cda-acec12713328",
    "_uuid": "c7359e0e-6fd4-4e19-a903-f746ea3b2031",
    "collapsed": false,
    "execution": {
     "iopub.execute_input": "2025-06-27T20:55:53.552225Z",
     "iopub.status.busy": "2025-06-27T20:55:53.551992Z",
     "iopub.status.idle": "2025-06-27T20:55:53.557856Z",
     "shell.execute_reply": "2025-06-27T20:55:53.557242Z"
    },
    "jupyter": {
     "outputs_hidden": false
    },
    "papermill": {
     "duration": 0.011969,
     "end_time": "2025-06-27T20:55:53.558901",
     "exception": false,
     "start_time": "2025-06-27T20:55:53.546932",
     "status": "completed"
    },
    "tags": []
   },
   "outputs": [],
   "source": [
    "def ResNet34(input_shape=(224, 224, 3)):\n",
    "    inputs = keras.Input(shape=input_shape)\n",
    "    \n",
    "    x = keras.layers.Conv2D(64, 7, strides=2, padding='same', use_bias=False)(inputs)\n",
    "    x = keras.layers.BatchNormalization()(x)\n",
    "    x = keras.layers.ReLU()(x)\n",
    "    x = keras.layers.MaxPooling2D(3, strides=2, padding='same')(x)\n",
    "\n",
    "    # Conv2_x (3 blocks)\n",
    "    for _ in range(3):\n",
    "        x = resnet_block(x, 64)\n",
    "\n",
    "    # Conv3_x (4 blocks)\n",
    "    x = resnet_block(x, 128, stride=2, use_projection=True)\n",
    "    for _ in range(3):\n",
    "        x = resnet_block(x, 128)\n",
    "\n",
    "    # Conv4_x (6 blocks)\n",
    "    x = resnet_block(x, 256, stride=2, use_projection=True)\n",
    "    for _ in range(5):\n",
    "        x = resnet_block(x, 256)\n",
    "\n",
    "    # Conv5_x (3 blocks)\n",
    "    x = resnet_block(x, 512, stride=2, use_projection=True)\n",
    "    for _ in range(2):\n",
    "        x = resnet_block(x, 512)\n",
    "\n",
    "    return keras.models.Model(inputs, x, name=\"ResNet34_backbone\")"
   ]
  },
  {
   "cell_type": "markdown",
   "id": "2f70d4d2",
   "metadata": {
    "_cell_guid": "38dff14a-d86f-4e88-b050-acfe49c6a8ca",
    "_uuid": "e8131d1c-9673-4df0-8bdc-4056bff54c3d",
    "collapsed": false,
    "jupyter": {
     "outputs_hidden": false
    },
    "papermill": {
     "duration": 0.004091,
     "end_time": "2025-06-27T20:55:53.567275",
     "exception": false,
     "start_time": "2025-06-27T20:55:53.563184",
     "status": "completed"
    },
    "tags": []
   },
   "source": [
    "# Grid search configurations"
   ]
  },
  {
   "cell_type": "code",
   "execution_count": 7,
   "id": "6a6cd463",
   "metadata": {
    "execution": {
     "iopub.execute_input": "2025-06-27T20:55:53.577029Z",
     "iopub.status.busy": "2025-06-27T20:55:53.576367Z",
     "iopub.status.idle": "2025-06-27T20:55:53.580077Z",
     "shell.execute_reply": "2025-06-27T20:55:53.579535Z"
    },
    "papermill": {
     "duration": 0.009803,
     "end_time": "2025-06-27T20:55:53.581203",
     "exception": false,
     "start_time": "2025-06-27T20:55:53.571400",
     "status": "completed"
    },
    "tags": []
   },
   "outputs": [],
   "source": [
    "from itertools import product\n",
    "\n",
    "configurations = list(product([1e-2, 1e-3, 1e-4], [32, 64, 128]))"
   ]
  },
  {
   "cell_type": "markdown",
   "id": "40251912",
   "metadata": {
    "_cell_guid": "39de600a-4622-43e0-8762-5bbc77aed4e1",
    "_uuid": "49029c5d-396b-406c-b077-8ba68255fd92",
    "collapsed": false,
    "jupyter": {
     "outputs_hidden": false
    },
    "papermill": {
     "duration": 0.004038,
     "end_time": "2025-06-27T20:55:53.589635",
     "exception": false,
     "start_time": "2025-06-27T20:55:53.585597",
     "status": "completed"
    },
    "tags": []
   },
   "source": [
    "# Models descriptions"
   ]
  },
  {
   "cell_type": "code",
   "execution_count": 8,
   "id": "6535e205",
   "metadata": {
    "_cell_guid": "6ac38ad7-4355-4733-8478-1c68d1231670",
    "_uuid": "82faa4c8-711e-4663-bc08-d36895955d3f",
    "collapsed": false,
    "execution": {
     "iopub.execute_input": "2025-06-27T20:55:53.600032Z",
     "iopub.status.busy": "2025-06-27T20:55:53.599794Z",
     "iopub.status.idle": "2025-06-27T20:55:53.606340Z",
     "shell.execute_reply": "2025-06-27T20:55:53.605723Z"
    },
    "jupyter": {
     "outputs_hidden": false
    },
    "papermill": {
     "duration": 0.013712,
     "end_time": "2025-06-27T20:55:53.607710",
     "exception": false,
     "start_time": "2025-06-27T20:55:53.593998",
     "status": "completed"
    },
    "tags": []
   },
   "outputs": [],
   "source": [
    "models_descriptions = [\n",
    "    {\n",
    "        \"name\": \"MobileNet_imagenet\",\n",
    "        \"backbone\": {\n",
    "            \"name\": \"MobileNet\",\n",
    "            \"weights\": \"imagenet\"\n",
    "        },\n",
    "        \"input\": {\n",
    "            \"shape\": [224, 224, 3],\n",
    "        }\n",
    "    },\n",
    "    {\n",
    "        \"name\": \"MobileNet_scratch\",\n",
    "        \"backbone\": {\n",
    "            \"name\": \"MobileNet\",\n",
    "        },\n",
    "        \"input\": {\n",
    "            \"shape\": [224, 224, 3],\n",
    "        }\n",
    "    },\n",
    "    {\n",
    "        \"name\": \"MobileNet_scratch_gray\",\n",
    "        \"backbone\": {\n",
    "            \"name\": \"MobileNet\",\n",
    "        },\n",
    "        \"input\": {\n",
    "            \"shape\": [224, 224, 3],\n",
    "            \"grayscale\": True\n",
    "        }\n",
    "    },\n",
    "]\n",
    "\n",
    "# Format verification\n",
    "for model_description in models_descriptions:\n",
    "    if \"backbone\" not in model_description:\n",
    "        raise KeyError(\"backbone not specified at:\\n\" + str(model_description))\n",
    "\n",
    "    if \"name\" not in model_description[\"backbone\"]:\n",
    "        raise KeyError(\"backbone.name not specified at:\\n\" + str(model_description))\n",
    "\n",
    "    if \"weights\" not in model_description[\"backbone\"]:\n",
    "        model_description[\"backbone\"][\"weights\"] = None\n",
    "    \n",
    "    if \"name\" not in model_description:\n",
    "        model_description[\"name\"] = model_description[\"backbone\"]\n",
    "\n",
    "    if \"head_description\" not in model_description:\n",
    "        model_description[\"head_description\"] = []\n",
    "\n",
    "    if \"weights\" not in model_description:\n",
    "        model_description[\"weights\"] = None\n",
    "\n",
    "    if \"input\" not in model_description:\n",
    "        raise KeyError(\"input not specified at:\\n\" + str(model_description))\n",
    "\n",
    "    if \"shape\" not in model_description[\"input\"]:\n",
    "        raise KeyError(\"input.shape not specified at:\\n\" + str(model_description))\n",
    "    \n",
    "    if \"grayscale\" not in model_description[\"input\"]:\n",
    "        model_description[\"input\"][\"grayscale\"] = False"
   ]
  },
  {
   "cell_type": "markdown",
   "id": "29ad0803",
   "metadata": {
    "papermill": {
     "duration": 0.004006,
     "end_time": "2025-06-27T20:55:53.616017",
     "exception": false,
     "start_time": "2025-06-27T20:55:53.612011",
     "status": "completed"
    },
    "tags": []
   },
   "source": [
    "# Load dataset and build pipeline"
   ]
  },
  {
   "cell_type": "code",
   "execution_count": 9,
   "id": "a97a5b0e",
   "metadata": {
    "execution": {
     "iopub.execute_input": "2025-06-27T20:55:53.626432Z",
     "iopub.status.busy": "2025-06-27T20:55:53.625781Z",
     "iopub.status.idle": "2025-06-27T20:55:53.631237Z",
     "shell.execute_reply": "2025-06-27T20:55:53.630566Z"
    },
    "papermill": {
     "duration": 0.012105,
     "end_time": "2025-06-27T20:55:53.632559",
     "exception": false,
     "start_time": "2025-06-27T20:55:53.620454",
     "status": "completed"
    },
    "tags": []
   },
   "outputs": [],
   "source": [
    "def load_samples_dataframe(path: str):\n",
    "    images_folder = os.path.join(path, \"images\")\n",
    "\n",
    "    samples_df = pd.read_csv(\n",
    "        os.path.join(path, \"market_dataset_xy.txt\"),\n",
    "        sep=\" \",\n",
    "        header=None,\n",
    "        names=[\"file path\", \"_\", \"datetime\", \"vel_y\", \"vel_x\"]\n",
    "    )\n",
    "\n",
    "    samples_df[\"file path\"] = (\n",
    "        samples_df[\"file path\"]\n",
    "        .apply(lambda image_name: os.path.join(path, \"images\", image_name))\n",
    "    )\n",
    "    \n",
    "    return samples_df"
   ]
  },
  {
   "cell_type": "code",
   "execution_count": 10,
   "id": "eed11175",
   "metadata": {
    "execution": {
     "iopub.execute_input": "2025-06-27T20:55:53.642804Z",
     "iopub.status.busy": "2025-06-27T20:55:53.642511Z",
     "iopub.status.idle": "2025-06-27T20:55:53.649592Z",
     "shell.execute_reply": "2025-06-27T20:55:53.648955Z"
    },
    "papermill": {
     "duration": 0.013711,
     "end_time": "2025-06-27T20:55:53.650919",
     "exception": false,
     "start_time": "2025-06-27T20:55:53.637208",
     "status": "completed"
    },
    "tags": []
   },
   "outputs": [],
   "source": [
    "@tf.function\n",
    "def augment(image, label):\n",
    "    # Brightness and contrast\n",
    "    image = tf.image.random_brightness(image, max_delta=0.2)\n",
    "    image = tf.image.random_contrast(image, lower=0.8, upper=1.2)\n",
    "    \n",
    "    # Flip horizontally\n",
    "    do_flip = tf.random.uniform([]) > 0.5\n",
    "    image = tf.cond(do_flip, lambda: tf.image.flip_left_right(image), lambda: image)\n",
    "    \n",
    "    vel_x = tf.cond(do_flip, lambda: -label[\"vel_x\"], lambda: label[\"vel_x\"])\n",
    "    vel_y = label[\"vel_y\"]\n",
    "    \n",
    "    # Optionally add noise\n",
    "    noise = tf.random.normal(shape=tf.shape(image), mean=0.0, stddev=0.025)\n",
    "    image = image + noise\n",
    "    image = tf.clip_by_value(image, 0.0, 1.0)\n",
    "\n",
    "    return image, {\"vel_x\": vel_x, \"vel_y\": vel_y}"
   ]
  },
  {
   "cell_type": "code",
   "execution_count": 11,
   "id": "8b6b909e",
   "metadata": {
    "execution": {
     "iopub.execute_input": "2025-06-27T20:55:53.661671Z",
     "iopub.status.busy": "2025-06-27T20:55:53.661156Z",
     "iopub.status.idle": "2025-06-27T20:55:53.666643Z",
     "shell.execute_reply": "2025-06-27T20:55:53.665844Z"
    },
    "papermill": {
     "duration": 0.011816,
     "end_time": "2025-06-27T20:55:53.667875",
     "exception": false,
     "start_time": "2025-06-27T20:55:53.656059",
     "status": "completed"
    },
    "tags": []
   },
   "outputs": [],
   "source": [
    "def load_image(path, mode=\"color\"):\n",
    "    image = tf.io.read_file(path)\n",
    "\n",
    "    if mode == \"color\":\n",
    "        image = tf.image.decode_jpeg(image, channels=3)\n",
    "\n",
    "    elif mode == \"grayscale1\":\n",
    "        image = tf.image.decode_jpeg(image, channels=1)\n",
    "\n",
    "    elif mode == \"grayscale3\":\n",
    "        image = tf.image.decode_jpeg(image, channels=3)\n",
    "        image = tf.image.rgb_to_grayscale(image)\n",
    "        image = tf.image.grayscale_to_rgb(image)\n",
    "\n",
    "    else:\n",
    "        raise ValueError(f\"Invalid mode: {mode}\")\n",
    "\n",
    "    return image"
   ]
  },
  {
   "cell_type": "code",
   "execution_count": 12,
   "id": "6f198f87",
   "metadata": {
    "execution": {
     "iopub.execute_input": "2025-06-27T20:55:53.678068Z",
     "iopub.status.busy": "2025-06-27T20:55:53.677229Z",
     "iopub.status.idle": "2025-06-27T20:55:53.685715Z",
     "shell.execute_reply": "2025-06-27T20:55:53.684956Z"
    },
    "papermill": {
     "duration": 0.014785,
     "end_time": "2025-06-27T20:55:53.687063",
     "exception": false,
     "start_time": "2025-06-27T20:55:53.672278",
     "status": "completed"
    },
    "tags": []
   },
   "outputs": [],
   "source": [
    "def build_train_val_test_datasets(samples_dataframe, input_description: dict, seed=42):\n",
    "    # Split\n",
    "    df_train, df_temp = train_test_split(samples_dataframe, test_size=0.4, random_state=seed)\n",
    "    df_val, df_test = train_test_split(df_temp, test_size=0.5, random_state=seed)\n",
    "\n",
    "    resolution = input_description[\"shape\"][:2]\n",
    "    channels = input_description[\"shape\"][2]\n",
    "\n",
    "    if not input_description[\"grayscale\"]:\n",
    "        mode = \"color\"\n",
    "    elif channels == 1:\n",
    "        mode = \"grayscale1\"\n",
    "    elif channels == 3:\n",
    "        mode = \"grayscale3\"\n",
    "\n",
    "    def process_sample(path, label):\n",
    "        image = load_image(path, mode=mode)\n",
    "        image = tf.image.resize(image, resolution)\n",
    "        image.set_shape(input_description[\"shape\"])\n",
    "        image = tf.cast(image, tf.float32) / 255.0\n",
    "\n",
    "        return image, label\n",
    "\n",
    "    def df_to_tf_dataset(df, training=False):\n",
    "        paths = tf.constant(df[\"file path\"].tolist())\n",
    "        vel_x = tf.constant(df[\"vel_x\"].astype(\"float32\").tolist())\n",
    "        vel_y = tf.constant(df[\"vel_y\"].astype(\"float32\").tolist())\n",
    "    \n",
    "        ds = tf.data.Dataset.from_tensor_slices((paths, {\"vel_x\": vel_x, \"vel_y\": vel_y}))\n",
    "    \n",
    "        ds = ds.map(process_sample, num_parallel_calls=tf.data.AUTOTUNE)\n",
    "        ds = ds.cache()\n",
    "    \n",
    "        if training:\n",
    "            ds = ds.shuffle(len(df), reshuffle_each_iteration=True)\n",
    "            ds = ds.map(augment, num_parallel_calls=tf.data.AUTOTUNE)\n",
    "            \n",
    "        return ds\n",
    "\n",
    "    return {\n",
    "        \"train\": df_to_tf_dataset(df_train, training=True),\n",
    "        \"val\":   df_to_tf_dataset(df_val, training=False),\n",
    "        \"test\":  df_to_tf_dataset(df_test, training=False),\n",
    "    }"
   ]
  },
  {
   "cell_type": "code",
   "execution_count": 13,
   "id": "18401963",
   "metadata": {
    "execution": {
     "iopub.execute_input": "2025-06-27T20:55:53.697627Z",
     "iopub.status.busy": "2025-06-27T20:55:53.697322Z",
     "iopub.status.idle": "2025-06-27T20:55:53.704922Z",
     "shell.execute_reply": "2025-06-27T20:55:53.704303Z"
    },
    "papermill": {
     "duration": 0.014336,
     "end_time": "2025-06-27T20:55:53.706115",
     "exception": false,
     "start_time": "2025-06-27T20:55:53.691779",
     "status": "completed"
    },
    "tags": []
   },
   "outputs": [],
   "source": [
    "def instantiate_backbone(backbone_name, weights=None):\n",
    "    if backbone_name == \"ResNet-8\":\n",
    "        if weights is not None:\n",
    "            print(\"[INFO] No pre-trained weights for available ResNet-8\")\n",
    "        return ResNet8_DroNet(input_shape=(200, 200, 1))\n",
    "    \n",
    "    if backbone_name == \"ResNet-18\":\n",
    "        if weights is not None:\n",
    "            print(\"[INFO] No pre-trained weights for available ResNet-18\")\n",
    "        return ResNet18(input_shape=(224, 224, 3))\n",
    "        \n",
    "    if backbone_name == \"ResNet-34\":\n",
    "        if weights is not None:\n",
    "            print(\"[INFO] No pre-trained weights available for ResNet-34\")\n",
    "        return ResNet34(input_shape=(224, 224, 3))\n",
    "\n",
    "    if backbone_name == \"ResNet-50\":\n",
    "        return keras.applications.ResNet50(\n",
    "            include_top=False,\n",
    "            input_shape=(224, 224, 3),\n",
    "            weights=\"imagenet\",\n",
    "            pooling=None,\n",
    "        )\n",
    "\n",
    "    if backbone_name == \"ResNet-50V2\":\n",
    "        return keras.applications.ResNet50V2(\n",
    "            include_top=False,\n",
    "            input_shape=(224, 224, 3),\n",
    "            weights=\"imagenet\",\n",
    "            pooling=None,\n",
    "        )\n",
    "\n",
    "    if backbone_name == \"MobileNet\":\n",
    "        return keras.applications.MobileNet(\n",
    "            include_top=False,\n",
    "            input_shape=(224, 224, 3),\n",
    "            weights=\"imagenet\",\n",
    "            pooling=None,\n",
    "            alpha=1.0,\n",
    "        )\n",
    "\n",
    "    if backbone_name == \"MobileNetV2\":\n",
    "        return keras.applications.MobileNetV2(\n",
    "            include_top=False,\n",
    "            input_shape=(224, 224, 3),\n",
    "            weights=\"imagenet\",\n",
    "            pooling=None,\n",
    "            alpha=1.0,\n",
    "        )\n",
    "\n",
    "    if backbone_name == \"EfficientNetB0\":\n",
    "        return keras.applications.EfficientNetB0(\n",
    "            include_top=False,\n",
    "            input_shape=(224, 224, 3),\n",
    "            weights=\"imagenet\",\n",
    "            pooling=None,\n",
    "        )\n",
    "    \n",
    "    raise ValueError(f\"Backbone {backbone_name} not implemented.\")"
   ]
  },
  {
   "cell_type": "code",
   "execution_count": 14,
   "id": "2e7dd81f",
   "metadata": {
    "execution": {
     "iopub.execute_input": "2025-06-27T20:55:53.716891Z",
     "iopub.status.busy": "2025-06-27T20:55:53.716625Z",
     "iopub.status.idle": "2025-06-27T20:55:53.725192Z",
     "shell.execute_reply": "2025-06-27T20:55:53.724556Z"
    },
    "papermill": {
     "duration": 0.015346,
     "end_time": "2025-06-27T20:55:53.726333",
     "exception": false,
     "start_time": "2025-06-27T20:55:53.710987",
     "status": "completed"
    },
    "tags": []
   },
   "outputs": [],
   "source": [
    "def build_model(model_description: dict):\n",
    "    input_shape = model_description[\"input\"][\"shape\"]\n",
    "    input_shape = tuple(input_shape)\n",
    "\n",
    "    backbone_name = model_description[\"backbone\"][\"name\"]\n",
    "    backbone_weights = model_description[\"backbone\"][\"weights\"]\n",
    "\n",
    "    PREPROCESS = {\n",
    "        \"MobileNet\":       keras.applications.mobilenet.preprocess_input,\n",
    "        \"MobileNetV2\":     keras.applications.mobilenet_v2.preprocess_input,\n",
    "        \"ResNet-50\":       lambda x: keras.applications.resnet.preprocess_input(x, mode=\"caffe\"),\n",
    "        \"ResNet-50V2\":     keras.applications.resnet_v2.preprocess_input,\n",
    "        \"EfficientNetB0\":  keras.applications.efficientnet.preprocess_input,\n",
    "    }\n",
    "    \n",
    "    inputs = keras.layers.Input(input_shape)\n",
    "    x = keras.layers.Rescaling(255.)(inputs) # To parse from [0, 1] to [0, 225]\n",
    "    x = PREPROCESS.get(backbone_name, tf.identity)(x)\n",
    "\n",
    "    backbone = instantiate_backbone(backbone_name, weights=backbone_weights)\n",
    "    if backbone_weights:\n",
    "        backbone.trainable = False\n",
    "\n",
    "    x = backbone(x)\n",
    "    x = keras.layers.GlobalAveragePooling2D(name=\"global_pool\")(x)\n",
    "    x = keras.layers.Dropout(0.3, name=\"dropout\")(x)\n",
    "\n",
    "    for i, (nodes, use_batch_normalization, use_dropout) in enumerate(model_description[\"head_description\"]):\n",
    "        use_bias = not use_batch_normalization\n",
    "        \n",
    "        x = keras.layers.Dense(nodes, use_bias=use_bias, activation=\"linear\", name=f\"dense_{i}\")(x)\n",
    "\n",
    "        if use_batch_normalization:\n",
    "            x = keras.layers.BatchNormalization(name=f\"batchnorm_{i}\")(x)\n",
    "\n",
    "        x = keras.layers.ReLU(name=f\"relu_{i}\")(x)\n",
    "        \n",
    "        if use_dropout:\n",
    "            x = keras.layers.Dropout(0.3, name=f\"dropout_{i}\")(x)\n",
    "    \n",
    "    output_x = keras.layers.Dense(1, name=\"vel_x\")(x)\n",
    "    output_y = keras.layers.Dense(1, name=\"vel_y\")(x)\n",
    "\n",
    "    outputs = [output_x, output_y]\n",
    "\n",
    "    return keras.models.Model(\n",
    "        inputs=inputs,\n",
    "        outputs=outputs,\n",
    "        name=model_description[\"name\"]\n",
    "    )"
   ]
  },
  {
   "cell_type": "code",
   "execution_count": 15,
   "id": "31db410f",
   "metadata": {
    "_cell_guid": "81fd146c-569e-41cd-a3b0-3697be73f389",
    "_uuid": "bf0dc136-a787-4acb-8200-a681d2426b5e",
    "collapsed": false,
    "execution": {
     "iopub.execute_input": "2025-06-27T20:55:53.736653Z",
     "iopub.status.busy": "2025-06-27T20:55:53.736361Z",
     "iopub.status.idle": "2025-06-27T20:55:53.741871Z",
     "shell.execute_reply": "2025-06-27T20:55:53.741325Z"
    },
    "jupyter": {
     "outputs_hidden": false
    },
    "papermill": {
     "duration": 0.011938,
     "end_time": "2025-06-27T20:55:53.743019",
     "exception": false,
     "start_time": "2025-06-27T20:55:53.731081",
     "status": "completed"
    },
    "tags": []
   },
   "outputs": [],
   "source": [
    "def train_model(model: keras.Model, train_dataset: tf.data.Dataset, validation_dataset: tf.data.Dataset):\n",
    "    history_1 = model.fit(\n",
    "        train_dataset,\n",
    "        validation_data=validation_dataset,\n",
    "        verbose=0,\n",
    "        epochs=40,\n",
    "    )\n",
    "\n",
    "    history_2 = model.fit(\n",
    "        train_dataset,\n",
    "        validation_data=validation_dataset,\n",
    "        epochs=200,\n",
    "        verbose=0,\n",
    "        callbacks=[\n",
    "            keras.callbacks.EarlyStopping(\n",
    "                monitor=\"val_loss\",\n",
    "                patience=45,\n",
    "                min_delta=1e-4,\n",
    "                mode=\"min\",\n",
    "                restore_best_weights=True,\n",
    "            ),\n",
    "            keras.callbacks.ReduceLROnPlateau(\n",
    "                monitor=\"val_loss\",\n",
    "                patience=15,\n",
    "                factor=0.5,\n",
    "                min_lr=1e-7,\n",
    "                mode=\"min\"\n",
    "            ),\n",
    "        ],\n",
    "    )\n",
    "\n",
    "    full_history = pd.concat([\n",
    "        pd.DataFrame(history_1.history),\n",
    "        pd.DataFrame(history_2.history),\n",
    "    ]).reset_index(drop=True)\n",
    "\n",
    "    return model, full_history"
   ]
  },
  {
   "cell_type": "markdown",
   "id": "7abe9cbf",
   "metadata": {
    "_cell_guid": "9bf3c32a-54e8-4151-bf50-0267a409748b",
    "_uuid": "6205940e-1262-4bad-a068-6b504c107336",
    "collapsed": false,
    "jupyter": {
     "outputs_hidden": false
    },
    "papermill": {
     "duration": 0.003718,
     "end_time": "2025-06-27T20:55:53.750960",
     "exception": false,
     "start_time": "2025-06-27T20:55:53.747242",
     "status": "completed"
    },
    "tags": []
   },
   "source": [
    "# Results structure"
   ]
  },
  {
   "cell_type": "code",
   "execution_count": 16,
   "id": "db36a336",
   "metadata": {
    "_cell_guid": "23d3c588-6bcc-4795-a80d-28372af0cbb0",
    "_uuid": "11c3b8a3-a8dc-47fb-90a4-cd088fa4e1d6",
    "collapsed": false,
    "execution": {
     "iopub.execute_input": "2025-06-27T20:55:53.759791Z",
     "iopub.status.busy": "2025-06-27T20:55:53.759534Z",
     "iopub.status.idle": "2025-06-27T20:55:53.763135Z",
     "shell.execute_reply": "2025-06-27T20:55:53.762564Z"
    },
    "jupyter": {
     "outputs_hidden": false
    },
    "papermill": {
     "duration": 0.009283,
     "end_time": "2025-06-27T20:55:53.764270",
     "exception": false,
     "start_time": "2025-06-27T20:55:53.754987",
     "status": "completed"
    },
    "tags": []
   },
   "outputs": [],
   "source": [
    "results = {}\n",
    "\n",
    "for model_description in models_descriptions:\n",
    "    model_name = model_description[\"name\"]\n",
    "    \n",
    "    results[model_name] = {}"
   ]
  },
  {
   "cell_type": "markdown",
   "id": "415fc4ca",
   "metadata": {
    "papermill": {
     "duration": 0.003883,
     "end_time": "2025-06-27T20:55:53.772177",
     "exception": false,
     "start_time": "2025-06-27T20:55:53.768294",
     "status": "completed"
    },
    "tags": []
   },
   "source": [
    "# Benchmark loop"
   ]
  },
  {
   "cell_type": "code",
   "execution_count": 17,
   "id": "653a8ac2",
   "metadata": {
    "_cell_guid": "e152cd73-944e-4b15-aa4d-0ff037039760",
    "_kg_hide-output": true,
    "_uuid": "2d42d04f-46cf-475a-b7d4-2510a00f24ba",
    "collapsed": false,
    "execution": {
     "iopub.execute_input": "2025-06-27T20:55:53.781410Z",
     "iopub.status.busy": "2025-06-27T20:55:53.781127Z",
     "iopub.status.idle": "2025-06-28T01:18:00.170965Z",
     "shell.execute_reply": "2025-06-28T01:18:00.170121Z"
    },
    "jupyter": {
     "outputs_hidden": false
    },
    "papermill": {
     "duration": 15726.3962,
     "end_time": "2025-06-28T01:18:00.172405",
     "exception": false,
     "start_time": "2025-06-27T20:55:53.776205",
     "status": "completed"
    },
    "tags": []
   },
   "outputs": [
    {
     "name": "stderr",
     "output_type": "stream",
     "text": [
      "I0000 00:00:1751057755.050291      19 gpu_device.cc:2022] Created device /job:localhost/replica:0/task:0/device:GPU:0 with 15513 MB memory:  -> device: 0, name: Tesla P100-PCIE-16GB, pci bus id: 0000:00:04.0, compute capability: 6.0\n"
     ]
    },
    {
     "name": "stdout",
     "output_type": "stream",
     "text": [
      "Training model MobileNet_imagenet  for configuration (0.01, 32)\n",
      "Downloading data from https://storage.googleapis.com/tensorflow/keras-applications/mobilenet/mobilenet_1_0_224_tf_no_top.h5\n",
      "\u001b[1m17225924/17225924\u001b[0m \u001b[32m━━━━━━━━━━━━━━━━━━━━\u001b[0m\u001b[37m\u001b[0m \u001b[1m0s\u001b[0m 0us/step\n"
     ]
    },
    {
     "name": "stderr",
     "output_type": "stream",
     "text": [
      "WARNING: All log messages before absl::InitializeLog() is called are written to STDERR\n",
      "I0000 00:00:1751057791.102416      59 service.cc:148] XLA service 0x79abbc10a910 initialized for platform CUDA (this does not guarantee that XLA will be used). Devices:\n",
      "I0000 00:00:1751057791.103140      59 service.cc:156]   StreamExecutor device (0): Tesla P100-PCIE-16GB, Compute Capability 6.0\n",
      "I0000 00:00:1751057791.817025      59 cuda_dnn.cc:529] Loaded cuDNN version 90300\n",
      "I0000 00:00:1751057795.139401      59 device_compiler.h:188] Compiled cluster using XLA!  This line is logged at most once for the lifetime of the process.\n"
     ]
    },
    {
     "name": "stdout",
     "output_type": "stream",
     "text": [
      "\u001b[1m15/15\u001b[0m \u001b[32m━━━━━━━━━━━━━━━━━━━━\u001b[0m\u001b[37m\u001b[0m \u001b[1m8s\u001b[0m 550ms/step - loss: 0.4852 - vel_x_eva: 0.2235 - vel_x_loss: 0.3724 - vel_x_r2_score: 0.1788 - vel_x_rmse: 0.5974 - vel_y_eva: 0.8532 - vel_y_loss: 0.1136 - vel_y_r2_score: 0.8478 - vel_y_rmse: 0.3330\n",
      "Training model MobileNet_scratch  for configuration (0.01, 32)\n"
     ]
    },
    {
     "name": "stderr",
     "output_type": "stream",
     "text": [
      "E0000 00:00:1751058251.440648      56 gpu_timer.cc:82] Delay kernel timed out: measured time has sub-optimal accuracy. There may be a missing warmup execution, please investigate in Nsight Systems.\n",
      "E0000 00:00:1751058251.640474      56 gpu_timer.cc:82] Delay kernel timed out: measured time has sub-optimal accuracy. There may be a missing warmup execution, please investigate in Nsight Systems.\n",
      "E0000 00:00:1751058264.832014      57 gpu_timer.cc:82] Delay kernel timed out: measured time has sub-optimal accuracy. There may be a missing warmup execution, please investigate in Nsight Systems.\n",
      "E0000 00:00:1751058265.034105      57 gpu_timer.cc:82] Delay kernel timed out: measured time has sub-optimal accuracy. There may be a missing warmup execution, please investigate in Nsight Systems.\n"
     ]
    },
    {
     "name": "stdout",
     "output_type": "stream",
     "text": [
      "\u001b[1m15/15\u001b[0m \u001b[32m━━━━━━━━━━━━━━━━━━━━\u001b[0m\u001b[37m\u001b[0m \u001b[1m0s\u001b[0m 24ms/step - loss: 0.0366 - vel_x_eva: 0.9042 - vel_x_loss: 0.0294 - vel_x_r2_score: 0.9015 - vel_x_rmse: 0.1446 - vel_y_eva: 0.9912 - vel_y_loss: 0.0070 - vel_y_r2_score: 0.9905 - vel_y_rmse: 0.0812\n",
      "Training model MobileNet_scratch_gray  for configuration (0.01, 32)\n",
      "\u001b[1m15/15\u001b[0m \u001b[32m━━━━━━━━━━━━━━━━━━━━\u001b[0m\u001b[37m\u001b[0m \u001b[1m44s\u001b[0m 3s/step - loss: 0.0429 - vel_x_eva: 0.9271 - vel_x_loss: 0.0321 - vel_x_r2_score: 0.9236 - vel_x_rmse: 0.1498 - vel_y_eva: 0.9868 - vel_y_loss: 0.0105 - vel_y_r2_score: 0.9860 - vel_y_rmse: 0.1009\n",
      "Training model MobileNet_imagenet  for configuration (0.01, 64)\n",
      "\u001b[1m8/8\u001b[0m \u001b[32m━━━━━━━━━━━━━━━━━━━━\u001b[0m\u001b[37m\u001b[0m \u001b[1m0s\u001b[0m 44ms/step - loss: 0.4712 - vel_x_eva: 0.2292 - vel_x_loss: 0.3587 - vel_x_r2_score: 0.2132 - vel_x_rmse: 0.5911 - vel_y_eva: 0.8501 - vel_y_loss: 0.1173 - vel_y_r2_score: 0.8438 - vel_y_rmse: 0.3408\n",
      "Training model MobileNet_scratch  for configuration (0.01, 64)\n"
     ]
    },
    {
     "name": "stderr",
     "output_type": "stream",
     "text": [
      "E0000 00:00:1751060344.439361      56 gpu_timer.cc:82] Delay kernel timed out: measured time has sub-optimal accuracy. There may be a missing warmup execution, please investigate in Nsight Systems.\n",
      "E0000 00:00:1751060344.640415      56 gpu_timer.cc:82] Delay kernel timed out: measured time has sub-optimal accuracy. There may be a missing warmup execution, please investigate in Nsight Systems.\n"
     ]
    },
    {
     "name": "stdout",
     "output_type": "stream",
     "text": [
      "\u001b[1m8/8\u001b[0m \u001b[32m━━━━━━━━━━━━━━━━━━━━\u001b[0m\u001b[37m\u001b[0m \u001b[1m0s\u001b[0m 42ms/step - loss: 0.0276 - vel_x_eva: 0.9533 - vel_x_loss: 0.0194 - vel_x_r2_score: 0.9523 - vel_x_rmse: 0.1243 - vel_y_eva: 0.9902 - vel_y_loss: 0.0076 - vel_y_r2_score: 0.9898 - vel_y_rmse: 0.0869\n",
      "Training model MobileNet_scratch_gray  for configuration (0.01, 64)\n",
      "\u001b[1m8/8\u001b[0m \u001b[32m━━━━━━━━━━━━━━━━━━━━\u001b[0m\u001b[37m\u001b[0m \u001b[1m0s\u001b[0m 44ms/step - loss: 0.0444 - vel_x_eva: 0.9306 - vel_x_loss: 0.0316 - vel_x_r2_score: 0.9292 - vel_x_rmse: 0.1538 - vel_y_eva: 0.9854 - vel_y_loss: 0.0121 - vel_y_r2_score: 0.9835 - vel_y_rmse: 0.1086\n",
      "Training model MobileNet_imagenet  for configuration (0.01, 128)\n",
      "\u001b[1m4/4\u001b[0m \u001b[32m━━━━━━━━━━━━━━━━━━━━\u001b[0m\u001b[37m\u001b[0m \u001b[1m0s\u001b[0m 72ms/step - loss: 0.4859 - vel_x_eva: 0.1704 - vel_x_loss: 0.3671 - vel_x_r2_score: 0.1660 - vel_x_rmse: 0.6019 - vel_y_eva: 0.8573 - vel_y_loss: 0.1146 - vel_y_r2_score: 0.8476 - vel_y_rmse: 0.3378\n",
      "Training model MobileNet_scratch  for configuration (0.01, 128)\n"
     ]
    },
    {
     "name": "stderr",
     "output_type": "stream",
     "text": [
      "E0000 00:00:1751061844.004331      56 gpu_timer.cc:82] Delay kernel timed out: measured time has sub-optimal accuracy. There may be a missing warmup execution, please investigate in Nsight Systems.\n",
      "E0000 00:00:1751061844.214218      56 gpu_timer.cc:82] Delay kernel timed out: measured time has sub-optimal accuracy. There may be a missing warmup execution, please investigate in Nsight Systems.\n",
      "E0000 00:00:1751061858.283801      56 gpu_timer.cc:82] Delay kernel timed out: measured time has sub-optimal accuracy. There may be a missing warmup execution, please investigate in Nsight Systems.\n",
      "E0000 00:00:1751061858.487379      56 gpu_timer.cc:82] Delay kernel timed out: measured time has sub-optimal accuracy. There may be a missing warmup execution, please investigate in Nsight Systems.\n"
     ]
    },
    {
     "name": "stdout",
     "output_type": "stream",
     "text": [
      "\u001b[1m4/4\u001b[0m \u001b[32m━━━━━━━━━━━━━━━━━━━━\u001b[0m\u001b[37m\u001b[0m \u001b[1m0s\u001b[0m 77ms/step - loss: 0.0498 - vel_x_eva: 0.9163 - vel_x_loss: 0.0390 - vel_x_r2_score: 0.9158 - vel_x_rmse: 0.1933 - vel_y_eva: 0.9869 - vel_y_loss: 0.0099 - vel_y_r2_score: 0.9868 - vel_y_rmse: 0.0989\n",
      "Training model MobileNet_scratch_gray  for configuration (0.01, 128)\n",
      "\u001b[1m4/4\u001b[0m \u001b[32m━━━━━━━━━━━━━━━━━━━━\u001b[0m\u001b[37m\u001b[0m \u001b[1m0s\u001b[0m 76ms/step - loss: 0.0458 - vel_x_eva: 0.9305 - vel_x_loss: 0.0325 - vel_x_r2_score: 0.9260 - vel_x_rmse: 0.1780 - vel_y_eva: 0.9828 - vel_y_loss: 0.0129 - vel_y_r2_score: 0.9828 - vel_y_rmse: 0.1135\n",
      "Training model MobileNet_imagenet  for configuration (0.001, 32)\n",
      "\u001b[1m15/15\u001b[0m \u001b[32m━━━━━━━━━━━━━━━━━━━━\u001b[0m\u001b[37m\u001b[0m \u001b[1m0s\u001b[0m 23ms/step - loss: 0.4815 - vel_x_eva: 0.2270 - vel_x_loss: 0.3626 - vel_x_r2_score: 0.2029 - vel_x_rmse: 0.5901 - vel_y_eva: 0.8488 - vel_y_loss: 0.1211 - vel_y_r2_score: 0.8372 - vel_y_rmse: 0.3446\n",
      "Training model MobileNet_scratch  for configuration (0.001, 32)\n",
      "\u001b[1m15/15\u001b[0m \u001b[32m━━━━━━━━━━━━━━━━━━━━\u001b[0m\u001b[37m\u001b[0m \u001b[1m0s\u001b[0m 24ms/step - loss: 0.0184 - vel_x_eva: 0.9561 - vel_x_loss: 0.0140 - vel_x_r2_score: 0.9545 - vel_x_rmse: 0.1026 - vel_y_eva: 0.9943 - vel_y_loss: 0.0044 - vel_y_r2_score: 0.9941 - vel_y_rmse: 0.0658\n",
      "Training model MobileNet_scratch_gray  for configuration (0.001, 32)\n",
      "\u001b[1m15/15\u001b[0m \u001b[32m━━━━━━━━━━━━━━━━━━━━\u001b[0m\u001b[37m\u001b[0m \u001b[1m0s\u001b[0m 26ms/step - loss: 0.0279 - vel_x_eva: 0.9533 - vel_x_loss: 0.0185 - vel_x_r2_score: 0.9524 - vel_x_rmse: 0.1210 - vel_y_eva: 0.9882 - vel_y_loss: 0.0093 - vel_y_r2_score: 0.9873 - vel_y_rmse: 0.0956\n",
      "Training model MobileNet_imagenet  for configuration (0.001, 64)\n",
      "\u001b[1m8/8\u001b[0m \u001b[32m━━━━━━━━━━━━━━━━━━━━\u001b[0m\u001b[37m\u001b[0m \u001b[1m0s\u001b[0m 45ms/step - loss: 0.4952 - vel_x_eva: 0.2192 - vel_x_loss: 0.3773 - vel_x_r2_score: 0.2013 - vel_x_rmse: 0.6030 - vel_y_eva: 0.8388 - vel_y_loss: 0.1246 - vel_y_r2_score: 0.8343 - vel_y_rmse: 0.3515\n",
      "Training model MobileNet_scratch  for configuration (0.001, 64)\n",
      "\u001b[1m8/8\u001b[0m \u001b[32m━━━━━━━━━━━━━━━━━━━━\u001b[0m\u001b[37m\u001b[0m \u001b[1m0s\u001b[0m 43ms/step - loss: 0.0266 - vel_x_eva: 0.9572 - vel_x_loss: 0.0169 - vel_x_r2_score: 0.9565 - vel_x_rmse: 0.1242 - vel_y_eva: 0.9879 - vel_y_loss: 0.0092 - vel_y_r2_score: 0.9876 - vel_y_rmse: 0.0959\n",
      "Training model MobileNet_scratch_gray  for configuration (0.001, 64)\n",
      "\u001b[1m8/8\u001b[0m \u001b[32m━━━━━━━━━━━━━━━━━━━━\u001b[0m\u001b[37m\u001b[0m \u001b[1m0s\u001b[0m 42ms/step - loss: 0.0374 - vel_x_eva: 0.9529 - vel_x_loss: 0.0182 - vel_x_r2_score: 0.9519 - vel_x_rmse: 0.1273 - vel_y_eva: 0.9775 - vel_y_loss: 0.0186 - vel_y_r2_score: 0.9753 - vel_y_rmse: 0.1354\n",
      "Training model MobileNet_imagenet  for configuration (0.001, 128)\n",
      "\u001b[1m4/4\u001b[0m \u001b[32m━━━━━━━━━━━━━━━━━━━━\u001b[0m\u001b[37m\u001b[0m \u001b[1m0s\u001b[0m 70ms/step - loss: 0.5083 - vel_x_eva: 0.1720 - vel_x_loss: 0.3880 - vel_x_r2_score: 0.1575 - vel_x_rmse: 0.6156 - vel_y_eva: 0.8510 - vel_y_loss: 0.1122 - vel_y_r2_score: 0.8506 - vel_y_rmse: 0.3345\n",
      "Training model MobileNet_scratch  for configuration (0.001, 128)\n",
      "\u001b[1m4/4\u001b[0m \u001b[32m━━━━━━━━━━━━━━━━━━━━\u001b[0m\u001b[37m\u001b[0m \u001b[1m0s\u001b[0m 78ms/step - loss: 0.0368 - vel_x_eva: 0.9405 - vel_x_loss: 0.0257 - vel_x_r2_score: 0.9396 - vel_x_rmse: 0.1593 - vel_y_eva: 0.9854 - vel_y_loss: 0.0112 - vel_y_r2_score: 0.9851 - vel_y_rmse: 0.1055\n",
      "Training model MobileNet_scratch_gray  for configuration (0.001, 128)\n",
      "\u001b[1m4/4\u001b[0m \u001b[32m━━━━━━━━━━━━━━━━━━━━\u001b[0m\u001b[37m\u001b[0m \u001b[1m0s\u001b[0m 72ms/step - loss: 0.0547 - vel_x_eva: 0.9287 - vel_x_loss: 0.0336 - vel_x_r2_score: 0.9285 - vel_x_rmse: 0.1802 - vel_y_eva: 0.9729 - vel_y_loss: 0.0204 - vel_y_r2_score: 0.9728 - vel_y_rmse: 0.1427\n",
      "Training model MobileNet_imagenet  for configuration (0.0001, 32)\n",
      "\u001b[1m15/15\u001b[0m \u001b[32m━━━━━━━━━━━━━━━━━━━━\u001b[0m\u001b[37m\u001b[0m \u001b[1m0s\u001b[0m 24ms/step - loss: 0.5364 - vel_x_eva: 0.1464 - vel_x_loss: 0.4192 - vel_x_r2_score: 0.1154 - vel_x_rmse: 0.6316 - vel_y_eva: 0.8469 - vel_y_loss: 0.1188 - vel_y_r2_score: 0.8413 - vel_y_rmse: 0.3405\n",
      "Training model MobileNet_scratch  for configuration (0.0001, 32)\n",
      "\u001b[1m15/15\u001b[0m \u001b[32m━━━━━━━━━━━━━━━━━━━━\u001b[0m\u001b[37m\u001b[0m \u001b[1m0s\u001b[0m 23ms/step - loss: 0.0342 - vel_x_eva: 0.9372 - vel_x_loss: 0.0263 - vel_x_r2_score: 0.9349 - vel_x_rmse: 0.1496 - vel_y_eva: 0.9902 - vel_y_loss: 0.0078 - vel_y_r2_score: 0.9896 - vel_y_rmse: 0.0871\n",
      "Training model MobileNet_scratch_gray  for configuration (0.0001, 32)\n",
      "\u001b[1m15/15\u001b[0m \u001b[32m━━━━━━━━━━━━━━━━━━━━\u001b[0m\u001b[37m\u001b[0m \u001b[1m0s\u001b[0m 24ms/step - loss: 0.0404 - vel_x_eva: 0.9450 - vel_x_loss: 0.0233 - vel_x_r2_score: 0.9437 - vel_x_rmse: 0.1330 - vel_y_eva: 0.9801 - vel_y_loss: 0.0170 - vel_y_r2_score: 0.9772 - vel_y_rmse: 0.1289\n",
      "Training model MobileNet_imagenet  for configuration (0.0001, 64)\n",
      "\u001b[1m8/8\u001b[0m \u001b[32m━━━━━━━━━━━━━━━━━━━━\u001b[0m\u001b[37m\u001b[0m \u001b[1m0s\u001b[0m 43ms/step - loss: 0.5341 - vel_x_eva: 0.1494 - vel_x_loss: 0.4102 - vel_x_r2_score: 0.1230 - vel_x_rmse: 0.6308 - vel_y_eva: 0.8346 - vel_y_loss: 0.1299 - vel_y_r2_score: 0.8282 - vel_y_rmse: 0.3582\n",
      "Training model MobileNet_scratch  for configuration (0.0001, 64)\n",
      "\u001b[1m8/8\u001b[0m \u001b[32m━━━━━━━━━━━━━━━━━━━━\u001b[0m\u001b[37m\u001b[0m \u001b[1m0s\u001b[0m 44ms/step - loss: 0.0499 - vel_x_eva: 0.9289 - vel_x_loss: 0.0322 - vel_x_r2_score: 0.9283 - vel_x_rmse: 0.1737 - vel_y_eva: 0.9775 - vel_y_loss: 0.0174 - vel_y_r2_score: 0.9769 - vel_y_rmse: 0.1309\n",
      "Training model MobileNet_scratch_gray  for configuration (0.0001, 64)\n",
      "\u001b[1m8/8\u001b[0m \u001b[32m━━━━━━━━━━━━━━━━━━━━\u001b[0m\u001b[37m\u001b[0m \u001b[1m0s\u001b[0m 43ms/step - loss: 0.0642 - vel_x_eva: 0.9098 - vel_x_loss: 0.0390 - vel_x_r2_score: 0.9092 - vel_x_rmse: 0.1882 - vel_y_eva: 0.9682 - vel_y_loss: 0.0241 - vel_y_r2_score: 0.9676 - vel_y_rmse: 0.1547\n",
      "Training model MobileNet_imagenet  for configuration (0.0001, 128)\n",
      "\u001b[1m4/4\u001b[0m \u001b[32m━━━━━━━━━━━━━━━━━━━━\u001b[0m\u001b[37m\u001b[0m \u001b[1m0s\u001b[0m 77ms/step - loss: 0.6395 - vel_x_eva: 0.0525 - vel_x_loss: 0.4545 - vel_x_r2_score: 0.0302 - vel_x_rmse: 0.6635 - vel_y_eva: 0.7707 - vel_y_loss: 0.1742 - vel_y_r2_score: 0.7684 - vel_y_rmse: 0.4173\n",
      "Training model MobileNet_scratch  for configuration (0.0001, 128)\n",
      "\u001b[1m4/4\u001b[0m \u001b[32m━━━━━━━━━━━━━━━━━━━━\u001b[0m\u001b[37m\u001b[0m \u001b[1m0s\u001b[0m 69ms/step - loss: 0.0775 - vel_x_eva: 0.8895 - vel_x_loss: 0.0502 - vel_x_r2_score: 0.8882 - vel_x_rmse: 0.2213 - vel_y_eva: 0.9647 - vel_y_loss: 0.0266 - vel_y_r2_score: 0.9645 - vel_y_rmse: 0.1630\n",
      "Training model MobileNet_scratch_gray  for configuration (0.0001, 128)\n",
      "\u001b[1m4/4\u001b[0m \u001b[32m━━━━━━━━━━━━━━━━━━━━\u001b[0m\u001b[37m\u001b[0m \u001b[1m0s\u001b[0m 81ms/step - loss: 0.0919 - vel_x_eva: 0.8852 - vel_x_loss: 0.0538 - vel_x_r2_score: 0.8815 - vel_x_rmse: 0.2285 - vel_y_eva: 0.9510 - vel_y_loss: 0.0376 - vel_y_r2_score: 0.9499 - vel_y_rmse: 0.1937\n"
     ]
    }
   ],
   "source": [
    "samples_dataframe = load_samples_dataframe(\"/kaggle/input/marketplace-navigation-dataset/dataset\")\n",
    "# samples_dataframe = samples_dataframe.sample(frac=0.05)\n",
    "\n",
    "round_number = 2\n",
    "seed = round_number + 1\n",
    "\n",
    "datasets = {}\n",
    "\n",
    "for model_description in models_descriptions:\n",
    "    dataset_key = tuple(model_description[\"input\"][\"shape\"])\n",
    "    dataset_key = model_description[\"input\"][\"grayscale\"], dataset_key\n",
    "    \n",
    "    if not dataset_key in datasets:\n",
    "        datasets[dataset_key] = build_train_val_test_datasets(\n",
    "            samples_dataframe,\n",
    "            model_description[\"input\"],\n",
    "            seed\n",
    "        )\n",
    "        \n",
    "for configuration in configurations:\n",
    "    for model_description in models_descriptions:\n",
    "        print(\"Training model\", model_description[\"name\"], \" for configuration\", configuration)\n",
    "        \n",
    "        learning_rate, batch_size = configuration\n",
    "        dataset_key = tuple(model_description[\"input\"][\"shape\"])\n",
    "        dataset_key = model_description[\"input\"][\"grayscale\"], dataset_key\n",
    "\n",
    "        train_ds = datasets[dataset_key][\"train\"]\n",
    "        val_ds   = datasets[dataset_key][\"val\"]\n",
    "        test_ds  = datasets[dataset_key][\"test\"]\n",
    "        \n",
    "        train_ds = train_ds.batch(batch_size).prefetch(tf.data.AUTOTUNE)\n",
    "        val_ds   = val_ds.batch(batch_size).prefetch(tf.data.AUTOTUNE)\n",
    "        test_ds  = test_ds.batch(batch_size).prefetch(tf.data.AUTOTUNE)\n",
    "\n",
    "        model = build_model(model_description)\n",
    "        model.compile(\n",
    "            loss={\n",
    "                \"vel_x\": \"mean_squared_error\",\n",
    "                \"vel_y\": \"mean_squared_error\",\n",
    "            },\n",
    "            optimizer=keras.optimizers.Adam(learning_rate=learning_rate),\n",
    "            metrics={\n",
    "                \"vel_x\": [rmse, eva, r2_score],\n",
    "                \"vel_y\": [rmse, eva, r2_score],\n",
    "            },\n",
    "        )\n",
    "        model, history = train_model(model, train_ds, val_ds)\n",
    "\n",
    "        evaluation_metrics = model.evaluate(test_ds, return_dict=True)\n",
    "        \n",
    "        results[model_description[\"name\"]][configuration] = evaluation_metrics\n",
    "\n",
    "        file_name = f\"r{round_number}_{model.name}_{learning_rate:.0e}_{batch_size}\"\n",
    "\n",
    "        model.save(f\"{file_name}.keras\")\n",
    "        history.to_csv(f\"{file_name}.csv\")\n",
    "        with open(\"results.pkl\", \"wb\") as results_file:\n",
    "            pickle.dump(results, results_file)"
   ]
  },
  {
   "cell_type": "code",
   "execution_count": null,
   "id": "278d03ec",
   "metadata": {
    "papermill": {
     "duration": 0.014493,
     "end_time": "2025-06-28T01:18:00.200937",
     "exception": false,
     "start_time": "2025-06-28T01:18:00.186444",
     "status": "completed"
    },
    "tags": []
   },
   "outputs": [],
   "source": []
  }
 ],
 "metadata": {
  "kaggle": {
   "accelerator": "gpu",
   "dataSources": [
    {
     "datasetId": 6187980,
     "sourceId": 10061785,
     "sourceType": "datasetVersion"
    }
   ],
   "dockerImageVersionId": 31011,
   "isGpuEnabled": true,
   "isInternetEnabled": true,
   "language": "python",
   "sourceType": "notebook"
  },
  "kernelspec": {
   "display_name": "Python 3",
   "language": "python",
   "name": "python3"
  },
  "language_info": {
   "codemirror_mode": {
    "name": "ipython",
    "version": 3
   },
   "file_extension": ".py",
   "mimetype": "text/x-python",
   "name": "python",
   "nbconvert_exporter": "python",
   "pygments_lexer": "ipython3",
   "version": "3.11.11"
  },
  "papermill": {
   "default_parameters": {},
   "duration": 15752.335106,
   "end_time": "2025-06-28T01:18:04.730383",
   "environment_variables": {},
   "exception": null,
   "input_path": "__notebook__.ipynb",
   "output_path": "__notebook__.ipynb",
   "parameters": {},
   "start_time": "2025-06-27T20:55:32.395277",
   "version": "2.6.0"
  }
 },
 "nbformat": 4,
 "nbformat_minor": 5
}
