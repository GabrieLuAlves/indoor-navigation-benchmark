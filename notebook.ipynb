{
 "cells": [
  {
   "cell_type": "code",
   "execution_count": 1,
   "id": "b4300f6f",
   "metadata": {
    "_cell_guid": "31cda6c9-1a82-4124-b805-116202195863",
    "_uuid": "80eb9cab-e2af-4b59-bb1d-c9da376c23fb",
    "collapsed": false,
    "execution": {
     "iopub.execute_input": "2025-07-02T15:48:31.013549Z",
     "iopub.status.busy": "2025-07-02T15:48:31.013282Z",
     "iopub.status.idle": "2025-07-02T15:48:45.380953Z",
     "shell.execute_reply": "2025-07-02T15:48:45.380154Z"
    },
    "jupyter": {
     "outputs_hidden": false
    },
    "papermill": {
     "duration": 14.37468,
     "end_time": "2025-07-02T15:48:45.382349",
     "exception": false,
     "start_time": "2025-07-02T15:48:31.007669",
     "status": "completed"
    },
    "tags": []
   },
   "outputs": [
    {
     "name": "stderr",
     "output_type": "stream",
     "text": [
      "2025-07-02 15:48:34.972341: E external/local_xla/xla/stream_executor/cuda/cuda_fft.cc:477] Unable to register cuFFT factory: Attempting to register factory for plugin cuFFT when one has already been registered\n",
      "WARNING: All log messages before absl::InitializeLog() is called are written to STDERR\n",
      "E0000 00:00:1751471315.158136      19 cuda_dnn.cc:8310] Unable to register cuDNN factory: Attempting to register factory for plugin cuDNN when one has already been registered\n",
      "E0000 00:00:1751471315.213344      19 cuda_blas.cc:1418] Unable to register cuBLAS factory: Attempting to register factory for plugin cuBLAS when one has already been registered\n"
     ]
    }
   ],
   "source": [
    "import numpy as np\n",
    "import pandas as pd\n",
    "import os\n",
    "import shutil\n",
    "import pickle\n",
    "import matplotlib.pyplot as plt\n",
    "from PIL import Image\n",
    "\n",
    "from sklearn.model_selection import train_test_split\n",
    "\n",
    "os.environ[\"KERAS_BACKEND\"] = \"tensorflow\"\n",
    "\n",
    "import tensorflow as tf\n",
    "\n",
    "import keras\n",
    "import keras.backend as K\n",
    "\n",
    "from tqdm import tqdm\n",
    "\n",
    "from concurrent.futures import ThreadPoolExecutor\n",
    "\n",
    "%matplotlib inline"
   ]
  },
  {
   "cell_type": "markdown",
   "id": "5ed3e4ac",
   "metadata": {
    "_cell_guid": "eb6ae085-ac99-47ec-a0a2-5683f602486e",
    "_uuid": "ff3814a7-d691-41bc-b0f1-6da33c4a9ac2",
    "collapsed": false,
    "jupyter": {
     "outputs_hidden": false
    },
    "papermill": {
     "duration": 0.003778,
     "end_time": "2025-07-02T15:48:45.390440",
     "exception": false,
     "start_time": "2025-07-02T15:48:45.386662",
     "status": "completed"
    },
    "tags": []
   },
   "source": [
    "# 4. Regression metrics"
   ]
  },
  {
   "cell_type": "code",
   "execution_count": 2,
   "id": "8310a720",
   "metadata": {
    "_cell_guid": "2ff167d9-a16d-45f2-8326-5ddacc1e0035",
    "_uuid": "dbc1d7e6-369e-474e-867d-c88fc75a5eec",
    "collapsed": false,
    "execution": {
     "iopub.execute_input": "2025-07-02T15:48:45.399318Z",
     "iopub.status.busy": "2025-07-02T15:48:45.398873Z",
     "iopub.status.idle": "2025-07-02T15:48:45.406348Z",
     "shell.execute_reply": "2025-07-02T15:48:45.405803Z"
    },
    "jupyter": {
     "outputs_hidden": false
    },
    "papermill": {
     "duration": 0.013249,
     "end_time": "2025-07-02T15:48:45.407400",
     "exception": false,
     "start_time": "2025-07-02T15:48:45.394151",
     "status": "completed"
    },
    "tags": []
   },
   "outputs": [],
   "source": [
    "@tf.function\n",
    "def rmse(y_true, y_pred):\n",
    "    y_true = tf.cast(y_true, tf.float32)\n",
    "    y_pred = tf.cast(y_pred, tf.float32)\n",
    "    \n",
    "    y_true = tf.reshape(y_true, [-1, 1])\n",
    "    y_pred = tf.reshape(y_pred, [-1, 1])\n",
    "    \n",
    "    return tf.sqrt(tf.reduce_mean(tf.square(y_true - y_pred)))\n",
    "\n",
    "@tf.function\n",
    "def eva(y_true, y_pred):\n",
    "    y_true = tf.cast(y_true, tf.float32)\n",
    "    y_pred = tf.cast(y_pred, tf.float32)\n",
    "    \n",
    "    y_true = tf.reshape(y_true, [-1, 1])\n",
    "    y_pred = tf.reshape(y_pred, [-1, 1])\n",
    "\n",
    "    numerator = tf.math.reduce_variance(y_true - y_pred)\n",
    "    denominator = tf.math.reduce_variance(y_true) + tf.keras.backend.epsilon()\n",
    "    \n",
    "    return 1.0 - numerator / denominator\n",
    "\n",
    "@tf.function\n",
    "def r2_score(y_true, y_pred):\n",
    "    y_true = tf.cast(y_true, tf.float32)\n",
    "    y_pred = tf.cast(y_pred, tf.float32)\n",
    "    \n",
    "    y_true = tf.reshape(y_true, [-1, 1])\n",
    "    y_pred = tf.reshape(y_pred, [-1, 1])\n",
    "    \n",
    "    ss_res = tf.reduce_sum(tf.square(y_true - y_pred))\n",
    "    ss_tot = tf.reduce_sum(tf.square(y_true - tf.reduce_mean(y_true)))\n",
    "    \n",
    "    return 1 - (ss_res / (ss_tot + K.epsilon()))"
   ]
  },
  {
   "cell_type": "markdown",
   "id": "7d587961",
   "metadata": {
    "_cell_guid": "47399b8c-5071-4124-9cbb-0b091cae6af5",
    "_uuid": "d2959917-ade9-410a-81b6-ea0d9f1efa35",
    "collapsed": false,
    "jupyter": {
     "outputs_hidden": false
    },
    "papermill": {
     "duration": 0.003542,
     "end_time": "2025-07-02T15:48:45.414777",
     "exception": false,
     "start_time": "2025-07-02T15:48:45.411235",
     "status": "completed"
    },
    "tags": []
   },
   "source": [
    "# 4. ResNet 8/18/34 construction"
   ]
  },
  {
   "cell_type": "code",
   "execution_count": 3,
   "id": "de04e5e5",
   "metadata": {
    "_cell_guid": "60c3f6be-a0f0-44b2-9ace-a203ae45387d",
    "_uuid": "6a63061c-9d12-4bf9-ad97-605fa393efe5",
    "collapsed": false,
    "execution": {
     "iopub.execute_input": "2025-07-02T15:48:45.423207Z",
     "iopub.status.busy": "2025-07-02T15:48:45.422814Z",
     "iopub.status.idle": "2025-07-02T15:48:45.427346Z",
     "shell.execute_reply": "2025-07-02T15:48:45.426829Z"
    },
    "jupyter": {
     "outputs_hidden": false
    },
    "papermill": {
     "duration": 0.00988,
     "end_time": "2025-07-02T15:48:45.428357",
     "exception": false,
     "start_time": "2025-07-02T15:48:45.418477",
     "status": "completed"
    },
    "tags": []
   },
   "outputs": [],
   "source": [
    "def resnet_block(x, filters, stride=1, use_projection=False):\n",
    "    shortcut = x\n",
    "\n",
    "    x = keras.layers.Conv2D(filters, 3, strides=stride, padding='same', use_bias=False)(x)\n",
    "    x = keras.layers.BatchNormalization()(x)\n",
    "    x = keras.layers.ReLU()(x)\n",
    "\n",
    "    x = keras.layers.Conv2D(filters, 3, strides=1, padding='same', use_bias=False)(x)\n",
    "    x = keras.layers.BatchNormalization()(x)\n",
    "\n",
    "    if use_projection:\n",
    "        shortcut = keras.layers.Conv2D(filters, 1, strides=stride, use_bias=False)(shortcut)\n",
    "        shortcut = keras.layers.BatchNormalization()(shortcut)\n",
    "\n",
    "    x = keras.layers.Add()([x, shortcut])\n",
    "    x = keras.layers.ReLU()(x)\n",
    "    return x"
   ]
  },
  {
   "cell_type": "code",
   "execution_count": 4,
   "id": "e58c22ac",
   "metadata": {
    "_cell_guid": "36e1a4e9-a964-438b-82f8-e1f6b6a13fb7",
    "_uuid": "70aff8e4-29bd-4438-a3c0-fbfa0a441b21",
    "collapsed": false,
    "execution": {
     "iopub.execute_input": "2025-07-02T15:48:45.436518Z",
     "iopub.status.busy": "2025-07-02T15:48:45.436323Z",
     "iopub.status.idle": "2025-07-02T15:48:45.440889Z",
     "shell.execute_reply": "2025-07-02T15:48:45.440387Z"
    },
    "jupyter": {
     "outputs_hidden": false
    },
    "papermill": {
     "duration": 0.009776,
     "end_time": "2025-07-02T15:48:45.441889",
     "exception": false,
     "start_time": "2025-07-02T15:48:45.432113",
     "status": "completed"
    },
    "tags": []
   },
   "outputs": [],
   "source": [
    "def ResNet8_DroNet(input_shape=(200, 200, 1), dropout_rate=0.3):\n",
    "    inputs = keras.Input(shape=input_shape)\n",
    "\n",
    "    x = keras.layers.Conv2D(32, 5, strides=2, padding='same', use_bias=False)(inputs)\n",
    "    x = keras.layers.BatchNormalization()(x)\n",
    "    x = keras.layers.ReLU()(x)\n",
    "\n",
    "    # Residual Blocks\n",
    "    x = resnet_block(x, 32)\n",
    "    x = resnet_block(x, 32)\n",
    "\n",
    "    x = resnet_block(x, 64, stride=2, use_projection=True)\n",
    "    x = resnet_block(x, 64)\n",
    "\n",
    "    x = resnet_block(x, 128, stride=2, use_projection=True)\n",
    "    x = resnet_block(x, 128)\n",
    "\n",
    "    return keras.models.Model(inputs, x, name=\"ResNet8_DroNet\")"
   ]
  },
  {
   "cell_type": "code",
   "execution_count": 5,
   "id": "add2e302",
   "metadata": {
    "_cell_guid": "eb601a36-0827-4cd8-900a-1421fbb33180",
    "_uuid": "fd96d071-c11b-406b-8d54-16fdbe7920fa",
    "collapsed": false,
    "execution": {
     "iopub.execute_input": "2025-07-02T15:48:45.450153Z",
     "iopub.status.busy": "2025-07-02T15:48:45.449901Z",
     "iopub.status.idle": "2025-07-02T15:48:45.454952Z",
     "shell.execute_reply": "2025-07-02T15:48:45.454262Z"
    },
    "jupyter": {
     "outputs_hidden": false
    },
    "papermill": {
     "duration": 0.010432,
     "end_time": "2025-07-02T15:48:45.456090",
     "exception": false,
     "start_time": "2025-07-02T15:48:45.445658",
     "status": "completed"
    },
    "tags": []
   },
   "outputs": [],
   "source": [
    "def ResNet18(input_shape=(224, 224, 3)):\n",
    "    inputs = keras.Input(shape=input_shape)\n",
    "    \n",
    "    x = keras.layers.Conv2D(64, 7, strides=2, padding='same', use_bias=False)(inputs)\n",
    "    x = keras.layers.BatchNormalization()(x)\n",
    "    x = keras.layers.ReLU()(x)\n",
    "    x = keras.layers.MaxPooling2D(3, strides=2, padding='same')(x)\n",
    "\n",
    "    # Conv2_x\n",
    "    x = resnet_block(x, 64)\n",
    "    x = resnet_block(x, 64)\n",
    "\n",
    "    # Conv3_x\n",
    "    x = resnet_block(x, 128, stride=2, use_projection=True)\n",
    "    x = resnet_block(x, 128)\n",
    "\n",
    "    # Conv4_x\n",
    "    x = resnet_block(x, 256, stride=2, use_projection=True)\n",
    "    x = resnet_block(x, 256)\n",
    "\n",
    "    # Conv5_x\n",
    "    x = resnet_block(x, 512, stride=2, use_projection=True)\n",
    "    x = resnet_block(x, 512)\n",
    "\n",
    "    return keras.models.Model(inputs, x, name=\"ResNet18_backbone\")"
   ]
  },
  {
   "cell_type": "code",
   "execution_count": 6,
   "id": "8b9ab19b",
   "metadata": {
    "_cell_guid": "bf96671e-1e5a-4a52-8cda-acec12713328",
    "_uuid": "c7359e0e-6fd4-4e19-a903-f746ea3b2031",
    "collapsed": false,
    "execution": {
     "iopub.execute_input": "2025-07-02T15:48:45.464868Z",
     "iopub.status.busy": "2025-07-02T15:48:45.464239Z",
     "iopub.status.idle": "2025-07-02T15:48:45.469683Z",
     "shell.execute_reply": "2025-07-02T15:48:45.469026Z"
    },
    "jupyter": {
     "outputs_hidden": false
    },
    "papermill": {
     "duration": 0.010931,
     "end_time": "2025-07-02T15:48:45.470778",
     "exception": false,
     "start_time": "2025-07-02T15:48:45.459847",
     "status": "completed"
    },
    "tags": []
   },
   "outputs": [],
   "source": [
    "def ResNet34(input_shape=(224, 224, 3)):\n",
    "    inputs = keras.Input(shape=input_shape)\n",
    "    \n",
    "    x = keras.layers.Conv2D(64, 7, strides=2, padding='same', use_bias=False)(inputs)\n",
    "    x = keras.layers.BatchNormalization()(x)\n",
    "    x = keras.layers.ReLU()(x)\n",
    "    x = keras.layers.MaxPooling2D(3, strides=2, padding='same')(x)\n",
    "\n",
    "    # Conv2_x (3 blocks)\n",
    "    for _ in range(3):\n",
    "        x = resnet_block(x, 64)\n",
    "\n",
    "    # Conv3_x (4 blocks)\n",
    "    x = resnet_block(x, 128, stride=2, use_projection=True)\n",
    "    for _ in range(3):\n",
    "        x = resnet_block(x, 128)\n",
    "\n",
    "    # Conv4_x (6 blocks)\n",
    "    x = resnet_block(x, 256, stride=2, use_projection=True)\n",
    "    for _ in range(5):\n",
    "        x = resnet_block(x, 256)\n",
    "\n",
    "    # Conv5_x (3 blocks)\n",
    "    x = resnet_block(x, 512, stride=2, use_projection=True)\n",
    "    for _ in range(2):\n",
    "        x = resnet_block(x, 512)\n",
    "\n",
    "    return keras.models.Model(inputs, x, name=\"ResNet34_backbone\")"
   ]
  },
  {
   "cell_type": "markdown",
   "id": "78b17b17",
   "metadata": {
    "_cell_guid": "38dff14a-d86f-4e88-b050-acfe49c6a8ca",
    "_uuid": "e8131d1c-9673-4df0-8bdc-4056bff54c3d",
    "collapsed": false,
    "jupyter": {
     "outputs_hidden": false
    },
    "papermill": {
     "duration": 0.003594,
     "end_time": "2025-07-02T15:48:45.478131",
     "exception": false,
     "start_time": "2025-07-02T15:48:45.474537",
     "status": "completed"
    },
    "tags": []
   },
   "source": [
    "# Grid search configurations"
   ]
  },
  {
   "cell_type": "code",
   "execution_count": 7,
   "id": "bf31e509",
   "metadata": {
    "execution": {
     "iopub.execute_input": "2025-07-02T15:48:45.486263Z",
     "iopub.status.busy": "2025-07-02T15:48:45.486068Z",
     "iopub.status.idle": "2025-07-02T15:48:45.489040Z",
     "shell.execute_reply": "2025-07-02T15:48:45.488498Z"
    },
    "papermill": {
     "duration": 0.008188,
     "end_time": "2025-07-02T15:48:45.490073",
     "exception": false,
     "start_time": "2025-07-02T15:48:45.481885",
     "status": "completed"
    },
    "tags": []
   },
   "outputs": [],
   "source": [
    "from itertools import product\n",
    "\n",
    "configurations = list(product([1e-3], [64]))"
   ]
  },
  {
   "cell_type": "markdown",
   "id": "ca9e8530",
   "metadata": {
    "_cell_guid": "39de600a-4622-43e0-8762-5bbc77aed4e1",
    "_uuid": "49029c5d-396b-406c-b077-8ba68255fd92",
    "collapsed": false,
    "jupyter": {
     "outputs_hidden": false
    },
    "papermill": {
     "duration": 0.003549,
     "end_time": "2025-07-02T15:48:45.497295",
     "exception": false,
     "start_time": "2025-07-02T15:48:45.493746",
     "status": "completed"
    },
    "tags": []
   },
   "source": [
    "# Models descriptions"
   ]
  },
  {
   "cell_type": "code",
   "execution_count": 8,
   "id": "39f57eac",
   "metadata": {
    "_cell_guid": "6ac38ad7-4355-4733-8478-1c68d1231670",
    "_uuid": "82faa4c8-711e-4663-bc08-d36895955d3f",
    "collapsed": false,
    "execution": {
     "iopub.execute_input": "2025-07-02T15:48:45.505444Z",
     "iopub.status.busy": "2025-07-02T15:48:45.505248Z",
     "iopub.status.idle": "2025-07-02T15:48:45.510626Z",
     "shell.execute_reply": "2025-07-02T15:48:45.510136Z"
    },
    "jupyter": {
     "outputs_hidden": false
    },
    "papermill": {
     "duration": 0.010471,
     "end_time": "2025-07-02T15:48:45.511522",
     "exception": false,
     "start_time": "2025-07-02T15:48:45.501051",
     "status": "completed"
    },
    "tags": []
   },
   "outputs": [],
   "source": [
    "models_descriptions = [\n",
    "    {\n",
    "        \"name\": \"MobileNet_scratch\",\n",
    "        \"backbone\": {\n",
    "            \"name\": \"MobileNet\",\n",
    "        },\n",
    "        \"input\": {\n",
    "            \"shape\": [224, 224, 3],\n",
    "        }\n",
    "    },\n",
    "    {\n",
    "        \"name\": \"MobileNet_scratch_gray\",\n",
    "        \"backbone\": {\n",
    "            \"name\": \"MobileNet\",\n",
    "        },\n",
    "        \"input\": {\n",
    "            \"shape\": [224, 224, 3],\n",
    "            \"grayscale\": True\n",
    "        }\n",
    "    },\n",
    "]\n",
    "\n",
    "# Format verification\n",
    "for model_description in models_descriptions:\n",
    "    if \"backbone\" not in model_description:\n",
    "        raise KeyError(\"backbone not specified at:\\n\" + str(model_description))\n",
    "\n",
    "    if \"name\" not in model_description[\"backbone\"]:\n",
    "        raise KeyError(\"backbone.name not specified at:\\n\" + str(model_description))\n",
    "\n",
    "    if \"weights\" not in model_description[\"backbone\"]:\n",
    "        model_description[\"backbone\"][\"weights\"] = None\n",
    "    \n",
    "    if \"name\" not in model_description:\n",
    "        model_description[\"name\"] = model_description[\"backbone\"][\"name\"]\n",
    "\n",
    "    if \"head_description\" not in model_description:\n",
    "        model_description[\"head_description\"] = []\n",
    "\n",
    "    if \"weights\" not in model_description:\n",
    "        model_description[\"weights\"] = None\n",
    "\n",
    "    if \"input\" not in model_description:\n",
    "        raise KeyError(\"input not specified at:\\n\" + str(model_description))\n",
    "\n",
    "    if \"shape\" not in model_description[\"input\"]:\n",
    "        raise KeyError(\"input.shape not specified at:\\n\" + str(model_description))\n",
    "    \n",
    "    if \"grayscale\" not in model_description[\"input\"]:\n",
    "        model_description[\"input\"][\"grayscale\"] = False"
   ]
  },
  {
   "cell_type": "markdown",
   "id": "c2dced73",
   "metadata": {
    "papermill": {
     "duration": 0.003564,
     "end_time": "2025-07-02T15:48:45.518961",
     "exception": false,
     "start_time": "2025-07-02T15:48:45.515397",
     "status": "completed"
    },
    "tags": []
   },
   "source": [
    "# Load dataset and build pipeline"
   ]
  },
  {
   "cell_type": "code",
   "execution_count": 9,
   "id": "cc7e9284",
   "metadata": {
    "execution": {
     "iopub.execute_input": "2025-07-02T15:48:45.526938Z",
     "iopub.status.busy": "2025-07-02T15:48:45.526713Z",
     "iopub.status.idle": "2025-07-02T15:48:45.530465Z",
     "shell.execute_reply": "2025-07-02T15:48:45.529951Z"
    },
    "papermill": {
     "duration": 0.008828,
     "end_time": "2025-07-02T15:48:45.531435",
     "exception": false,
     "start_time": "2025-07-02T15:48:45.522607",
     "status": "completed"
    },
    "tags": []
   },
   "outputs": [],
   "source": [
    "def load_samples_dataframe(path: str):\n",
    "    images_folder = os.path.join(path, \"images\")\n",
    "\n",
    "    samples_df = pd.read_csv(\n",
    "        os.path.join(path, \"market_dataset_xy.txt\"),\n",
    "        sep=\" \",\n",
    "        header=None,\n",
    "        names=[\"file path\", \"_\", \"datetime\", \"vel_y\", \"vel_x\"]\n",
    "    )\n",
    "\n",
    "    samples_df[\"file path\"] = (\n",
    "        samples_df[\"file path\"]\n",
    "        .apply(lambda image_name: os.path.join(path, \"images\", image_name))\n",
    "    )\n",
    "    \n",
    "    return samples_df"
   ]
  },
  {
   "cell_type": "code",
   "execution_count": 10,
   "id": "68541af1",
   "metadata": {
    "execution": {
     "iopub.execute_input": "2025-07-02T15:48:45.540005Z",
     "iopub.status.busy": "2025-07-02T15:48:45.539440Z",
     "iopub.status.idle": "2025-07-02T15:48:45.544410Z",
     "shell.execute_reply": "2025-07-02T15:48:45.543892Z"
    },
    "papermill": {
     "duration": 0.010102,
     "end_time": "2025-07-02T15:48:45.545362",
     "exception": false,
     "start_time": "2025-07-02T15:48:45.535260",
     "status": "completed"
    },
    "tags": []
   },
   "outputs": [],
   "source": [
    "@tf.function\n",
    "def augment(image, label):\n",
    "    # Brightness and contrast\n",
    "    image = tf.image.random_brightness(image, max_delta=0.2)\n",
    "    image = tf.image.random_contrast(image, lower=0.8, upper=1.2)\n",
    "    \n",
    "    # Flip horizontally\n",
    "    do_flip = tf.random.uniform([]) > 0.5\n",
    "    image = tf.cond(do_flip, lambda: tf.image.flip_left_right(image), lambda: image)\n",
    "    \n",
    "    vel_x = tf.cond(do_flip, lambda: -label[\"vel_x\"], lambda: label[\"vel_x\"])\n",
    "    vel_y = label[\"vel_y\"]\n",
    "    \n",
    "    # Optionally add noise\n",
    "    noise = tf.random.normal(shape=tf.shape(image), mean=0.0, stddev=0.025)\n",
    "    image = image + noise\n",
    "    image = tf.clip_by_value(image, 0.0, 1.0)\n",
    "\n",
    "    return image, {\"vel_x\": vel_x, \"vel_y\": vel_y}"
   ]
  },
  {
   "cell_type": "code",
   "execution_count": 11,
   "id": "bc00d3da",
   "metadata": {
    "execution": {
     "iopub.execute_input": "2025-07-02T15:48:45.553888Z",
     "iopub.status.busy": "2025-07-02T15:48:45.553717Z",
     "iopub.status.idle": "2025-07-02T15:48:45.557637Z",
     "shell.execute_reply": "2025-07-02T15:48:45.557151Z"
    },
    "papermill": {
     "duration": 0.009165,
     "end_time": "2025-07-02T15:48:45.558633",
     "exception": false,
     "start_time": "2025-07-02T15:48:45.549468",
     "status": "completed"
    },
    "tags": []
   },
   "outputs": [],
   "source": [
    "def load_image(path, mode=\"color\"):\n",
    "    image = tf.io.read_file(path)\n",
    "\n",
    "    if mode == \"color\":\n",
    "        image = tf.image.decode_jpeg(image, channels=3)\n",
    "\n",
    "    elif mode == \"grayscale1\":\n",
    "        image = tf.image.decode_jpeg(image, channels=1)\n",
    "\n",
    "    elif mode == \"grayscale3\":\n",
    "        image = tf.image.decode_jpeg(image, channels=3)\n",
    "        image = tf.image.rgb_to_grayscale(image)\n",
    "        image = tf.image.grayscale_to_rgb(image)\n",
    "\n",
    "    else:\n",
    "        raise ValueError(f\"Invalid mode: {mode}\")\n",
    "\n",
    "    return image"
   ]
  },
  {
   "cell_type": "code",
   "execution_count": 12,
   "id": "d995c1a2",
   "metadata": {
    "execution": {
     "iopub.execute_input": "2025-07-02T15:48:45.567122Z",
     "iopub.status.busy": "2025-07-02T15:48:45.566556Z",
     "iopub.status.idle": "2025-07-02T15:48:45.573564Z",
     "shell.execute_reply": "2025-07-02T15:48:45.572881Z"
    },
    "papermill": {
     "duration": 0.0122,
     "end_time": "2025-07-02T15:48:45.574531",
     "exception": false,
     "start_time": "2025-07-02T15:48:45.562331",
     "status": "completed"
    },
    "tags": []
   },
   "outputs": [],
   "source": [
    "def build_train_val_test_datasets(samples_dataframe, input_description: dict, seed=42):\n",
    "    # Split\n",
    "    df_train, df_temp = train_test_split(samples_dataframe, test_size=0.4, random_state=seed)\n",
    "    df_val, df_test = train_test_split(df_temp, test_size=0.5, random_state=seed)\n",
    "\n",
    "    resolution = input_description[\"shape\"][:2]\n",
    "    channels = input_description[\"shape\"][2]\n",
    "\n",
    "    if channels == 1:\n",
    "        mode = \"grayscale1\"\n",
    "    elif input_description[\"grayscale\"] and channels == 3:\n",
    "        mode = \"grayscale3\"\n",
    "    else:\n",
    "        mode = \"color\"\n",
    "\n",
    "    print(\"Created\", mode, \"dataset with resolution\", resolution)\n",
    "\n",
    "    def process_sample(path, label):\n",
    "        image = load_image(path, mode=mode)\n",
    "        image = tf.image.resize(image, resolution)\n",
    "        image.set_shape(input_description[\"shape\"])\n",
    "        image = tf.cast(image, tf.float32) / 255.0\n",
    "\n",
    "        return image, label\n",
    "\n",
    "    def df_to_tf_dataset(df, training=False):\n",
    "        paths = tf.constant(df[\"file path\"].tolist())\n",
    "        vel_x = tf.constant(df[\"vel_x\"].astype(\"float32\").tolist())\n",
    "        vel_y = tf.constant(df[\"vel_y\"].astype(\"float32\").tolist())\n",
    "    \n",
    "        ds = tf.data.Dataset.from_tensor_slices((paths, {\"vel_x\": vel_x, \"vel_y\": vel_y}))\n",
    "    \n",
    "        ds = ds.map(process_sample, num_parallel_calls=tf.data.AUTOTUNE)\n",
    "        ds = ds.cache()\n",
    "    \n",
    "        if training:\n",
    "            ds = ds.shuffle(len(df), reshuffle_each_iteration=True)\n",
    "            ds = ds.map(augment, num_parallel_calls=tf.data.AUTOTUNE)\n",
    "            \n",
    "        return ds\n",
    "\n",
    "    return {\n",
    "        \"train\": df_to_tf_dataset(df_train, training=True),\n",
    "        \"val\":   df_to_tf_dataset(df_val, training=False),\n",
    "        \"test\":  df_to_tf_dataset(df_test, training=False),\n",
    "    }"
   ]
  },
  {
   "cell_type": "code",
   "execution_count": 13,
   "id": "63e50781",
   "metadata": {
    "execution": {
     "iopub.execute_input": "2025-07-02T15:48:45.582596Z",
     "iopub.status.busy": "2025-07-02T15:48:45.582423Z",
     "iopub.status.idle": "2025-07-02T15:48:45.589566Z",
     "shell.execute_reply": "2025-07-02T15:48:45.589077Z"
    },
    "papermill": {
     "duration": 0.01232,
     "end_time": "2025-07-02T15:48:45.590550",
     "exception": false,
     "start_time": "2025-07-02T15:48:45.578230",
     "status": "completed"
    },
    "tags": []
   },
   "outputs": [],
   "source": [
    "def instantiate_backbone(backbone_name, weights=None):\n",
    "    if backbone_name == \"ResNet-8\":\n",
    "        if weights is not None:\n",
    "            print(\"[INFO] No pre-trained weights available for ResNet-8\")\n",
    "        return ResNet8_DroNet(input_shape=(200, 200, 1))\n",
    "\n",
    "    if backbone_name == \"ResNet-18\":\n",
    "        if weights is not None:\n",
    "            print(\"[INFO] No pre-trained weights available for ResNet-18\")\n",
    "        return ResNet18(input_shape=(224, 224, 3))\n",
    "\n",
    "    if backbone_name == \"ResNet-34\":\n",
    "        if weights is not None:\n",
    "            print(\"[INFO] No pre-trained weights available for ResNet-34\")\n",
    "        return ResNet34(input_shape=(224, 224, 3))\n",
    "\n",
    "    if backbone_name == \"ResNet-50\":\n",
    "        assert not weights or weights in [\"imagenet\"], f\"[ERROR] no {weights} weights found for ResNet-50\"\n",
    "        return keras.applications.ResNet50(\n",
    "            include_top=False,\n",
    "            input_shape=(224, 224, 3),\n",
    "            weights=\"imagenet\" if weights == \"imagenet\" else None,\n",
    "            pooling=None,\n",
    "        )\n",
    "\n",
    "    if backbone_name == \"ResNet-50V2\":\n",
    "        assert not weights or weights in [\"imagenet\"], f\"[ERROR] no {weights} weights found for ResNet-50V2\"\n",
    "        return keras.applications.ResNet50V2(\n",
    "            include_top=False,\n",
    "            input_shape=(224, 224, 3),\n",
    "            weights=\"imagenet\" if weights == \"imagenet\" else None,\n",
    "            pooling=None,\n",
    "        )\n",
    "\n",
    "    if backbone_name == \"MobileNet\":\n",
    "        assert not weights or weights in [\"imagenet\"], f\"[ERROR] no {weights} weights found for MobileNet\"\n",
    "        return keras.applications.MobileNet(\n",
    "            include_top=False,\n",
    "            input_shape=(224, 224, 3),\n",
    "            weights=\"imagenet\" if weights == \"imagenet\" else None,\n",
    "            pooling=None,\n",
    "            alpha=1.0,\n",
    "        )\n",
    "\n",
    "    if backbone_name == \"MobileNetV2\":\n",
    "        assert not weights or weights in [\"imagenet\"], f\"[ERROR] no {weights} weights found for MobileNetV2\"\n",
    "        return keras.applications.MobileNetV2(\n",
    "            include_top=False,\n",
    "            input_shape=(224, 224, 3),\n",
    "            weights=\"imagenet\" if weights == \"imagenet\" else None,\n",
    "            pooling=None,\n",
    "            alpha=1.0,\n",
    "        )\n",
    "\n",
    "    if backbone_name == \"EfficientNetB0\":\n",
    "        assert not weights or weights in [\"imagenet\"], f\"[ERROR] no {weights} weights found for EfficientNetB0\"\n",
    "        return keras.applications.EfficientNetB0(\n",
    "            include_top=False,\n",
    "            input_shape=(224, 224, 3),\n",
    "            weights=\"imagenet\" if weights == \"imagenet\" else None,\n",
    "            pooling=None,\n",
    "        )\n",
    "\n",
    "    raise ValueError(f\"Backbone {backbone_name} not implemented.\")\n"
   ]
  },
  {
   "cell_type": "code",
   "execution_count": 14,
   "id": "34d9ac24",
   "metadata": {
    "execution": {
     "iopub.execute_input": "2025-07-02T15:48:45.598689Z",
     "iopub.status.busy": "2025-07-02T15:48:45.598519Z",
     "iopub.status.idle": "2025-07-02T15:48:45.605269Z",
     "shell.execute_reply": "2025-07-02T15:48:45.604734Z"
    },
    "papermill": {
     "duration": 0.012009,
     "end_time": "2025-07-02T15:48:45.606253",
     "exception": false,
     "start_time": "2025-07-02T15:48:45.594244",
     "status": "completed"
    },
    "tags": []
   },
   "outputs": [],
   "source": [
    "def build_model(model_description: dict):\n",
    "    input_shape = model_description[\"input\"][\"shape\"]\n",
    "    input_shape = tuple(input_shape)\n",
    "\n",
    "    backbone_name = model_description[\"backbone\"][\"name\"]\n",
    "    backbone_weights = model_description[\"backbone\"][\"weights\"]\n",
    "\n",
    "    PREPROCESS = {\n",
    "        \"MobileNet\":       keras.applications.mobilenet.preprocess_input,\n",
    "        \"MobileNetV2\":     keras.applications.mobilenet_v2.preprocess_input,\n",
    "        \"ResNet-50\":       lambda x: keras.applications.resnet.preprocess_input(x, mode=\"caffe\"),\n",
    "        \"ResNet-50V2\":     keras.applications.resnet_v2.preprocess_input,\n",
    "        \"EfficientNetB0\":  keras.applications.efficientnet.preprocess_input,\n",
    "    }\n",
    "    \n",
    "    inputs = keras.layers.Input(input_shape)\n",
    "    x = keras.layers.Rescaling(255.)(inputs) # To parse from [0, 1] to [0, 225]\n",
    "    x = PREPROCESS.get(backbone_name, tf.identity)(x)\n",
    "\n",
    "    backbone = instantiate_backbone(backbone_name, weights=backbone_weights)\n",
    "    if backbone_weights:\n",
    "        backbone.trainable = False\n",
    "\n",
    "    x = backbone(x)\n",
    "    x = keras.layers.GlobalAveragePooling2D(name=\"global_pool\")(x)\n",
    "    x = keras.layers.Dropout(0.3, name=\"dropout\")(x)\n",
    "\n",
    "    for i, (nodes, use_batch_normalization, use_dropout) in enumerate(model_description[\"head_description\"]):\n",
    "        use_bias = not use_batch_normalization\n",
    "        \n",
    "        x = keras.layers.Dense(nodes, use_bias=use_bias, activation=\"linear\", name=f\"dense_{i}\")(x)\n",
    "\n",
    "        if use_batch_normalization:\n",
    "            x = keras.layers.BatchNormalization(name=f\"batchnorm_{i}\")(x)\n",
    "\n",
    "        x = keras.layers.ReLU(name=f\"relu_{i}\")(x)\n",
    "        \n",
    "        if use_dropout:\n",
    "            x = keras.layers.Dropout(0.3, name=f\"dropout_{i}\")(x)\n",
    "    \n",
    "    output_x = keras.layers.Dense(1, name=\"vel_x\")(x)\n",
    "    output_y = keras.layers.Dense(1, name=\"vel_y\")(x)\n",
    "\n",
    "    outputs = [output_x, output_y]\n",
    "\n",
    "    return keras.models.Model(\n",
    "        inputs=inputs,\n",
    "        outputs=outputs,\n",
    "        name=model_description[\"name\"]\n",
    "    )"
   ]
  },
  {
   "cell_type": "code",
   "execution_count": 15,
   "id": "4dd36f07",
   "metadata": {
    "_cell_guid": "81fd146c-569e-41cd-a3b0-3697be73f389",
    "_uuid": "bf0dc136-a787-4acb-8200-a681d2426b5e",
    "collapsed": false,
    "execution": {
     "iopub.execute_input": "2025-07-02T15:48:45.614255Z",
     "iopub.status.busy": "2025-07-02T15:48:45.614081Z",
     "iopub.status.idle": "2025-07-02T15:48:45.618865Z",
     "shell.execute_reply": "2025-07-02T15:48:45.618210Z"
    },
    "jupyter": {
     "outputs_hidden": false
    },
    "papermill": {
     "duration": 0.010073,
     "end_time": "2025-07-02T15:48:45.620047",
     "exception": false,
     "start_time": "2025-07-02T15:48:45.609974",
     "status": "completed"
    },
    "tags": []
   },
   "outputs": [],
   "source": [
    "def train_model(model: keras.Model, train_dataset: tf.data.Dataset, validation_dataset: tf.data.Dataset):\n",
    "    history_1 = model.fit(\n",
    "        train_dataset,\n",
    "        validation_data=validation_dataset,\n",
    "        verbose=0,\n",
    "        epochs=40,\n",
    "    )\n",
    "\n",
    "    history_2 = model.fit(\n",
    "        train_dataset,\n",
    "        validation_data=validation_dataset,\n",
    "        epochs=200,\n",
    "        verbose=0,\n",
    "        callbacks=[\n",
    "            keras.callbacks.EarlyStopping(\n",
    "                monitor=\"val_loss\",\n",
    "                patience=45,\n",
    "                min_delta=1e-4,\n",
    "                mode=\"min\",\n",
    "                restore_best_weights=True,\n",
    "            ),\n",
    "            keras.callbacks.ReduceLROnPlateau(\n",
    "                monitor=\"val_loss\",\n",
    "                patience=15,\n",
    "                factor=0.5,\n",
    "                min_lr=1e-7,\n",
    "                mode=\"min\"\n",
    "            ),\n",
    "        ],\n",
    "    )\n",
    "\n",
    "    full_history = pd.concat([\n",
    "        pd.DataFrame(history_1.history),\n",
    "        pd.DataFrame(history_2.history),\n",
    "    ]).reset_index(drop=True)\n",
    "\n",
    "    return model, full_history"
   ]
  },
  {
   "cell_type": "markdown",
   "id": "b7ed132c",
   "metadata": {
    "_cell_guid": "9bf3c32a-54e8-4151-bf50-0267a409748b",
    "_uuid": "6205940e-1262-4bad-a068-6b504c107336",
    "collapsed": false,
    "jupyter": {
     "outputs_hidden": false
    },
    "papermill": {
     "duration": 0.003449,
     "end_time": "2025-07-02T15:48:45.627088",
     "exception": false,
     "start_time": "2025-07-02T15:48:45.623639",
     "status": "completed"
    },
    "tags": []
   },
   "source": [
    "# Results structure"
   ]
  },
  {
   "cell_type": "code",
   "execution_count": 16,
   "id": "5d4d4c76",
   "metadata": {
    "_cell_guid": "23d3c588-6bcc-4795-a80d-28372af0cbb0",
    "_uuid": "11c3b8a3-a8dc-47fb-90a4-cd088fa4e1d6",
    "collapsed": false,
    "execution": {
     "iopub.execute_input": "2025-07-02T15:48:45.635256Z",
     "iopub.status.busy": "2025-07-02T15:48:45.634840Z",
     "iopub.status.idle": "2025-07-02T15:48:45.637848Z",
     "shell.execute_reply": "2025-07-02T15:48:45.637358Z"
    },
    "jupyter": {
     "outputs_hidden": false
    },
    "papermill": {
     "duration": 0.008107,
     "end_time": "2025-07-02T15:48:45.638862",
     "exception": false,
     "start_time": "2025-07-02T15:48:45.630755",
     "status": "completed"
    },
    "tags": []
   },
   "outputs": [],
   "source": [
    "results = {}\n",
    "\n",
    "for model_description in models_descriptions:\n",
    "    model_name = model_description[\"name\"]\n",
    "    \n",
    "    results[model_name] = {}"
   ]
  },
  {
   "cell_type": "markdown",
   "id": "00a18db6",
   "metadata": {
    "papermill": {
     "duration": 0.003563,
     "end_time": "2025-07-02T15:48:45.646147",
     "exception": false,
     "start_time": "2025-07-02T15:48:45.642584",
     "status": "completed"
    },
    "tags": []
   },
   "source": [
    "# Benchmark loop"
   ]
  },
  {
   "cell_type": "code",
   "execution_count": 17,
   "id": "1b54faa1",
   "metadata": {
    "_cell_guid": "e152cd73-944e-4b15-aa4d-0ff037039760",
    "_kg_hide-output": true,
    "_uuid": "2d42d04f-46cf-475a-b7d4-2510a00f24ba",
    "collapsed": false,
    "execution": {
     "iopub.execute_input": "2025-07-02T15:48:45.654248Z",
     "iopub.status.busy": "2025-07-02T15:48:45.654066Z",
     "iopub.status.idle": "2025-07-02T16:17:26.722596Z",
     "shell.execute_reply": "2025-07-02T16:17:26.721771Z"
    },
    "jupyter": {
     "outputs_hidden": false
    },
    "papermill": {
     "duration": 1721.074266,
     "end_time": "2025-07-02T16:17:26.724079",
     "exception": false,
     "start_time": "2025-07-02T15:48:45.649813",
     "status": "completed"
    },
    "tags": []
   },
   "outputs": [
    {
     "name": "stdout",
     "output_type": "stream",
     "text": [
      "Created color dataset with resolution [224, 224]\n"
     ]
    },
    {
     "name": "stderr",
     "output_type": "stream",
     "text": [
      "I0000 00:00:1751471326.785879      19 gpu_device.cc:2022] Created device /job:localhost/replica:0/task:0/device:GPU:0 with 15513 MB memory:  -> device: 0, name: Tesla P100-PCIE-16GB, pci bus id: 0000:00:04.0, compute capability: 6.0\n"
     ]
    },
    {
     "name": "stdout",
     "output_type": "stream",
     "text": [
      "Created grayscale3 dataset with resolution [224, 224]\n",
      "Training model MobileNet_scratch  for configuration (0.001, 64)\n"
     ]
    },
    {
     "name": "stderr",
     "output_type": "stream",
     "text": [
      "WARNING: All log messages before absl::InitializeLog() is called are written to STDERR\n",
      "I0000 00:00:1751471372.986961      57 service.cc:148] XLA service 0x7d2d4424d5a0 initialized for platform CUDA (this does not guarantee that XLA will be used). Devices:\n",
      "I0000 00:00:1751471372.987813      57 service.cc:156]   StreamExecutor device (0): Tesla P100-PCIE-16GB, Compute Capability 6.0\n",
      "I0000 00:00:1751471375.007037      57 cuda_dnn.cc:529] Loaded cuDNN version 90300\n",
      "E0000 00:00:1751471380.689590      57 gpu_timer.cc:82] Delay kernel timed out: measured time has sub-optimal accuracy. There may be a missing warmup execution, please investigate in Nsight Systems.\n",
      "E0000 00:00:1751471380.891125      57 gpu_timer.cc:82] Delay kernel timed out: measured time has sub-optimal accuracy. There may be a missing warmup execution, please investigate in Nsight Systems.\n",
      "I0000 00:00:1751471386.497548      57 device_compiler.h:188] Compiled cluster using XLA!  This line is logged at most once for the lifetime of the process.\n",
      "E0000 00:00:1751471392.787956      58 gpu_timer.cc:82] Delay kernel timed out: measured time has sub-optimal accuracy. There may be a missing warmup execution, please investigate in Nsight Systems.\n",
      "E0000 00:00:1751471392.989894      58 gpu_timer.cc:82] Delay kernel timed out: measured time has sub-optimal accuracy. There may be a missing warmup execution, please investigate in Nsight Systems.\n"
     ]
    },
    {
     "name": "stdout",
     "output_type": "stream",
     "text": [
      "\u001b[1m8/8\u001b[0m \u001b[32m━━━━━━━━━━━━━━━━━━━━\u001b[0m\u001b[37m\u001b[0m \u001b[1m8s\u001b[0m 990ms/step - loss: 0.0521 - vel_x_eva: 0.9330 - vel_x_loss: 0.0344 - vel_x_r2_score: 0.9313 - vel_x_rmse: 0.1634 - vel_y_eva: 0.9777 - vel_y_loss: 0.0167 - vel_y_r2_score: 0.9774 - vel_y_rmse: 0.1274\n",
      "Training model MobileNet_scratch_gray  for configuration (0.001, 64)\n",
      "\u001b[1m8/8\u001b[0m \u001b[32m━━━━━━━━━━━━━━━━━━━━\u001b[0m\u001b[37m\u001b[0m \u001b[1m41s\u001b[0m 5s/step - loss: 0.0588 - vel_x_eva: 0.9104 - vel_x_loss: 0.0435 - vel_x_r2_score: 0.9094 - vel_x_rmse: 0.1901 - vel_y_eva: 0.9823 - vel_y_loss: 0.0144 - vel_y_r2_score: 0.9807 - vel_y_rmse: 0.1196\n"
     ]
    }
   ],
   "source": [
    "samples_dataframe = load_samples_dataframe(\"/kaggle/input/marketplace-navigation-dataset/dataset\")\n",
    "# samples_dataframe = samples_dataframe.sample(frac=0.05)\n",
    "\n",
    "round_number = 2\n",
    "seed = round_number + 1\n",
    "\n",
    "datasets = {}\n",
    "\n",
    "for model_description in models_descriptions:\n",
    "    dataset_key = tuple(model_description[\"input\"][\"shape\"])\n",
    "    dataset_key = model_description[\"input\"][\"grayscale\"], dataset_key\n",
    "    \n",
    "    if not dataset_key in datasets:\n",
    "        datasets[dataset_key] = build_train_val_test_datasets(\n",
    "            samples_dataframe,\n",
    "            model_description[\"input\"],\n",
    "            seed\n",
    "        )\n",
    "        \n",
    "for configuration in configurations:\n",
    "    for model_description in models_descriptions:\n",
    "        print(\"Training model\", model_description[\"name\"], \" for configuration\", configuration)\n",
    "        \n",
    "        learning_rate, batch_size = configuration\n",
    "        dataset_key = tuple(model_description[\"input\"][\"shape\"])\n",
    "        dataset_key = model_description[\"input\"][\"grayscale\"], dataset_key\n",
    "\n",
    "        train_ds = datasets[dataset_key][\"train\"]\n",
    "        val_ds   = datasets[dataset_key][\"val\"]\n",
    "        test_ds  = datasets[dataset_key][\"test\"]\n",
    "        \n",
    "        train_ds = train_ds.batch(batch_size).prefetch(tf.data.AUTOTUNE)\n",
    "        val_ds   = val_ds.batch(batch_size).prefetch(tf.data.AUTOTUNE)\n",
    "        test_ds  = test_ds.batch(batch_size).prefetch(tf.data.AUTOTUNE)\n",
    "\n",
    "        model = build_model(model_description)\n",
    "        model.compile(\n",
    "            loss={\n",
    "                \"vel_x\": \"mean_squared_error\",\n",
    "                \"vel_y\": \"mean_squared_error\",\n",
    "            },\n",
    "            optimizer=keras.optimizers.Adam(learning_rate=learning_rate),\n",
    "            metrics={\n",
    "                \"vel_x\": [rmse, eva, r2_score],\n",
    "                \"vel_y\": [rmse, eva, r2_score],\n",
    "            },\n",
    "        )\n",
    "        model, history = train_model(model, train_ds, val_ds)\n",
    "\n",
    "        evaluation_metrics = model.evaluate(test_ds, return_dict=True)\n",
    "        \n",
    "        results[model_description[\"name\"]][configuration] = evaluation_metrics\n",
    "\n",
    "        file_name = f\"r{round_number}_{model.name}_{learning_rate:.0e}_{batch_size}\"\n",
    "\n",
    "        model.save(f\"{file_name}.keras\")\n",
    "        history.to_csv(f\"{file_name}.csv\")\n",
    "        with open(\"results.pkl\", \"wb\") as results_file:\n",
    "            pickle.dump(results, results_file)"
   ]
  },
  {
   "cell_type": "code",
   "execution_count": null,
   "id": "489efa83",
   "metadata": {
    "papermill": {
     "duration": 0.005057,
     "end_time": "2025-07-02T16:17:26.734548",
     "exception": false,
     "start_time": "2025-07-02T16:17:26.729491",
     "status": "completed"
    },
    "tags": []
   },
   "outputs": [],
   "source": []
  }
 ],
 "metadata": {
  "kaggle": {
   "accelerator": "gpu",
   "dataSources": [
    {
     "datasetId": 6187980,
     "sourceId": 10061785,
     "sourceType": "datasetVersion"
    }
   ],
   "dockerImageVersionId": 31011,
   "isGpuEnabled": true,
   "isInternetEnabled": true,
   "language": "python",
   "sourceType": "notebook"
  },
  "kernelspec": {
   "display_name": "Python 3",
   "language": "python",
   "name": "python3"
  },
  "language_info": {
   "codemirror_mode": {
    "name": "ipython",
    "version": 3
   },
   "file_extension": ".py",
   "mimetype": "text/x-python",
   "name": "python",
   "nbconvert_exporter": "python",
   "pygments_lexer": "ipython3",
   "version": "3.11.11"
  },
  "papermill": {
   "default_parameters": {},
   "duration": 1744.285103,
   "end_time": "2025-07-02T16:17:31.272885",
   "environment_variables": {},
   "exception": null,
   "input_path": "__notebook__.ipynb",
   "output_path": "__notebook__.ipynb",
   "parameters": {},
   "start_time": "2025-07-02T15:48:26.987782",
   "version": "2.6.0"
  }
 },
 "nbformat": 4,
 "nbformat_minor": 5
}
