{
 "cells": [
  {
   "cell_type": "code",
   "execution_count": 1,
   "id": "96e92abe",
   "metadata": {
    "_cell_guid": "31cda6c9-1a82-4124-b805-116202195863",
    "_uuid": "80eb9cab-e2af-4b59-bb1d-c9da376c23fb",
    "collapsed": false,
    "execution": {
     "iopub.execute_input": "2025-07-02T00:25:51.107446Z",
     "iopub.status.busy": "2025-07-02T00:25:51.107125Z",
     "iopub.status.idle": "2025-07-02T00:26:07.079830Z",
     "shell.execute_reply": "2025-07-02T00:26:07.079153Z"
    },
    "jupyter": {
     "outputs_hidden": false
    },
    "papermill": {
     "duration": 15.980404,
     "end_time": "2025-07-02T00:26:07.081341",
     "exception": false,
     "start_time": "2025-07-02T00:25:51.100937",
     "status": "completed"
    },
    "tags": []
   },
   "outputs": [
    {
     "name": "stderr",
     "output_type": "stream",
     "text": [
      "2025-07-02 00:25:55.398689: E external/local_xla/xla/stream_executor/cuda/cuda_fft.cc:477] Unable to register cuFFT factory: Attempting to register factory for plugin cuFFT when one has already been registered\n",
      "WARNING: All log messages before absl::InitializeLog() is called are written to STDERR\n",
      "E0000 00:00:1751415955.604272      19 cuda_dnn.cc:8310] Unable to register cuDNN factory: Attempting to register factory for plugin cuDNN when one has already been registered\n",
      "E0000 00:00:1751415955.658514      19 cuda_blas.cc:1418] Unable to register cuBLAS factory: Attempting to register factory for plugin cuBLAS when one has already been registered\n"
     ]
    }
   ],
   "source": [
    "import numpy as np\n",
    "import pandas as pd\n",
    "import os\n",
    "import shutil\n",
    "import pickle\n",
    "import matplotlib.pyplot as plt\n",
    "from PIL import Image\n",
    "\n",
    "from sklearn.model_selection import train_test_split\n",
    "\n",
    "os.environ[\"KERAS_BACKEND\"] = \"tensorflow\"\n",
    "\n",
    "import tensorflow as tf\n",
    "\n",
    "import keras\n",
    "import keras.backend as K\n",
    "\n",
    "from tqdm.notebook import tqdm\n",
    "\n",
    "from concurrent.futures import ThreadPoolExecutor\n",
    "\n",
    "%matplotlib inline"
   ]
  },
  {
   "cell_type": "markdown",
   "id": "20f7c4a1",
   "metadata": {
    "_cell_guid": "eb6ae085-ac99-47ec-a0a2-5683f602486e",
    "_uuid": "ff3814a7-d691-41bc-b0f1-6da33c4a9ac2",
    "collapsed": false,
    "jupyter": {
     "outputs_hidden": false
    },
    "papermill": {
     "duration": 0.004102,
     "end_time": "2025-07-02T00:26:07.090200",
     "exception": false,
     "start_time": "2025-07-02T00:26:07.086098",
     "status": "completed"
    },
    "tags": []
   },
   "source": [
    "# 4. Regression metrics"
   ]
  },
  {
   "cell_type": "code",
   "execution_count": 2,
   "id": "9b92747b",
   "metadata": {
    "_cell_guid": "2ff167d9-a16d-45f2-8326-5ddacc1e0035",
    "_uuid": "dbc1d7e6-369e-474e-867d-c88fc75a5eec",
    "collapsed": false,
    "execution": {
     "iopub.execute_input": "2025-07-02T00:26:07.099811Z",
     "iopub.status.busy": "2025-07-02T00:26:07.099243Z",
     "iopub.status.idle": "2025-07-02T00:26:07.107576Z",
     "shell.execute_reply": "2025-07-02T00:26:07.106904Z"
    },
    "jupyter": {
     "outputs_hidden": false
    },
    "papermill": {
     "duration": 0.014446,
     "end_time": "2025-07-02T00:26:07.108815",
     "exception": false,
     "start_time": "2025-07-02T00:26:07.094369",
     "status": "completed"
    },
    "tags": []
   },
   "outputs": [],
   "source": [
    "@tf.function\n",
    "def rmse(y_true, y_pred):\n",
    "    y_true = tf.cast(y_true, tf.float32)\n",
    "    y_pred = tf.cast(y_pred, tf.float32)\n",
    "    \n",
    "    y_true = tf.reshape(y_true, [-1, 1])\n",
    "    y_pred = tf.reshape(y_pred, [-1, 1])\n",
    "    \n",
    "    return tf.sqrt(tf.reduce_mean(tf.square(y_true - y_pred)))\n",
    "\n",
    "@tf.function\n",
    "def eva(y_true, y_pred):\n",
    "    y_true = tf.cast(y_true, tf.float32)\n",
    "    y_pred = tf.cast(y_pred, tf.float32)\n",
    "    \n",
    "    y_true = tf.reshape(y_true, [-1, 1])\n",
    "    y_pred = tf.reshape(y_pred, [-1, 1])\n",
    "\n",
    "    numerator = tf.math.reduce_variance(y_true - y_pred)\n",
    "    denominator = tf.math.reduce_variance(y_true) + tf.keras.backend.epsilon()\n",
    "    \n",
    "    return 1.0 - numerator / denominator\n",
    "\n",
    "@tf.function\n",
    "def r2_score(y_true, y_pred):\n",
    "    y_true = tf.cast(y_true, tf.float32)\n",
    "    y_pred = tf.cast(y_pred, tf.float32)\n",
    "    \n",
    "    y_true = tf.reshape(y_true, [-1, 1])\n",
    "    y_pred = tf.reshape(y_pred, [-1, 1])\n",
    "    \n",
    "    ss_res = tf.reduce_sum(tf.square(y_true - y_pred))\n",
    "    ss_tot = tf.reduce_sum(tf.square(y_true - tf.reduce_mean(y_true)))\n",
    "    \n",
    "    return 1 - (ss_res / (ss_tot + K.epsilon()))"
   ]
  },
  {
   "cell_type": "markdown",
   "id": "a8b13e98",
   "metadata": {
    "_cell_guid": "47399b8c-5071-4124-9cbb-0b091cae6af5",
    "_uuid": "d2959917-ade9-410a-81b6-ea0d9f1efa35",
    "collapsed": false,
    "jupyter": {
     "outputs_hidden": false
    },
    "papermill": {
     "duration": 0.003946,
     "end_time": "2025-07-02T00:26:07.117139",
     "exception": false,
     "start_time": "2025-07-02T00:26:07.113193",
     "status": "completed"
    },
    "tags": []
   },
   "source": [
    "# 4. ResNet 8/18/34 construction"
   ]
  },
  {
   "cell_type": "code",
   "execution_count": 3,
   "id": "8e2fed07",
   "metadata": {
    "_cell_guid": "60c3f6be-a0f0-44b2-9ace-a203ae45387d",
    "_uuid": "6a63061c-9d12-4bf9-ad97-605fa393efe5",
    "collapsed": false,
    "execution": {
     "iopub.execute_input": "2025-07-02T00:26:07.126440Z",
     "iopub.status.busy": "2025-07-02T00:26:07.126140Z",
     "iopub.status.idle": "2025-07-02T00:26:07.131340Z",
     "shell.execute_reply": "2025-07-02T00:26:07.130734Z"
    },
    "jupyter": {
     "outputs_hidden": false
    },
    "papermill": {
     "duration": 0.011338,
     "end_time": "2025-07-02T00:26:07.132495",
     "exception": false,
     "start_time": "2025-07-02T00:26:07.121157",
     "status": "completed"
    },
    "tags": []
   },
   "outputs": [],
   "source": [
    "def resnet_block(x, filters, stride=1, use_projection=False):\n",
    "    shortcut = x\n",
    "\n",
    "    x = keras.layers.Conv2D(filters, 3, strides=stride, padding='same', use_bias=False)(x)\n",
    "    x = keras.layers.BatchNormalization()(x)\n",
    "    x = keras.layers.ReLU()(x)\n",
    "\n",
    "    x = keras.layers.Conv2D(filters, 3, strides=1, padding='same', use_bias=False)(x)\n",
    "    x = keras.layers.BatchNormalization()(x)\n",
    "\n",
    "    if use_projection:\n",
    "        shortcut = keras.layers.Conv2D(filters, 1, strides=stride, use_bias=False)(shortcut)\n",
    "        shortcut = keras.layers.BatchNormalization()(shortcut)\n",
    "\n",
    "    x = keras.layers.Add()([x, shortcut])\n",
    "    x = keras.layers.ReLU()(x)\n",
    "    return x"
   ]
  },
  {
   "cell_type": "code",
   "execution_count": 4,
   "id": "b29c8506",
   "metadata": {
    "_cell_guid": "36e1a4e9-a964-438b-82f8-e1f6b6a13fb7",
    "_uuid": "70aff8e4-29bd-4438-a3c0-fbfa0a441b21",
    "collapsed": false,
    "execution": {
     "iopub.execute_input": "2025-07-02T00:26:07.141692Z",
     "iopub.status.busy": "2025-07-02T00:26:07.141483Z",
     "iopub.status.idle": "2025-07-02T00:26:07.146267Z",
     "shell.execute_reply": "2025-07-02T00:26:07.145733Z"
    },
    "jupyter": {
     "outputs_hidden": false
    },
    "papermill": {
     "duration": 0.010552,
     "end_time": "2025-07-02T00:26:07.147255",
     "exception": false,
     "start_time": "2025-07-02T00:26:07.136703",
     "status": "completed"
    },
    "tags": []
   },
   "outputs": [],
   "source": [
    "def ResNet8_DroNet(input_shape=(200, 200, 1), dropout_rate=0.3):\n",
    "    inputs = keras.Input(shape=input_shape)\n",
    "\n",
    "    x = keras.layers.Conv2D(32, 5, strides=2, padding='same', use_bias=False)(inputs)\n",
    "    x = keras.layers.BatchNormalization()(x)\n",
    "    x = keras.layers.ReLU()(x)\n",
    "\n",
    "    # Residual Blocks\n",
    "    x = resnet_block(x, 32)\n",
    "    x = resnet_block(x, 32)\n",
    "\n",
    "    x = resnet_block(x, 64, stride=2, use_projection=True)\n",
    "    x = resnet_block(x, 64)\n",
    "\n",
    "    x = resnet_block(x, 128, stride=2, use_projection=True)\n",
    "    x = resnet_block(x, 128)\n",
    "\n",
    "    return keras.models.Model(inputs, x, name=\"ResNet8_DroNet\")"
   ]
  },
  {
   "cell_type": "code",
   "execution_count": 5,
   "id": "364ef5c9",
   "metadata": {
    "_cell_guid": "eb601a36-0827-4cd8-900a-1421fbb33180",
    "_uuid": "fd96d071-c11b-406b-8d54-16fdbe7920fa",
    "collapsed": false,
    "execution": {
     "iopub.execute_input": "2025-07-02T00:26:07.156794Z",
     "iopub.status.busy": "2025-07-02T00:26:07.156543Z",
     "iopub.status.idle": "2025-07-02T00:26:07.161803Z",
     "shell.execute_reply": "2025-07-02T00:26:07.161240Z"
    },
    "jupyter": {
     "outputs_hidden": false
    },
    "papermill": {
     "duration": 0.011305,
     "end_time": "2025-07-02T00:26:07.162833",
     "exception": false,
     "start_time": "2025-07-02T00:26:07.151528",
     "status": "completed"
    },
    "tags": []
   },
   "outputs": [],
   "source": [
    "def ResNet18(input_shape=(224, 224, 3)):\n",
    "    inputs = keras.Input(shape=input_shape)\n",
    "    \n",
    "    x = keras.layers.Conv2D(64, 7, strides=2, padding='same', use_bias=False)(inputs)\n",
    "    x = keras.layers.BatchNormalization()(x)\n",
    "    x = keras.layers.ReLU()(x)\n",
    "    x = keras.layers.MaxPooling2D(3, strides=2, padding='same')(x)\n",
    "\n",
    "    # Conv2_x\n",
    "    x = resnet_block(x, 64)\n",
    "    x = resnet_block(x, 64)\n",
    "\n",
    "    # Conv3_x\n",
    "    x = resnet_block(x, 128, stride=2, use_projection=True)\n",
    "    x = resnet_block(x, 128)\n",
    "\n",
    "    # Conv4_x\n",
    "    x = resnet_block(x, 256, stride=2, use_projection=True)\n",
    "    x = resnet_block(x, 256)\n",
    "\n",
    "    # Conv5_x\n",
    "    x = resnet_block(x, 512, stride=2, use_projection=True)\n",
    "    x = resnet_block(x, 512)\n",
    "\n",
    "    return keras.models.Model(inputs, x, name=\"ResNet18_backbone\")"
   ]
  },
  {
   "cell_type": "code",
   "execution_count": 6,
   "id": "0a778f6b",
   "metadata": {
    "_cell_guid": "bf96671e-1e5a-4a52-8cda-acec12713328",
    "_uuid": "c7359e0e-6fd4-4e19-a903-f746ea3b2031",
    "collapsed": false,
    "execution": {
     "iopub.execute_input": "2025-07-02T00:26:07.171835Z",
     "iopub.status.busy": "2025-07-02T00:26:07.171601Z",
     "iopub.status.idle": "2025-07-02T00:26:07.177472Z",
     "shell.execute_reply": "2025-07-02T00:26:07.176887Z"
    },
    "jupyter": {
     "outputs_hidden": false
    },
    "papermill": {
     "duration": 0.011712,
     "end_time": "2025-07-02T00:26:07.178647",
     "exception": false,
     "start_time": "2025-07-02T00:26:07.166935",
     "status": "completed"
    },
    "tags": []
   },
   "outputs": [],
   "source": [
    "def ResNet34(input_shape=(224, 224, 3)):\n",
    "    inputs = keras.Input(shape=input_shape)\n",
    "    \n",
    "    x = keras.layers.Conv2D(64, 7, strides=2, padding='same', use_bias=False)(inputs)\n",
    "    x = keras.layers.BatchNormalization()(x)\n",
    "    x = keras.layers.ReLU()(x)\n",
    "    x = keras.layers.MaxPooling2D(3, strides=2, padding='same')(x)\n",
    "\n",
    "    # Conv2_x (3 blocks)\n",
    "    for _ in range(3):\n",
    "        x = resnet_block(x, 64)\n",
    "\n",
    "    # Conv3_x (4 blocks)\n",
    "    x = resnet_block(x, 128, stride=2, use_projection=True)\n",
    "    for _ in range(3):\n",
    "        x = resnet_block(x, 128)\n",
    "\n",
    "    # Conv4_x (6 blocks)\n",
    "    x = resnet_block(x, 256, stride=2, use_projection=True)\n",
    "    for _ in range(5):\n",
    "        x = resnet_block(x, 256)\n",
    "\n",
    "    # Conv5_x (3 blocks)\n",
    "    x = resnet_block(x, 512, stride=2, use_projection=True)\n",
    "    for _ in range(2):\n",
    "        x = resnet_block(x, 512)\n",
    "\n",
    "    return keras.models.Model(inputs, x, name=\"ResNet34_backbone\")"
   ]
  },
  {
   "cell_type": "markdown",
   "id": "c309a4f4",
   "metadata": {
    "_cell_guid": "38dff14a-d86f-4e88-b050-acfe49c6a8ca",
    "_uuid": "e8131d1c-9673-4df0-8bdc-4056bff54c3d",
    "collapsed": false,
    "jupyter": {
     "outputs_hidden": false
    },
    "papermill": {
     "duration": 0.003828,
     "end_time": "2025-07-02T00:26:07.186950",
     "exception": false,
     "start_time": "2025-07-02T00:26:07.183122",
     "status": "completed"
    },
    "tags": []
   },
   "source": [
    "# Grid search configurations"
   ]
  },
  {
   "cell_type": "code",
   "execution_count": 7,
   "id": "acdf08b7",
   "metadata": {
    "execution": {
     "iopub.execute_input": "2025-07-02T00:26:07.195728Z",
     "iopub.status.busy": "2025-07-02T00:26:07.195493Z",
     "iopub.status.idle": "2025-07-02T00:26:07.199102Z",
     "shell.execute_reply": "2025-07-02T00:26:07.198363Z"
    },
    "papermill": {
     "duration": 0.009225,
     "end_time": "2025-07-02T00:26:07.200169",
     "exception": false,
     "start_time": "2025-07-02T00:26:07.190944",
     "status": "completed"
    },
    "tags": []
   },
   "outputs": [],
   "source": [
    "from itertools import product\n",
    "\n",
    "configurations = list(product([0.0001, 0.001, 0.01], [64]))"
   ]
  },
  {
   "cell_type": "markdown",
   "id": "b1e96f76",
   "metadata": {
    "_cell_guid": "39de600a-4622-43e0-8762-5bbc77aed4e1",
    "_uuid": "49029c5d-396b-406c-b077-8ba68255fd92",
    "collapsed": false,
    "jupyter": {
     "outputs_hidden": false
    },
    "papermill": {
     "duration": 0.003773,
     "end_time": "2025-07-02T00:26:07.208328",
     "exception": false,
     "start_time": "2025-07-02T00:26:07.204555",
     "status": "completed"
    },
    "tags": []
   },
   "source": [
    "# Models descriptions"
   ]
  },
  {
   "cell_type": "code",
   "execution_count": 8,
   "id": "c3341609",
   "metadata": {
    "_cell_guid": "6ac38ad7-4355-4733-8478-1c68d1231670",
    "_uuid": "82faa4c8-711e-4663-bc08-d36895955d3f",
    "collapsed": false,
    "execution": {
     "iopub.execute_input": "2025-07-02T00:26:07.217544Z",
     "iopub.status.busy": "2025-07-02T00:26:07.217239Z",
     "iopub.status.idle": "2025-07-02T00:26:07.226129Z",
     "shell.execute_reply": "2025-07-02T00:26:07.225556Z"
    },
    "jupyter": {
     "outputs_hidden": false
    },
    "papermill": {
     "duration": 0.014971,
     "end_time": "2025-07-02T00:26:07.227262",
     "exception": false,
     "start_time": "2025-07-02T00:26:07.212291",
     "status": "completed"
    },
    "tags": []
   },
   "outputs": [],
   "source": [
    "models_descriptions = [\n",
    "    {\n",
    "        \"name\": \"ResNet-8-base\",\n",
    "        \"backbone\": {\n",
    "            \"name\": \"ResNet-8\"\n",
    "        },\n",
    "        \"input\": {\n",
    "            \"shape\": [200, 200, 1],\n",
    "            \"grayscale\": True,\n",
    "        }\n",
    "    },\n",
    "    {\n",
    "        \"name\": \"ResNet-8-600A\",\n",
    "        \"backbone\": {\n",
    "            \"name\": \"ResNet-8\"\n",
    "        },\n",
    "        \"input\": {\n",
    "            \"shape\": [200, 200, 1],\n",
    "            \"grayscale\": True,\n",
    "        },\n",
    "        \"head_description\": [\n",
    "            (64, False, None),\n",
    "        ],\n",
    "    },\n",
    "    {\n",
    "        \"name\": \"ResNet-8-600B\",\n",
    "        \"backbone\": {\n",
    "            \"name\": \"ResNet-8\"\n",
    "        },\n",
    "        \"input\": {\n",
    "            \"shape\": [200, 200, 1],\n",
    "            \"grayscale\": True,\n",
    "        },\n",
    "        \"head_description\": [\n",
    "            (64, True, None),\n",
    "        ],\n",
    "    },\n",
    "    {\n",
    "        \"name\": \"ResNet-18\",\n",
    "        \"backbone\": {\n",
    "            \"name\": \"ResNet-18\",\n",
    "        },\n",
    "        \"input\": {\n",
    "            \"shape\": [224, 224, 3],\n",
    "        },\n",
    "    },\n",
    "    {\n",
    "        \"name\": \"ResNet-34\",\n",
    "        \"backbone\": {\n",
    "            \"name\": \"ResNet-34\",\n",
    "        },\n",
    "        \"input\": {\n",
    "            \"shape\": [224, 224, 3],\n",
    "        },\n",
    "    },\n",
    "    {\n",
    "        \"name\": \"ResNet-50\",\n",
    "        \"backbone\": {\n",
    "            \"name\": \"ResNet-50\",\n",
    "        },\n",
    "        \"input\": {\n",
    "            \"shape\": [224, 224, 3],\n",
    "        },\n",
    "    },\n",
    "    {\n",
    "        \"name\": \"ResNet-50V2\",\n",
    "        \"backbone\": {\n",
    "            \"name\": \"ResNet-50V2\",\n",
    "        },\n",
    "        \"input\": {\n",
    "            \"shape\": [224, 224, 3],\n",
    "        },\n",
    "    },\n",
    "    {\n",
    "        \"name\": \"MobileNet\",\n",
    "        \"backbone\": {\n",
    "            \"name\": \"MobileNet\",\n",
    "        },\n",
    "        \"input\": {\n",
    "            \"shape\": [224, 224, 3],\n",
    "        },\n",
    "    },\n",
    "    {\n",
    "        \"name\": \"EfficientNetB0\",\n",
    "        \"backbone\": {\n",
    "            \"name\": \"EfficientNetB0\",\n",
    "        },\n",
    "        \"input\": {\n",
    "            \"shape\": [224, 224, 3],\n",
    "        },\n",
    "    }\n",
    "]\n",
    "\n",
    "# Format verification\n",
    "for model_description in models_descriptions:\n",
    "    if \"backbone\" not in model_description:\n",
    "        raise KeyError(\"backbone not specified at:\\n\" + str(model_description))\n",
    "\n",
    "    if \"name\" not in model_description[\"backbone\"]:\n",
    "        raise KeyError(\"backbone.name not specified at:\\n\" + str(model_description))\n",
    "\n",
    "    if \"weights\" not in model_description[\"backbone\"]:\n",
    "        model_description[\"backbone\"][\"weights\"] = None\n",
    "    \n",
    "    if \"name\" not in model_description:\n",
    "        model_description[\"name\"] = model_description[\"backbone\"][\"name\"]\n",
    "\n",
    "    if \"head_description\" not in model_description:\n",
    "        model_description[\"head_description\"] = []\n",
    "\n",
    "    if \"weights\" not in model_description:\n",
    "        model_description[\"weights\"] = None\n",
    "\n",
    "    if \"input\" not in model_description:\n",
    "        raise KeyError(\"input not specified at:\\n\" + str(model_description))\n",
    "\n",
    "    if \"shape\" not in model_description[\"input\"]:\n",
    "        raise KeyError(\"input.shape not specified at:\\n\" + str(model_description))\n",
    "    \n",
    "    if \"grayscale\" not in model_description[\"input\"]:\n",
    "        model_description[\"input\"][\"grayscale\"] = False"
   ]
  },
  {
   "cell_type": "markdown",
   "id": "00da15b8",
   "metadata": {
    "papermill": {
     "duration": 0.0038,
     "end_time": "2025-07-02T00:26:07.235338",
     "exception": false,
     "start_time": "2025-07-02T00:26:07.231538",
     "status": "completed"
    },
    "tags": []
   },
   "source": [
    "# Load dataset and build pipeline"
   ]
  },
  {
   "cell_type": "code",
   "execution_count": 9,
   "id": "1e9a19ff",
   "metadata": {
    "execution": {
     "iopub.execute_input": "2025-07-02T00:26:07.248125Z",
     "iopub.status.busy": "2025-07-02T00:26:07.247712Z",
     "iopub.status.idle": "2025-07-02T00:26:07.255473Z",
     "shell.execute_reply": "2025-07-02T00:26:07.254659Z"
    },
    "papermill": {
     "duration": 0.017725,
     "end_time": "2025-07-02T00:26:07.257112",
     "exception": false,
     "start_time": "2025-07-02T00:26:07.239387",
     "status": "completed"
    },
    "tags": []
   },
   "outputs": [],
   "source": [
    "def load_samples_dataframe(path: str):\n",
    "    images_folder = os.path.join(path, \"images\")\n",
    "\n",
    "    samples_df = pd.read_csv(\n",
    "        os.path.join(path, \"market_dataset_xy.txt\"),\n",
    "        sep=\" \",\n",
    "        header=None,\n",
    "        names=[\"file path\", \"_\", \"datetime\", \"vel_y\", \"vel_x\"]\n",
    "    )\n",
    "\n",
    "    samples_df[\"file path\"] = (\n",
    "        samples_df[\"file path\"]\n",
    "        .apply(lambda image_name: os.path.join(path, \"images\", image_name))\n",
    "    )\n",
    "    \n",
    "    return samples_df"
   ]
  },
  {
   "cell_type": "code",
   "execution_count": 10,
   "id": "56669702",
   "metadata": {
    "execution": {
     "iopub.execute_input": "2025-07-02T00:26:07.271343Z",
     "iopub.status.busy": "2025-07-02T00:26:07.271029Z",
     "iopub.status.idle": "2025-07-02T00:26:07.279398Z",
     "shell.execute_reply": "2025-07-02T00:26:07.278354Z"
    },
    "papermill": {
     "duration": 0.015878,
     "end_time": "2025-07-02T00:26:07.280809",
     "exception": false,
     "start_time": "2025-07-02T00:26:07.264931",
     "status": "completed"
    },
    "tags": []
   },
   "outputs": [],
   "source": [
    "@tf.function\n",
    "def augment(image, label):\n",
    "    # Brightness and contrast\n",
    "    image = tf.image.random_brightness(image, max_delta=0.2)\n",
    "    image = tf.image.random_contrast(image, lower=0.8, upper=1.2)\n",
    "    \n",
    "    # Flip horizontally\n",
    "    do_flip = tf.random.uniform([]) > 0.5\n",
    "    image = tf.cond(do_flip, lambda: tf.image.flip_left_right(image), lambda: image)\n",
    "    \n",
    "    vel_x = tf.cond(do_flip, lambda: -label[\"vel_x\"], lambda: label[\"vel_x\"])\n",
    "    vel_y = label[\"vel_y\"]\n",
    "    \n",
    "    # Optionally add noise\n",
    "    noise = tf.random.normal(shape=tf.shape(image), mean=0.0, stddev=0.025)\n",
    "    image = image + noise\n",
    "    image = tf.clip_by_value(image, 0.0, 1.0)\n",
    "\n",
    "    return image, {\"vel_x\": vel_x, \"vel_y\": vel_y}"
   ]
  },
  {
   "cell_type": "code",
   "execution_count": 11,
   "id": "7181a112",
   "metadata": {
    "execution": {
     "iopub.execute_input": "2025-07-02T00:26:07.294103Z",
     "iopub.status.busy": "2025-07-02T00:26:07.293731Z",
     "iopub.status.idle": "2025-07-02T00:26:07.300710Z",
     "shell.execute_reply": "2025-07-02T00:26:07.299872Z"
    },
    "papermill": {
     "duration": 0.013623,
     "end_time": "2025-07-02T00:26:07.301956",
     "exception": false,
     "start_time": "2025-07-02T00:26:07.288333",
     "status": "completed"
    },
    "tags": []
   },
   "outputs": [],
   "source": [
    "def load_image(path, mode=\"color\"):\n",
    "    image = tf.io.read_file(path)\n",
    "\n",
    "    if mode == \"color\":\n",
    "        image = tf.image.decode_jpeg(image, channels=3)\n",
    "\n",
    "    elif mode == \"grayscale1\":\n",
    "        image = tf.image.decode_jpeg(image, channels=1)\n",
    "\n",
    "    elif mode == \"grayscale3\":\n",
    "        image = tf.image.decode_jpeg(image, channels=3)\n",
    "        image = tf.image.rgb_to_grayscale(image)\n",
    "        image = tf.image.grayscale_to_rgb(image)\n",
    "\n",
    "    else:\n",
    "        raise ValueError(f\"Invalid mode: {mode}\")\n",
    "\n",
    "    return image"
   ]
  },
  {
   "cell_type": "code",
   "execution_count": 12,
   "id": "2adfdbb5",
   "metadata": {
    "execution": {
     "iopub.execute_input": "2025-07-02T00:26:07.317011Z",
     "iopub.status.busy": "2025-07-02T00:26:07.316761Z",
     "iopub.status.idle": "2025-07-02T00:26:07.330094Z",
     "shell.execute_reply": "2025-07-02T00:26:07.329172Z"
    },
    "papermill": {
     "duration": 0.024645,
     "end_time": "2025-07-02T00:26:07.332040",
     "exception": false,
     "start_time": "2025-07-02T00:26:07.307395",
     "status": "completed"
    },
    "tags": []
   },
   "outputs": [],
   "source": [
    "def build_train_val_test_datasets(samples_dataframe, input_description: dict, seed=42):\n",
    "    # Split\n",
    "    df_train, df_temp = train_test_split(samples_dataframe, test_size=0.4, random_state=seed)\n",
    "    df_val, df_test = train_test_split(df_temp, test_size=0.5, random_state=seed)\n",
    "\n",
    "    resolution = input_description[\"shape\"][:2]\n",
    "    channels = input_description[\"shape\"][2]\n",
    "\n",
    "    if channels == 1:\n",
    "        mode = \"grayscale1\"\n",
    "    elif input_description[\"grayscale\"] and channels == 3:\n",
    "        mode = \"grayscale3\"\n",
    "    else:\n",
    "        mode = \"color\"\n",
    "\n",
    "    print(\"Created\", mode, \"dataset with resolution\", resolution)\n",
    "\n",
    "    def process_sample(path, label):\n",
    "        image = load_image(path, mode=mode)\n",
    "        image = tf.image.resize(image, resolution)\n",
    "        image.set_shape(input_description[\"shape\"])\n",
    "        image = tf.cast(image, tf.float32) / 255.0\n",
    "\n",
    "        return image, label\n",
    "\n",
    "    def df_to_tf_dataset(df, training=False):\n",
    "        paths = tf.constant(df[\"file path\"].tolist())\n",
    "        vel_x = tf.constant(df[\"vel_x\"].astype(\"float32\").tolist())\n",
    "        vel_y = tf.constant(df[\"vel_y\"].astype(\"float32\").tolist())\n",
    "    \n",
    "        ds = tf.data.Dataset.from_tensor_slices((paths, {\"vel_x\": vel_x, \"vel_y\": vel_y}))\n",
    "    \n",
    "        ds = ds.map(process_sample, num_parallel_calls=tf.data.AUTOTUNE)\n",
    "        ds = ds.cache()\n",
    "    \n",
    "        if training:\n",
    "            ds = ds.shuffle(len(df), reshuffle_each_iteration=True)\n",
    "            ds = ds.map(augment, num_parallel_calls=tf.data.AUTOTUNE)\n",
    "            \n",
    "        return ds\n",
    "\n",
    "    return {\n",
    "        \"train\": df_to_tf_dataset(df_train, training=True),\n",
    "        \"val\":   df_to_tf_dataset(df_val, training=False),\n",
    "        \"test\":  df_to_tf_dataset(df_test, training=False),\n",
    "    }"
   ]
  },
  {
   "cell_type": "code",
   "execution_count": 13,
   "id": "e507a576",
   "metadata": {
    "execution": {
     "iopub.execute_input": "2025-07-02T00:26:07.347298Z",
     "iopub.status.busy": "2025-07-02T00:26:07.346638Z",
     "iopub.status.idle": "2025-07-02T00:26:07.356093Z",
     "shell.execute_reply": "2025-07-02T00:26:07.355328Z"
    },
    "papermill": {
     "duration": 0.017177,
     "end_time": "2025-07-02T00:26:07.357589",
     "exception": false,
     "start_time": "2025-07-02T00:26:07.340412",
     "status": "completed"
    },
    "tags": []
   },
   "outputs": [],
   "source": [
    "def instantiate_backbone(backbone_name, weights=None):\n",
    "    if backbone_name == \"ResNet-8\":\n",
    "        if weights is not None:\n",
    "            print(\"[INFO] No pre-trained weights available for ResNet-8\")\n",
    "        return ResNet8_DroNet(input_shape=(200, 200, 1))\n",
    "\n",
    "    if backbone_name == \"ResNet-18\":\n",
    "        if weights is not None:\n",
    "            print(\"[INFO] No pre-trained weights available for ResNet-18\")\n",
    "        return ResNet18(input_shape=(224, 224, 3))\n",
    "\n",
    "    if backbone_name == \"ResNet-34\":\n",
    "        if weights is not None:\n",
    "            print(\"[INFO] No pre-trained weights available for ResNet-34\")\n",
    "        return ResNet34(input_shape=(224, 224, 3))\n",
    "\n",
    "    if backbone_name == \"ResNet-50\":\n",
    "        assert not weights or weights in [\"imagenet\"], f\"[ERROR] no {weights} weights found for ResNet-50\"\n",
    "        return keras.applications.ResNet50(\n",
    "            include_top=False,\n",
    "            input_shape=(224, 224, 3),\n",
    "            weights=\"imagenet\" if weights == \"imagenet\" else None,\n",
    "            pooling=None,\n",
    "        )\n",
    "\n",
    "    if backbone_name == \"ResNet-50V2\":\n",
    "        assert not weights or weights in [\"imagenet\"], f\"[ERROR] no {weights} weights found for ResNet-50V2\"\n",
    "        return keras.applications.ResNet50V2(\n",
    "            include_top=False,\n",
    "            input_shape=(224, 224, 3),\n",
    "            weights=\"imagenet\" if weights == \"imagenet\" else None,\n",
    "            pooling=None,\n",
    "        )\n",
    "\n",
    "    if backbone_name == \"MobileNet\":\n",
    "        assert not weights or weights in [\"imagenet\"], f\"[ERROR] no {weights} weights found for MobileNet\"\n",
    "        return keras.applications.MobileNet(\n",
    "            include_top=False,\n",
    "            input_shape=(224, 224, 3),\n",
    "            weights=\"imagenet\" if weights == \"imagenet\" else None,\n",
    "            pooling=None,\n",
    "            alpha=1.0,\n",
    "        )\n",
    "\n",
    "    if backbone_name == \"MobileNetV2\":\n",
    "        assert not weights or weights in [\"imagenet\"], f\"[ERROR] no {weights} weights found for MobileNetV2\"\n",
    "        return keras.applications.MobileNetV2(\n",
    "            include_top=False,\n",
    "            input_shape=(224, 224, 3),\n",
    "            weights=\"imagenet\" if weights == \"imagenet\" else None,\n",
    "            pooling=None,\n",
    "            alpha=1.0,\n",
    "        )\n",
    "\n",
    "    if backbone_name == \"EfficientNetB0\":\n",
    "        assert not weights or weights in [\"imagenet\"], f\"[ERROR] no {weights} weights found for EfficientNetB0\"\n",
    "        return keras.applications.EfficientNetB0(\n",
    "            include_top=False,\n",
    "            input_shape=(224, 224, 3),\n",
    "            weights=\"imagenet\" if weights == \"imagenet\" else None,\n",
    "            pooling=None,\n",
    "        )\n",
    "\n",
    "    raise ValueError(f\"Backbone {backbone_name} not implemented.\")\n"
   ]
  },
  {
   "cell_type": "code",
   "execution_count": 14,
   "id": "191cd37a",
   "metadata": {
    "execution": {
     "iopub.execute_input": "2025-07-02T00:26:07.368162Z",
     "iopub.status.busy": "2025-07-02T00:26:07.367916Z",
     "iopub.status.idle": "2025-07-02T00:26:07.376463Z",
     "shell.execute_reply": "2025-07-02T00:26:07.375627Z"
    },
    "papermill": {
     "duration": 0.015233,
     "end_time": "2025-07-02T00:26:07.377853",
     "exception": false,
     "start_time": "2025-07-02T00:26:07.362620",
     "status": "completed"
    },
    "tags": []
   },
   "outputs": [],
   "source": [
    "def build_model(model_description: dict):\n",
    "    input_shape = model_description[\"input\"][\"shape\"]\n",
    "    input_shape = tuple(input_shape)\n",
    "\n",
    "    backbone_name = model_description[\"backbone\"][\"name\"]\n",
    "    backbone_weights = model_description[\"backbone\"][\"weights\"]\n",
    "\n",
    "    PREPROCESS = {\n",
    "        \"MobileNet\":       keras.applications.mobilenet.preprocess_input,\n",
    "        \"MobileNetV2\":     keras.applications.mobilenet_v2.preprocess_input,\n",
    "        \"ResNet-50\":       keras.applications.resnet.preprocess_input,\n",
    "        \"ResNet-50V2\":     keras.applications.resnet_v2.preprocess_input,\n",
    "        \"EfficientNetB0\":  keras.applications.efficientnet.preprocess_input,\n",
    "    }\n",
    "    \n",
    "    inputs = keras.layers.Input(input_shape)\n",
    "    x = keras.layers.Rescaling(255.)(inputs) # To parse from [0, 1] to [0, 225]\n",
    "    x = PREPROCESS.get(backbone_name, lambda x: x / 255.0)(x)\n",
    "\n",
    "    backbone = instantiate_backbone(backbone_name, weights=backbone_weights)\n",
    "    if backbone_weights:\n",
    "        backbone.trainable = False\n",
    "\n",
    "    x = backbone(x)\n",
    "    x = keras.layers.GlobalAveragePooling2D(name=\"global_pool\")(x)\n",
    "\n",
    "    for i, (nodes, use_batch_normalization, dropout_rate) in enumerate(model_description[\"head_description\"]):\n",
    "        use_bias = not use_batch_normalization\n",
    "        \n",
    "        x = keras.layers.Dense(nodes, use_bias=use_bias, activation=\"linear\", name=f\"dense_{i}\")(x)\n",
    "\n",
    "        if use_batch_normalization:\n",
    "            x = keras.layers.BatchNormalization(name=f\"batchnorm_{i}\")(x)\n",
    "\n",
    "        x = keras.layers.ReLU(name=f\"relu_{i}\")(x)\n",
    "        \n",
    "        if dropout_rate:\n",
    "            x = keras.layers.Dropout(dropout_rate, name=f\"dropout_{i}\")(x)\n",
    "    \n",
    "    output_x = keras.layers.Dense(1, name=\"vel_x\")(x)\n",
    "    output_y = keras.layers.Dense(1, name=\"vel_y\")(x)\n",
    "\n",
    "    outputs = [output_x, output_y]\n",
    "\n",
    "    return keras.models.Model(\n",
    "        inputs=inputs,\n",
    "        outputs=outputs,\n",
    "        name=model_description[\"name\"]\n",
    "    )"
   ]
  },
  {
   "cell_type": "code",
   "execution_count": 15,
   "id": "cf4a041c",
   "metadata": {
    "_cell_guid": "81fd146c-569e-41cd-a3b0-3697be73f389",
    "_uuid": "bf0dc136-a787-4acb-8200-a681d2426b5e",
    "collapsed": false,
    "execution": {
     "iopub.execute_input": "2025-07-02T00:26:07.389020Z",
     "iopub.status.busy": "2025-07-02T00:26:07.388781Z",
     "iopub.status.idle": "2025-07-02T00:26:07.394716Z",
     "shell.execute_reply": "2025-07-02T00:26:07.393929Z"
    },
    "jupyter": {
     "outputs_hidden": false
    },
    "papermill": {
     "duration": 0.01286,
     "end_time": "2025-07-02T00:26:07.395961",
     "exception": false,
     "start_time": "2025-07-02T00:26:07.383101",
     "status": "completed"
    },
    "tags": []
   },
   "outputs": [],
   "source": [
    "def train_model(model: keras.Model, train_dataset: tf.data.Dataset, validation_dataset: tf.data.Dataset):\n",
    "    history_1 = model.fit(\n",
    "        train_dataset,\n",
    "        validation_data=validation_dataset,\n",
    "        verbose=0,\n",
    "        epochs=40,\n",
    "    )\n",
    "\n",
    "    history_2 = model.fit(\n",
    "        train_dataset,\n",
    "        validation_data=validation_dataset,\n",
    "        epochs=200,\n",
    "        verbose=0,\n",
    "        callbacks=[\n",
    "            keras.callbacks.EarlyStopping(\n",
    "                monitor=\"val_loss\",\n",
    "                patience=45,\n",
    "                min_delta=1e-4,\n",
    "                mode=\"min\",\n",
    "                restore_best_weights=True,\n",
    "            ),\n",
    "            keras.callbacks.ReduceLROnPlateau(\n",
    "                monitor=\"val_loss\",\n",
    "                patience=15,\n",
    "                factor=0.5,\n",
    "                min_lr=1e-7,\n",
    "                mode=\"min\"\n",
    "            ),\n",
    "        ],\n",
    "    )\n",
    "\n",
    "    full_history = pd.concat([\n",
    "        pd.DataFrame(history_1.history),\n",
    "        pd.DataFrame(history_2.history),\n",
    "    ]).reset_index(drop=True)\n",
    "\n",
    "    return model, full_history"
   ]
  },
  {
   "cell_type": "code",
   "execution_count": 16,
   "id": "034edd31",
   "metadata": {
    "execution": {
     "iopub.execute_input": "2025-07-02T00:26:07.406060Z",
     "iopub.status.busy": "2025-07-02T00:26:07.405835Z",
     "iopub.status.idle": "2025-07-02T00:26:07.412164Z",
     "shell.execute_reply": "2025-07-02T00:26:07.411371Z"
    },
    "papermill": {
     "duration": 0.012859,
     "end_time": "2025-07-02T00:26:07.413534",
     "exception": false,
     "start_time": "2025-07-02T00:26:07.400675",
     "status": "completed"
    },
    "tags": []
   },
   "outputs": [],
   "source": [
    "def save_labels_from_dataset(dataset: tf.data.Dataset, file_path: str):\n",
    "    labels_list = []\n",
    "\n",
    "    for _, label in dataset:\n",
    "        label_np = {key: val.numpy().item() for key, val in label.items()}\n",
    "        labels_list.append(label_np)\n",
    "\n",
    "    df = pd.DataFrame(labels_list)\n",
    "    df.to_csv(file_path, index=False)\n",
    "    print(f\"Labels saved to {file_path}\")\n",
    "\n",
    "\n",
    "def save_predictions(predictions, file_path: str):\n",
    "    if isinstance(predictions, (list, tuple)):\n",
    "        # Example: [vel_x_array, vel_y_array]\n",
    "        pred_dict = {f\"vel_x\": predictions[0].flatten(),\n",
    "                     f\"vel_y\": predictions[1].flatten()}\n",
    "    else:\n",
    "        pred_dict = {key: val.flatten() for key, val in predictions.items()}\n",
    "\n",
    "    df = pd.DataFrame(pred_dict)\n",
    "    df.to_csv(file_path, index=False)\n",
    "    print(f\"Predictions saved to {file_path}\")\n"
   ]
  },
  {
   "cell_type": "markdown",
   "id": "ba8d27e4",
   "metadata": {
    "_cell_guid": "9bf3c32a-54e8-4151-bf50-0267a409748b",
    "_uuid": "6205940e-1262-4bad-a068-6b504c107336",
    "collapsed": false,
    "jupyter": {
     "outputs_hidden": false
    },
    "papermill": {
     "duration": 0.004389,
     "end_time": "2025-07-02T00:26:07.422811",
     "exception": false,
     "start_time": "2025-07-02T00:26:07.418422",
     "status": "completed"
    },
    "tags": []
   },
   "source": [
    "# Results structure"
   ]
  },
  {
   "cell_type": "code",
   "execution_count": 17,
   "id": "a6f42ff2",
   "metadata": {
    "_cell_guid": "23d3c588-6bcc-4795-a80d-28372af0cbb0",
    "_uuid": "11c3b8a3-a8dc-47fb-90a4-cd088fa4e1d6",
    "collapsed": false,
    "execution": {
     "iopub.execute_input": "2025-07-02T00:26:07.432174Z",
     "iopub.status.busy": "2025-07-02T00:26:07.431947Z",
     "iopub.status.idle": "2025-07-02T00:26:07.435823Z",
     "shell.execute_reply": "2025-07-02T00:26:07.435061Z"
    },
    "jupyter": {
     "outputs_hidden": false
    },
    "papermill": {
     "duration": 0.009929,
     "end_time": "2025-07-02T00:26:07.437035",
     "exception": false,
     "start_time": "2025-07-02T00:26:07.427106",
     "status": "completed"
    },
    "tags": []
   },
   "outputs": [],
   "source": [
    "results = {}\n",
    "\n",
    "for model_description in models_descriptions:\n",
    "    model_name = model_description[\"name\"]\n",
    "    \n",
    "    results[model_name] = {}"
   ]
  },
  {
   "cell_type": "markdown",
   "id": "97118930",
   "metadata": {
    "papermill": {
     "duration": 0.003981,
     "end_time": "2025-07-02T00:26:07.445490",
     "exception": false,
     "start_time": "2025-07-02T00:26:07.441509",
     "status": "completed"
    },
    "tags": []
   },
   "source": [
    "# Benchmark loop"
   ]
  },
  {
   "cell_type": "code",
   "execution_count": 18,
   "id": "d190d9ef",
   "metadata": {
    "_cell_guid": "e152cd73-944e-4b15-aa4d-0ff037039760",
    "_kg_hide-output": true,
    "_uuid": "2d42d04f-46cf-475a-b7d4-2510a00f24ba",
    "collapsed": false,
    "execution": {
     "iopub.execute_input": "2025-07-02T00:26:07.455142Z",
     "iopub.status.busy": "2025-07-02T00:26:07.454920Z",
     "iopub.status.idle": "2025-07-02T07:16:39.741115Z",
     "shell.execute_reply": "2025-07-02T07:16:39.740209Z"
    },
    "jupyter": {
     "outputs_hidden": false
    },
    "papermill": {
     "duration": 24632.294012,
     "end_time": "2025-07-02T07:16:39.743948",
     "exception": false,
     "start_time": "2025-07-02T00:26:07.449936",
     "status": "completed"
    },
    "tags": []
   },
   "outputs": [
    {
     "name": "stdout",
     "output_type": "stream",
     "text": [
      "Created grayscale1 dataset with resolution [200, 200]\n"
     ]
    },
    {
     "name": "stderr",
     "output_type": "stream",
     "text": [
      "I0000 00:00:1751415968.562366      19 gpu_device.cc:2022] Created device /job:localhost/replica:0/task:0/device:GPU:0 with 15513 MB memory:  -> device: 0, name: Tesla P100-PCIE-16GB, pci bus id: 0000:00:04.0, compute capability: 6.0\n"
     ]
    },
    {
     "name": "stdout",
     "output_type": "stream",
     "text": [
      "Labels saved to r2_y_true.csv\n",
      "Created color dataset with resolution [224, 224]\n",
      "Labels saved to r2_y_true.csv\n",
      "Training model ResNet-8-base  for configuration (0.0001, 64)\n"
     ]
    },
    {
     "name": "stderr",
     "output_type": "stream",
     "text": [
      "WARNING: All log messages before absl::InitializeLog() is called are written to STDERR\n",
      "I0000 00:00:1751416016.118024      57 service.cc:148] XLA service 0x7abf9802e070 initialized for platform CUDA (this does not guarantee that XLA will be used). Devices:\n",
      "I0000 00:00:1751416016.118927      57 service.cc:156]   StreamExecutor device (0): Tesla P100-PCIE-16GB, Compute Capability 6.0\n",
      "I0000 00:00:1751416017.304783      57 cuda_dnn.cc:529] Loaded cuDNN version 90300\n",
      "I0000 00:00:1751416025.195224      57 device_compiler.h:188] Compiled cluster using XLA!  This line is logged at most once for the lifetime of the process.\n"
     ]
    },
    {
     "name": "stdout",
     "output_type": "stream",
     "text": [
      "\u001b[1m8/8\u001b[0m \u001b[32m━━━━━━━━━━━━━━━━━━━━\u001b[0m\u001b[37m\u001b[0m \u001b[1m0s\u001b[0m 26ms/step - loss: 0.1720 - vel_x_eva: 0.7239 - vel_x_loss: 0.1145 - vel_x_r2_score: 0.7203 - vel_x_rmse: 0.3354 - vel_y_eva: 0.9305 - vel_y_loss: 0.0544 - vel_y_r2_score: 0.9283 - vel_y_rmse: 0.2311\n",
      "\u001b[1m8/8\u001b[0m \u001b[32m━━━━━━━━━━━━━━━━━━━━\u001b[0m\u001b[37m\u001b[0m \u001b[1m3s\u001b[0m 182ms/step\n",
      "Predictions saved to r2_ResNet-8-base_1e-04_64_predictions.csv\n",
      "Training model ResNet-8-600A  for configuration (0.0001, 64)\n",
      "\u001b[1m8/8\u001b[0m \u001b[32m━━━━━━━━━━━━━━━━━━━━\u001b[0m\u001b[37m\u001b[0m \u001b[1m0s\u001b[0m 26ms/step - loss: 0.1746 - vel_x_eva: 0.7472 - vel_x_loss: 0.1114 - vel_x_r2_score: 0.7416 - vel_x_rmse: 0.3263 - vel_y_eva: 0.9186 - vel_y_loss: 0.0618 - vel_y_r2_score: 0.9179 - vel_y_rmse: 0.2476\n",
      "\u001b[1m8/8\u001b[0m \u001b[32m━━━━━━━━━━━━━━━━━━━━\u001b[0m\u001b[37m\u001b[0m \u001b[1m2s\u001b[0m 178ms/step\n",
      "Predictions saved to r2_ResNet-8-600A_1e-04_64_predictions.csv\n",
      "Training model ResNet-8-600B  for configuration (0.0001, 64)\n",
      "\u001b[1m8/8\u001b[0m \u001b[32m━━━━━━━━━━━━━━━━━━━━\u001b[0m\u001b[37m\u001b[0m \u001b[1m0s\u001b[0m 26ms/step - loss: 0.2041 - vel_x_eva: 0.6765 - vel_x_loss: 0.1240 - vel_x_r2_score: 0.6725 - vel_x_rmse: 0.3503 - vel_y_eva: 0.8965 - vel_y_loss: 0.0788 - vel_y_r2_score: 0.8939 - vel_y_rmse: 0.2799\n",
      "\u001b[1m8/8\u001b[0m \u001b[32m━━━━━━━━━━━━━━━━━━━━\u001b[0m\u001b[37m\u001b[0m \u001b[1m2s\u001b[0m 184ms/step\n",
      "Predictions saved to r2_ResNet-8-600B_1e-04_64_predictions.csv\n",
      "Training model ResNet-18  for configuration (0.0001, 64)\n",
      "\u001b[1m8/8\u001b[0m \u001b[32m━━━━━━━━━━━━━━━━━━━━\u001b[0m\u001b[37m\u001b[0m \u001b[1m0s\u001b[0m 43ms/step - loss: 0.0945 - vel_x_eva: 0.8669 - vel_x_loss: 0.0633 - vel_x_r2_score: 0.8647 - vel_x_rmse: 0.2374 - vel_y_eva: 0.9605 - vel_y_loss: 0.0307 - vel_y_r2_score: 0.9590 - vel_y_rmse: 0.1738\n",
      "\u001b[1m8/8\u001b[0m \u001b[32m━━━━━━━━━━━━━━━━━━━━\u001b[0m\u001b[37m\u001b[0m \u001b[1m3s\u001b[0m 241ms/step\n",
      "Predictions saved to r2_ResNet-18_1e-04_64_predictions.csv\n",
      "Training model ResNet-34  for configuration (0.0001, 64)\n",
      "\u001b[1m8/8\u001b[0m \u001b[32m━━━━━━━━━━━━━━━━━━━━\u001b[0m\u001b[37m\u001b[0m \u001b[1m0s\u001b[0m 58ms/step - loss: 0.0720 - vel_x_eva: 0.8890 - vel_x_loss: 0.0525 - vel_x_r2_score: 0.8879 - vel_x_rmse: 0.2121 - vel_y_eva: 0.9749 - vel_y_loss: 0.0189 - vel_y_r2_score: 0.9746 - vel_y_rmse: 0.1369\n",
      "\u001b[1m8/8\u001b[0m \u001b[32m━━━━━━━━━━━━━━━━━━━━\u001b[0m\u001b[37m\u001b[0m \u001b[1m5s\u001b[0m 348ms/step\n",
      "Predictions saved to r2_ResNet-34_1e-04_64_predictions.csv\n",
      "Training model ResNet-50  for configuration (0.0001, 64)\n",
      "\u001b[1m8/8\u001b[0m \u001b[32m━━━━━━━━━━━━━━━━━━━━\u001b[0m\u001b[37m\u001b[0m \u001b[1m1s\u001b[0m 85ms/step - loss: 0.0603 - vel_x_eva: 0.9102 - vel_x_loss: 0.0431 - vel_x_r2_score: 0.9085 - vel_x_rmse: 0.1921 - vel_y_eva: 0.9778 - vel_y_loss: 0.0170 - vel_y_r2_score: 0.9772 - vel_y_rmse: 0.1292\n",
      "\u001b[1m8/8\u001b[0m \u001b[32m━━━━━━━━━━━━━━━━━━━━\u001b[0m\u001b[37m\u001b[0m \u001b[1m9s\u001b[0m 686ms/step\n",
      "Predictions saved to r2_ResNet-50_1e-04_64_predictions.csv\n",
      "Training model ResNet-50V2  for configuration (0.0001, 64)\n",
      "\u001b[1m8/8\u001b[0m \u001b[32m━━━━━━━━━━━━━━━━━━━━\u001b[0m\u001b[37m\u001b[0m \u001b[1m1s\u001b[0m 78ms/step - loss: 0.0883 - vel_x_eva: 0.8713 - vel_x_loss: 0.0603 - vel_x_r2_score: 0.8707 - vel_x_rmse: 0.2338 - vel_y_eva: 0.9637 - vel_y_loss: 0.0278 - vel_y_r2_score: 0.9633 - vel_y_rmse: 0.1655\n",
      "\u001b[1m8/8\u001b[0m \u001b[32m━━━━━━━━━━━━━━━━━━━━\u001b[0m\u001b[37m\u001b[0m \u001b[1m10s\u001b[0m 803ms/step\n",
      "Predictions saved to r2_ResNet-50V2_1e-04_64_predictions.csv\n",
      "Training model MobileNet  for configuration (0.0001, 64)\n"
     ]
    },
    {
     "name": "stderr",
     "output_type": "stream",
     "text": [
      "E0000 00:00:1751422400.278757      59 gpu_timer.cc:82] Delay kernel timed out: measured time has sub-optimal accuracy. There may be a missing warmup execution, please investigate in Nsight Systems.\n",
      "E0000 00:00:1751422400.483218      59 gpu_timer.cc:82] Delay kernel timed out: measured time has sub-optimal accuracy. There may be a missing warmup execution, please investigate in Nsight Systems.\n",
      "E0000 00:00:1751422412.307412      59 gpu_timer.cc:82] Delay kernel timed out: measured time has sub-optimal accuracy. There may be a missing warmup execution, please investigate in Nsight Systems.\n",
      "E0000 00:00:1751422412.509422      59 gpu_timer.cc:82] Delay kernel timed out: measured time has sub-optimal accuracy. There may be a missing warmup execution, please investigate in Nsight Systems.\n"
     ]
    },
    {
     "name": "stdout",
     "output_type": "stream",
     "text": [
      "\u001b[1m8/8\u001b[0m \u001b[32m━━━━━━━━━━━━━━━━━━━━\u001b[0m\u001b[37m\u001b[0m \u001b[1m0s\u001b[0m 42ms/step - loss: 0.1671 - vel_x_eva: 0.7997 - vel_x_loss: 0.1064 - vel_x_r2_score: 0.7491 - vel_x_rmse: 0.3115 - vel_y_eva: 0.9213 - vel_y_loss: 0.0598 - vel_y_r2_score: 0.9186 - vel_y_rmse: 0.2433\n",
      "\u001b[1m8/8\u001b[0m \u001b[32m━━━━━━━━━━━━━━━━━━━━\u001b[0m\u001b[37m\u001b[0m \u001b[1m4s\u001b[0m 312ms/step\n",
      "Predictions saved to r2_MobileNet_1e-04_64_predictions.csv\n",
      "Training model EfficientNetB0  for configuration (0.0001, 64)\n"
     ]
    },
    {
     "name": "stderr",
     "output_type": "stream",
     "text": [
      "E0000 00:00:1751423198.191728      57 gpu_timer.cc:82] Delay kernel timed out: measured time has sub-optimal accuracy. There may be a missing warmup execution, please investigate in Nsight Systems.\n",
      "E0000 00:00:1751423198.385426      57 gpu_timer.cc:82] Delay kernel timed out: measured time has sub-optimal accuracy. There may be a missing warmup execution, please investigate in Nsight Systems.\n",
      "E0000 00:00:1751423198.935812      57 gpu_timer.cc:82] Delay kernel timed out: measured time has sub-optimal accuracy. There may be a missing warmup execution, please investigate in Nsight Systems.\n",
      "E0000 00:00:1751423199.143253      57 gpu_timer.cc:82] Delay kernel timed out: measured time has sub-optimal accuracy. There may be a missing warmup execution, please investigate in Nsight Systems.\n",
      "E0000 00:00:1751423199.536822      57 gpu_timer.cc:82] Delay kernel timed out: measured time has sub-optimal accuracy. There may be a missing warmup execution, please investigate in Nsight Systems.\n",
      "E0000 00:00:1751423199.747772      57 gpu_timer.cc:82] Delay kernel timed out: measured time has sub-optimal accuracy. There may be a missing warmup execution, please investigate in Nsight Systems.\n",
      "E0000 00:00:1751423233.531980      56 gpu_timer.cc:82] Delay kernel timed out: measured time has sub-optimal accuracy. There may be a missing warmup execution, please investigate in Nsight Systems.\n",
      "E0000 00:00:1751423233.717792      56 gpu_timer.cc:82] Delay kernel timed out: measured time has sub-optimal accuracy. There may be a missing warmup execution, please investigate in Nsight Systems.\n",
      "E0000 00:00:1751423234.160458      56 gpu_timer.cc:82] Delay kernel timed out: measured time has sub-optimal accuracy. There may be a missing warmup execution, please investigate in Nsight Systems.\n",
      "E0000 00:00:1751423234.368938      56 gpu_timer.cc:82] Delay kernel timed out: measured time has sub-optimal accuracy. There may be a missing warmup execution, please investigate in Nsight Systems.\n",
      "E0000 00:00:1751423234.734054      56 gpu_timer.cc:82] Delay kernel timed out: measured time has sub-optimal accuracy. There may be a missing warmup execution, please investigate in Nsight Systems.\n",
      "E0000 00:00:1751423234.942462      56 gpu_timer.cc:82] Delay kernel timed out: measured time has sub-optimal accuracy. There may be a missing warmup execution, please investigate in Nsight Systems.\n"
     ]
    },
    {
     "name": "stdout",
     "output_type": "stream",
     "text": [
      "\u001b[1m8/8\u001b[0m \u001b[32m━━━━━━━━━━━━━━━━━━━━\u001b[0m\u001b[37m\u001b[0m \u001b[1m0s\u001b[0m 57ms/step - loss: 0.1350 - vel_x_eva: 0.8124 - vel_x_loss: 0.0779 - vel_x_r2_score: 0.8070 - vel_x_rmse: 0.2677 - vel_y_eva: 0.9269 - vel_y_loss: 0.0561 - vel_y_r2_score: 0.9245 - vel_y_rmse: 0.2358\n",
      "\u001b[1m8/8\u001b[0m \u001b[32m━━━━━━━━━━━━━━━━━━━━\u001b[0m\u001b[37m\u001b[0m \u001b[1m15s\u001b[0m 953ms/step\n",
      "Predictions saved to r2_EfficientNetB0_1e-04_64_predictions.csv\n",
      "Training model ResNet-8-base  for configuration (0.001, 64)\n",
      "\u001b[1m8/8\u001b[0m \u001b[32m━━━━━━━━━━━━━━━━━━━━\u001b[0m\u001b[37m\u001b[0m \u001b[1m0s\u001b[0m 26ms/step - loss: 0.1299 - vel_x_eva: 0.7795 - vel_x_loss: 0.0922 - vel_x_r2_score: 0.7765 - vel_x_rmse: 0.3003 - vel_y_eva: 0.9520 - vel_y_loss: 0.0361 - vel_y_r2_score: 0.9519 - vel_y_rmse: 0.1883\n",
      "\u001b[1m8/8\u001b[0m \u001b[32m━━━━━━━━━━━━━━━━━━━━\u001b[0m\u001b[37m\u001b[0m \u001b[1m5s\u001b[0m 509ms/step\n",
      "Predictions saved to r2_ResNet-8-base_1e-03_64_predictions.csv\n",
      "Training model ResNet-8-600A  for configuration (0.001, 64)\n",
      "\u001b[1m8/8\u001b[0m \u001b[32m━━━━━━━━━━━━━━━━━━━━\u001b[0m\u001b[37m\u001b[0m \u001b[1m0s\u001b[0m 25ms/step - loss: 0.0973 - vel_x_eva: 0.8367 - vel_x_loss: 0.0713 - vel_x_r2_score: 0.8346 - vel_x_rmse: 0.2572 - vel_y_eva: 0.9676 - vel_y_loss: 0.0243 - vel_y_r2_score: 0.9673 - vel_y_rmse: 0.1550\n",
      "\u001b[1m8/8\u001b[0m \u001b[32m━━━━━━━━━━━━━━━━━━━━\u001b[0m\u001b[37m\u001b[0m \u001b[1m2s\u001b[0m 160ms/step\n",
      "Predictions saved to r2_ResNet-8-600A_1e-03_64_predictions.csv\n",
      "Training model ResNet-8-600B  for configuration (0.001, 64)\n",
      "\u001b[1m8/8\u001b[0m \u001b[32m━━━━━━━━━━━━━━━━━━━━\u001b[0m\u001b[37m\u001b[0m \u001b[1m0s\u001b[0m 26ms/step - loss: 0.0677 - vel_x_eva: 0.8954 - vel_x_loss: 0.0450 - vel_x_r2_score: 0.8951 - vel_x_rmse: 0.2030 - vel_y_eva: 0.9718 - vel_y_loss: 0.0215 - vel_y_r2_score: 0.9714 - vel_y_rmse: 0.1461\n",
      "\u001b[1m8/8\u001b[0m \u001b[32m━━━━━━━━━━━━━━━━━━━━\u001b[0m\u001b[37m\u001b[0m \u001b[1m2s\u001b[0m 175ms/step\n",
      "Predictions saved to r2_ResNet-8-600B_1e-03_64_predictions.csv\n",
      "Training model ResNet-18  for configuration (0.001, 64)\n",
      "\u001b[1m8/8\u001b[0m \u001b[32m━━━━━━━━━━━━━━━━━━━━\u001b[0m\u001b[37m\u001b[0m \u001b[1m0s\u001b[0m 46ms/step - loss: 0.0713 - vel_x_eva: 0.8859 - vel_x_loss: 0.0545 - vel_x_r2_score: 0.8843 - vel_x_rmse: 0.2161 - vel_y_eva: 0.9790 - vel_y_loss: 0.0162 - vel_y_r2_score: 0.9784 - vel_y_rmse: 0.1266\n",
      "\u001b[1m8/8\u001b[0m \u001b[32m━━━━━━━━━━━━━━━━━━━━\u001b[0m\u001b[37m\u001b[0m \u001b[1m3s\u001b[0m 226ms/step\n",
      "Predictions saved to r2_ResNet-18_1e-03_64_predictions.csv\n",
      "Training model ResNet-34  for configuration (0.001, 64)\n",
      "\u001b[1m8/8\u001b[0m \u001b[32m━━━━━━━━━━━━━━━━━━━━\u001b[0m\u001b[37m\u001b[0m \u001b[1m1s\u001b[0m 61ms/step - loss: 0.0537 - vel_x_eva: 0.9197 - vel_x_loss: 0.0434 - vel_x_r2_score: 0.9185 - vel_x_rmse: 0.1816 - vel_y_eva: 0.9873 - vel_y_loss: 0.0100 - vel_y_r2_score: 0.9865 - vel_y_rmse: 0.0993\n",
      "\u001b[1m8/8\u001b[0m \u001b[32m━━━━━━━━━━━━━━━━━━━━\u001b[0m\u001b[37m\u001b[0m \u001b[1m5s\u001b[0m 345ms/step\n",
      "Predictions saved to r2_ResNet-34_1e-03_64_predictions.csv\n",
      "Training model ResNet-50  for configuration (0.001, 64)\n",
      "\u001b[1m8/8\u001b[0m \u001b[32m━━━━━━━━━━━━━━━━━━━━\u001b[0m\u001b[37m\u001b[0m \u001b[1m1s\u001b[0m 87ms/step - loss: 0.0456 - vel_x_eva: 0.9278 - vel_x_loss: 0.0351 - vel_x_r2_score: 0.9271 - vel_x_rmse: 0.1675 - vel_y_eva: 0.9862 - vel_y_loss: 0.0106 - vel_y_r2_score: 0.9857 - vel_y_rmse: 0.1024\n",
      "\u001b[1m8/8\u001b[0m \u001b[32m━━━━━━━━━━━━━━━━━━━━\u001b[0m\u001b[37m\u001b[0m \u001b[1m12s\u001b[0m 1s/step\n",
      "Predictions saved to r2_ResNet-50_1e-03_64_predictions.csv\n",
      "Training model ResNet-50V2  for configuration (0.001, 64)\n",
      "\u001b[1m8/8\u001b[0m \u001b[32m━━━━━━━━━━━━━━━━━━━━\u001b[0m\u001b[37m\u001b[0m \u001b[1m1s\u001b[0m 79ms/step - loss: 0.0725 - vel_x_eva: 0.8837 - vel_x_loss: 0.0578 - vel_x_r2_score: 0.8824 - vel_x_rmse: 0.2138 - vel_y_eva: 0.9817 - vel_y_loss: 0.0140 - vel_y_r2_score: 0.9812 - vel_y_rmse: 0.1174\n",
      "\u001b[1m8/8\u001b[0m \u001b[32m━━━━━━━━━━━━━━━━━━━━\u001b[0m\u001b[37m\u001b[0m \u001b[1m8s\u001b[0m 619ms/step\n",
      "Predictions saved to r2_ResNet-50V2_1e-03_64_predictions.csv\n",
      "Training model MobileNet  for configuration (0.001, 64)\n",
      "\u001b[1m8/8\u001b[0m \u001b[32m━━━━━━━━━━━━━━━━━━━━\u001b[0m\u001b[37m\u001b[0m \u001b[1m0s\u001b[0m 43ms/step - loss: 0.0383 - vel_x_eva: 0.9415 - vel_x_loss: 0.0268 - vel_x_r2_score: 0.9410 - vel_x_rmse: 0.1515 - vel_y_eva: 0.9862 - vel_y_loss: 0.0107 - vel_y_r2_score: 0.9858 - vel_y_rmse: 0.1029\n",
      "\u001b[1m8/8\u001b[0m \u001b[32m━━━━━━━━━━━━━━━━━━━━\u001b[0m\u001b[37m\u001b[0m \u001b[1m4s\u001b[0m 282ms/step\n",
      "Predictions saved to r2_MobileNet_1e-03_64_predictions.csv\n",
      "Training model EfficientNetB0  for configuration (0.001, 64)\n",
      "\u001b[1m8/8\u001b[0m \u001b[32m━━━━━━━━━━━━━━━━━━━━\u001b[0m\u001b[37m\u001b[0m \u001b[1m0s\u001b[0m 57ms/step - loss: 0.0559 - vel_x_eva: 0.9100 - vel_x_loss: 0.0431 - vel_x_r2_score: 0.9074 - vel_x_rmse: 0.1837 - vel_y_eva: 0.9852 - vel_y_loss: 0.0119 - vel_y_r2_score: 0.9840 - vel_y_rmse: 0.1089\n",
      "\u001b[1m8/8\u001b[0m \u001b[32m━━━━━━━━━━━━━━━━━━━━\u001b[0m\u001b[37m\u001b[0m \u001b[1m14s\u001b[0m 998ms/step\n",
      "Predictions saved to r2_EfficientNetB0_1e-03_64_predictions.csv\n",
      "Training model ResNet-8-base  for configuration (0.01, 64)\n",
      "\u001b[1m8/8\u001b[0m \u001b[32m━━━━━━━━━━━━━━━━━━━━\u001b[0m\u001b[37m\u001b[0m \u001b[1m0s\u001b[0m 26ms/step - loss: 0.0603 - vel_x_eva: 0.8941 - vel_x_loss: 0.0422 - vel_x_r2_score: 0.8923 - vel_x_rmse: 0.1954 - vel_y_eva: 0.9769 - vel_y_loss: 0.0175 - vel_y_r2_score: 0.9762 - vel_y_rmse: 0.1314\n",
      "\u001b[1m8/8\u001b[0m \u001b[32m━━━━━━━━━━━━━━━━━━━━\u001b[0m\u001b[37m\u001b[0m \u001b[1m2s\u001b[0m 169ms/step\n",
      "Predictions saved to r2_ResNet-8-base_1e-02_64_predictions.csv\n",
      "Training model ResNet-8-600A  for configuration (0.01, 64)\n",
      "\u001b[1m8/8\u001b[0m \u001b[32m━━━━━━━━━━━━━━━━━━━━\u001b[0m\u001b[37m\u001b[0m \u001b[1m0s\u001b[0m 26ms/step - loss: 0.0649 - vel_x_eva: 0.8965 - vel_x_loss: 0.0504 - vel_x_r2_score: 0.8941 - vel_x_rmse: 0.2062 - vel_y_eva: 0.9828 - vel_y_loss: 0.0132 - vel_y_r2_score: 0.9827 - vel_y_rmse: 0.1129\n",
      "\u001b[1m8/8\u001b[0m \u001b[32m━━━━━━━━━━━━━━━━━━━━\u001b[0m\u001b[37m\u001b[0m \u001b[1m2s\u001b[0m 169ms/step\n",
      "Predictions saved to r2_ResNet-8-600A_1e-02_64_predictions.csv\n",
      "Training model ResNet-8-600B  for configuration (0.01, 64)\n",
      "\u001b[1m8/8\u001b[0m \u001b[32m━━━━━━━━━━━━━━━━━━━━\u001b[0m\u001b[37m\u001b[0m \u001b[1m0s\u001b[0m 26ms/step - loss: 0.0564 - vel_x_eva: 0.9087 - vel_x_loss: 0.0434 - vel_x_r2_score: 0.9057 - vel_x_rmse: 0.1924 - vel_y_eva: 0.9848 - vel_y_loss: 0.0118 - vel_y_r2_score: 0.9844 - vel_y_rmse: 0.1074\n",
      "\u001b[1m8/8\u001b[0m \u001b[32m━━━━━━━━━━━━━━━━━━━━\u001b[0m\u001b[37m\u001b[0m \u001b[1m2s\u001b[0m 173ms/step\n",
      "Predictions saved to r2_ResNet-8-600B_1e-02_64_predictions.csv\n",
      "Training model ResNet-18  for configuration (0.01, 64)\n",
      "\u001b[1m8/8\u001b[0m \u001b[32m━━━━━━━━━━━━━━━━━━━━\u001b[0m\u001b[37m\u001b[0m \u001b[1m0s\u001b[0m 44ms/step - loss: 0.0449 - vel_x_eva: 0.9274 - vel_x_loss: 0.0359 - vel_x_r2_score: 0.9268 - vel_x_rmse: 0.1717 - vel_y_eva: 0.9897 - vel_y_loss: 0.0082 - vel_y_r2_score: 0.9890 - vel_y_rmse: 0.0901\n",
      "\u001b[1m8/8\u001b[0m \u001b[32m━━━━━━━━━━━━━━━━━━━━\u001b[0m\u001b[37m\u001b[0m \u001b[1m3s\u001b[0m 219ms/step\n",
      "Predictions saved to r2_ResNet-18_1e-02_64_predictions.csv\n",
      "Training model ResNet-34  for configuration (0.01, 64)\n",
      "\u001b[1m8/8\u001b[0m \u001b[32m━━━━━━━━━━━━━━━━━━━━\u001b[0m\u001b[37m\u001b[0m \u001b[1m1s\u001b[0m 62ms/step - loss: 0.0226 - vel_x_eva: 0.9663 - vel_x_loss: 0.0165 - vel_x_r2_score: 0.9658 - vel_x_rmse: 0.1166 - vel_y_eva: 0.9926 - vel_y_loss: 0.0058 - vel_y_r2_score: 0.9922 - vel_y_rmse: 0.0757\n",
      "\u001b[1m8/8\u001b[0m \u001b[32m━━━━━━━━━━━━━━━━━━━━\u001b[0m\u001b[37m\u001b[0m \u001b[1m5s\u001b[0m 341ms/step\n",
      "Predictions saved to r2_ResNet-34_1e-02_64_predictions.csv\n",
      "Training model ResNet-50  for configuration (0.01, 64)\n",
      "\u001b[1m8/8\u001b[0m \u001b[32m━━━━━━━━━━━━━━━━━━━━\u001b[0m\u001b[37m\u001b[0m \u001b[1m1s\u001b[0m 85ms/step - loss: 0.0392 - vel_x_eva: 0.9364 - vel_x_loss: 0.0304 - vel_x_r2_score: 0.9337 - vel_x_rmse: 0.1600 - vel_y_eva: 0.9884 - vel_y_loss: 0.0088 - vel_y_r2_score: 0.9881 - vel_y_rmse: 0.0936\n",
      "\u001b[1m8/8\u001b[0m \u001b[32m━━━━━━━━━━━━━━━━━━━━\u001b[0m\u001b[37m\u001b[0m \u001b[1m9s\u001b[0m 663ms/step\n",
      "Predictions saved to r2_ResNet-50_1e-02_64_predictions.csv\n",
      "Training model ResNet-50V2  for configuration (0.01, 64)\n",
      "\u001b[1m8/8\u001b[0m \u001b[32m━━━━━━━━━━━━━━━━━━━━\u001b[0m\u001b[37m\u001b[0m \u001b[1m1s\u001b[0m 78ms/step - loss: 0.0638 - vel_x_eva: 0.8943 - vel_x_loss: 0.0481 - vel_x_r2_score: 0.8923 - vel_x_rmse: 0.2079 - vel_y_eva: 0.9809 - vel_y_loss: 0.0145 - vel_y_r2_score: 0.9806 - vel_y_rmse: 0.1193\n",
      "\u001b[1m8/8\u001b[0m \u001b[32m━━━━━━━━━━━━━━━━━━━━\u001b[0m\u001b[37m\u001b[0m \u001b[1m8s\u001b[0m 606ms/step\n",
      "Predictions saved to r2_ResNet-50V2_1e-02_64_predictions.csv\n",
      "Training model MobileNet  for configuration (0.01, 64)\n",
      "\u001b[1m8/8\u001b[0m \u001b[32m━━━━━━━━━━━━━━━━━━━━\u001b[0m\u001b[37m\u001b[0m \u001b[1m0s\u001b[0m 40ms/step - loss: 0.0280 - vel_x_eva: 0.9587 - vel_x_loss: 0.0190 - vel_x_r2_score: 0.9578 - vel_x_rmse: 0.1230 - vel_y_eva: 0.9898 - vel_y_loss: 0.0085 - vel_y_r2_score: 0.9885 - vel_y_rmse: 0.0922\n",
      "\u001b[1m8/8\u001b[0m \u001b[32m━━━━━━━━━━━━━━━━━━━━\u001b[0m\u001b[37m\u001b[0m \u001b[1m4s\u001b[0m 295ms/step\n",
      "Predictions saved to r2_MobileNet_1e-02_64_predictions.csv\n",
      "Training model EfficientNetB0  for configuration (0.01, 64)\n",
      "\u001b[1m8/8\u001b[0m \u001b[32m━━━━━━━━━━━━━━━━━━━━\u001b[0m\u001b[37m\u001b[0m \u001b[1m0s\u001b[0m 57ms/step - loss: 0.0505 - vel_x_eva: 0.9256 - vel_x_loss: 0.0332 - vel_x_r2_score: 0.9245 - vel_x_rmse: 0.1673 - vel_y_eva: 0.9782 - vel_y_loss: 0.0164 - vel_y_r2_score: 0.9777 - vel_y_rmse: 0.1247\n",
      "\u001b[1m8/8\u001b[0m \u001b[32m━━━━━━━━━━━━━━━━━━━━\u001b[0m\u001b[37m\u001b[0m \u001b[1m13s\u001b[0m 971ms/step\n",
      "Predictions saved to r2_EfficientNetB0_1e-02_64_predictions.csv\n"
     ]
    }
   ],
   "source": [
    "samples_dataframe = load_samples_dataframe(\"/kaggle/input/marketplace-navigation-dataset/dataset\")\n",
    "# samples_dataframe = samples_dataframe.sample(frac=0.05)\n",
    "\n",
    "round_number = 2\n",
    "seed = round_number + 1\n",
    "\n",
    "datasets = {}\n",
    "\n",
    "for model_description in models_descriptions:\n",
    "    dataset_key = tuple(model_description[\"input\"][\"shape\"])\n",
    "    dataset_key = model_description[\"input\"][\"grayscale\"], dataset_key\n",
    "    \n",
    "    if not dataset_key in datasets:\n",
    "        datasets[dataset_key] = build_train_val_test_datasets(\n",
    "            samples_dataframe,\n",
    "            model_description[\"input\"],\n",
    "            seed\n",
    "        )\n",
    "        \n",
    "        save_labels_from_dataset(datasets[dataset_key][\"test\"], f\"r{round_number}_y_true.csv\")\n",
    "        \n",
    "for configuration in configurations:\n",
    "    for model_description in models_descriptions:\n",
    "        print(\"Training model\", model_description[\"name\"], \" for configuration\", configuration)\n",
    "        \n",
    "        learning_rate, batch_size = configuration\n",
    "        dataset_key = tuple(model_description[\"input\"][\"shape\"])\n",
    "        dataset_key = model_description[\"input\"][\"grayscale\"], dataset_key\n",
    "\n",
    "        train_ds = datasets[dataset_key][\"train\"]\n",
    "        val_ds   = datasets[dataset_key][\"val\"]\n",
    "        test_ds  = datasets[dataset_key][\"test\"]\n",
    "        \n",
    "        train_ds = train_ds.batch(batch_size).prefetch(tf.data.AUTOTUNE)\n",
    "        val_ds   = val_ds.batch(batch_size).prefetch(tf.data.AUTOTUNE)\n",
    "        test_ds  = test_ds.batch(batch_size).prefetch(tf.data.AUTOTUNE)\n",
    "\n",
    "        model = build_model(model_description)\n",
    "        model.compile(\n",
    "            loss={\n",
    "                \"vel_x\": \"mean_squared_error\",\n",
    "                \"vel_y\": \"mean_squared_error\",\n",
    "            },\n",
    "            optimizer=keras.optimizers.Adam(learning_rate=learning_rate),\n",
    "            metrics={\n",
    "                \"vel_x\": [rmse, eva, r2_score],\n",
    "                \"vel_y\": [rmse, eva, r2_score],\n",
    "            },\n",
    "        )\n",
    "        model, history = train_model(model, train_ds, val_ds)\n",
    "\n",
    "        # Evaluate model\n",
    "        evaluation_metrics = model.evaluate(test_ds, return_dict=True)\n",
    "        \n",
    "        # Save predictions\n",
    "        predictions = model.predict(test_ds)\n",
    "        save_predictions(predictions, f\"r{round_number}_{model.name}_{learning_rate:.0e}_{batch_size}_predictions.csv\")\n",
    "\n",
    "        # Store metrics in results dict\n",
    "        results[model_description[\"name\"]][configuration] = evaluation_metrics\n",
    "\n",
    "        # Save model\n",
    "        file_name = f\"r{round_number}_{model.name}_{learning_rate:.0e}_{batch_size}\"\n",
    "        model.save(f\"{file_name}.keras\")\n",
    "        history.to_csv(f\"{file_name}.csv\")\n",
    "\n",
    "        # Save results dict\n",
    "        with open(\"results.pkl\", \"wb\") as results_file:\n",
    "            pickle.dump(results, results_file)"
   ]
  },
  {
   "cell_type": "code",
   "execution_count": null,
   "id": "fe90d51a",
   "metadata": {
    "papermill": {
     "duration": 0.104582,
     "end_time": "2025-07-02T07:16:39.880551",
     "exception": false,
     "start_time": "2025-07-02T07:16:39.775969",
     "status": "completed"
    },
    "tags": []
   },
   "outputs": [],
   "source": []
  }
 ],
 "metadata": {
  "kaggle": {
   "accelerator": "gpu",
   "dataSources": [
    {
     "datasetId": 6187980,
     "sourceId": 10061785,
     "sourceType": "datasetVersion"
    }
   ],
   "dockerImageVersionId": 31011,
   "isGpuEnabled": true,
   "isInternetEnabled": true,
   "language": "python",
   "sourceType": "notebook"
  },
  "kernelspec": {
   "display_name": "Python 3",
   "language": "python",
   "name": "python3"
  },
  "language_info": {
   "codemirror_mode": {
    "name": "ipython",
    "version": 3
   },
   "file_extension": ".py",
   "mimetype": "text/x-python",
   "name": "python",
   "nbconvert_exporter": "python",
   "pygments_lexer": "ipython3",
   "version": "3.11.11"
  },
  "papermill": {
   "default_parameters": {},
   "duration": 24658.773814,
   "end_time": "2025-07-02T07:16:45.638208",
   "environment_variables": {},
   "exception": null,
   "input_path": "__notebook__.ipynb",
   "output_path": "__notebook__.ipynb",
   "parameters": {},
   "start_time": "2025-07-02T00:25:46.864394",
   "version": "2.6.0"
  }
 },
 "nbformat": 4,
 "nbformat_minor": 5
}
